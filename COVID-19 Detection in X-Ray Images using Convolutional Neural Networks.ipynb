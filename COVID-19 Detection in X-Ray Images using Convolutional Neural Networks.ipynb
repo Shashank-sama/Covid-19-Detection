{
  "nbformat": 4,
  "nbformat_minor": 2,
  "metadata": {
    "accelerator": "GPU",
    "colab": {
      "name": "Final Covid Classification.ipynb",
      "provenance": []
    },
    "kernelspec": {
      "name": "python3",
      "display_name": "Python 3.8.11 64-bit ('MPF': conda)"
    },
    "language_info": {
      "codemirror_mode": {
        "name": "ipython",
        "version": 3
      },
      "file_extension": ".py",
      "mimetype": "text/x-python",
      "name": "python",
      "nbconvert_exporter": "python",
      "pygments_lexer": "ipython3",
      "version": "3.8.11"
    },
    "interpreter": {
      "hash": "3dd217612e3efbc53bda62975acccf69dc94b7f474970d20d9b0bbb03e9d7037"
    }
  },
  "cells": [
    {
      "cell_type": "code",
      "execution_count": null,
      "source": [
        "from google.colab import drive\r\n",
        "drive.mount('/content/drive')"
      ],
      "outputs": [],
      "metadata": {
        "colab": {
          "base_uri": "https://localhost:8080/"
        },
        "id": "mqGjVIkgDTpC",
        "outputId": "966f10cb-3acd-4215-a4bf-e05eb41dd252"
      }
    },
    {
      "cell_type": "markdown",
      "source": [
        "# Librerias"
      ],
      "metadata": {
        "id": "0gf3K-XFmchR"
      }
    },
    {
      "cell_type": "code",
      "execution_count": null,
      "source": [
        "import numpy as np\r\n",
        "import tensorflow as tf\r\n",
        "from tensorflow.keras import Input,Model\r\n",
        "from tensorflow.keras.callbacks import CSVLogger\r\n",
        "from tensorflow.keras.layers import Input, Conv2D, MaxPooling2D\r\n",
        "\r\n",
        "from sklearn.metrics import f1_score\r\n",
        "from sklearn.metrics import roc_auc_score\r\n",
        "\r\n",
        "from utils.metrics import *\r\n",
        "from utils.preprocess import *\r\n",
        "from utils.utils import get_weight"
      ],
      "outputs": [],
      "metadata": {
        "id": "B8efJd3-lzVt"
      }
    },
    {
      "cell_type": "markdown",
      "source": [
        "# Models"
      ],
      "metadata": {
        "id": "NQmtdLneBQJ2"
      }
    },
    {
      "cell_type": "code",
      "execution_count": null,
      "source": [
        "def get_model_VGG16_gray():\r\n",
        "    model = tf.keras.applications.VGG16(weights='imagenet', include_top=False)\r\n",
        "\r\n",
        "    # Block1_conv1 weights are of the format [3, 3, 3, 64] -> this is for RGB images\r\n",
        "    # For grayscale, format should be [3, 3, 1, 64]. Weighted average of the features has to be calculated across channels.\r\n",
        "    # RGB weights: Red 0.2989, Green 0.5870, Blue 0.1140\r\n",
        "\r\n",
        "    # getting weights of block1 conv1.\r\n",
        "    block1_conv1 = model.get_layer('block1_conv1').get_weights()\r\n",
        "    weights, biases = block1_conv1\r\n",
        "\r\n",
        "    # :weights shape = [3, 3, 3, 64] - (0, 1, 2, 3)\r\n",
        "    # convert :weights shape to = [64, 3, 3, 3] - (3, 2, 0, 1)\r\n",
        "    weights = np.transpose(weights, (3, 2, 0, 1))\r\n",
        "\r\n",
        "\r\n",
        "    kernel_out_channels, kernel_in_channels, kernel_rows, kernel_columns = weights.shape\r\n",
        "\r\n",
        "    # Dimensions : [kernel_out_channels, 1 (since grayscale), kernel_rows, kernel_columns]\r\n",
        "    grayscale_weights = np.zeros((kernel_out_channels, 1, kernel_rows, kernel_columns))\r\n",
        "\r\n",
        "      # iterate out_channels number of times\r\n",
        "    for i in range(kernel_out_channels):\r\n",
        "\r\n",
        "        # get kernel for every out_channel\r\n",
        "        get_kernel = weights[i, :, :, :]\r\n",
        "\r\n",
        "        temp_kernel = np.zeros((3, 3))\r\n",
        "\r\n",
        "        # :get_kernel shape = [3, 3, 3]\r\n",
        "        # axis, dims = (0, in_channel), (1, row), (2, col)\r\n",
        "\r\n",
        "        # calculate weighted average across channel axis\r\n",
        "        in_channels, in_rows, in_columns = get_kernel.shape\r\n",
        "\r\n",
        "        for in_row in range(in_rows):\r\n",
        "            for in_col in range(in_columns):\r\n",
        "                feature_red = get_kernel[0, in_row, in_col]\r\n",
        "                feature_green = get_kernel[1, in_row, in_col]\r\n",
        "                feature_blue = get_kernel[2, in_row, in_col]\r\n",
        "\r\n",
        "            # weighted average for RGB filter\r\n",
        "            total = (feature_red * 0.2989) + (feature_green * 0.5870) + (feature_blue * 0.1140)\r\n",
        "\r\n",
        "            temp_kernel[in_row, in_col] = total\r\n",
        "\r\n",
        "\r\n",
        "        # :temp_kernel is a 3x3 matrix [rows x columns]\r\n",
        "        # add an axis at the end to specify in_channel as 1\r\n",
        "\r\n",
        "        # Second: Add axis at the start of :temp_kernel to make its shape: [1, 3, 3] which is [in_channel, rows, columns]\r\n",
        "        temp_kernel = np.expand_dims(temp_kernel, axis=0)\r\n",
        "\r\n",
        "        # Now, :temp_kernel shape is [1, 3, 3]\r\n",
        "\r\n",
        "        # Concat :temp_kernel to :grayscale_weights along axis=0\r\n",
        "        grayscale_weights[i, :, :, :] = temp_kernel\r\n",
        "\r\n",
        "      # Dimension of :grayscale_weights is [64, 1, 3, 3]\r\n",
        "      # In order to bring it to tensorflow or keras weight format, transpose :grayscale_weights\r\n",
        "\r\n",
        "      # dimension, axis of :grayscale_weights = (out_channels: 0), (in_channels: 1), (rows: 2), (columns: 3)\r\n",
        "      # tf format of weights = (rows: 0), (columns: 1), (in_channels: 2), (out_channels: 3)\r\n",
        "\r\n",
        "      # Go from (0, 1, 2, 3) to (2, 3, 1, 0)\r\n",
        "    grayscale_weights = np.transpose(grayscale_weights, (2, 3, 1, 0)) # (3, 3, 1, 64)\r\n",
        "\r\n",
        "      # combine :grayscale_weights and :biases\r\n",
        "    new_block1_conv1 = [grayscale_weights, biases]\r\n",
        "\r\n",
        "\r\n",
        "      # Reconstruct the layers of VGG16 but replace block1_conv1 weights with :grayscale_weights\r\n",
        "\r\n",
        "      # get weights of all the layers starting from 'block1_conv2'\r\n",
        "    vgg16_weights = {}\r\n",
        "    for layer in model.layers[2:]:\r\n",
        "        if \"conv\" in layer.name:\r\n",
        "            vgg16_weights[\"224_\" + layer.name] = model.get_layer(layer.name).get_weights()\r\n",
        "\r\n",
        "    del model\r\n",
        "\r\n",
        "\r\n",
        "      # Custom build VGG16\r\n",
        "    input = Input(shape=(224, 224, 1), name='224_input')\r\n",
        "      # Block 1\r\n",
        "    x = Conv2D(64, (3, 3), activation='relu', padding='same', input_shape=(224, 224, 1), data_format=\"channels_last\", name='224_block1_conv1')(input)\r\n",
        "    x = Conv2D(64, (3, 3), activation='relu', padding='same', name='224_block1_conv2')(x)\r\n",
        "    x = MaxPooling2D((2, 2), strides=(2, 2), name='224_block1_pool')(x)\r\n",
        "\r\n",
        "      # Block 2\r\n",
        "    x = Conv2D(128, (3, 3), activation='relu', padding='same', name='224_block2_conv1')(x)\r\n",
        "    x = Conv2D(128, (3, 3), activation='relu', padding='same', name='224_block2_conv2')(x)\r\n",
        "    x = MaxPooling2D((2, 2), strides=(2, 2), name='224_block2_pool')(x)\r\n",
        "\r\n",
        "      # Block 3\r\n",
        "    x = Conv2D(256, (3, 3), activation='relu', padding='same', name='224_block3_conv1')(x)\r\n",
        "    x = Conv2D(256, (3, 3), activation='relu', padding='same', name='224_block3_conv2')(x)\r\n",
        "    x = Conv2D(256, (3, 3), activation='relu', padding='same', name='224_block3_conv3')(x)\r\n",
        "    x = MaxPooling2D((2, 2), strides=(2, 2), name='224_block3_pool')(x)\r\n",
        "\r\n",
        "      # Block 4\r\n",
        "    x = Conv2D(512, (3, 3), activation='relu', padding='same', name='224_block4_conv1')(x)\r\n",
        "    x = Conv2D(512, (3, 3), activation='relu', padding='same', name='224_block4_conv2')(x)\r\n",
        "    x = Conv2D(512, (3, 3), activation='relu', padding='same', name='224_block4_conv3')(x)\r\n",
        "    x = MaxPooling2D((2, 2), strides=(2, 2), name='224_block4_pool')(x)\r\n",
        "\r\n",
        "      # Block 5\r\n",
        "    x = Conv2D(512, (3, 3), activation='relu', padding='same', name='224_block5_conv1')(x)\r\n",
        "    x = Conv2D(512, (3, 3), activation='relu', padding='same', name='224_block5_conv2')(x)\r\n",
        "    x = Conv2D(512, (3, 3), activation='relu', padding='same', name='224_block5_conv3')(x)\r\n",
        "    x = MaxPooling2D((8, 8), strides=(8, 8), name='224_block5_pool')(x)\r\n",
        "\r\n",
        "    base_model = Model(inputs=input, outputs=x)\r\n",
        "\r\n",
        "    base_model.get_layer('224_block1_conv1').set_weights(new_block1_conv1)\r\n",
        "    for layer in base_model.layers[2:]:\r\n",
        "        if 'conv' in layer.name:\r\n",
        "            base_model.get_layer(layer.name).set_weights(vgg16_weights[layer.name])\r\n",
        "\r\n",
        "    x = base_model.output\r\n",
        "\r\n",
        "    for layer in base_model.layers:\r\n",
        "        layer.trainable = True\r\n",
        "\r\n",
        "    x = tf.keras.layers.GlobalAveragePooling2D()(x)  \r\n",
        "    layers = tf.keras.layers.Flatten()(x)\r\n",
        "      #layers = tf.keras.layers.Dense(128,activation=\"relu\")(layers)\r\n",
        "    layers = tf.keras.layers.Dropout(0.2)(layers)\r\n",
        "    layers = tf.keras.layers.Dense(1024 ,activation=\"relu\")(layers)\r\n",
        "    layers = tf.keras.layers.Dropout(0.2)(layers)\r\n",
        "    layers = tf.keras.layers.Dense( 512,activation=\"relu\")(layers)\r\n",
        "    layers = tf.keras.layers.Dense( 64,activation=\"relu\")(layers)\r\n",
        "    predictions = tf.keras.layers.Dense(2, activation=\"softmax\", name=\"output_1\")(layers)\r\n",
        "\r\n",
        "      #Compilador\r\n",
        "    model = tf.keras.Model(inputs = base_model.input, outputs=predictions)\r\n",
        "    optimizer=tf.keras.optimizers.Adam(lr=0.0001) \r\n",
        "    loss='categorical_crossentropy'\r\n",
        "    model.compile(optimizer=optimizer, loss=loss, metrics=['accuracy'])\r\n",
        "    model.summary()\r\n",
        "    return model"
      ],
      "outputs": [],
      "metadata": {
        "id": "OKnm1dECDIkw"
      }
    },
    {
      "cell_type": "code",
      "execution_count": null,
      "source": [
        "def get_model_VGG19_gray():\r\n",
        "      model = tf.keras.applications.VGG19(weights='imagenet', include_top=False)\r\n",
        "\r\n",
        "      # Block1_conv1 weights are of the format [3, 3, 3, 64] -> this is for RGB images\r\n",
        "      # For grayscale, format should be [3, 3, 1, 64]. Weighted average of the features has to be calculated across channels.\r\n",
        "      # RGB weights: Red 0.2989, Green 0.5870, Blue 0.1140\r\n",
        "\r\n",
        "      # getting weights of block1 conv1.\r\n",
        "      block1_conv1 = model.get_layer('block1_conv1').get_weights()\r\n",
        "      weights, biases = block1_conv1\r\n",
        "\r\n",
        "      # :weights shape = [3, 3, 3, 64] - (0, 1, 2, 3)\r\n",
        "      # convert :weights shape to = [64, 3, 3, 3] - (3, 2, 0, 1)\r\n",
        "      weights = np.transpose(weights, (3, 2, 0, 1))\r\n",
        "\r\n",
        "\r\n",
        "      kernel_out_channels, kernel_in_channels, kernel_rows, kernel_columns = weights.shape\r\n",
        "\r\n",
        "      # Dimensions : [kernel_out_channels, 1 (since grayscale), kernel_rows, kernel_columns]\r\n",
        "      grayscale_weights = np.zeros((kernel_out_channels, 1, kernel_rows, kernel_columns))\r\n",
        "\r\n",
        "      # iterate out_channels number of times\r\n",
        "      for i in range(kernel_out_channels):\r\n",
        "\r\n",
        "        # get kernel for every out_channel\r\n",
        "        get_kernel = weights[i, :, :, :]\r\n",
        "\r\n",
        "        temp_kernel = np.zeros((3, 3))\r\n",
        "\r\n",
        "        # :get_kernel shape = [3, 3, 3]\r\n",
        "        # axis, dims = (0, in_channel), (1, row), (2, col)\r\n",
        "\r\n",
        "        # calculate weighted average across channel axis\r\n",
        "        in_channels, in_rows, in_columns = get_kernel.shape\r\n",
        "\r\n",
        "        for in_row in range(in_rows):\r\n",
        "          for in_col in range(in_columns):\r\n",
        "            feature_red = get_kernel[0, in_row, in_col]\r\n",
        "            feature_green = get_kernel[1, in_row, in_col]\r\n",
        "            feature_blue = get_kernel[2, in_row, in_col]\r\n",
        "\r\n",
        "            # weighted average for RGB filter\r\n",
        "            total = (feature_red * 0.2989) + (feature_green * 0.5870) + (feature_blue * 0.1140)\r\n",
        "\r\n",
        "            temp_kernel[in_row, in_col] = total\r\n",
        "\r\n",
        "\r\n",
        "        # :temp_kernel is a 3x3 matrix [rows x columns]\r\n",
        "        # add an axis at the end to specify in_channel as 1\r\n",
        "\r\n",
        "        # Second: Add axis at the start of :temp_kernel to make its shape: [1, 3, 3] which is [in_channel, rows, columns]\r\n",
        "        temp_kernel = np.expand_dims(temp_kernel, axis=0)\r\n",
        "\r\n",
        "        # Now, :temp_kernel shape is [1, 3, 3]\r\n",
        "\r\n",
        "        # Concat :temp_kernel to :grayscale_weights along axis=0\r\n",
        "        grayscale_weights[i, :, :, :] = temp_kernel\r\n",
        "\r\n",
        "      # Dimension of :grayscale_weights is [64, 1, 3, 3]\r\n",
        "      # In order to bring it to tensorflow or keras weight format, transpose :grayscale_weights\r\n",
        "\r\n",
        "      # dimension, axis of :grayscale_weights = (out_channels: 0), (in_channels: 1), (rows: 2), (columns: 3)\r\n",
        "      # tf format of weights = (rows: 0), (columns: 1), (in_channels: 2), (out_channels: 3)\r\n",
        "\r\n",
        "      # Go from (0, 1, 2, 3) to (2, 3, 1, 0)\r\n",
        "      grayscale_weights = np.transpose(grayscale_weights, (2, 3, 1, 0)) # (3, 3, 1, 64)\r\n",
        "\r\n",
        "      # combine :grayscale_weights and :biases\r\n",
        "      new_block1_conv1 = [grayscale_weights, biases]\r\n",
        "\r\n",
        "\r\n",
        "      # Reconstruct the layers of VGG16 but replace block1_conv1 weights with :grayscale_weights\r\n",
        "\r\n",
        "      # get weights of all the layers starting from 'block1_conv2'\r\n",
        "      vgg19_weights = {}\r\n",
        "      for layer in model.layers[2:]:\r\n",
        "        if \"conv\" in layer.name:\r\n",
        "          vgg19_weights[\"224_\" + layer.name] = model.get_layer(layer.name).get_weights()\r\n",
        "\r\n",
        "      del model\r\n",
        "\r\n",
        "\r\n",
        "      # Custom build VGG19\r\n",
        "      input = Input(shape=(224, 224, 1), name='224_input')\r\n",
        "      # Block 1\r\n",
        "      x = Conv2D(64, (3, 3), activation='relu', padding='same', input_shape=(224, 224, 1), data_format=\"channels_last\", name='224_block1_conv1')(input)\r\n",
        "      x = Conv2D(64, (3, 3), activation='relu', padding='same', name='224_block1_conv2')(x)\r\n",
        "      x = MaxPooling2D((2, 2), strides=(2, 2), name='224_block1_pool')(x)\r\n",
        "\r\n",
        "      # Block 2\r\n",
        "      x = Conv2D(128, (3, 3), activation='relu', padding='same', name='224_block2_conv1')(x)\r\n",
        "      x = Conv2D(128, (3, 3), activation='relu', padding='same', name='224_block2_conv2')(x)\r\n",
        "      x = MaxPooling2D((2, 2), strides=(2, 2), name='224_block2_pool')(x)\r\n",
        "\r\n",
        "      # Block 3\r\n",
        "      x = Conv2D(256, (3, 3), activation='relu', padding='same', name='224_block3_conv1')(x)\r\n",
        "      x = Conv2D(256, (3, 3), activation='relu', padding='same', name='224_block3_conv2')(x)\r\n",
        "      x = Conv2D(256, (3, 3), activation='relu', padding='same', name='224_block3_conv3')(x)\r\n",
        "      x = Conv2D(256, (3, 3), activation='relu', padding='same', name='224_block3_conv4')(x)\r\n",
        "      x = MaxPooling2D((2, 2), strides=(2, 2), name='224_block3_pool')(x)\r\n",
        "\r\n",
        "      # Block 4\r\n",
        "      x = Conv2D(512, (3, 3), activation='relu', padding='same', name='224_block4_conv1')(x)\r\n",
        "      x = Conv2D(512, (3, 3), activation='relu', padding='same', name='224_block4_conv2')(x)\r\n",
        "      x = Conv2D(512, (3, 3), activation='relu', padding='same', name='224_block4_conv3')(x)\r\n",
        "      x = Conv2D(512, (3, 3), activation='relu', padding='same', name='224_block4_conv4')(x)\r\n",
        "      x = MaxPooling2D((2, 2), strides=(2, 2), name='224_block4_pool')(x)\r\n",
        "\r\n",
        "      # Block 5\r\n",
        "      x = Conv2D(512, (3, 3), activation='relu', padding='same', name='224_block5_conv1')(x)\r\n",
        "      x = Conv2D(512, (3, 3), activation='relu', padding='same', name='224_block5_conv2')(x)\r\n",
        "      x = Conv2D(512, (3, 3), activation='relu', padding='same', name='224_block5_conv3')(x)\r\n",
        "      x = Conv2D(512, (3, 3), activation='relu', padding='same', name='224_block5_conv4')(x)\r\n",
        "      x = MaxPooling2D((8, 8), strides=(8, 8), name='224_block5_pool')(x)\r\n",
        "\r\n",
        "      base_model = Model(inputs=input, outputs=x)\r\n",
        "\r\n",
        "      base_model.get_layer('224_block1_conv1').set_weights(new_block1_conv1)\r\n",
        "      for layer in base_model.layers[2:]:\r\n",
        "        if 'conv' in layer.name:\r\n",
        "          base_model.get_layer(layer.name).set_weights(vgg19_weights[layer.name])\r\n",
        "\r\n",
        "      x = base_model.output\r\n",
        "\r\n",
        "      for layer in base_model.layers:\r\n",
        "          layer.trainable = True\r\n",
        "\r\n",
        "      x = tf.keras.layers.GlobalAveragePooling2D()(x)  \r\n",
        "      layers = tf.keras.layers.Flatten()(x)\r\n",
        "      #layers = tf.keras.layers.Dense(128,activation=\"relu\")(layers)\r\n",
        "      layers = tf.keras.layers.Dropout(0.2)(layers)\r\n",
        "      layers = tf.keras.layers.Dense(1024 ,activation=\"relu\")(layers)\r\n",
        "      layers = tf.keras.layers.Dropout(0.2)(layers)\r\n",
        "      layers = tf.keras.layers.Dense( 512,activation=\"relu\")(layers)\r\n",
        "      layers = tf.keras.layers.Dense( 64,activation=\"relu\")(layers)\r\n",
        "      predictions = tf.keras.layers.Dense(2, activation=\"softmax\", name=\"output_1\")(layers)\r\n",
        "\r\n",
        "      #Compilador\r\n",
        "      model = tf.keras.Model(inputs = base_model.input, outputs=predictions)\r\n",
        "      optimizer=tf.keras.optimizers.Adam(lr=0.0001) \r\n",
        "      model.compile(optimizer=optimizer, loss=\"categorical_crossentropy\", metrics=['accuracy'])\r\n",
        "      model.summary()\r\n",
        "      return model"
      ],
      "outputs": [],
      "metadata": {
        "id": "-KiIWTBRBRue"
      }
    },
    {
      "cell_type": "markdown",
      "source": [
        "# BIMCV datasets"
      ],
      "metadata": {
        "id": "y01pdvN5_n3L"
      }
    },
    {
      "cell_type": "markdown",
      "source": [
        "Source data can be downloaded from [Code Ocean Capsule](https://codeocean.com/capsule/8595156/tree)."
      ],
      "metadata": {}
    },
    {
      "cell_type": "code",
      "execution_count": null,
      "source": [
        "# Modify PATH accordingly.\r\n",
        "Img_dir = 'data/DATABASES/CLASSIFICATION'"
      ],
      "outputs": [],
      "metadata": {
        "id": "UVswUs-vAPlH"
      }
    },
    {
      "cell_type": "markdown",
      "source": [
        "## Positive"
      ],
      "metadata": {
        "id": "iQXttzYYCZAq"
      }
    },
    {
      "cell_type": "code",
      "execution_count": null,
      "source": [
        "P_dir = Img_dir + '/POSITIVE'"
      ],
      "outputs": [],
      "metadata": {
        "id": "azGJZM9ECa1s"
      }
    },
    {
      "cell_type": "markdown",
      "source": [
        "## Negative Covid Era"
      ],
      "metadata": {
        "id": "3mz--Rr6C2rm"
      }
    },
    {
      "cell_type": "code",
      "execution_count": null,
      "source": [
        "N1_dir = Img_dir + '/NEGATIVE COVID ERA'"
      ],
      "outputs": [],
      "metadata": {
        "id": "Figr5o5pC1yf"
      }
    },
    {
      "cell_type": "markdown",
      "source": [
        "## Negative Covid Era Without possible covid"
      ],
      "metadata": {
        "id": "XxwJ1xTyDuFD"
      }
    },
    {
      "cell_type": "code",
      "execution_count": null,
      "source": [
        "N2_dir = Img_dir + '/NEGATIVE COVID ERA WITHOUT POSSIBLE COVID IMAGES'"
      ],
      "outputs": [],
      "metadata": {
        "id": "IG1K8jKqDyiE"
      }
    },
    {
      "cell_type": "markdown",
      "source": [
        "## Negative Pre-Covid Era"
      ],
      "metadata": {
        "id": "00AZeadCD5SO"
      }
    },
    {
      "cell_type": "code",
      "execution_count": null,
      "source": [
        "N3_dir = Img_dir + '/NEGATIVE PRECOVID ERA'"
      ],
      "outputs": [],
      "metadata": {
        "id": "9QRU206sD90X"
      }
    },
    {
      "cell_type": "markdown",
      "source": [
        "# Experiment 1"
      ],
      "metadata": {
        "id": "qBITwg4R_tUL"
      }
    },
    {
      "cell_type": "markdown",
      "source": [
        "### Part C"
      ],
      "metadata": {
        "id": "hLOwFUXlADfH"
      }
    },
    {
      "cell_type": "code",
      "execution_count": null,
      "source": [
        "C1_dir = '/Normal'"
      ],
      "outputs": [],
      "metadata": {
        "id": "hv6S50hTEI8y"
      }
    },
    {
      "cell_type": "code",
      "execution_count": null,
      "source": [
        "X_train_P = np.load(P_dir + C1_dir + '/X_pos_train_C.npy')\r\n",
        "X_test_P = np.load(P_dir + C1_dir + '/X_pos_test_C.npy')\r\n",
        "X_dev_P = np.load(P_dir + C1_dir + '/X_pos_dev_C.npy')"
      ],
      "outputs": [],
      "metadata": {
        "colab": {
          "background_save": true
        },
        "id": "QWDS2-GEC-Il"
      }
    },
    {
      "cell_type": "code",
      "execution_count": null,
      "source": [
        "X_train_N = np.load(N1_dir + C1_dir + '/X_neg_train_C.npy')\r\n",
        "X_test_N = np.load(N1_dir + C1_dir + '/X_neg_test_C.npy')\r\n",
        "X_dev_N = np.load(N1_dir + C1_dir + '/X_neg_dev_C.npy')"
      ],
      "outputs": [],
      "metadata": {
        "id": "MBHuPXn9ExE0"
      }
    },
    {
      "cell_type": "code",
      "execution_count": null,
      "source": [
        "X_train=np.concatenate((X_train_N,X_train_P))\r\n",
        "X_dev=np.concatenate((X_dev_N,X_dev_P))\r\n",
        "X_test=np.concatenate((X_test_N,X_test_P))"
      ],
      "outputs": [],
      "metadata": {
        "id": "nLH2nKRB7XVu"
      }
    },
    {
      "cell_type": "code",
      "execution_count": null,
      "source": [
        "y_train_N=np.array([[1,0]]*len(X_train_N))\r\n",
        "y_dev_N=np.array([[1,0]]*len(X_dev_N))\r\n",
        "y_test_N=np.array([[1,0]]*len(X_test_N))\r\n",
        "\r\n",
        "y_train_P=np.array([[0,1]]*len(X_train_P))\r\n",
        "y_dev_P=np.array([[0,1]]*len(X_dev_P))\r\n",
        "y_test_P=np.array([[0,1]]*len(X_test_P))"
      ],
      "outputs": [],
      "metadata": {
        "id": "W9ypqYQ4D1Sj"
      }
    },
    {
      "cell_type": "code",
      "execution_count": null,
      "source": [
        "y_train=np.concatenate((y_train_N,y_train_P))\r\n",
        "y_dev=np.concatenate((y_dev_N,y_dev_P))\r\n",
        "y_test=np.concatenate((y_test_N,y_test_P))"
      ],
      "outputs": [],
      "metadata": {
        "id": "oEEMkMSUD7nA"
      }
    },
    {
      "cell_type": "code",
      "execution_count": null,
      "source": [
        "#Min_max scaled\r\n",
        "X_train,y_train=min_max_preprocessing(X_train,y_train)\r\n",
        "X_dev,y_dev=min_max_preprocessing(X_dev,y_dev)\r\n",
        "X_test,y_test=min_max_preprocessing(X_test,y_test)"
      ],
      "outputs": [],
      "metadata": {
        "id": "OW3BGQLOFjTD"
      }
    },
    {
      "cell_type": "code",
      "execution_count": null,
      "source": [
        "X_train = np.float32(X_train)\r\n",
        "X_dev = np.float32(X_dev)\r\n",
        "X_test = np.float32(X_test)"
      ],
      "outputs": [],
      "metadata": {
        "id": "YQnNmCQm3fJ7"
      }
    },
    {
      "cell_type": "code",
      "execution_count": null,
      "source": [
        "#std normalization\r\n",
        "X_train,y_train,mean,std=samplewise_preprocessing(X_train,y_train)"
      ],
      "outputs": [],
      "metadata": {
        "id": "zWLEHieMFjTG"
      }
    },
    {
      "cell_type": "code",
      "execution_count": null,
      "source": [
        "X_dev=featurewise_preprocessing(X_dev,mean,std)\r\n",
        "X_test=featurewise_preprocessing(X_test,mean,std)"
      ],
      "outputs": [],
      "metadata": {
        "id": "rDIvXpZtFjTI"
      }
    },
    {
      "cell_type": "markdown",
      "source": [
        "#### Train Models (GPU) "
      ],
      "metadata": {
        "id": "8KrGSkYSYJ2o"
      }
    },
    {
      "cell_type": "code",
      "execution_count": null,
      "source": [
        "log_dir=\"/content/drive/MyDrive/Covid19/COVID_FINAL/logs/\""
      ],
      "outputs": [],
      "metadata": {
        "id": "KG9c9ZTeFoek"
      }
    },
    {
      "cell_type": "code",
      "execution_count": null,
      "source": [
        "class_weight= get_weight(np.argmax(y_train,axis=-1))"
      ],
      "outputs": [],
      "metadata": {
        "id": "vkiAtp2A0Gwf"
      }
    },
    {
      "cell_type": "code",
      "execution_count": null,
      "source": [
        "print(\"Getting Base Model\")\r\n",
        "model = get_model_VGG16_gray()"
      ],
      "outputs": [],
      "metadata": {
        "id": "vle06RQhuip8"
      }
    },
    {
      "cell_type": "code",
      "execution_count": null,
      "source": [
        "model_name='VGG16_imagenet_Covid_pos_vs_neg'\r\n",
        "filepath = log_dir+\"Saved_models/\"+model_name+\".h5\"\r\n",
        "checkpoint = tf.keras.callbacks.ModelCheckpoint(filepath, monitor='val_accuracy', save_best_only=True, mode='max')\r\n",
        "csv_logger = CSVLogger(log_dir + '/csv/'+model_name+'.csv', append=False, separator=';')\r\n",
        "history=model.fit(X_train, y_train, epochs=100, batch_size=128, validation_data=(X_dev, y_dev),class_weight=class_weight,callbacks=[csv_logger,checkpoint])"
      ],
      "outputs": [],
      "metadata": {
        "id": "UiKKJkxVu4Ws",
        "scrolled": true
      }
    },
    {
      "cell_type": "code",
      "execution_count": null,
      "source": [
        "print(\"Getting Base Model\")\r\n",
        "model = get_model_VGG19_gray()"
      ],
      "outputs": [],
      "metadata": {
        "id": "9aHH2Ob8FyDR"
      }
    },
    {
      "cell_type": "code",
      "execution_count": null,
      "source": [
        "model_name='VGG19_imagenet_Covid_pos_vs_neg'\r\n",
        "filepath = log_dir+\"Saved_models/\"+model_name+\".h5\"\r\n",
        "checkpoint = tf.keras.callbacks.ModelCheckpoint(filepath, monitor='val_accuracy', save_best_only=True, mode='max')\r\n",
        "csv_logger = CSVLogger(log_dir + '/csv/'+model_name+'.csv', append=False, separator=';')\r\n",
        "history=model.fit(X_train, y_train, epochs=100, batch_size=128, validation_data=(X_dev, y_dev),class_weight=class_weight,callbacks=[csv_logger,checkpoint])"
      ],
      "outputs": [],
      "metadata": {
        "id": "p_X7I8aLF1s2"
      }
    },
    {
      "cell_type": "markdown",
      "source": [
        "#### Prediction"
      ],
      "metadata": {
        "id": "Ql1MrXuR115j"
      }
    },
    {
      "cell_type": "code",
      "execution_count": null,
      "source": [
        "print(\"Model VGG 16 Exp 1 Part C\")\r\n",
        "model = get_model_VGG16_gray()\r\n",
        "model.load_weights(log_dir+'VGG16_imagenet_Covid_pos_vs_neg')"
      ],
      "outputs": [],
      "metadata": {
        "id": "0fEgHA-BGAJM"
      }
    },
    {
      "cell_type": "code",
      "execution_count": null,
      "source": [
        "predictions=model.predict(X_test)\r\n",
        "y_pred_bool = np.argmax(predictions, axis=-1)\r\n",
        "y_hat=np.argmax(y_test,axis=-1)"
      ],
      "outputs": [],
      "metadata": {
        "id": "z68t6RmdIjax"
      }
    },
    {
      "cell_type": "code",
      "execution_count": null,
      "source": [
        "metrics(y_hat,y_pred_bool)\r\n",
        "labels = [\"No-Covid\",\"Covid\"]\r\n",
        "get_performance_metrics(y_test,predictions,labels, acc=get_accuracy, prevalence=get_prevalence, \r\n",
        "                        sens=get_sensitivity, spec=get_specificity, ppv=get_ppv, npv=get_npv, auc=roc_auc_score,f1=f1_score)"
      ],
      "outputs": [],
      "metadata": {
        "id": "1ReBOlCPIpY2"
      }
    },
    {
      "cell_type": "code",
      "execution_count": null,
      "source": [
        "#ROC_CURVE \r\n",
        "get_roc_curve(y_test,predictions,labels)"
      ],
      "outputs": [],
      "metadata": {
        "id": "G748ApF1IpfF"
      }
    },
    {
      "cell_type": "code",
      "execution_count": null,
      "source": [
        "print(\"Model VGG 19 Exp 1 Part C\")\r\n",
        "model = get_model_VGG19_gray()\r\n",
        "model.load_weights(log_dir+'VGG19_imagenet_Covid_pos_vs_neg')"
      ],
      "outputs": [],
      "metadata": {
        "id": "sIsOo3v7KEsZ"
      }
    },
    {
      "cell_type": "code",
      "execution_count": null,
      "source": [
        "predictions=model.predict(X_test)\r\n",
        "y_pred_bool = np.argmax(predictions, axis=-1)\r\n",
        "y_hat=np.argmax(y_test,axis=-1)"
      ],
      "outputs": [],
      "metadata": {
        "id": "uXvYvGZbKOGv"
      }
    },
    {
      "cell_type": "code",
      "execution_count": null,
      "source": [
        "metrics(y_hat,y_pred_bool)\r\n",
        "labels = [\"No-Covid\",\"Covid\"]\r\n",
        "get_performance_metrics(y_test,predictions,labels, acc=get_accuracy, prevalence=get_prevalence, \r\n",
        "                        sens=get_sensitivity, spec=get_specificity, ppv=get_ppv, npv=get_npv, auc=roc_auc_score,f1=f1_score)"
      ],
      "outputs": [],
      "metadata": {
        "id": "6kKGU3jsKSNK"
      }
    },
    {
      "cell_type": "code",
      "execution_count": null,
      "source": [
        "#ROC_CURVE \r\n",
        "get_roc_curve(y_test,predictions,labels)"
      ],
      "outputs": [],
      "metadata": {
        "id": "mrodqpSDKTeM"
      }
    },
    {
      "cell_type": "markdown",
      "source": [
        "### Part D"
      ],
      "metadata": {
        "id": "EA3j2BzEI_P7"
      }
    },
    {
      "cell_type": "code",
      "execution_count": null,
      "source": [
        "D1_dir = '/Segmented'"
      ],
      "outputs": [],
      "metadata": {
        "id": "SCXFMm1DI_P8"
      }
    },
    {
      "cell_type": "code",
      "execution_count": null,
      "source": [
        "X_train_P = np.load(P_dir + D1_dir + '/X_pos_Seg_Train.npy')\r\n",
        "X_test_P = np.load(P_dir + D1_dir + '/X_pos_Seg_Test.npy')\r\n",
        "X_dev_P = np.load(P_dir + D1_dir + '/X_pos_Seg_Dev.npy')"
      ],
      "outputs": [],
      "metadata": {
        "id": "GYu2Tv_FI_P8"
      }
    },
    {
      "cell_type": "code",
      "execution_count": null,
      "source": [
        "X_train_N = np.load(N1_dir + D1_dir + '/X_neg_Seg_Train.npy')\r\n",
        "X_test_N = np.load(N1_dir + D1_dir + '/X_neg_Seg_Test.npy')\r\n",
        "X_dev_N = np.load(N1_dir + D1_dir + '/X_neg_Seg_Dev.npy')"
      ],
      "outputs": [],
      "metadata": {
        "id": "ekJ65qV8I_P9"
      }
    },
    {
      "cell_type": "code",
      "execution_count": null,
      "source": [
        "X_train=np.concatenate((X_train_N,X_train_P))\r\n",
        "X_dev=np.concatenate((X_dev_N,X_dev_P))\r\n",
        "X_test=np.concatenate((X_test_N,X_test_P))"
      ],
      "outputs": [],
      "metadata": {
        "id": "RqinGCzSI_P-"
      }
    },
    {
      "cell_type": "code",
      "execution_count": null,
      "source": [
        "y_train_N=np.array([[1,0]]*len(X_train_N))\r\n",
        "y_dev_N=np.array([[1,0]]*len(X_dev_N))\r\n",
        "y_test_N=np.array([[1,0]]*len(X_test_N))\r\n",
        "\r\n",
        "y_train_P=np.array([[0,1]]*len(X_train_P))\r\n",
        "y_dev_P=np.array([[0,1]]*len(X_dev_P))\r\n",
        "y_test_P=np.array([[0,1]]*len(X_test_P))"
      ],
      "outputs": [],
      "metadata": {
        "id": "swZYAQ-CI_P-"
      }
    },
    {
      "cell_type": "code",
      "execution_count": null,
      "source": [
        "y_train=np.concatenate((y_train_N,y_train_P))\r\n",
        "y_dev=np.concatenate((y_dev_N,y_dev_P))\r\n",
        "y_test=np.concatenate((y_test_N,y_test_P))"
      ],
      "outputs": [],
      "metadata": {
        "id": "2YAACmXyI_P_"
      }
    },
    {
      "cell_type": "code",
      "execution_count": null,
      "source": [
        "#Min_max scaled\r\n",
        "X_train,y_train=min_max_preprocessing(X_train,y_train)\r\n",
        "X_dev,y_dev=min_max_preprocessing(X_dev,y_dev)\r\n",
        "X_test,y_test=min_max_preprocessing(X_test,y_test)"
      ],
      "outputs": [],
      "metadata": {
        "id": "IgnhJeFEI_QA"
      }
    },
    {
      "cell_type": "code",
      "execution_count": null,
      "source": [
        "X_train = np.float32(X_train)\r\n",
        "X_dev = np.float32(X_dev)\r\n",
        "X_test = np.float32(X_test)"
      ],
      "outputs": [],
      "metadata": {
        "id": "9GBUtBGZI_QA"
      }
    },
    {
      "cell_type": "code",
      "execution_count": null,
      "source": [
        "#std normalization\r\n",
        "X_train,y_train,mean,std=samplewise_preprocessing(X_train,y_train)"
      ],
      "outputs": [],
      "metadata": {
        "id": "sLR_w_gNI_QB"
      }
    },
    {
      "cell_type": "code",
      "execution_count": null,
      "source": [
        "X_dev=featurewise_preprocessing(X_dev,mean,std)\r\n",
        "X_test=featurewise_preprocessing(X_test,mean,std)"
      ],
      "outputs": [],
      "metadata": {
        "id": "CbLYyc91I_QB"
      }
    },
    {
      "cell_type": "markdown",
      "source": [
        "#### Train Models (GPU) "
      ],
      "metadata": {
        "id": "cTyU8yTvI_QB"
      }
    },
    {
      "cell_type": "code",
      "execution_count": null,
      "source": [
        "log_dir=\"/content/drive/MyDrive/Covid19/COVID_FINAL/logs/\""
      ],
      "outputs": [],
      "metadata": {
        "id": "iZTTtNSAI_QC"
      }
    },
    {
      "cell_type": "code",
      "execution_count": null,
      "source": [
        "class_weight= get_weight(np.argmax(y_train,axis=-1))"
      ],
      "outputs": [],
      "metadata": {
        "id": "27f5nXqHI_QC"
      }
    },
    {
      "cell_type": "code",
      "execution_count": null,
      "source": [
        "print(\"Getting Base Model\")\r\n",
        "model = get_model_VGG16_gray()"
      ],
      "outputs": [],
      "metadata": {
        "id": "iGBDM1oWI_QE"
      }
    },
    {
      "cell_type": "code",
      "execution_count": null,
      "source": [
        "model_name='VGG16_imagenet_Covid_pos_vs_neg_seg'\r\n",
        "filepath = log_dir+\"Saved_models/\"+model_name+\".h5\"\r\n",
        "checkpoint = tf.keras.callbacks.ModelCheckpoint(filepath, monitor='val_accuracy', save_best_only=True, mode='max')\r\n",
        "csv_logger = CSVLogger(log_dir + '/csv/'+model_name+'.csv', append=False, separator=';')\r\n",
        "history=model.fit(X_train, y_train, epochs=100, batch_size=128, validation_data=(X_dev, y_dev),class_weight=class_weight,callbacks=[csv_logger,checkpoint])"
      ],
      "outputs": [],
      "metadata": {
        "scrolled": true,
        "id": "KGdryldpI_QF"
      }
    },
    {
      "cell_type": "code",
      "execution_count": null,
      "source": [
        "print(\"Getting Base Model\")\r\n",
        "model = get_model_VGG19_gray()"
      ],
      "outputs": [],
      "metadata": {
        "id": "M7mmkmnyI_QG"
      }
    },
    {
      "cell_type": "code",
      "execution_count": null,
      "source": [
        "model_name='VGG19_imagenet_Covid_pos_vs_neg_seg'\r\n",
        "filepath = log_dir+\"Saved_models/\"+model_name+\".h5\"\r\n",
        "checkpoint = tf.keras.callbacks.ModelCheckpoint(filepath, monitor='val_accuracy', save_best_only=True, mode='max')\r\n",
        "csv_logger = CSVLogger(log_dir + '/csv/'+model_name+'.csv', append=False, separator=';')\r\n",
        "history=model.fit(X_train, y_train, epochs=100, batch_size=128, validation_data=(X_dev, y_dev),class_weight=class_weight,callbacks=[csv_logger,checkpoint])"
      ],
      "outputs": [],
      "metadata": {
        "id": "NJS2UeppI_QG"
      }
    },
    {
      "cell_type": "markdown",
      "source": [
        "#### Prediction"
      ],
      "metadata": {
        "id": "FHXx5QFoI_QH"
      }
    },
    {
      "cell_type": "code",
      "execution_count": null,
      "source": [
        "print(\"Model VGG 16 Exp 1 Part D\")\r\n",
        "model = get_model_VGG16_gray()\r\n",
        "model.load_weights(log_dir+'VGG16_imagenet_Covid_pos_vs_neg_seg')"
      ],
      "outputs": [],
      "metadata": {
        "id": "Lutae348I_QH"
      }
    },
    {
      "cell_type": "code",
      "execution_count": null,
      "source": [
        "predictions=model.predict(X_test)\r\n",
        "y_pred_bool = np.argmax(predictions, axis=-1)\r\n",
        "y_hat=np.argmax(y_test,axis=-1)"
      ],
      "outputs": [],
      "metadata": {
        "id": "yNBjg97XI_QH"
      }
    },
    {
      "cell_type": "code",
      "execution_count": null,
      "source": [
        "metrics(y_hat,y_pred_bool)\r\n",
        "labels = [\"No-Covid\",\"Covid\"]\r\n",
        "get_performance_metrics(y_test,predictions,labels, acc=get_accuracy, prevalence=get_prevalence, \r\n",
        "                        sens=get_sensitivity, spec=get_specificity, ppv=get_ppv, npv=get_npv, auc=roc_auc_score,f1=f1_score)"
      ],
      "outputs": [],
      "metadata": {
        "id": "YNe-QTWCI_QI"
      }
    },
    {
      "cell_type": "code",
      "execution_count": null,
      "source": [
        "#ROC_CURVE \r\n",
        "get_roc_curve(y_test,predictions,labels)"
      ],
      "outputs": [],
      "metadata": {
        "id": "hIjVd9UUI_QI"
      }
    },
    {
      "cell_type": "code",
      "execution_count": null,
      "source": [
        "print(\"Model VGG 19 Exp 1 Part D\")\r\n",
        "model = get_model_VGG16_gray()\r\n",
        "model.load_weights(log_dir+'VGG16_imagenet_Covid_pos_vs_neg_seg')"
      ],
      "outputs": [],
      "metadata": {
        "id": "ztKE6Hv2J_L2"
      }
    },
    {
      "cell_type": "code",
      "execution_count": null,
      "source": [
        "predictions=model.predict(X_test)\r\n",
        "y_pred_bool = np.argmax(predictions, axis=-1)\r\n",
        "y_hat=np.argmax(y_test,axis=-1)"
      ],
      "outputs": [],
      "metadata": {
        "id": "Rr9Xy8NWKglk"
      }
    },
    {
      "cell_type": "code",
      "execution_count": null,
      "source": [
        "metrics(y_hat,y_pred_bool)\r\n",
        "labels = [\"No-Covid\",\"Covid\"]\r\n",
        "get_performance_metrics(y_test,predictions,labels, acc=get_accuracy, prevalence=get_prevalence, \r\n",
        "                        sens=get_sensitivity, spec=get_specificity, ppv=get_ppv, npv=get_npv, auc=roc_auc_score,f1=f1_score)"
      ],
      "outputs": [],
      "metadata": {
        "id": "tv6dxnLbKilM"
      }
    },
    {
      "cell_type": "code",
      "execution_count": null,
      "source": [
        "#ROC_CURVE \r\n",
        "get_roc_curve(y_test,predictions,labels)"
      ],
      "outputs": [],
      "metadata": {
        "id": "GzCYdU1XKj1r"
      }
    },
    {
      "cell_type": "markdown",
      "source": [
        "### Part E"
      ],
      "metadata": {
        "id": "THAqD-A-JEPA"
      }
    },
    {
      "cell_type": "code",
      "execution_count": null,
      "source": [
        "E1_dir = '/Inverted'"
      ],
      "outputs": [],
      "metadata": {
        "id": "jIsLXzHUJEPA"
      }
    },
    {
      "cell_type": "code",
      "execution_count": null,
      "source": [
        "X_train_P = np.load(P_dir + E1_dir + '/X_pos_Seg_i2_Train.npy')\r\n",
        "X_test_P = np.load(P_dir + E1_dir + '/X_pos_Seg_i2_Test.npy')\r\n",
        "X_dev_P = np.load(P_dir + E1_dir + '/X_pos_Seg_i2_Dev.npy')"
      ],
      "outputs": [],
      "metadata": {
        "colab": {
          "background_save": true
        },
        "id": "1AcXehm4JEPB"
      }
    },
    {
      "cell_type": "code",
      "execution_count": null,
      "source": [
        "X_train_N = np.load(N1_dir + E1_dir + '/X_neg_Seg_i_Train.npy')\r\n",
        "X_test_N = np.load(N1_dir + E1_dir + '/X_neg_Seg_i_Test.npy')\r\n",
        "X_dev_N = np.load(N1_dir + E1_dir + '/X_neg_Seg_i_Dev.npy')"
      ],
      "outputs": [],
      "metadata": {
        "id": "B-dT8reLJEPB"
      }
    },
    {
      "cell_type": "code",
      "execution_count": null,
      "source": [
        "X_train=np.concatenate((X_train_N,X_train_P))\r\n",
        "X_dev=np.concatenate((X_dev_N,X_dev_P))\r\n",
        "X_test=np.concatenate((X_test_N,X_test_P))"
      ],
      "outputs": [],
      "metadata": {
        "id": "a6C_66N-JEPC"
      }
    },
    {
      "cell_type": "code",
      "execution_count": null,
      "source": [
        "y_train_N=np.array([[1,0]]*len(X_train_N))\r\n",
        "y_dev_N=np.array([[1,0]]*len(X_dev_N))\r\n",
        "y_test_N=np.array([[1,0]]*len(X_test_N))\r\n",
        "\r\n",
        "y_train_P=np.array([[0,1]]*len(X_train_P))\r\n",
        "y_dev_P=np.array([[0,1]]*len(X_dev_P))\r\n",
        "y_test_P=np.array([[0,1]]*len(X_test_P))"
      ],
      "outputs": [],
      "metadata": {
        "id": "f0na2FUmJEPC"
      }
    },
    {
      "cell_type": "code",
      "execution_count": null,
      "source": [
        "y_train=np.concatenate((y_train_N,y_train_P))\r\n",
        "y_dev=np.concatenate((y_dev_N,y_dev_P))\r\n",
        "y_test=np.concatenate((y_test_N,y_test_P))"
      ],
      "outputs": [],
      "metadata": {
        "id": "2HBDinnUJEPC"
      }
    },
    {
      "cell_type": "code",
      "execution_count": null,
      "source": [
        "#Min_max scaled\r\n",
        "X_train,y_train=min_max_preprocessing(X_train,y_train)\r\n",
        "X_dev,y_dev=min_max_preprocessing(X_dev,y_dev)\r\n",
        "X_test,y_test=min_max_preprocessing(X_test,y_test)"
      ],
      "outputs": [],
      "metadata": {
        "id": "CKCMISIXJEPD"
      }
    },
    {
      "cell_type": "code",
      "execution_count": null,
      "source": [
        "X_train = np.float32(X_train)\r\n",
        "X_dev = np.float32(X_dev)\r\n",
        "X_test = np.float32(X_test)"
      ],
      "outputs": [],
      "metadata": {
        "id": "8-WQCkBeJEPD"
      }
    },
    {
      "cell_type": "code",
      "execution_count": null,
      "source": [
        "#std normalization\r\n",
        "X_train,y_train,mean,std=samplewise_preprocessing(X_train,y_train)"
      ],
      "outputs": [],
      "metadata": {
        "id": "g3Ml9HWpJEPD"
      }
    },
    {
      "cell_type": "code",
      "execution_count": null,
      "source": [
        "X_dev=featurewise_preprocessing(X_dev,mean,std)\r\n",
        "X_test=featurewise_preprocessing(X_test,mean,std)"
      ],
      "outputs": [],
      "metadata": {
        "id": "bK3yPIvdJEPE"
      }
    },
    {
      "cell_type": "markdown",
      "source": [
        "#### Train Models (GPU) "
      ],
      "metadata": {
        "id": "Vu1x-OHiJEPE"
      }
    },
    {
      "cell_type": "code",
      "execution_count": null,
      "source": [
        "log_dir=\"/content/drive/MyDrive/Covid19/COVID_FINAL/logs/\""
      ],
      "outputs": [],
      "metadata": {
        "id": "9D5Jh8ivJEPE"
      }
    },
    {
      "cell_type": "code",
      "execution_count": null,
      "source": [
        "class_weight= get_weight(np.argmax(y_train,axis=-1))"
      ],
      "outputs": [],
      "metadata": {
        "id": "QHbRGMvHJEPF"
      }
    },
    {
      "cell_type": "code",
      "execution_count": null,
      "source": [
        "print(\"Getting Base Model\")\r\n",
        "model = get_model_VGG16_gray()"
      ],
      "outputs": [],
      "metadata": {
        "id": "f2NUvJ8YJEPF"
      }
    },
    {
      "cell_type": "code",
      "execution_count": null,
      "source": [
        "model_name='VGG16_imagenet_Covid_pos_vs_neg_inv'\r\n",
        "filepath = log_dir+\"Saved_models/\"+model_name+\".h5\"\r\n",
        "checkpoint = tf.keras.callbacks.ModelCheckpoint(filepath, monitor='val_accuracy', save_best_only=True, mode='max')\r\n",
        "csv_logger = CSVLogger(log_dir + '/csv/'+model_name+'.csv', append=False, separator=';')\r\n",
        "history=model.fit(X_train, y_train, epochs=100, batch_size=128, validation_data=(X_dev, y_dev),class_weight=class_weight,callbacks=[csv_logger,checkpoint])"
      ],
      "outputs": [],
      "metadata": {
        "scrolled": true,
        "id": "6c4yyUOaJEPG"
      }
    },
    {
      "cell_type": "code",
      "execution_count": null,
      "source": [
        "print(\"Getting Base Model\")\r\n",
        "model = get_model_VGG19_gray()"
      ],
      "outputs": [],
      "metadata": {
        "id": "jVB6g1fSJEPH"
      }
    },
    {
      "cell_type": "code",
      "execution_count": null,
      "source": [
        "model_name='VGG19_imagenet_Covid_pos_vs_neg_inv'\r\n",
        "filepath = log_dir+\"Saved_models/\"+model_name+\".h5\"\r\n",
        "checkpoint = tf.keras.callbacks.ModelCheckpoint(filepath, monitor='val_accuracy', save_best_only=True, mode='max')\r\n",
        "csv_logger = CSVLogger(log_dir + '/csv/'+model_name+'.csv', append=False, separator=';')\r\n",
        "history=model.fit(X_train, y_train, epochs=100, batch_size=128, validation_data=(X_dev, y_dev),class_weight=class_weight,callbacks=[csv_logger,checkpoint])"
      ],
      "outputs": [],
      "metadata": {
        "id": "4j38HQIfJEPH"
      }
    },
    {
      "cell_type": "markdown",
      "source": [
        "#### Prediction"
      ],
      "metadata": {
        "id": "r90Tp8i5JEPH"
      }
    },
    {
      "cell_type": "code",
      "execution_count": null,
      "source": [
        "print(\"Model VGG 16 Exp 1 Part E\")\r\n",
        "model = get_model_VGG16_gray()\r\n",
        "model.load_weights(log_dir+'VGG16_imagenet_Covid_pos_vs_neg_inv')"
      ],
      "outputs": [],
      "metadata": {
        "id": "yTbfaJg3JEPI"
      }
    },
    {
      "cell_type": "code",
      "execution_count": null,
      "source": [
        "predictions=model.predict(X_test)\r\n",
        "y_pred_bool = np.argmax(predictions, axis=-1)\r\n",
        "y_hat=np.argmax(y_test,axis=-1)"
      ],
      "outputs": [],
      "metadata": {
        "id": "Oy26vgJ6JEPI"
      }
    },
    {
      "cell_type": "code",
      "execution_count": null,
      "source": [
        "metrics(y_hat,y_pred_bool)\r\n",
        "labels = [\"No-Covid\",\"Covid\"]\r\n",
        "get_performance_metrics(y_test,predictions,labels, acc=get_accuracy, prevalence=get_prevalence, \r\n",
        "                        sens=get_sensitivity, spec=get_specificity, ppv=get_ppv, npv=get_npv, auc=roc_auc_score,f1=f1_score)"
      ],
      "outputs": [],
      "metadata": {
        "id": "w0Pu5I8CJEPJ"
      }
    },
    {
      "cell_type": "code",
      "execution_count": null,
      "source": [
        "#ROC_CURVE \r\n",
        "get_roc_curve(y_test,predictions,labels)"
      ],
      "outputs": [],
      "metadata": {
        "id": "rQP7EEE9JEPJ"
      }
    },
    {
      "cell_type": "code",
      "execution_count": null,
      "source": [
        "print(\"Model VGG 19 Exp 1 Part E\")\r\n",
        "model = get_model_VGG19_gray()\r\n",
        "model.load_weights(log_dir+'VGG19_imagenet_Covid_pos_vs_neg_inv')"
      ],
      "outputs": [],
      "metadata": {
        "id": "gB_tqEjIL7I2"
      }
    },
    {
      "cell_type": "code",
      "execution_count": null,
      "source": [
        "predictions=model.predict(X_test)\r\n",
        "y_pred_bool = np.argmax(predictions, axis=-1)\r\n",
        "y_hat=np.argmax(y_test,axis=-1)"
      ],
      "outputs": [],
      "metadata": {
        "id": "F5Ce0lKhL_xI"
      }
    },
    {
      "cell_type": "code",
      "execution_count": null,
      "source": [
        "metrics(y_hat,y_pred_bool)\r\n",
        "labels = [\"No-Covid\",\"Covid\"]\r\n",
        "get_performance_metrics(y_test,predictions,labels, acc=get_accuracy, prevalence=get_prevalence, \r\n",
        "                        sens=get_sensitivity, spec=get_specificity, ppv=get_ppv, npv=get_npv, auc=roc_auc_score,f1=f1_score)"
      ],
      "outputs": [],
      "metadata": {
        "id": "miESt8H6MBSm"
      }
    },
    {
      "cell_type": "code",
      "execution_count": null,
      "source": [
        "#ROC_CURVE \r\n",
        "get_roc_curve(y_test,predictions,labels)"
      ],
      "outputs": [],
      "metadata": {
        "id": "H-QOfQ5iMCdv"
      }
    },
    {
      "cell_type": "markdown",
      "source": [
        "## Experiment 2"
      ],
      "metadata": {
        "id": "VXmTQzw_MItT"
      }
    },
    {
      "cell_type": "markdown",
      "source": [
        "### Part C"
      ],
      "metadata": {
        "id": "UblvFs8qMItT"
      }
    },
    {
      "cell_type": "code",
      "execution_count": null,
      "source": [
        "C1_dir = '/Normal'"
      ],
      "outputs": [],
      "metadata": {
        "id": "bptwW8jeMItU"
      }
    },
    {
      "cell_type": "code",
      "execution_count": null,
      "source": [
        "X_train_P = np.load(P_dir + C1_dir + '/X_pos_train_C.npy')\r\n",
        "X_test_P = np.load(P_dir + C1_dir + '/X_pos_test_C.npy')\r\n",
        "X_dev_P = np.load(P_dir + C1_dir + '/X_pos_dev_C.npy')"
      ],
      "outputs": [],
      "metadata": {
        "id": "8GPekXXXMItU"
      }
    },
    {
      "cell_type": "code",
      "execution_count": null,
      "source": [
        "X_train_N = np.load(N2_dir + C1_dir + '/X_neg_Train_CC.npy')\r\n",
        "X_test_N = np.load(N2_dir + C1_dir + '/X_neg_Test_CC.npy')\r\n",
        "X_dev_N = np.load(N2_dir + C1_dir + '/X_neg_Dev_CC.npy')"
      ],
      "outputs": [],
      "metadata": {
        "id": "f1pEZHbmMItU"
      }
    },
    {
      "cell_type": "code",
      "execution_count": null,
      "source": [
        "X_train=np.concatenate((X_train_N,X_train_P))\r\n",
        "X_dev=np.concatenate((X_dev_N,X_dev_P))\r\n",
        "X_test=np.concatenate((X_test_N,X_test_P))"
      ],
      "outputs": [],
      "metadata": {
        "id": "SWzRaeakMItU"
      }
    },
    {
      "cell_type": "code",
      "execution_count": null,
      "source": [
        "y_train_N=np.array([[1,0]]*len(X_train_N))\r\n",
        "y_dev_N=np.array([[1,0]]*len(X_dev_N))\r\n",
        "y_test_N=np.array([[1,0]]*len(X_test_N))\r\n",
        "\r\n",
        "y_train_P=np.array([[0,1]]*len(X_train_P))\r\n",
        "y_dev_P=np.array([[0,1]]*len(X_dev_P))\r\n",
        "y_test_P=np.array([[0,1]]*len(X_test_P))"
      ],
      "outputs": [],
      "metadata": {
        "id": "gLkaur3iMItV"
      }
    },
    {
      "cell_type": "code",
      "execution_count": null,
      "source": [
        "y_train=np.concatenate((y_train_N,y_train_P))\r\n",
        "y_dev=np.concatenate((y_dev_N,y_dev_P))\r\n",
        "y_test=np.concatenate((y_test_N,y_test_P))"
      ],
      "outputs": [],
      "metadata": {
        "id": "jvQXeacUMItV"
      }
    },
    {
      "cell_type": "code",
      "execution_count": null,
      "source": [
        "#Min_max scaled\r\n",
        "X_train,y_train=min_max_preprocessing(X_train,y_train)\r\n",
        "X_dev,y_dev=min_max_preprocessing(X_dev,y_dev)\r\n",
        "X_test,y_test=min_max_preprocessing(X_test,y_test)"
      ],
      "outputs": [],
      "metadata": {
        "id": "IUVH2XQSMItW"
      }
    },
    {
      "cell_type": "code",
      "execution_count": null,
      "source": [
        "X_train = np.float32(X_train)\r\n",
        "X_dev = np.float32(X_dev)\r\n",
        "X_test = np.float32(X_test)"
      ],
      "outputs": [],
      "metadata": {
        "id": "7FXbDp6MMItW"
      }
    },
    {
      "cell_type": "code",
      "execution_count": null,
      "source": [
        "#std normalization\r\n",
        "X_train,y_train,mean,std=samplewise_preprocessing(X_train,y_train)"
      ],
      "outputs": [],
      "metadata": {
        "id": "ZUMAs-ZDMItW"
      }
    },
    {
      "cell_type": "code",
      "execution_count": null,
      "source": [
        "X_dev=featurewise_preprocessing(X_dev,mean,std)\r\n",
        "X_test=featurewise_preprocessing(X_test,mean,std)"
      ],
      "outputs": [],
      "metadata": {
        "id": "eS0BttVoMItW"
      }
    },
    {
      "cell_type": "markdown",
      "source": [
        "#### Train Models (GPU) "
      ],
      "metadata": {
        "id": "CfJy90FbMItX"
      }
    },
    {
      "cell_type": "code",
      "execution_count": null,
      "source": [
        "log_dir=\"/content/drive/MyDrive/Covid19/COVID_FINAL/logs/\""
      ],
      "outputs": [],
      "metadata": {
        "id": "MQdY05C4MItX"
      }
    },
    {
      "cell_type": "code",
      "execution_count": null,
      "source": [
        "class_weight= get_weight(np.argmax(y_train,axis=-1))"
      ],
      "outputs": [],
      "metadata": {
        "id": "degBo7y9MItX"
      }
    },
    {
      "cell_type": "code",
      "execution_count": null,
      "source": [
        "print(\"Getting Base Model\")\r\n",
        "model = get_model_VGG16_gray()"
      ],
      "outputs": [],
      "metadata": {
        "id": "scG06JPBMItX"
      }
    },
    {
      "cell_type": "code",
      "execution_count": null,
      "source": [
        "model_name='VGG16_imagenet_Covid_pos_vs_neg2'\r\n",
        "filepath = log_dir+\"Saved_models/\"+model_name+\".h5\"\r\n",
        "checkpoint = tf.keras.callbacks.ModelCheckpoint(filepath, monitor='val_accuracy', save_best_only=True, mode='max')\r\n",
        "csv_logger = CSVLogger(log_dir + '/csv/'+model_name+'.csv', append=False, separator=';')\r\n",
        "history=model.fit(X_train, y_train, epochs=100, batch_size=128, validation_data=(X_dev, y_dev),class_weight=class_weight,callbacks=[csv_logger,checkpoint])"
      ],
      "outputs": [],
      "metadata": {
        "scrolled": true,
        "id": "F4zgwtM9MItX"
      }
    },
    {
      "cell_type": "code",
      "execution_count": null,
      "source": [
        "print(\"Getting Base Model\")\r\n",
        "model = get_model_VGG19_gray()"
      ],
      "outputs": [],
      "metadata": {
        "id": "1mIUezBfMItY"
      }
    },
    {
      "cell_type": "code",
      "execution_count": null,
      "source": [
        "model_name='VGG19_imagenet_Covid_pos_vs_neg2'\r\n",
        "filepath = log_dir+\"Saved_models/\"+model_name+\".h5\"\r\n",
        "checkpoint = tf.keras.callbacks.ModelCheckpoint(filepath, monitor='val_accuracy', save_best_only=True, mode='max')\r\n",
        "csv_logger = CSVLogger(log_dir + '/csv/'+model_name+'.csv', append=False, separator=';')\r\n",
        "history=model.fit(X_train, y_train, epochs=100, batch_size=128, validation_data=(X_dev, y_dev),class_weight=class_weight,callbacks=[csv_logger,checkpoint])"
      ],
      "outputs": [],
      "metadata": {
        "id": "JM2IT31sMItY"
      }
    },
    {
      "cell_type": "markdown",
      "source": [
        "#### Prediction"
      ],
      "metadata": {
        "id": "-CiHgBUFMItY"
      }
    },
    {
      "cell_type": "code",
      "execution_count": null,
      "source": [
        "print(\"Model VGG 16 Exp 2 Part C\")\r\n",
        "model = get_model_VGG16_gray()\r\n",
        "model.load_weights(log_dir+'VGG16_imagenet_Covid_pos_vs_neg2')"
      ],
      "outputs": [],
      "metadata": {
        "id": "Q5s_dea9MItY"
      }
    },
    {
      "cell_type": "code",
      "execution_count": null,
      "source": [
        "predictions=model.predict(X_test)\r\n",
        "y_pred_bool = np.argmax(predictions, axis=-1)\r\n",
        "y_hat=np.argmax(y_test,axis=-1)"
      ],
      "outputs": [],
      "metadata": {
        "id": "kc3Yx5e7MItY"
      }
    },
    {
      "cell_type": "code",
      "execution_count": null,
      "source": [
        "metrics(y_hat,y_pred_bool)\r\n",
        "labels = [\"No-Covid\",\"Covid\"]\r\n",
        "get_performance_metrics(y_test,predictions,labels, acc=get_accuracy, prevalence=get_prevalence, \r\n",
        "                        sens=get_sensitivity, spec=get_specificity, ppv=get_ppv, npv=get_npv, auc=roc_auc_score,f1=f1_score)"
      ],
      "outputs": [],
      "metadata": {
        "id": "Ya0IU7ZbMItZ"
      }
    },
    {
      "cell_type": "code",
      "execution_count": null,
      "source": [
        "#ROC_CURVE \r\n",
        "get_roc_curve(y_test,predictions,labels)"
      ],
      "outputs": [],
      "metadata": {
        "id": "liSLPBc-MItZ"
      }
    },
    {
      "cell_type": "code",
      "execution_count": null,
      "source": [
        "print(\"Model VGG 19 Exp 2 Part C\")\r\n",
        "model = get_model_VGG19_gray()\r\n",
        "model.load_weights(log_dir+'VGG19_imagenet_Covid_pos_vs_neg2')"
      ],
      "outputs": [],
      "metadata": {
        "id": "R8PHViSWMItZ"
      }
    },
    {
      "cell_type": "code",
      "execution_count": null,
      "source": [
        "predictions=model.predict(X_test)\r\n",
        "y_pred_bool = np.argmax(predictions, axis=-1)\r\n",
        "y_hat=np.argmax(y_test,axis=-1)"
      ],
      "outputs": [],
      "metadata": {
        "id": "9h1TY8gxMItZ"
      }
    },
    {
      "cell_type": "code",
      "execution_count": null,
      "source": [
        "metrics(y_hat,y_pred_bool)\r\n",
        "labels = [\"No-Covid\",\"Covid\"]\r\n",
        "get_performance_metrics(y_test,predictions,labels, acc=get_accuracy, prevalence=get_prevalence, \r\n",
        "                        sens=get_sensitivity, spec=get_specificity, ppv=get_ppv, npv=get_npv, auc=roc_auc_score,f1=f1_score)"
      ],
      "outputs": [],
      "metadata": {
        "id": "IprCPNqOMItZ"
      }
    },
    {
      "cell_type": "code",
      "execution_count": null,
      "source": [
        "#ROC_CURVE \r\n",
        "get_roc_curve(y_test,predictions,labels)"
      ],
      "outputs": [],
      "metadata": {
        "id": "FCd_I0_VMIta"
      }
    },
    {
      "cell_type": "markdown",
      "source": [
        "### Part D"
      ],
      "metadata": {
        "id": "PrY-ajqUMIta"
      }
    },
    {
      "cell_type": "code",
      "execution_count": null,
      "source": [
        "D1_dir = '/Segmented'"
      ],
      "outputs": [],
      "metadata": {
        "id": "Vlbaks40MIta"
      }
    },
    {
      "cell_type": "code",
      "execution_count": null,
      "source": [
        "X_train_P = np.load(P_dir + D1_dir + '/X_pos_Seg_Train.npy')\r\n",
        "X_test_P = np.load(P_dir + D1_dir + '/X_pos_Seg_Test.npy')\r\n",
        "X_dev_P = np.load(P_dir + D1_dir + '/X_pos_Seg_Dev.npy')"
      ],
      "outputs": [],
      "metadata": {
        "id": "UZ_3jSbtMIta"
      }
    },
    {
      "cell_type": "code",
      "execution_count": null,
      "source": [
        "X_train_N = np.load(N2_dir + D1_dir + '/X_neg_Seg_Train_2.npy')\r\n",
        "X_test_N = np.load(N2_dir + D1_dir + '/X_neg_Seg_Test_2.npy')\r\n",
        "X_dev_N = np.load(N2_dir + D1_dir + '/X_neg_Seg_Dev_2.npy')"
      ],
      "outputs": [],
      "metadata": {
        "id": "3fZ1KmY8MIta"
      }
    },
    {
      "cell_type": "code",
      "execution_count": null,
      "source": [
        "X_train=np.concatenate((X_train_N,X_train_P))\r\n",
        "X_dev=np.concatenate((X_dev_N,X_dev_P))\r\n",
        "X_test=np.concatenate((X_test_N,X_test_P))"
      ],
      "outputs": [],
      "metadata": {
        "id": "Sj9Z_Ee-MItb"
      }
    },
    {
      "cell_type": "code",
      "execution_count": null,
      "source": [
        "y_train_N=np.array([[1,0]]*len(X_train_N))\r\n",
        "y_dev_N=np.array([[1,0]]*len(X_dev_N))\r\n",
        "y_test_N=np.array([[1,0]]*len(X_test_N))\r\n",
        "\r\n",
        "y_train_P=np.array([[0,1]]*len(X_train_P))\r\n",
        "y_dev_P=np.array([[0,1]]*len(X_dev_P))\r\n",
        "y_test_P=np.array([[0,1]]*len(X_test_P))"
      ],
      "outputs": [],
      "metadata": {
        "id": "a-LZa4jTMItb"
      }
    },
    {
      "cell_type": "code",
      "execution_count": null,
      "source": [
        "y_train=np.concatenate((y_train_N,y_train_P))\r\n",
        "y_dev=np.concatenate((y_dev_N,y_dev_P))\r\n",
        "y_test=np.concatenate((y_test_N,y_test_P))"
      ],
      "outputs": [],
      "metadata": {
        "id": "nZ_nKYsHMItb"
      }
    },
    {
      "cell_type": "code",
      "execution_count": null,
      "source": [
        "#Min_max scaled\r\n",
        "X_train,y_train=min_max_preprocessing(X_train,y_train)\r\n",
        "X_dev,y_dev=min_max_preprocessing(X_dev,y_dev)\r\n",
        "X_test,y_test=min_max_preprocessing(X_test,y_test)"
      ],
      "outputs": [],
      "metadata": {
        "id": "Zk7I-IxTMItb"
      }
    },
    {
      "cell_type": "code",
      "execution_count": null,
      "source": [
        "X_train = np.float32(X_train)\r\n",
        "X_dev = np.float32(X_dev)\r\n",
        "X_test = np.float32(X_test)"
      ],
      "outputs": [],
      "metadata": {
        "id": "5ghwymQsMItb"
      }
    },
    {
      "cell_type": "code",
      "execution_count": null,
      "source": [
        "#std normalization\r\n",
        "X_train,y_train,mean,std=samplewise_preprocessing(X_train,y_train)"
      ],
      "outputs": [],
      "metadata": {
        "id": "iFs-DRjHMItc"
      }
    },
    {
      "cell_type": "code",
      "execution_count": null,
      "source": [
        "X_dev=featurewise_preprocessing(X_dev,mean,std)\r\n",
        "X_test=featurewise_preprocessing(X_test,mean,std)"
      ],
      "outputs": [],
      "metadata": {
        "id": "9vbkR0WLMItc"
      }
    },
    {
      "cell_type": "markdown",
      "source": [
        "#### Train Models (GPU) "
      ],
      "metadata": {
        "id": "9Yy91-1YMItc"
      }
    },
    {
      "cell_type": "code",
      "execution_count": null,
      "source": [
        "log_dir=\"/content/drive/MyDrive/Covid19/COVID_FINAL/logs/\""
      ],
      "outputs": [],
      "metadata": {
        "id": "-ybkNWYoMItc"
      }
    },
    {
      "cell_type": "code",
      "execution_count": null,
      "source": [
        "class_weight= get_weight(np.argmax(y_train,axis=-1))"
      ],
      "outputs": [],
      "metadata": {
        "id": "UTJB8N_xMItc",
        "colab": {
          "base_uri": "https://localhost:8080/",
          "height": 163
        },
        "outputId": "0a3916cc-0714-435f-d494-e8b0a314d521"
      }
    },
    {
      "cell_type": "code",
      "execution_count": null,
      "source": [
        "print(\"Getting Base Model\")\r\n",
        "model = get_model_VGG16_gray()"
      ],
      "outputs": [],
      "metadata": {
        "id": "yTiX9vWjMItc"
      }
    },
    {
      "cell_type": "code",
      "execution_count": null,
      "source": [
        "model_name='VGG16_imagenet_posyneg_seg_C'\r\n",
        "filepath = log_dir+\"Saved_models/\"+model_name+\".h5\"\r\n",
        "checkpoint = tf.keras.callbacks.ModelCheckpoint(filepath, monitor='val_accuracy', save_best_only=True, mode='max')\r\n",
        "history=model.fit(X_train, y_train, epochs=100, batch_size=128, validation_data=(X_dev, y_dev),class_weight=class_weight,callbacks=[checkpoint])"
      ],
      "outputs": [],
      "metadata": {
        "scrolled": true,
        "id": "if_3v3buMItd"
      }
    },
    {
      "cell_type": "code",
      "execution_count": null,
      "source": [
        "print(\"Getting Base Model\")\r\n",
        "model = get_model_VGG19_gray()"
      ],
      "outputs": [],
      "metadata": {
        "id": "_YmKLFfkMItd"
      }
    },
    {
      "cell_type": "code",
      "execution_count": null,
      "source": [
        "model_name='VGG19_imagenet_Covid_pos_vs_neg2_seg'\r\n",
        "filepath = log_dir+\"Saved_models/\"+model_name+\".h5\"\r\n",
        "checkpoint = tf.keras.callbacks.ModelCheckpoint(filepath, monitor='val_accuracy', save_best_only=True, mode='max')\r\n",
        "csv_logger = CSVLogger(log_dir + '/csv/'+model_name+'.csv', append=False, separator=';')\r\n",
        "history=model.fit(X_train, y_train, epochs=100, batch_size=128, validation_data=(X_dev, y_dev),class_weight=class_weight,callbacks=[csv_logger,checkpoint])"
      ],
      "outputs": [],
      "metadata": {
        "id": "ZDciyCaFMItd"
      }
    },
    {
      "cell_type": "markdown",
      "source": [
        "#### Prediction"
      ],
      "metadata": {
        "id": "_ya4r0-XMItd"
      }
    },
    {
      "cell_type": "code",
      "execution_count": null,
      "source": [
        "print(\"Model VGG 16 Exp 2 Part D\")\r\n",
        "model = get_model_VGG16_gray()\r\n",
        "model.load_weights(log_dir+'VGG16_imagenet_Covid_pos_vs_neg2_seg')"
      ],
      "outputs": [],
      "metadata": {
        "id": "d_FnY3sZMItd"
      }
    },
    {
      "cell_type": "code",
      "execution_count": null,
      "source": [
        "predictions=model.predict(X_test)\r\n",
        "y_pred_bool = np.argmax(predictions, axis=-1)\r\n",
        "y_hat=np.argmax(y_test,axis=-1)"
      ],
      "outputs": [],
      "metadata": {
        "id": "2VOOKJ7QMIte"
      }
    },
    {
      "cell_type": "code",
      "execution_count": null,
      "source": [
        "metrics(y_hat,y_pred_bool)\r\n",
        "labels = [\"No-Covid\",\"Covid\"]\r\n",
        "get_performance_metrics(y_test,predictions,labels, acc=get_accuracy, prevalence=get_prevalence, \r\n",
        "                        sens=get_sensitivity, spec=get_specificity, ppv=get_ppv, npv=get_npv, auc=roc_auc_score,f1=f1_score)"
      ],
      "outputs": [],
      "metadata": {
        "id": "goKYK7u1MIte"
      }
    },
    {
      "cell_type": "code",
      "execution_count": null,
      "source": [
        "#ROC_CURVE \r\n",
        "get_roc_curve(y_test,predictions,labels)"
      ],
      "outputs": [],
      "metadata": {
        "id": "8bcXP-47MIte"
      }
    },
    {
      "cell_type": "code",
      "execution_count": null,
      "source": [
        "print(\"Model VGG 19 Exp 2 Part D\")\r\n",
        "model = get_model_VGG16_gray()\r\n",
        "model.load_weights(log_dir+'VGG16_imagenet_Covid_pos_vs_neg2_seg')"
      ],
      "outputs": [],
      "metadata": {
        "id": "VB3okooYMIte"
      }
    },
    {
      "cell_type": "code",
      "execution_count": null,
      "source": [
        "predictions=model.predict(X_test)\r\n",
        "y_pred_bool = np.argmax(predictions, axis=-1)\r\n",
        "y_hat=np.argmax(y_test,axis=-1)"
      ],
      "outputs": [],
      "metadata": {
        "id": "SvnYENwqMIte"
      }
    },
    {
      "cell_type": "code",
      "execution_count": null,
      "source": [
        "metrics(y_hat,y_pred_bool)\r\n",
        "labels = [\"No-Covid\",\"Covid\"]\r\n",
        "get_performance_metrics(y_test,predictions,labels, acc=get_accuracy, prevalence=get_prevalence, \r\n",
        "                        sens=get_sensitivity, spec=get_specificity, ppv=get_ppv, npv=get_npv, auc=roc_auc_score,f1=f1_score)"
      ],
      "outputs": [],
      "metadata": {
        "id": "6xzexg6NMIte"
      }
    },
    {
      "cell_type": "code",
      "execution_count": null,
      "source": [
        "#ROC_CURVE \r\n",
        "get_roc_curve(y_test,predictions,labels)"
      ],
      "outputs": [],
      "metadata": {
        "id": "bXmbTq9eMItf"
      }
    },
    {
      "cell_type": "markdown",
      "source": [
        "### Part E"
      ],
      "metadata": {
        "id": "niZyNSRFMItf"
      }
    },
    {
      "cell_type": "code",
      "execution_count": null,
      "source": [
        "E1_dir = '/Inverted'"
      ],
      "outputs": [],
      "metadata": {
        "id": "5guityMVMItf"
      }
    },
    {
      "cell_type": "code",
      "execution_count": null,
      "source": [
        "X_train_P = np.load(P_dir + E1_dir + '/X_pos_Seg_i2_Train.npy')\r\n",
        "X_test_P = np.load(P_dir + E1_dir + '/X_pos_Seg_i2_Test.npy')\r\n",
        "X_dev_P = np.load(P_dir + E1_dir + '/X_pos_Seg_i2_Dev.npy')"
      ],
      "outputs": [],
      "metadata": {
        "colab": {
          "background_save": true
        },
        "id": "3ZRffmrbMItf"
      }
    },
    {
      "cell_type": "code",
      "execution_count": null,
      "source": [
        "X_train_N = np.load(N2_dir + E1_dir + '/X_neg_Seg_Train_i2.npy')\r\n",
        "X_test_N = np.load(N2_dir + E1_dir + '/X_neg_Seg_Test_i2.npy')\r\n",
        "X_dev_N = np.load(N2_dir + E1_dir + '/X_neg_Seg_Dev_i2.npy')"
      ],
      "outputs": [],
      "metadata": {
        "id": "YR3dYkIgMItf"
      }
    },
    {
      "cell_type": "code",
      "execution_count": null,
      "source": [
        "X_train=np.concatenate((X_train_N,X_train_P))\r\n",
        "X_dev=np.concatenate((X_dev_N,X_dev_P))\r\n",
        "X_test=np.concatenate((X_test_N,X_test_P))"
      ],
      "outputs": [],
      "metadata": {
        "id": "PVWaBxVzMItg"
      }
    },
    {
      "cell_type": "code",
      "execution_count": null,
      "source": [
        "y_train_N=np.array([[1,0]]*len(X_train_N))\r\n",
        "y_dev_N=np.array([[1,0]]*len(X_dev_N))\r\n",
        "y_test_N=np.array([[1,0]]*len(X_test_N))\r\n",
        "\r\n",
        "y_train_P=np.array([[0,1]]*len(X_train_P))\r\n",
        "y_dev_P=np.array([[0,1]]*len(X_dev_P))\r\n",
        "y_test_P=np.array([[0,1]]*len(X_test_P))"
      ],
      "outputs": [],
      "metadata": {
        "id": "k0Sh5sPuMItg"
      }
    },
    {
      "cell_type": "code",
      "execution_count": null,
      "source": [
        "y_train=np.concatenate((y_train_N,y_train_P))\r\n",
        "y_dev=np.concatenate((y_dev_N,y_dev_P))\r\n",
        "y_test=np.concatenate((y_test_N,y_test_P))"
      ],
      "outputs": [],
      "metadata": {
        "id": "5zuj-ygyMItg"
      }
    },
    {
      "cell_type": "code",
      "execution_count": null,
      "source": [
        "#Min_max scaled\r\n",
        "X_train,y_train=min_max_preprocessing(X_train,y_train)\r\n",
        "X_dev,y_dev=min_max_preprocessing(X_dev,y_dev)\r\n",
        "X_test,y_test=min_max_preprocessing(X_test,y_test)"
      ],
      "outputs": [],
      "metadata": {
        "id": "52e5oh5ZMItg"
      }
    },
    {
      "cell_type": "code",
      "execution_count": null,
      "source": [
        "X_train = np.float32(X_train)\r\n",
        "X_dev = np.float32(X_dev)\r\n",
        "X_test = np.float32(X_test)"
      ],
      "outputs": [],
      "metadata": {
        "id": "VqUHLN16MItg"
      }
    },
    {
      "cell_type": "code",
      "execution_count": null,
      "source": [
        "#std normalization\r\n",
        "X_train,y_train,mean,std=samplewise_preprocessing(X_train,y_train)"
      ],
      "outputs": [],
      "metadata": {
        "id": "KShp6wj3MItg"
      }
    },
    {
      "cell_type": "code",
      "execution_count": null,
      "source": [
        "X_dev=featurewise_preprocessing(X_dev,mean,std)\r\n",
        "X_test=featurewise_preprocessing(X_test,mean,std)"
      ],
      "outputs": [],
      "metadata": {
        "id": "NKIjT-zmMIth"
      }
    },
    {
      "cell_type": "markdown",
      "source": [
        "#### Train Models (GPU) "
      ],
      "metadata": {
        "id": "EF2SXU4iMIth"
      }
    },
    {
      "cell_type": "code",
      "execution_count": null,
      "source": [
        "log_dir=\"/content/drive/MyDrive/Covid19/COVID_FINAL/logs/\""
      ],
      "outputs": [],
      "metadata": {
        "id": "vLNMU7vwMIth"
      }
    },
    {
      "cell_type": "code",
      "execution_count": null,
      "source": [
        "class_weight= get_weight(np.argmax(y_train,axis=-1))"
      ],
      "outputs": [],
      "metadata": {
        "id": "_aouftpHMIth"
      }
    },
    {
      "cell_type": "code",
      "execution_count": null,
      "source": [
        "print(\"Getting Base Model\")\r\n",
        "model = get_model_VGG16_gray()"
      ],
      "outputs": [],
      "metadata": {
        "id": "-ygaLO4xMIth"
      }
    },
    {
      "cell_type": "code",
      "execution_count": null,
      "source": [
        "model_name='VGG16_imagenet_Covid_pos_vs_neg2_inv'\r\n",
        "filepath = log_dir+\"Saved_models/\"+model_name+\".h5\"\r\n",
        "checkpoint = tf.keras.callbacks.ModelCheckpoint(filepath, monitor='val_accuracy', save_best_only=True, mode='max')\r\n",
        "csv_logger = CSVLogger(log_dir + '/csv/'+model_name+'.csv', append=False, separator=';')\r\n",
        "history=model.fit(X_train, y_train, epochs=100, batch_size=128, validation_data=(X_dev, y_dev),class_weight=class_weight,callbacks=[csv_logger,checkpoint])"
      ],
      "outputs": [],
      "metadata": {
        "scrolled": true,
        "id": "ArhzHrlCMIth"
      }
    },
    {
      "cell_type": "code",
      "execution_count": null,
      "source": [
        "print(\"Getting Base Model\")\r\n",
        "model = get_model_VGG19_gray()"
      ],
      "outputs": [],
      "metadata": {
        "id": "0GK4DU9aMIti"
      }
    },
    {
      "cell_type": "code",
      "execution_count": null,
      "source": [
        "model_name='VGG19_imagenet_Covid_pos_vs_neg2_inv'\r\n",
        "filepath = log_dir+\"Saved_models/\"+model_name+\".h5\"\r\n",
        "checkpoint = tf.keras.callbacks.ModelCheckpoint(filepath, monitor='val_accuracy', save_best_only=True, mode='max')\r\n",
        "csv_logger = CSVLogger(log_dir + '/csv/'+model_name+'.csv', append=False, separator=';')\r\n",
        "history=model.fit(X_train, y_train, epochs=100, batch_size=128, validation_data=(X_dev, y_dev),class_weight=class_weight,callbacks=[csv_logger,checkpoint])"
      ],
      "outputs": [],
      "metadata": {
        "id": "CmEuX7ffMIti"
      }
    },
    {
      "cell_type": "markdown",
      "source": [
        "#### Prediction"
      ],
      "metadata": {
        "id": "MuhxtTojMIti"
      }
    },
    {
      "cell_type": "code",
      "execution_count": null,
      "source": [
        "print(\"Model VGG 16 Exp 2 Part E\")\r\n",
        "model = get_model_VGG16_gray()\r\n",
        "model.load_weights(log_dir+'VGG16_imagenet_Covid_pos_vs_neg2_inv')"
      ],
      "outputs": [],
      "metadata": {
        "id": "XhUB62veMIti"
      }
    },
    {
      "cell_type": "code",
      "execution_count": null,
      "source": [
        "predictions=model.predict(X_test)\r\n",
        "y_pred_bool = np.argmax(predictions, axis=-1)\r\n",
        "y_hat=np.argmax(y_test,axis=-1)"
      ],
      "outputs": [],
      "metadata": {
        "id": "1IdTYs4OMIti"
      }
    },
    {
      "cell_type": "code",
      "execution_count": null,
      "source": [
        "metrics(y_hat,y_pred_bool)\r\n",
        "labels = [\"No-Covid\",\"Covid\"]\r\n",
        "get_performance_metrics(y_test,predictions,labels, acc=get_accuracy, prevalence=get_prevalence, \r\n",
        "                        sens=get_sensitivity, spec=get_specificity, ppv=get_ppv, npv=get_npv, auc=roc_auc_score,f1=f1_score)"
      ],
      "outputs": [],
      "metadata": {
        "id": "Fucwr99wMIti"
      }
    },
    {
      "cell_type": "code",
      "execution_count": null,
      "source": [
        "#ROC_CURVE \r\n",
        "get_roc_curve(y_test,predictions,labels)"
      ],
      "outputs": [],
      "metadata": {
        "id": "8T1nej-1MItj"
      }
    },
    {
      "cell_type": "code",
      "execution_count": null,
      "source": [
        "print(\"Model VGG 19 Exp 2 Part E\")\r\n",
        "model = get_model_VGG19_gray()\r\n",
        "model.load_weights(log_dir+'VGG19_imagenet_Covid_pos_vs_neg2_inv')"
      ],
      "outputs": [],
      "metadata": {
        "id": "c78UBJduMItj"
      }
    },
    {
      "cell_type": "code",
      "execution_count": null,
      "source": [
        "predictions=model.predict(X_test)\r\n",
        "y_pred_bool = np.argmax(predictions, axis=-1)\r\n",
        "y_hat=np.argmax(y_test,axis=-1)"
      ],
      "outputs": [],
      "metadata": {
        "id": "UTEiDqASMItj"
      }
    },
    {
      "cell_type": "code",
      "execution_count": null,
      "source": [
        "metrics(y_hat,y_pred_bool)\r\n",
        "labels = [\"No-Covid\",\"Covid\"]\r\n",
        "get_performance_metrics(y_test,predictions,labels, acc=get_accuracy, prevalence=get_prevalence, \r\n",
        "                        sens=get_sensitivity, spec=get_specificity, ppv=get_ppv, npv=get_npv, auc=roc_auc_score,f1=f1_score)"
      ],
      "outputs": [],
      "metadata": {
        "id": "t8yzi2fWMItj"
      }
    },
    {
      "cell_type": "code",
      "execution_count": null,
      "source": [
        "#ROC_CURVE \r\n",
        "get_roc_curve(y_test,predictions,labels)"
      ],
      "outputs": [],
      "metadata": {
        "id": "kneeqZCsMItk"
      }
    },
    {
      "cell_type": "markdown",
      "source": [
        "## Experiment 3"
      ],
      "metadata": {
        "id": "sBvHs2fmNm_1"
      }
    },
    {
      "cell_type": "markdown",
      "source": [
        "### Part C"
      ],
      "metadata": {
        "id": "FGpJ5rwMNnAK"
      }
    },
    {
      "cell_type": "code",
      "execution_count": null,
      "source": [
        "C1_dir = '/Normal'"
      ],
      "outputs": [],
      "metadata": {
        "id": "0Clj6h6HNnAK"
      }
    },
    {
      "cell_type": "code",
      "execution_count": null,
      "source": [
        "X_train_P = np.load(P_dir + C1_dir + '/X_pos_train_C.npy')\r\n",
        "X_test_P = np.load(P_dir + C1_dir + '/X_pos_test_C.npy')\r\n",
        "X_dev_P = np.load(P_dir + C1_dir + '/X_pos_dev_C.npy')"
      ],
      "outputs": [],
      "metadata": {
        "id": "FlW7Pk-bNnAL"
      }
    },
    {
      "cell_type": "code",
      "execution_count": null,
      "source": [
        "X_train_N = np.load(N3_dir + C1_dir + '/X_train_COVID_neg2.npy')\r\n",
        "X_test_N = np.load(N3_dir + C1_dir + '/X_test_COVID_neg2.npy')\r\n",
        "X_dev_N = np.load(N3_dir + C1_dir + '/X_dev_COVID_neg2.npy')"
      ],
      "outputs": [],
      "metadata": {
        "id": "lzYAQhJ5NnAN"
      }
    },
    {
      "cell_type": "code",
      "execution_count": null,
      "source": [
        "X_train=np.concatenate((X_train_N,X_train_P))\r\n",
        "X_dev=np.concatenate((X_dev_N,X_dev_P))\r\n",
        "X_test=np.concatenate((X_test_N,X_test_P))"
      ],
      "outputs": [],
      "metadata": {
        "id": "bKW3o5DrNnAN"
      }
    },
    {
      "cell_type": "code",
      "execution_count": null,
      "source": [
        "y_train_N=np.array([[1,0]]*len(X_train_N))\r\n",
        "y_dev_N=np.array([[1,0]]*len(X_dev_N))\r\n",
        "y_test_N=np.array([[1,0]]*len(X_test_N))\r\n",
        "\r\n",
        "y_train_P=np.array([[0,1]]*len(X_train_P))\r\n",
        "y_dev_P=np.array([[0,1]]*len(X_dev_P))\r\n",
        "y_test_P=np.array([[0,1]]*len(X_test_P))"
      ],
      "outputs": [],
      "metadata": {
        "id": "n_DwVe5TNnAO"
      }
    },
    {
      "cell_type": "code",
      "execution_count": null,
      "source": [
        "y_train=np.concatenate((y_train_N,y_train_P))\r\n",
        "y_dev=np.concatenate((y_dev_N,y_dev_P))\r\n",
        "y_test=np.concatenate((y_test_N,y_test_P))"
      ],
      "outputs": [],
      "metadata": {
        "id": "orBWnqncNnAO"
      }
    },
    {
      "cell_type": "code",
      "execution_count": null,
      "source": [
        "#Min_max scaled\r\n",
        "X_train,y_train=min_max_preprocessing(X_train,y_train)\r\n",
        "X_dev,y_dev=min_max_preprocessing(X_dev,y_dev)\r\n",
        "X_test,y_test=min_max_preprocessing(X_test,y_test)"
      ],
      "outputs": [],
      "metadata": {
        "id": "dNkZ8Q9iNnAP"
      }
    },
    {
      "cell_type": "code",
      "execution_count": null,
      "source": [
        "X_train = np.float32(X_train)\r\n",
        "X_dev = np.float32(X_dev)\r\n",
        "X_test = np.float32(X_test)"
      ],
      "outputs": [],
      "metadata": {
        "id": "-f7jW2H5NnAP"
      }
    },
    {
      "cell_type": "code",
      "execution_count": null,
      "source": [
        "#std normalization\r\n",
        "X_train,y_train,mean,std=samplewise_preprocessing(X_train,y_train)"
      ],
      "outputs": [],
      "metadata": {
        "id": "rQY_aJfUNnAQ"
      }
    },
    {
      "cell_type": "code",
      "execution_count": null,
      "source": [
        "X_dev=featurewise_preprocessing(X_dev,mean,std)\r\n",
        "X_test=featurewise_preprocessing(X_test,mean,std)"
      ],
      "outputs": [],
      "metadata": {
        "id": "19jH8SEjNnAQ"
      }
    },
    {
      "cell_type": "markdown",
      "source": [
        "#### Train Models (GPU) "
      ],
      "metadata": {
        "id": "6F4mEcBINnAR"
      }
    },
    {
      "cell_type": "code",
      "execution_count": null,
      "source": [
        "log_dir=\"/content/drive/MyDrive/Covid19/COVID_FINAL/logs/\""
      ],
      "outputs": [],
      "metadata": {
        "id": "tKMfjsWENnAR"
      }
    },
    {
      "cell_type": "code",
      "execution_count": null,
      "source": [
        "class_weight= get_weight(np.argmax(y_train,axis=-1))"
      ],
      "outputs": [],
      "metadata": {
        "id": "W2UNmBcCNnAR"
      }
    },
    {
      "cell_type": "code",
      "execution_count": null,
      "source": [
        "print(\"Getting Base Model\")\r\n",
        "model = get_model_VGG16_gray()"
      ],
      "outputs": [],
      "metadata": {
        "id": "mQG2FG-4NnAS"
      }
    },
    {
      "cell_type": "code",
      "execution_count": null,
      "source": [
        "model_name='VGG16_imagenet_Covid_pos_vs_neg3'\r\n",
        "filepath = log_dir+\"Saved_models/\"+model_name+\".h5\"\r\n",
        "checkpoint = tf.keras.callbacks.ModelCheckpoint(filepath, monitor='val_accuracy', save_best_only=True, mode='max')\r\n",
        "csv_logger = CSVLogger(log_dir + '/csv/'+model_name+'.csv', append=False, separator=';')\r\n",
        "history=model.fit(X_train, y_train, epochs=100, batch_size=128, validation_data=(X_dev, y_dev),class_weight=class_weight,callbacks=[csv_logger,checkpoint])"
      ],
      "outputs": [],
      "metadata": {
        "scrolled": true,
        "id": "yJGni9oRNnAS"
      }
    },
    {
      "cell_type": "code",
      "execution_count": null,
      "source": [
        "print(\"Getting Base Model\")\r\n",
        "model = get_model_VGG19_gray()"
      ],
      "outputs": [],
      "metadata": {
        "id": "joJhmfIiNnAT"
      }
    },
    {
      "cell_type": "code",
      "execution_count": null,
      "source": [
        "model_name='VGG19_imagenet_Covid_pos_vs_neg3'\r\n",
        "filepath = log_dir+\"Saved_models/\"+model_name+\".h5\"\r\n",
        "checkpoint = tf.keras.callbacks.ModelCheckpoint(filepath, monitor='val_accuracy', save_best_only=True, mode='max')\r\n",
        "csv_logger = CSVLogger(log_dir + '/csv/'+model_name+'.csv', append=False, separator=';')\r\n",
        "history=model.fit(X_train, y_train, epochs=100, batch_size=128, validation_data=(X_dev, y_dev),class_weight=class_weight,callbacks=[csv_logger,checkpoint])"
      ],
      "outputs": [],
      "metadata": {
        "id": "tXJH8ylENnAT"
      }
    },
    {
      "cell_type": "markdown",
      "source": [
        "#### Prediction"
      ],
      "metadata": {
        "id": "vGRDP_t5NnAT"
      }
    },
    {
      "cell_type": "code",
      "execution_count": null,
      "source": [
        "print(\"Model VGG 16 Exp 3 Part C\")\r\n",
        "model = get_model_VGG16_gray()\r\n",
        "model.load_weights(log_dir+'VGG16_imagenet_Covid_pos_vs_neg3')"
      ],
      "outputs": [],
      "metadata": {
        "id": "QPtRO2O8NnAT"
      }
    },
    {
      "cell_type": "code",
      "execution_count": null,
      "source": [
        "predictions=model.predict(X_test)\r\n",
        "y_pred_bool = np.argmax(predictions, axis=-1)\r\n",
        "y_hat=np.argmax(y_test,axis=-1)"
      ],
      "outputs": [],
      "metadata": {
        "id": "CVpZ4oXCNnAU"
      }
    },
    {
      "cell_type": "code",
      "execution_count": null,
      "source": [
        "metrics(y_hat,y_pred_bool)\r\n",
        "labels = [\"No-Covid\",\"Covid\"]\r\n",
        "get_performance_metrics(y_test,predictions,labels, acc=get_accuracy, prevalence=get_prevalence, \r\n",
        "                        sens=get_sensitivity, spec=get_specificity, ppv=get_ppv, npv=get_npv, auc=roc_auc_score,f1=f1_score)"
      ],
      "outputs": [],
      "metadata": {
        "id": "ksijYKu0NnAU"
      }
    },
    {
      "cell_type": "code",
      "execution_count": null,
      "source": [
        "#ROC_CURVE \r\n",
        "get_roc_curve(y_test,predictions,labels)"
      ],
      "outputs": [],
      "metadata": {
        "id": "NvRHCrF2NnAU"
      }
    },
    {
      "cell_type": "code",
      "execution_count": null,
      "source": [
        "print(\"Model VGG 19 Exp 3 Part C\")\r\n",
        "model = get_model_VGG19_gray()\r\n",
        "model.load_weights(log_dir+'VGG19_imagenet_Covid_pos_vs_neg3')"
      ],
      "outputs": [],
      "metadata": {
        "id": "4kEwYDs6NnAV"
      }
    },
    {
      "cell_type": "code",
      "execution_count": null,
      "source": [
        "predictions=model.predict(X_test)\r\n",
        "y_pred_bool = np.argmax(predictions, axis=-1)\r\n",
        "y_hat=np.argmax(y_test,axis=-1)"
      ],
      "outputs": [],
      "metadata": {
        "id": "SdSeNivhNnAV"
      }
    },
    {
      "cell_type": "code",
      "execution_count": null,
      "source": [
        "metrics(y_hat,y_pred_bool)\r\n",
        "labels = [\"No-Covid\",\"Covid\"]\r\n",
        "get_performance_metrics(y_test,predictions,labels, acc=get_accuracy, prevalence=get_prevalence, \r\n",
        "                        sens=get_sensitivity, spec=get_specificity, ppv=get_ppv, npv=get_npv, auc=roc_auc_score,f1=f1_score)"
      ],
      "outputs": [],
      "metadata": {
        "id": "Xc-JQo3tNnAV"
      }
    },
    {
      "cell_type": "code",
      "execution_count": null,
      "source": [
        "#ROC_CURVE \r\n",
        "get_roc_curve(y_test,predictions,labels)"
      ],
      "outputs": [],
      "metadata": {
        "id": "F35HESwTNnAW"
      }
    },
    {
      "cell_type": "markdown",
      "source": [
        "### Part D"
      ],
      "metadata": {
        "id": "xEfDzpCCNnAW"
      }
    },
    {
      "cell_type": "code",
      "execution_count": null,
      "source": [
        "D1_dir = '/Segmented'"
      ],
      "outputs": [],
      "metadata": {
        "id": "0nckiSbjNnAW"
      }
    },
    {
      "cell_type": "code",
      "execution_count": null,
      "source": [
        "X_train_P = np.load(P_dir + D1_dir + '/X_pos_Seg_Train.npy')\r\n",
        "X_test_P = np.load(P_dir + D1_dir + '/X_pos_Seg_Test.npy')\r\n",
        "X_dev_P = np.load(P_dir + D1_dir + '/X_pos_Seg_Dev.npy')"
      ],
      "outputs": [],
      "metadata": {
        "colab": {
          "background_save": true
        },
        "id": "jpRDlB6FNnAW"
      }
    },
    {
      "cell_type": "code",
      "execution_count": null,
      "source": [
        "X_train_N = np.load(N3_dir + D1_dir + '/X_preC_Seg_Train.npy')\r\n",
        "X_test_N = np.load(N3_dir + D1_dir + '/X_preC_Seg_Test.npy')\r\n",
        "X_dev_N = np.load(N3_dir + D1_dir + '/X_preC_Seg_Dev.npy')"
      ],
      "outputs": [],
      "metadata": {
        "id": "1P-P7pjONnAX"
      }
    },
    {
      "cell_type": "code",
      "execution_count": null,
      "source": [
        "X_train=np.concatenate((X_train_N,X_train_P))\r\n",
        "X_dev=np.concatenate((X_dev_N,X_dev_P))\r\n",
        "X_test=np.concatenate((X_test_N,X_test_P))"
      ],
      "outputs": [],
      "metadata": {
        "id": "chOL195ANnAX"
      }
    },
    {
      "cell_type": "code",
      "execution_count": null,
      "source": [
        "y_train_N=np.array([[1,0]]*len(X_train_N))\r\n",
        "y_dev_N=np.array([[1,0]]*len(X_dev_N))\r\n",
        "y_test_N=np.array([[1,0]]*len(X_test_N))\r\n",
        "\r\n",
        "y_train_P=np.array([[0,1]]*len(X_train_P))\r\n",
        "y_dev_P=np.array([[0,1]]*len(X_dev_P))\r\n",
        "y_test_P=np.array([[0,1]]*len(X_test_P))"
      ],
      "outputs": [],
      "metadata": {
        "id": "rns89w2vNnAX"
      }
    },
    {
      "cell_type": "code",
      "execution_count": null,
      "source": [
        "y_train=np.concatenate((y_train_N,y_train_P))\r\n",
        "y_dev=np.concatenate((y_dev_N,y_dev_P))\r\n",
        "y_test=np.concatenate((y_test_N,y_test_P))"
      ],
      "outputs": [],
      "metadata": {
        "id": "PXNmmU1tNnAY"
      }
    },
    {
      "cell_type": "code",
      "execution_count": null,
      "source": [
        "#Min_max scaled\r\n",
        "X_train,y_train=min_max_preprocessing(X_train,y_train)\r\n",
        "X_dev,y_dev=min_max_preprocessing(X_dev,y_dev)\r\n",
        "X_test,y_test=min_max_preprocessing(X_test,y_test)"
      ],
      "outputs": [],
      "metadata": {
        "id": "whAGHffvNnAY"
      }
    },
    {
      "cell_type": "code",
      "execution_count": null,
      "source": [
        "X_train = np.float32(X_train)\r\n",
        "X_dev = np.float32(X_dev)\r\n",
        "X_test = np.float32(X_test)"
      ],
      "outputs": [],
      "metadata": {
        "id": "glPOhvk8NnAY"
      }
    },
    {
      "cell_type": "code",
      "execution_count": null,
      "source": [
        "#std normalization\r\n",
        "X_train,y_train,mean,std=samplewise_preprocessing(X_train,y_train)"
      ],
      "outputs": [],
      "metadata": {
        "id": "kZd7CpO3NnAY"
      }
    },
    {
      "cell_type": "code",
      "execution_count": null,
      "source": [
        "X_dev=featurewise_preprocessing(X_dev,mean,std)\r\n",
        "X_test=featurewise_preprocessing(X_test,mean,std)"
      ],
      "outputs": [],
      "metadata": {
        "id": "-6QIC3uENnAZ"
      }
    },
    {
      "cell_type": "markdown",
      "source": [
        "#### Train Models (GPU) "
      ],
      "metadata": {
        "id": "LJE08q5HNnAZ"
      }
    },
    {
      "cell_type": "code",
      "execution_count": null,
      "source": [
        "log_dir=\"/content/drive/MyDrive/Covid19/COVID_FINAL/logs/\""
      ],
      "outputs": [],
      "metadata": {
        "id": "CeWeCmkjNnAZ"
      }
    },
    {
      "cell_type": "code",
      "execution_count": null,
      "source": [
        "class_weight= get_weight(np.argmax(y_train,axis=-1))"
      ],
      "outputs": [],
      "metadata": {
        "id": "fIWnFSHMNnAa"
      }
    },
    {
      "cell_type": "code",
      "execution_count": null,
      "source": [
        "print(\"Getting Base Model\")\r\n",
        "model = get_model_VGG16_gray()"
      ],
      "outputs": [],
      "metadata": {
        "id": "Xc947MBaNnAa"
      }
    },
    {
      "cell_type": "code",
      "execution_count": null,
      "source": [
        "model_name='VGG16_imagenet_Covid_pos_vs_neg3_seg'\r\n",
        "filepath = log_dir+\"Saved_models/\"+model_name+\".h5\"\r\n",
        "checkpoint = tf.keras.callbacks.ModelCheckpoint(filepath, monitor='val_accuracy', save_best_only=True, mode='max')\r\n",
        "csv_logger = CSVLogger(log_dir + '/csv/'+model_name+'.csv', append=False, separator=';')\r\n",
        "history=model.fit(X_train, y_train, epochs=100, batch_size=128, validation_data=(X_dev, y_dev),class_weight=class_weight,callbacks=[csv_logger,checkpoint])"
      ],
      "outputs": [],
      "metadata": {
        "scrolled": true,
        "id": "zJe4RuZ6NnAa"
      }
    },
    {
      "cell_type": "code",
      "execution_count": null,
      "source": [
        "print(\"Getting Base Model\")\r\n",
        "model = get_model_VGG19_gray()"
      ],
      "outputs": [],
      "metadata": {
        "id": "ZSxbjXWlNnAa"
      }
    },
    {
      "cell_type": "code",
      "execution_count": null,
      "source": [
        "model_name='VGG19_imagenet_Covid_pos_vs_neg3_seg'\r\n",
        "filepath = log_dir+\"Saved_models/\"+model_name+\".h5\"\r\n",
        "checkpoint = tf.keras.callbacks.ModelCheckpoint(filepath, monitor='val_accuracy', save_best_only=True, mode='max')\r\n",
        "csv_logger = CSVLogger(log_dir + '/csv/'+model_name+'.csv', append=False, separator=';')\r\n",
        "history=model.fit(X_train, y_train, epochs=100, batch_size=128, validation_data=(X_dev, y_dev),class_weight=class_weight,callbacks=[csv_logger,checkpoint])"
      ],
      "outputs": [],
      "metadata": {
        "id": "yvEWRZAHNnAb"
      }
    },
    {
      "cell_type": "markdown",
      "source": [
        "#### Prediction"
      ],
      "metadata": {
        "id": "ytGyt2prNnAb"
      }
    },
    {
      "cell_type": "code",
      "execution_count": null,
      "source": [
        "print(\"Model VGG 16 Exp 3 Part D\")\r\n",
        "model = get_model_VGG16_gray()\r\n",
        "model.load_weights(log_dir+'VGG16_imagenet_Covid_pos_vs_neg3_seg')"
      ],
      "outputs": [],
      "metadata": {
        "id": "95NOC9J-NnAb"
      }
    },
    {
      "cell_type": "code",
      "execution_count": null,
      "source": [
        "predictions=model.predict(X_test)\r\n",
        "y_pred_bool = np.argmax(predictions, axis=-1)\r\n",
        "y_hat=np.argmax(y_test,axis=-1)"
      ],
      "outputs": [],
      "metadata": {
        "id": "4zI_bbn6NnAc"
      }
    },
    {
      "cell_type": "code",
      "execution_count": null,
      "source": [
        "metrics(y_hat,y_pred_bool)\r\n",
        "labels = [\"No-Covid\",\"Covid\"]\r\n",
        "get_performance_metrics(y_test,predictions,labels, acc=get_accuracy, prevalence=get_prevalence, \r\n",
        "                        sens=get_sensitivity, spec=get_specificity, ppv=get_ppv, npv=get_npv, auc=roc_auc_score,f1=f1_score)"
      ],
      "outputs": [],
      "metadata": {
        "id": "TVwiDMTuNnAc"
      }
    },
    {
      "cell_type": "code",
      "execution_count": null,
      "source": [
        "#ROC_CURVE \r\n",
        "get_roc_curve(y_test,predictions,labels)"
      ],
      "outputs": [],
      "metadata": {
        "id": "m1jvxlbcNnAc"
      }
    },
    {
      "cell_type": "code",
      "execution_count": null,
      "source": [
        "print(\"Model VGG 19 Exp 3 Part D\")\r\n",
        "model = get_model_VGG16_gray()\r\n",
        "model.load_weights(log_dir+'VGG16_imagenet_Covid_pos_vs_neg3_seg')"
      ],
      "outputs": [],
      "metadata": {
        "id": "oIBDLBmhNnAd"
      }
    },
    {
      "cell_type": "code",
      "execution_count": null,
      "source": [
        "predictions=model.predict(X_test)\r\n",
        "y_pred_bool = np.argmax(predictions, axis=-1)\r\n",
        "y_hat=np.argmax(y_test,axis=-1)"
      ],
      "outputs": [],
      "metadata": {
        "id": "hEOFyRL0NnAd"
      }
    },
    {
      "cell_type": "code",
      "execution_count": null,
      "source": [
        "metrics(y_hat,y_pred_bool)\r\n",
        "labels = [\"No-Covid\",\"Covid\"]\r\n",
        "get_performance_metrics(y_test,predictions,labels, acc=get_accuracy, prevalence=get_prevalence, \r\n",
        "                        sens=get_sensitivity, spec=get_specificity, ppv=get_ppv, npv=get_npv, auc=roc_auc_score,f1=f1_score)"
      ],
      "outputs": [],
      "metadata": {
        "id": "hcCZserwNnAd"
      }
    },
    {
      "cell_type": "code",
      "execution_count": null,
      "source": [
        "#ROC_CURVE \r\n",
        "get_roc_curve(y_test,predictions,labels)"
      ],
      "outputs": [],
      "metadata": {
        "id": "RylQCt5GNnAd"
      }
    },
    {
      "cell_type": "markdown",
      "source": [
        "### Part E"
      ],
      "metadata": {
        "id": "DtJM7uZ8NnAd"
      }
    },
    {
      "cell_type": "code",
      "execution_count": null,
      "source": [
        "E1_dir = '/Inverted'"
      ],
      "outputs": [],
      "metadata": {
        "id": "dLgUv1XsNnAd"
      }
    },
    {
      "cell_type": "code",
      "execution_count": null,
      "source": [
        "X_train_P = np.load(P_dir + E1_dir + '/X_pos_Seg_i2_Train.npy')\r\n",
        "X_test_P = np.load(P_dir + E1_dir + '/X_pos_Seg_i2_Test.npy')\r\n",
        "X_dev_P = np.load(P_dir + E1_dir + '/X_pos_Seg_i2_Dev.npy')"
      ],
      "outputs": [],
      "metadata": {
        "colab": {
          "background_save": true
        },
        "id": "Ao5xZYiLNnAd"
      }
    },
    {
      "cell_type": "code",
      "execution_count": null,
      "source": [
        "X_train_N = np.load(N3_dir + E1_dir + '/X_preC_Seg_Train_i.npy')\r\n",
        "X_test_N = np.load(N3_dir + E1_dir + '/X_preC_Seg_Test_i.npy')\r\n",
        "X_dev_N = np.load(N3_dir + E1_dir + '/X_preC_Seg_Dev_i.npy')"
      ],
      "outputs": [],
      "metadata": {
        "id": "AnrtyFAmNnAe"
      }
    },
    {
      "cell_type": "code",
      "execution_count": null,
      "source": [
        "X_train=np.concatenate((X_train_N,X_train_P))\r\n",
        "X_dev=np.concatenate((X_dev_N,X_dev_P))\r\n",
        "X_test=np.concatenate((X_test_N,X_test_P))"
      ],
      "outputs": [],
      "metadata": {
        "id": "scu0QCTGNnAe"
      }
    },
    {
      "cell_type": "code",
      "execution_count": null,
      "source": [
        "y_train_N=np.array([[1,0]]*len(X_train_N))\r\n",
        "y_dev_N=np.array([[1,0]]*len(X_dev_N))\r\n",
        "y_test_N=np.array([[1,0]]*len(X_test_N))\r\n",
        "\r\n",
        "y_train_P=np.array([[0,1]]*len(X_train_P))\r\n",
        "y_dev_P=np.array([[0,1]]*len(X_dev_P))\r\n",
        "y_test_P=np.array([[0,1]]*len(X_test_P))"
      ],
      "outputs": [],
      "metadata": {
        "id": "d_C-EzJUNnAe"
      }
    },
    {
      "cell_type": "code",
      "execution_count": null,
      "source": [
        "y_train=np.concatenate((y_train_N,y_train_P))\r\n",
        "y_dev=np.concatenate((y_dev_N,y_dev_P))\r\n",
        "y_test=np.concatenate((y_test_N,y_test_P))"
      ],
      "outputs": [],
      "metadata": {
        "id": "5yc2tyLMNnAe"
      }
    },
    {
      "cell_type": "code",
      "execution_count": null,
      "source": [
        "#Min_max scaled\r\n",
        "X_train,y_train=min_max_preprocessing(X_train,y_train)\r\n",
        "X_dev,y_dev=min_max_preprocessing(X_dev,y_dev)\r\n",
        "X_test,y_test=min_max_preprocessing(X_test,y_test)"
      ],
      "outputs": [],
      "metadata": {
        "id": "JOrY3OucNnAe"
      }
    },
    {
      "cell_type": "code",
      "execution_count": null,
      "source": [
        "X_train = np.float32(X_train)\r\n",
        "X_dev = np.float32(X_dev)\r\n",
        "X_test = np.float32(X_test)"
      ],
      "outputs": [],
      "metadata": {
        "id": "UUNrFEUONnAe"
      }
    },
    {
      "cell_type": "code",
      "execution_count": null,
      "source": [
        "#std normalization\r\n",
        "X_train,y_train,mean,std=samplewise_preprocessing(X_train,y_train)"
      ],
      "outputs": [],
      "metadata": {
        "id": "yaxSTzVNNnAe"
      }
    },
    {
      "cell_type": "code",
      "execution_count": null,
      "source": [
        "X_dev=featurewise_preprocessing(X_dev,mean,std)\r\n",
        "X_test=featurewise_preprocessing(X_test,mean,std)"
      ],
      "outputs": [],
      "metadata": {
        "id": "pIgLv0FJNnAf"
      }
    },
    {
      "cell_type": "markdown",
      "source": [
        "#### Train Models (GPU) "
      ],
      "metadata": {
        "id": "jK4KdqVTNnAf"
      }
    },
    {
      "cell_type": "code",
      "execution_count": null,
      "source": [
        "log_dir=\"/content/drive/MyDrive/Covid19/COVID_FINAL/logs/\""
      ],
      "outputs": [],
      "metadata": {
        "id": "k1aRu3fWNnAf"
      }
    },
    {
      "cell_type": "code",
      "execution_count": null,
      "source": [
        "class_weight= get_weight(np.argmax(y_train,axis=-1))"
      ],
      "outputs": [],
      "metadata": {
        "id": "rLpi2wJrNnAf"
      }
    },
    {
      "cell_type": "code",
      "execution_count": null,
      "source": [
        "print(\"Getting Base Model\")\r\n",
        "model = get_model_VGG16_gray()"
      ],
      "outputs": [],
      "metadata": {
        "id": "k7J4DDE7NnAf"
      }
    },
    {
      "cell_type": "code",
      "execution_count": null,
      "source": [
        "model_name='VGG16_imagenet_Covid_pos_vs_neg3_inv'\r\n",
        "filepath = log_dir+\"Saved_models/\"+model_name+\".h5\"\r\n",
        "checkpoint = tf.keras.callbacks.ModelCheckpoint(filepath, monitor='val_accuracy', save_best_only=True, mode='max')\r\n",
        "csv_logger = CSVLogger(log_dir + '/csv/'+model_name+'.csv', append=False, separator=';')\r\n",
        "history=model.fit(X_train, y_train, epochs=100, batch_size=128, validation_data=(X_dev, y_dev),class_weight=class_weight,callbacks=[csv_logger,checkpoint])"
      ],
      "outputs": [],
      "metadata": {
        "scrolled": true,
        "id": "Yi_8KjvINnAf"
      }
    },
    {
      "cell_type": "code",
      "execution_count": null,
      "source": [
        "print(\"Getting Base Model\")\r\n",
        "model = get_model_VGG19_gray()"
      ],
      "outputs": [],
      "metadata": {
        "id": "tuhI3PzKNnAf"
      }
    },
    {
      "cell_type": "code",
      "execution_count": null,
      "source": [
        "model_name='VGG19_imagenet_Covid_pos_vs_neg3_inv'\r\n",
        "filepath = log_dir+\"Saved_models/\"+model_name+\".h5\"\r\n",
        "checkpoint = tf.keras.callbacks.ModelCheckpoint(filepath, monitor='val_accuracy', save_best_only=True, mode='max')\r\n",
        "csv_logger = CSVLogger(log_dir + '/csv/'+model_name+'.csv', append=False, separator=';')\r\n",
        "history=model.fit(X_train, y_train, epochs=100, batch_size=128, validation_data=(X_dev, y_dev),class_weight=class_weight,callbacks=[csv_logger,checkpoint])"
      ],
      "outputs": [],
      "metadata": {
        "id": "1o_qaXTbNnAf"
      }
    },
    {
      "cell_type": "markdown",
      "source": [
        "#### Prediction"
      ],
      "metadata": {
        "id": "fj93-foNNnAg"
      }
    },
    {
      "cell_type": "code",
      "execution_count": null,
      "source": [
        "print(\"Model VGG 16 Exp 3 Part E\")\r\n",
        "model = get_model_VGG16_gray()\r\n",
        "model.load_weights(log_dir+'VGG16_imagenet_Covid_pos_vs_neg3_inv')"
      ],
      "outputs": [],
      "metadata": {
        "id": "ox4oDV7ENnAg"
      }
    },
    {
      "cell_type": "code",
      "execution_count": null,
      "source": [
        "predictions=model.predict(X_test)\r\n",
        "y_pred_bool = np.argmax(predictions, axis=-1)\r\n",
        "y_hat=np.argmax(y_test,axis=-1)"
      ],
      "outputs": [],
      "metadata": {
        "id": "rlAieE_WNnAg"
      }
    },
    {
      "cell_type": "code",
      "execution_count": null,
      "source": [
        "metrics(y_hat,y_pred_bool)\r\n",
        "labels = [\"No-Covid\",\"Covid\"]\r\n",
        "get_performance_metrics(y_test,predictions,labels, acc=get_accuracy, prevalence=get_prevalence, \r\n",
        "                        sens=get_sensitivity, spec=get_specificity, ppv=get_ppv, npv=get_npv, auc=roc_auc_score,f1=f1_score)"
      ],
      "outputs": [],
      "metadata": {
        "id": "af-i6kDpNnAg"
      }
    },
    {
      "cell_type": "code",
      "execution_count": null,
      "source": [
        "#ROC_CURVE \r\n",
        "get_roc_curve(y_test,predictions,labels)"
      ],
      "outputs": [],
      "metadata": {
        "id": "Sl64qk2GNnAg"
      }
    },
    {
      "cell_type": "code",
      "execution_count": null,
      "source": [
        "print(\"Model VGG 19 Exp 3 Part E\")\r\n",
        "model = get_model_VGG19_gray()\r\n",
        "model.load_weights(log_dir+'VGG19_imagenet_Covid_pos_vs_neg3_inv')"
      ],
      "outputs": [],
      "metadata": {
        "id": "GfRpzwVuNnAg"
      }
    },
    {
      "cell_type": "code",
      "execution_count": null,
      "source": [
        "predictions=model.predict(X_test)\r\n",
        "y_pred_bool = np.argmax(predictions, axis=-1)\r\n",
        "y_hat=np.argmax(y_test,axis=-1)"
      ],
      "outputs": [],
      "metadata": {
        "id": "fuicJIT7NnAh"
      }
    },
    {
      "cell_type": "code",
      "execution_count": null,
      "source": [
        "metrics(y_hat,y_pred_bool)\r\n",
        "labels = [\"No-Covid\",\"Covid\"]\r\n",
        "get_performance_metrics(y_test,predictions,labels, acc=get_accuracy, prevalence=get_prevalence, \r\n",
        "                        sens=get_sensitivity, spec=get_specificity, ppv=get_ppv, npv=get_npv, auc=roc_auc_score,f1=f1_score)"
      ],
      "outputs": [],
      "metadata": {
        "id": "SdyXdyVUNnAh"
      }
    },
    {
      "cell_type": "code",
      "execution_count": null,
      "source": [
        "#ROC_CURVE \r\n",
        "get_roc_curve(y_test,predictions,labels)"
      ],
      "outputs": [],
      "metadata": {
        "id": "plKf_9fuNnAh"
      }
    },
    {
      "cell_type": "markdown",
      "source": [
        "# Comparison Datasets"
      ],
      "metadata": {
        "id": "8csvekHfPUx5"
      }
    },
    {
      "cell_type": "markdown",
      "source": [
        "Cohen(Positive)"
      ],
      "metadata": {
        "id": "qmgKjWPjP9lm"
      }
    },
    {
      "cell_type": "code",
      "execution_count": null,
      "source": [
        "P_dir = Img_dir + '/POSITIVE COHEN'"
      ],
      "outputs": [],
      "metadata": {
        "id": "xXl6WlJoP83_"
      }
    },
    {
      "cell_type": "markdown",
      "source": [
        "Negative(Normal/Pneumonia)"
      ],
      "metadata": {
        "id": "ahxXadTRQHDw"
      }
    },
    {
      "cell_type": "code",
      "execution_count": null,
      "source": [
        "N_dir = Img_dir + '/NEGATIVE ONLY PNEUMO-NORMAL FOR PAPER'"
      ],
      "outputs": [],
      "metadata": {
        "id": "U6KMfC_KQLdJ"
      }
    },
    {
      "cell_type": "markdown",
      "source": [
        "### Part C"
      ],
      "metadata": {
        "id": "muTtYWNaQm_L"
      }
    },
    {
      "cell_type": "code",
      "execution_count": null,
      "source": [
        "X_P = np.load(P_dir + '/X_Covid_Cohen_C.npy')\r\n",
        "X_train_P,X_test_P,X_dev_P = np.array_split(X_P,[int(0.7*len(X_P)),int(0.85*len(X_P))])"
      ],
      "outputs": [],
      "metadata": {
        "colab": {
          "background_save": true
        },
        "id": "hgJAHYQ_Qm_M"
      }
    },
    {
      "cell_type": "code",
      "execution_count": null,
      "source": [
        "X_N1 = np.load(N_dir+'/X_Covid_Normal.npy')\r\n",
        "X_train_N1,X_test_N1,X_dev_N1 = np.array_split(X_N1,[int(0.7*len(X_N1)),int(0.85*len(X_N1))])\r\n",
        "X_N2 = np.load(N_dir'/X_Covid_Pneumo.npy')\r\n",
        "X_train_N2,X_test_N2,X_dev_N2 = np.array_split(X_N2,[int(0.7*len(X_N2)),int(0.85*len(X_N2))])"
      ],
      "outputs": [],
      "metadata": {
        "id": "sKkzglbGQm_M"
      }
    },
    {
      "cell_type": "code",
      "execution_count": null,
      "source": [
        "X_train_N=np.concatenate((X_train_N1,X_train_N2))\r\n",
        "X_dev_N=np.concatenate((X_dev_N1,X_dev_N2))\r\n",
        "X_test_N=np.concatenate((X_test_N1,X_test_N2))"
      ],
      "outputs": [],
      "metadata": {
        "id": "0uoDNd6XRPYt"
      }
    },
    {
      "cell_type": "code",
      "execution_count": null,
      "source": [
        "X_train=np.concatenate((X_train_N,X_train_P))\r\n",
        "X_dev=np.concatenate((X_dev_N,X_dev_P))\r\n",
        "X_test=np.concatenate((X_test_N,X_test_P))"
      ],
      "outputs": [],
      "metadata": {
        "id": "mkvDd3bDQm_M"
      }
    },
    {
      "cell_type": "code",
      "execution_count": null,
      "source": [
        "y_train_N=np.array([[1,0]]*len(X_train_N))\r\n",
        "y_dev_N=np.array([[1,0]]*len(X_dev_N))\r\n",
        "y_test_N=np.array([[1,0]]*len(X_test_N))\r\n",
        "\r\n",
        "y_train_P=np.array([[0,1]]*len(X_train_P))\r\n",
        "y_dev_P=np.array([[0,1]]*len(X_dev_P))\r\n",
        "y_test_P=np.array([[0,1]]*len(X_test_P))"
      ],
      "outputs": [],
      "metadata": {
        "id": "B9mKg9WrQm_N"
      }
    },
    {
      "cell_type": "code",
      "execution_count": null,
      "source": [
        "y_train=np.concatenate((y_train_N,y_train_P))\r\n",
        "y_dev=np.concatenate((y_dev_N,y_dev_P))\r\n",
        "y_test=np.concatenate((y_test_N,y_test_P))"
      ],
      "outputs": [],
      "metadata": {
        "id": "C52jE3LTQm_N"
      }
    },
    {
      "cell_type": "code",
      "execution_count": null,
      "source": [
        "#Min_max scaled\r\n",
        "X_train,y_train=min_max_preprocessing(X_train,y_train)\r\n",
        "X_dev,y_dev=min_max_preprocessing(X_dev,y_dev)\r\n",
        "X_test,y_test=min_max_preprocessing(X_test,y_test)"
      ],
      "outputs": [],
      "metadata": {
        "id": "guP1Q5GaQm_N"
      }
    },
    {
      "cell_type": "code",
      "execution_count": null,
      "source": [
        "X_train = np.float32(X_train)\r\n",
        "X_dev = np.float32(X_dev)\r\n",
        "X_test = np.float32(X_test)"
      ],
      "outputs": [],
      "metadata": {
        "id": "ls6ZjSVDQm_O"
      }
    },
    {
      "cell_type": "code",
      "execution_count": null,
      "source": [
        "#std normalization\r\n",
        "X_train,y_train,mean,std=samplewise_preprocessing(X_train,y_train)"
      ],
      "outputs": [],
      "metadata": {
        "id": "4Ex7D5WIQm_O"
      }
    },
    {
      "cell_type": "code",
      "execution_count": null,
      "source": [
        "X_dev=featurewise_preprocessing(X_dev,mean,std)\r\n",
        "X_test=featurewise_preprocessing(X_test,mean,std)"
      ],
      "outputs": [],
      "metadata": {
        "id": "tyC9m3FHQm_O"
      }
    },
    {
      "cell_type": "markdown",
      "source": [
        "#### Train Models (GPU) "
      ],
      "metadata": {
        "id": "gfWOsfgyQm_O"
      }
    },
    {
      "cell_type": "code",
      "execution_count": null,
      "source": [
        "log_dir=\"/content/drive/MyDrive/Covid19/COVID_FINAL/logs/\""
      ],
      "outputs": [],
      "metadata": {
        "id": "JUnskY-fQm_O"
      }
    },
    {
      "cell_type": "code",
      "execution_count": null,
      "source": [
        "class_weight= get_weight(np.argmax(y_train,axis=-1))"
      ],
      "outputs": [],
      "metadata": {
        "id": "BOSsp0ABQm_P"
      }
    },
    {
      "cell_type": "code",
      "execution_count": null,
      "source": [
        "print(\"Getting Base Model\")\r\n",
        "model = get_model_VGG16_gray()"
      ],
      "outputs": [],
      "metadata": {
        "id": "ebTaM4VuQm_P"
      }
    },
    {
      "cell_type": "code",
      "execution_count": null,
      "source": [
        "model_name='VGG16_imagenet_Covid_pos_vs_neg_Comp'\r\n",
        "filepath = log_dir+\"Saved_models/\"+model_name+\".h5\"\r\n",
        "checkpoint = tf.keras.callbacks.ModelCheckpoint(filepath, monitor='val_accuracy', save_best_only=True, mode='max')\r\n",
        "csv_logger = CSVLogger(log_dir + '/csv/'+model_name+'.csv', append=False, separator=';')\r\n",
        "history=model.fit(X_train, y_train, epochs=100, batch_size=128, validation_data=(X_dev, y_dev),class_weight=class_weight,callbacks=[csv_logger,checkpoint])"
      ],
      "outputs": [],
      "metadata": {
        "scrolled": true,
        "id": "0-5tk8BdQm_P"
      }
    },
    {
      "cell_type": "code",
      "execution_count": null,
      "source": [
        "print(\"Getting Base Model\")\r\n",
        "model = get_model_VGG19_gray()"
      ],
      "outputs": [],
      "metadata": {
        "id": "S0mXUwkIQm_P"
      }
    },
    {
      "cell_type": "code",
      "execution_count": null,
      "source": [
        "model_name='VGG19_imagenet_Covid_pos_vs_neg_Comp'\r\n",
        "filepath = log_dir+\"Saved_models/\"+model_name+\".h5\"\r\n",
        "checkpoint = tf.keras.callbacks.ModelCheckpoint(filepath, monitor='val_accuracy', save_best_only=True, mode='max')\r\n",
        "csv_logger = CSVLogger(log_dir + '/csv/'+model_name+'.csv', append=False, separator=';')\r\n",
        "history=model.fit(X_train, y_train, epochs=100, batch_size=128, validation_data=(X_dev, y_dev),class_weight=class_weight,callbacks=[csv_logger,checkpoint])"
      ],
      "outputs": [],
      "metadata": {
        "id": "oJn6iyOqQm_Q"
      }
    },
    {
      "cell_type": "markdown",
      "source": [
        "#### Prediction"
      ],
      "metadata": {
        "id": "nbtMFdY-Qm_Q"
      }
    },
    {
      "cell_type": "code",
      "execution_count": null,
      "source": [
        "print(\"Model VGG 16 Comp Part C\")\r\n",
        "model = get_model_VGG16_gray()\r\n",
        "model.load_weights(log_dir+'VGG16_imagenet_Covid_pos_vs_neg_Comp')"
      ],
      "outputs": [],
      "metadata": {
        "id": "_OzZTGwhQm_Q"
      }
    },
    {
      "cell_type": "code",
      "execution_count": null,
      "source": [
        "predictions=model.predict(X_test)\r\n",
        "y_pred_bool = np.argmax(predictions, axis=-1)\r\n",
        "y_hat=np.argmax(y_test,axis=-1)"
      ],
      "outputs": [],
      "metadata": {
        "id": "8kDic6HVQm_Q"
      }
    },
    {
      "cell_type": "code",
      "execution_count": null,
      "source": [
        "metrics(y_hat,y_pred_bool)\r\n",
        "labels = [\"No-Covid\",\"Covid\"]\r\n",
        "get_performance_metrics(y_test,predictions,labels, acc=get_accuracy, prevalence=get_prevalence, \r\n",
        "                        sens=get_sensitivity, spec=get_specificity, ppv=get_ppv, npv=get_npv, auc=roc_auc_score,f1=f1_score)"
      ],
      "outputs": [],
      "metadata": {
        "id": "6LxAm-M1Qm_Q"
      }
    },
    {
      "cell_type": "code",
      "execution_count": null,
      "source": [
        "#ROC_CURVE \r\n",
        "get_roc_curve(y_test,predictions,labels)"
      ],
      "outputs": [],
      "metadata": {
        "id": "5LR86CE-Qm_R"
      }
    },
    {
      "cell_type": "code",
      "execution_count": null,
      "source": [
        "print(\"Model VGG 19 Comp Part C\")\r\n",
        "model = get_model_VGG19_gray()\r\n",
        "model.load_weights(log_dir+'VGG19_imagenet_Covid_pos_vs_neg_Comp')"
      ],
      "outputs": [],
      "metadata": {
        "id": "kAjVpsVDQm_R"
      }
    },
    {
      "cell_type": "code",
      "execution_count": null,
      "source": [
        "predictions=model.predict(X_test)\r\n",
        "y_pred_bool = np.argmax(predictions, axis=-1)\r\n",
        "y_hat=np.argmax(y_test,axis=-1)"
      ],
      "outputs": [],
      "metadata": {
        "id": "ae1UCC5zQm_R"
      }
    },
    {
      "cell_type": "code",
      "execution_count": null,
      "source": [
        "metrics(y_hat,y_pred_bool)\r\n",
        "labels = [\"No-Covid\",\"Covid\"]\r\n",
        "get_performance_metrics(y_test,predictions,labels, acc=get_accuracy, prevalence=get_prevalence, \r\n",
        "                        sens=get_sensitivity, spec=get_specificity, ppv=get_ppv, npv=get_npv, auc=roc_auc_score,f1=f1_score)"
      ],
      "outputs": [],
      "metadata": {
        "id": "QPvqG0_fQm_R"
      }
    },
    {
      "cell_type": "code",
      "execution_count": null,
      "source": [
        "#ROC_CURVE \r\n",
        "get_roc_curve(y_test,predictions,labels)"
      ],
      "outputs": [],
      "metadata": {
        "id": "1psU47mPQm_S"
      }
    },
    {
      "cell_type": "markdown",
      "source": [
        "### Part D"
      ],
      "metadata": {
        "id": "9dFKO3G5Qm_S"
      }
    },
    {
      "cell_type": "code",
      "execution_count": null,
      "source": [
        "X_P = np.load(P_dir + '/X_Covid_Cohen_C_Seg.npy')\r\n",
        "X_train_P,X_test_P,X_dev_P = np.array_split(X_P,[int(0.7*len(X_P)),int(0.85*len(X_P))])"
      ],
      "outputs": [],
      "metadata": {
        "id": "x1eU2HgjQm_S"
      }
    },
    {
      "cell_type": "code",
      "execution_count": null,
      "source": [
        "X_N1 = np.load(N_dir+'/X_Covid_Normal.npy')\r\n",
        "X_train_N1,X_test_N1,X_dev_N1 = np.array_split(X_N1,[int(0.7*len(X_N1)),int(0.85*len(X_N1))])\r\n",
        "X_N2 = np.load(N_dir'/X_Covid_Pneumo.npy')\r\n",
        "X_train_N2,X_test_N2,X_dev_N2 = np.array_split(X_N2,[int(0.7*len(X_N2)),int(0.85*len(X_N2))])"
      ],
      "outputs": [],
      "metadata": {
        "id": "ei994dvkQm_T"
      }
    },
    {
      "cell_type": "code",
      "execution_count": null,
      "source": [
        "X_train_N=np.concatenate((X_train_N1,X_train_N2))\r\n",
        "X_dev_N=np.concatenate((X_dev_N1,X_dev_N2))\r\n",
        "X_test_N=np.concatenate((X_test_N1,X_test_N2))"
      ],
      "outputs": [],
      "metadata": {
        "id": "9ggFSK9URvUK"
      }
    },
    {
      "cell_type": "code",
      "execution_count": null,
      "source": [
        "X_train=np.concatenate((X_train_N,X_train_P))\r\n",
        "X_dev=np.concatenate((X_dev_N,X_dev_P))\r\n",
        "X_test=np.concatenate((X_test_N,X_test_P))"
      ],
      "outputs": [],
      "metadata": {
        "id": "aJ0IS4XJQm_T"
      }
    },
    {
      "cell_type": "code",
      "execution_count": null,
      "source": [
        "y_train_N=np.array([[1,0]]*len(X_train_N))\r\n",
        "y_dev_N=np.array([[1,0]]*len(X_dev_N))\r\n",
        "y_test_N=np.array([[1,0]]*len(X_test_N))\r\n",
        "\r\n",
        "y_train_P=np.array([[0,1]]*len(X_train_P))\r\n",
        "y_dev_P=np.array([[0,1]]*len(X_dev_P))\r\n",
        "y_test_P=np.array([[0,1]]*len(X_test_P))"
      ],
      "outputs": [],
      "metadata": {
        "id": "71BPPmB3Qm_U"
      }
    },
    {
      "cell_type": "code",
      "execution_count": null,
      "source": [
        "y_train=np.concatenate((y_train_N,y_train_P))\r\n",
        "y_dev=np.concatenate((y_dev_N,y_dev_P))\r\n",
        "y_test=np.concatenate((y_test_N,y_test_P))"
      ],
      "outputs": [],
      "metadata": {
        "id": "7WJjJWxcQm_U"
      }
    },
    {
      "cell_type": "code",
      "execution_count": null,
      "source": [
        "#Min_max scaled\r\n",
        "X_train,y_train=min_max_preprocessing(X_train,y_train)\r\n",
        "X_dev,y_dev=min_max_preprocessing(X_dev,y_dev)\r\n",
        "X_test,y_test=min_max_preprocessing(X_test,y_test)"
      ],
      "outputs": [],
      "metadata": {
        "id": "jPOvHswsQm_U"
      }
    },
    {
      "cell_type": "code",
      "execution_count": null,
      "source": [
        "X_train = np.float32(X_train)\r\n",
        "X_dev = np.float32(X_dev)\r\n",
        "X_test = np.float32(X_test)"
      ],
      "outputs": [],
      "metadata": {
        "id": "94MBqaNwQm_U"
      }
    },
    {
      "cell_type": "code",
      "execution_count": null,
      "source": [
        "#std normalization\r\n",
        "X_train,y_train,mean,std=samplewise_preprocessing(X_train,y_train)"
      ],
      "outputs": [],
      "metadata": {
        "id": "0aWHFIN-Qm_V"
      }
    },
    {
      "cell_type": "code",
      "execution_count": null,
      "source": [
        "X_dev=featurewise_preprocessing(X_dev,mean,std)\r\n",
        "X_test=featurewise_preprocessing(X_test,mean,std)"
      ],
      "outputs": [],
      "metadata": {
        "id": "De_ZC1f4Qm_V"
      }
    },
    {
      "cell_type": "markdown",
      "source": [
        "#### Train Models (GPU) "
      ],
      "metadata": {
        "id": "rs7BMC-fQm_V"
      }
    },
    {
      "cell_type": "code",
      "execution_count": null,
      "source": [
        "log_dir=\"/content/drive/MyDrive/Covid19/COVID_FINAL/logs/\""
      ],
      "outputs": [],
      "metadata": {
        "id": "fiAYEzEmQm_V"
      }
    },
    {
      "cell_type": "code",
      "execution_count": null,
      "source": [
        "class_weight= get_weight(np.argmax(y_train,axis=-1))"
      ],
      "outputs": [],
      "metadata": {
        "id": "qVejQ7jOQm_V"
      }
    },
    {
      "cell_type": "code",
      "execution_count": null,
      "source": [
        "print(\"Getting Base Model\")\r\n",
        "model = get_model_VGG16_gray()"
      ],
      "outputs": [],
      "metadata": {
        "id": "isVpvLOZQm_W"
      }
    },
    {
      "cell_type": "code",
      "execution_count": null,
      "source": [
        "model_name='VGG16_imagenet_Covid_pos_vs_neg_seg_Comp'\r\n",
        "filepath = log_dir+\"Saved_models/\"+model_name+\".h5\"\r\n",
        "checkpoint = tf.keras.callbacks.ModelCheckpoint(filepath, monitor='val_accuracy', save_best_only=True, mode='max')\r\n",
        "csv_logger = CSVLogger(log_dir + '/csv/'+model_name+'.csv', append=False, separator=';')\r\n",
        "history=model.fit(X_train, y_train, epochs=100, batch_size=128, validation_data=(X_dev, y_dev),class_weight=class_weight,callbacks=[csv_logger,checkpoint])"
      ],
      "outputs": [],
      "metadata": {
        "scrolled": true,
        "id": "8caEQEovQm_W"
      }
    },
    {
      "cell_type": "code",
      "execution_count": null,
      "source": [
        "print(\"Getting Base Model\")\r\n",
        "model = get_model_VGG19_gray()"
      ],
      "outputs": [],
      "metadata": {
        "id": "QNsnUFnyQm_W"
      }
    },
    {
      "cell_type": "code",
      "execution_count": null,
      "source": [
        "model_name='VGG19_imagenet_Covid_pos_vs_neg_seg_Comp'\r\n",
        "filepath = log_dir+\"Saved_models/\"+model_name+\".h5\"\r\n",
        "checkpoint = tf.keras.callbacks.ModelCheckpoint(filepath, monitor='val_accuracy', save_best_only=True, mode='max')\r\n",
        "csv_logger = CSVLogger(log_dir + '/csv/'+model_name+'.csv', append=False, separator=';')\r\n",
        "history=model.fit(X_train, y_train, epochs=100, batch_size=128, validation_data=(X_dev, y_dev),class_weight=class_weight,callbacks=[csv_logger,checkpoint])"
      ],
      "outputs": [],
      "metadata": {
        "id": "4iqaCEMvQm_W"
      }
    },
    {
      "cell_type": "markdown",
      "source": [
        "#### Prediction"
      ],
      "metadata": {
        "id": "V7lICXmmQm_W"
      }
    },
    {
      "cell_type": "code",
      "execution_count": null,
      "source": [
        "print(\"Model VGG 16 Comp Part D\")\r\n",
        "model = get_model_VGG16_gray()\r\n",
        "model.load_weights(log_dir+'VGG16_imagenet_Covid_pos_vs_neg_seg_Comp')"
      ],
      "outputs": [],
      "metadata": {
        "id": "XUD_QbPGQm_X"
      }
    },
    {
      "cell_type": "code",
      "execution_count": null,
      "source": [
        "predictions=model.predict(X_test)\r\n",
        "y_pred_bool = np.argmax(predictions, axis=-1)\r\n",
        "y_hat=np.argmax(y_test,axis=-1)"
      ],
      "outputs": [],
      "metadata": {
        "id": "WPWDj3xGQm_X"
      }
    },
    {
      "cell_type": "code",
      "execution_count": null,
      "source": [
        "metrics(y_hat,y_pred_bool)\r\n",
        "labels = [\"No-Covid\",\"Covid\"]\r\n",
        "get_performance_metrics(y_test,predictions,labels, acc=get_accuracy, prevalence=get_prevalence, \r\n",
        "                        sens=get_sensitivity, spec=get_specificity, ppv=get_ppv, npv=get_npv, auc=roc_auc_score,f1=f1_score)"
      ],
      "outputs": [],
      "metadata": {
        "id": "aYBKNVmCQm_X"
      }
    },
    {
      "cell_type": "code",
      "execution_count": null,
      "source": [
        "#ROC_CURVE \r\n",
        "get_roc_curve(y_test,predictions,labels)"
      ],
      "outputs": [],
      "metadata": {
        "id": "kvbeTP0CQm_X"
      }
    },
    {
      "cell_type": "code",
      "execution_count": null,
      "source": [
        "print(\"Model VGG 19 Comp Part D\")\r\n",
        "model = get_model_VGG16_gray()\r\n",
        "model.load_weights(log_dir+'VGG16_imagenet_Covid_pos_vs_neg_seg_Comp')"
      ],
      "outputs": [],
      "metadata": {
        "id": "x5MhdqxxQm_Y"
      }
    },
    {
      "cell_type": "code",
      "execution_count": null,
      "source": [
        "predictions=model.predict(X_test)\r\n",
        "y_pred_bool = np.argmax(predictions, axis=-1)\r\n",
        "y_hat=np.argmax(y_test,axis=-1)"
      ],
      "outputs": [],
      "metadata": {
        "id": "hl7qo0oTQm_Y"
      }
    },
    {
      "cell_type": "code",
      "execution_count": null,
      "source": [
        "metrics(y_hat,y_pred_bool)\r\n",
        "labels = [\"No-Covid\",\"Covid\"]\r\n",
        "get_performance_metrics(y_test,predictions,labels, acc=get_accuracy, prevalence=get_prevalence, \r\n",
        "                        sens=get_sensitivity, spec=get_specificity, ppv=get_ppv, npv=get_npv, auc=roc_auc_score,f1=f1_score)"
      ],
      "outputs": [],
      "metadata": {
        "id": "smFql4aKQm_Y"
      }
    },
    {
      "cell_type": "code",
      "execution_count": null,
      "source": [
        "#ROC_CURVE \r\n",
        "get_roc_curve(y_test,predictions,labels)"
      ],
      "outputs": [],
      "metadata": {
        "id": "v4SCz6BwQm_Y"
      }
    },
    {
      "cell_type": "markdown",
      "source": [
        "### Part E"
      ],
      "metadata": {
        "id": "dLOSLRKpQm_Z"
      }
    },
    {
      "cell_type": "code",
      "execution_count": null,
      "source": [
        "X_P = np.load(P_dir + '/X_Covid_Cohen_C_Seg_I.npy')\r\n",
        "X_train_P,X_test_P,X_dev_P = np.array_split(X_P,[int(0.7*len(X_P)),int(0.85*len(X_P))])"
      ],
      "outputs": [],
      "metadata": {
        "colab": {
          "background_save": true
        },
        "id": "oWLM3yC_Qm_Z"
      }
    },
    {
      "cell_type": "code",
      "execution_count": null,
      "source": [
        "X_N1 = np.load(N_dir+'/X_Covid_Normal_Seg_I.npy')\r\n",
        "X_train_N1,X_test_N1,X_dev_N1 = np.array_split(X_N1,[int(0.7*len(X_N1)),int(0.85*len(X_N1))])\r\n",
        "X_N2 = np.load(N_dir+'/X_Covid_Pneumo_Seg_I.npy')\r\n",
        "X_train_N2,X_test_N2,X_dev_N2 = np.array_split(X_N2,[int(0.7*len(X_N2)),int(0.85*len(X_N2))])"
      ],
      "outputs": [],
      "metadata": {
        "id": "SbNluKXjQm_Z"
      }
    },
    {
      "cell_type": "code",
      "execution_count": null,
      "source": [
        "X_train_N=np.concatenate((X_train_N1,X_train_N2))\r\n",
        "X_dev_N=np.concatenate((X_dev_N1,X_dev_N2))\r\n",
        "X_test_N=np.concatenate((X_test_N1,X_test_N2))"
      ],
      "outputs": [],
      "metadata": {
        "id": "myBd60G9STn-"
      }
    },
    {
      "cell_type": "code",
      "execution_count": null,
      "source": [
        "X_train=np.concatenate((X_train_N,X_train_P))\r\n",
        "X_dev=np.concatenate((X_dev_N,X_dev_P))\r\n",
        "X_test=np.concatenate((X_test_N,X_test_P))"
      ],
      "outputs": [],
      "metadata": {
        "id": "4X7O5rQeQm_Z"
      }
    },
    {
      "cell_type": "code",
      "execution_count": null,
      "source": [
        "y_train_N=np.array([[1,0]]*len(X_train_N))\r\n",
        "y_dev_N=np.array([[1,0]]*len(X_dev_N))\r\n",
        "y_test_N=np.array([[1,0]]*len(X_test_N))\r\n",
        "\r\n",
        "y_train_P=np.array([[0,1]]*len(X_train_P))\r\n",
        "y_dev_P=np.array([[0,1]]*len(X_dev_P))\r\n",
        "y_test_P=np.array([[0,1]]*len(X_test_P))"
      ],
      "outputs": [],
      "metadata": {
        "id": "Qth-x1xzQm_a"
      }
    },
    {
      "cell_type": "code",
      "execution_count": null,
      "source": [
        "y_train=np.concatenate((y_train_N,y_train_P))\r\n",
        "y_dev=np.concatenate((y_dev_N,y_dev_P))\r\n",
        "y_test=np.concatenate((y_test_N,y_test_P))"
      ],
      "outputs": [],
      "metadata": {
        "id": "vom3xVrkQm_a"
      }
    },
    {
      "cell_type": "code",
      "execution_count": null,
      "source": [
        "#Min_max scaled\r\n",
        "X_train,y_train=min_max_preprocessing(X_train,y_train)\r\n",
        "X_dev,y_dev=min_max_preprocessing(X_dev,y_dev)\r\n",
        "X_test,y_test=min_max_preprocessing(X_test,y_test)"
      ],
      "outputs": [],
      "metadata": {
        "id": "TiUa12NwQm_a"
      }
    },
    {
      "cell_type": "code",
      "execution_count": null,
      "source": [
        "X_train = np.float32(X_train)\r\n",
        "X_dev = np.float32(X_dev)\r\n",
        "X_test = np.float32(X_test)"
      ],
      "outputs": [],
      "metadata": {
        "id": "fOMuak0sQm_a"
      }
    },
    {
      "cell_type": "code",
      "execution_count": null,
      "source": [
        "#std normalization\r\n",
        "X_train,y_train,mean,std=samplewise_preprocessing(X_train,y_train)"
      ],
      "outputs": [],
      "metadata": {
        "id": "Du7lruDeQm_b"
      }
    },
    {
      "cell_type": "code",
      "execution_count": null,
      "source": [
        "X_dev=featurewise_preprocessing(X_dev,mean,std)\r\n",
        "X_test=featurewise_preprocessing(X_test,mean,std)"
      ],
      "outputs": [],
      "metadata": {
        "id": "0GK0DzP_Qm_b"
      }
    },
    {
      "cell_type": "markdown",
      "source": [
        "#### Train Models (GPU) "
      ],
      "metadata": {
        "id": "h9kOR1teQm_b"
      }
    },
    {
      "cell_type": "code",
      "execution_count": null,
      "source": [
        "log_dir=\"/content/drive/MyDrive/Covid19/COVID_FINAL/logs/\""
      ],
      "outputs": [],
      "metadata": {
        "id": "BjvLNPFAQm_b"
      }
    },
    {
      "cell_type": "code",
      "execution_count": null,
      "source": [
        "class_weight= get_weight(np.argmax(y_train,axis=-1))"
      ],
      "outputs": [],
      "metadata": {
        "id": "z0ooty9mQm_c"
      }
    },
    {
      "cell_type": "code",
      "execution_count": null,
      "source": [
        "print(\"Getting Base Model\")\r\n",
        "model = get_model_VGG16_gray()"
      ],
      "outputs": [],
      "metadata": {
        "id": "vmWQXk3UQm_c"
      }
    },
    {
      "cell_type": "code",
      "execution_count": null,
      "source": [
        "model_name='VGG16_imagenet_Covid_pos_vs_neg_inv_Comp'\r\n",
        "filepath = log_dir+\"Saved_models/\"+model_name+\".h5\"\r\n",
        "checkpoint = tf.keras.callbacks.ModelCheckpoint(filepath, monitor='val_accuracy', save_best_only=True, mode='max')\r\n",
        "csv_logger = CSVLogger(log_dir + '/csv/'+model_name+'.csv', append=False, separator=';')\r\n",
        "history=model.fit(X_train, y_train, epochs=100, batch_size=128, validation_data=(X_dev, y_dev),class_weight=class_weight,callbacks=[csv_logger,checkpoint])"
      ],
      "outputs": [],
      "metadata": {
        "scrolled": true,
        "id": "zTRTQ7C3Qm_c"
      }
    },
    {
      "cell_type": "code",
      "execution_count": null,
      "source": [
        "print(\"Getting Base Model\")\r\n",
        "model = get_model_VGG19_gray()"
      ],
      "outputs": [],
      "metadata": {
        "id": "i4ClL_JzQm_c"
      }
    },
    {
      "cell_type": "code",
      "execution_count": null,
      "source": [
        "model_name='VGG19_imagenet_Covid_pos_vs_neg_inv_Comp'\r\n",
        "filepath = log_dir+\"Saved_models/\"+model_name+\".h5\"\r\n",
        "checkpoint = tf.keras.callbacks.ModelCheckpoint(filepath, monitor='val_accuracy', save_best_only=True, mode='max')\r\n",
        "csv_logger = CSVLogger(log_dir + '/csv/'+model_name+'.csv', append=False, separator=';')\r\n",
        "history=model.fit(X_train, y_train, epochs=100, batch_size=128, validation_data=(X_dev, y_dev),class_weight=class_weight,callbacks=[csv_logger,checkpoint])"
      ],
      "outputs": [],
      "metadata": {
        "id": "nL1S_lNAQm_d"
      }
    },
    {
      "cell_type": "markdown",
      "source": [
        "#### Prediction"
      ],
      "metadata": {
        "id": "XWF-o8N6Qm_d"
      }
    },
    {
      "cell_type": "code",
      "execution_count": null,
      "source": [
        "print(\"Model VGG 16 Comp Part E\")\r\n",
        "model = get_model_VGG16_gray()\r\n",
        "model.load_weights(log_dir+'VGG16_imagenet_Covid_pos_vs_neg_inv_Comp')"
      ],
      "outputs": [],
      "metadata": {
        "id": "1c0K5CUoQm_d"
      }
    },
    {
      "cell_type": "code",
      "execution_count": null,
      "source": [
        "predictions=model.predict(X_test)\r\n",
        "y_pred_bool = np.argmax(predictions, axis=-1)\r\n",
        "y_hat=np.argmax(y_test,axis=-1)"
      ],
      "outputs": [],
      "metadata": {
        "id": "xFLg7chVQm_d"
      }
    },
    {
      "cell_type": "code",
      "execution_count": null,
      "source": [
        "metrics(y_hat,y_pred_bool)\r\n",
        "labels = [\"No-Covid\",\"Covid\"]\r\n",
        "get_performance_metrics(y_test,predictions,labels, acc=get_accuracy, prevalence=get_prevalence, \r\n",
        "                        sens=get_sensitivity, spec=get_specificity, ppv=get_ppv, npv=get_npv, auc=roc_auc_score,f1=f1_score)"
      ],
      "outputs": [],
      "metadata": {
        "id": "zbxCt0JYQm_e"
      }
    },
    {
      "cell_type": "code",
      "execution_count": null,
      "source": [
        "#ROC_CURVE \r\n",
        "get_roc_curve(y_test,predictions,labels)"
      ],
      "outputs": [],
      "metadata": {
        "id": "IjUbX5t_Qm_e"
      }
    },
    {
      "cell_type": "code",
      "execution_count": null,
      "source": [
        "print(\"Model VGG 19 Comp Part E\")\r\n",
        "model = get_model_VGG19_gray()\r\n",
        "model.load_weights(log_dir+'VGG19_imagenet_Covid_pos_vs_neg_inv_Comp')"
      ],
      "outputs": [],
      "metadata": {
        "id": "sYeKLukTQm_e"
      }
    },
    {
      "cell_type": "code",
      "execution_count": null,
      "source": [
        "predictions=model.predict(X_test)\r\n",
        "y_pred_bool = np.argmax(predictions, axis=-1)\r\n",
        "y_hat=np.argmax(y_test,axis=-1)"
      ],
      "outputs": [],
      "metadata": {
        "id": "AQlRMsqqQm_e"
      }
    },
    {
      "cell_type": "code",
      "execution_count": null,
      "source": [
        "metrics(y_hat,y_pred_bool)\r\n",
        "labels = [\"No-Covid\",\"Covid\"]\r\n",
        "get_performance_metrics(y_test,predictions,labels, acc=get_accuracy, prevalence=get_prevalence, \r\n",
        "                        sens=get_sensitivity, spec=get_specificity, ppv=get_ppv, npv=get_npv, auc=roc_auc_score,f1=f1_score)"
      ],
      "outputs": [],
      "metadata": {
        "id": "pYl7LC7uQm_f"
      }
    },
    {
      "cell_type": "code",
      "execution_count": null,
      "source": [
        "#ROC_CURVE \r\n",
        "get_roc_curve(y_test,predictions,labels)"
      ],
      "outputs": [],
      "metadata": {
        "id": "32gzs4N6Qm_f"
      }
    }
  ]
}