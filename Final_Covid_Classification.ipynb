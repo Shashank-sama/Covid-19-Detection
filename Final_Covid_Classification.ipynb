{
  "cells": [
    {
      "cell_type": "markdown",
      "metadata": {
        "id": "0gf3K-XFmchR"
      },
      "source": [
        "# Libraries"
      ]
    },
    {
      "cell_type": "code",
      "execution_count": null,
      "metadata": {
        "id": "B8efJd3-lzVt"
      },
      "outputs": [],
      "source": [
        "import seaborn as sn\n",
        "import cv2\n",
        "import h5py\n",
        "from time import time\n",
        "from tqdm import tqdm\n",
        "import pandas as pd\n",
        "import numpy as np\n",
        "import matplotlib.pyplot as plt\n",
        "from keras import backend as K\n",
        "from keras.preprocessing import image\n",
        "import tensorflow as tf\n",
        "from tensorflow.keras import datasets,layers,models,Input,Model\n",
        "from tensorflow.keras.optimizers import RMSprop, Adam, Adagrad, SGD, Adadelta\n",
        "from tensorflow.keras.callbacks import CSVLogger\n",
        "from tensorflow.keras.callbacks import EarlyStopping\n",
        "from tensorflow.keras.utils import plot_model\n",
        "from tensorflow.keras.wrappers.scikit_learn import KerasClassifier\n",
        "import os\n",
        "import sys\n",
        "import random\n",
        "from tensorflow.keras.layers import Input, Conv2D, Conv2DTranspose, MaxPooling2D, UpSampling2D, AveragePooling2D, Cropping2D\n",
        "from tensorflow.keras.layers import Dropout, Activation, Flatten, Concatenate, Dense, Reshape, Add, PReLU, LeakyReLU, BatchNormalization\n",
        "from tensorflow.keras.activations import relu\n",
        "from tensorflow.keras import regularizers\n",
        "from tensorflow.keras.layers import BatchNormalization as BN\n",
        "from tensorflow.keras.layers import GaussianNoise\n",
        "from tensorflow.keras.models import Model, Sequential, load_model\n",
        "from tensorflow.keras.optimizers import RMSprop, Adam, Adagrad, SGD, Adadelta\n",
        "from tensorflow.keras.applications import vgg16, vgg19, InceptionV3, Xception\n",
        "from tensorflow.keras.applications.resnet50 import ResNet50\n",
        "from tensorflow.keras.preprocessing.image import ImageDataGenerator\n",
        "from tensorflow.python.keras.utils.data_utils import Sequence, is_generator_or_sequence\n",
        "\n",
        "\n",
        "from sklearn.metrics import confusion_matrix\n",
        "from sklearn.metrics import accuracy_score\n",
        "from sklearn.metrics import f1_score\n",
        "from sklearn.metrics import recall_score\n",
        "from sklearn.metrics import precision_score\n",
        "from sklearn.metrics import classification_report\n",
        "from sklearn.utils import class_weight\n",
        "from sklearn.model_selection import cross_val_score\n",
        "from sklearn.model_selection import KFold\n",
        "from sklearn.preprocessing import LabelEncoder\n",
        "from sklearn.metrics import (\n",
        "    average_precision_score,\n",
        "    precision_recall_curve,\n",
        "    roc_auc_score,\n",
        "    roc_curve,\n",
        ")\n",
        "from sklearn.calibration import calibration_curve\n",
        "from mlxtend.plotting import plot_confusion_matrix\n",
        "\n",
        "from skimage import io,color"
      ]
    },
    {
      "cell_type": "markdown",
      "metadata": {
        "id": "b-GLAlrWmiuX"
      },
      "source": [
        "# Definition functions"
      ]
    },
    {
      "cell_type": "code",
      "execution_count": null,
      "metadata": {
        "id": "oNjqfB_Bl8SN"
      },
      "outputs": [],
      "source": [
        "def metrics(Y_validation,predictions,log_dir,model_name):\n",
        "    print('Accuracy:', accuracy_score(Y_validation, predictions))\n",
        "    print('F1 score:', f1_score(Y_validation, predictions,average='weighted'))\n",
        "    print('Recall:', recall_score(Y_validation, predictions,average='weighted'))\n",
        "    print('Precision:', precision_score(Y_validation, predictions, average='weighted'))\n",
        "    print('\\n clasification report:\\n', classification_report(Y_validation, predictions))\n",
        "    print('\\n confusion matrix:\\n',confusion_matrix(Y_validation, predictions))\n",
        "    #Creating confussion matrix\n",
        "    snn_cm = confusion_matrix(Y_validation, predictions)\n",
        "\n",
        "    # Plotting cofusion matrix\n",
        "    snn_df_cm = pd.DataFrame(snn_cm, range(2), range(2))  \n",
        "    plt.figure(figsize = (9,5))  \n",
        "    sn.set(font_scale=1.4) #for label size  \n",
        "    sn.heatmap(snn_df_cm, annot=True, annot_kws={\"size\": 12}) # font size  \n",
        "    plt.savefig(log_dir+model_name+'_CM.png',format='png') \n",
        "\n",
        "def get_true_pos(y, pred, th=0.5):\n",
        "    pred_t = (pred > th)\n",
        "    return np.sum((pred_t == True) & (y == 1))\n",
        "\n",
        "\n",
        "def get_true_neg(y, pred, th=0.5):\n",
        "    pred_t = (pred > th)\n",
        "    return np.sum((pred_t == False) & (y == 0))\n",
        "\n",
        "\n",
        "def get_false_neg(y, pred, th=0.5):\n",
        "    pred_t = (pred > th)\n",
        "    return np.sum((pred_t == False) & (y == 1))\n",
        "\n",
        "\n",
        "def get_false_pos(y, pred, th=0.5):\n",
        "    pred_t = (pred > th)\n",
        "    return np.sum((pred_t == True) & (y == 0))\n",
        "\n",
        "\n",
        "def get_performance_metrics(y, pred, class_labels, tp=get_true_pos,\n",
        "                            tn=get_true_neg, fp=get_false_pos,\n",
        "                            fn=get_false_neg,\n",
        "                            acc=None, prevalence=None, spec=None,\n",
        "                            sens=None, ppv=None, npv=None, auc=None, f1=None,\n",
        "                            thresholds=[]):\n",
        "    if len(thresholds) != len(class_labels):\n",
        "        thresholds = [.5] * len(class_labels)\n",
        "\n",
        "    columns = [\"\", \"TP\", \"TN\", \"FP\", \"FN\", \"Accuracy\", \"Prevalence\",\n",
        "               \"Sensitivity\",\n",
        "               \"Specificity\", \"PPV\", \"NPV\", \"AUC\", \"F1\", \"Threshold\"]\n",
        "    df = pd.DataFrame(columns=columns)\n",
        "    for i in range(len(class_labels)):\n",
        "        df.loc[i] = [\"\"] + [0] * (len(columns) - 1)\n",
        "        df.loc[i][0] = class_labels[i]\n",
        "        df.loc[i][1] = round(tp(y[:, i], pred[:, i]),\n",
        "                             3) if tp != None else \"Not Defined\"\n",
        "        df.loc[i][2] = round(tn(y[:, i], pred[:, i]),\n",
        "                             3) if tn != None else \"Not Defined\"\n",
        "        df.loc[i][3] = round(fp(y[:, i], pred[:, i]),\n",
        "                             3) if fp != None else \"Not Defined\"\n",
        "        df.loc[i][4] = round(fn(y[:, i], pred[:, i]),\n",
        "                             3) if fn != None else \"Not Defined\"\n",
        "        df.loc[i][5] = round(acc(y[:, i], pred[:, i], thresholds[i]),\n",
        "                             3) if acc != None else \"Not Defined\"\n",
        "        df.loc[i][6] = round(prevalence(y[:, i]),\n",
        "                             3) if prevalence != None else \"Not Defined\"\n",
        "        df.loc[i][7] = round(sens(y[:, i], pred[:, i], thresholds[i]),\n",
        "                             3) if sens != None else \"Not Defined\"\n",
        "        df.loc[i][8] = round(spec(y[:, i], pred[:, i], thresholds[i]),\n",
        "                             3) if spec != None else \"Not Defined\"\n",
        "        df.loc[i][9] = round(ppv(y[:, i], pred[:, i], thresholds[i]),\n",
        "                             3) if ppv != None else \"Not Defined\"\n",
        "        df.loc[i][10] = round(npv(y[:, i], pred[:, i], thresholds[i]),\n",
        "                              3) if npv != None else \"Not Defined\"\n",
        "        df.loc[i][11] = round(auc(y[:, i], pred[:, i]),\n",
        "                              3) if auc != None else \"Not Defined\"\n",
        "        df.loc[i][12] = round(f1(y[:, i], pred[:, i] > thresholds[i]),\n",
        "                              3) if f1 != None else \"Not Defined\"\n",
        "        df.loc[i][13] = round(thresholds[i], 3)\n",
        "\n",
        "    df = df.set_index(\"\")\n",
        "    return df\n",
        "\n",
        "\n",
        "def print_confidence_intervals(class_labels, statistics):\n",
        "    df = pd.DataFrame(columns=[\"Mean AUC (CI 5%-95%)\"])\n",
        "    for i in range(len(class_labels)):\n",
        "        mean = statistics.mean(axis=1)[i]\n",
        "        max_ = np.quantile(statistics, .95, axis=1)[i]\n",
        "        min_ = np.quantile(statistics, .05, axis=1)[i]\n",
        "        df.loc[class_labels[i]] = [\"%.2f (%.2f-%.2f)\" % (mean, min_, max_)]\n",
        "    return df\n",
        "\n",
        "\n",
        "def get_curve(gt, pred, target_names, log_dir, model_name, curve='roc'):\n",
        "    for i in range(len(target_names)):\n",
        "        if curve == 'roc':\n",
        "            curve_function = roc_curve\n",
        "            auc_roc = roc_auc_score(gt[:, i], pred[:, i])\n",
        "            label = target_names[i] + \" AUC: %.3f \" % auc_roc\n",
        "            xlabel = \"False positive rate\"\n",
        "            ylabel = \"True positive rate\"\n",
        "            a, b, _ = curve_function(gt[:, i], pred[:, i])\n",
        "            plt.figure(1, figsize=(7, 7))\n",
        "            plt.plot([0, 1], [0, 1], 'k--')\n",
        "            plt.plot(a, b, label=label)\n",
        "            plt.xlabel(xlabel)\n",
        "            plt.ylabel(ylabel)\n",
        "\n",
        "            #plt.legend(loc='upper center', bbox_to_anchor=(1.3, 1),fancybox=True, ncol=1)\n",
        "            plt.legend()\n",
        "            plt.savefig(log_dir+model_name+'_ROC.png',format='png',bbox_inches=\"tight\")\n",
        "        elif curve == 'prc':\n",
        "            precision, recall, _ = precision_recall_curve(gt[:, i], pred[:, i])\n",
        "            average_precision = average_precision_score(gt[:, i], pred[:, i])\n",
        "            label = target_names[i] + \" Avg.: %.3f \" % average_precision\n",
        "            plt.figure(1, figsize=(7, 7))\n",
        "            plt.step(recall, precision, where='post', label=label)\n",
        "            plt.xlabel('Recall')\n",
        "            plt.ylabel('Precision')\n",
        "            plt.ylim([0.0, 1.05])\n",
        "            plt.xlim([0.0, 1.0])\n",
        "            plt.title('Precision-Recall Curve')\n",
        "            #plt.legend(loc='upper center', bbox_to_anchor=(1.3, 1),fancybox=True, ncol=1)\n",
        "            plt.legend()\n",
        "            plt.savefig(log_dir+model_name+'_PRC.png',format='png',bbox_inches=\"tight\")\n",
        "\n",
        "def plot_graphs(history, metric, log_dir, model_name):\n",
        "    plt.plot(history.history[metric])\n",
        "    plt.plot(history.history['val_'+metric])\n",
        "    plt.xlabel(\"Epochs\")\n",
        "    plt.ylabel(metric)\n",
        "    plt.title(\"Model \"+metric)\n",
        "    plt.legend([metric, 'val_'+metric])\n",
        "    plt.savefig(log_dir+model_name+'_'+metric+'.png',format='png',bbox_inches=\"tight\")\n",
        "    plt.show()\n",
        "\n",
        "def plot_calibration_curve(y, pred,class_labels):\n",
        "    plt.figure(figsize=(20, 20))\n",
        "    for i in range(len(class_labels)):\n",
        "        plt.subplot(4, 4, i + 1)\n",
        "        fraction_of_positives, mean_predicted_value = calibration_curve(y[:,i], pred[:,i], n_bins=20)\n",
        "        plt.plot([0, 1], [0, 1], linestyle='--')\n",
        "        plt.plot(mean_predicted_value, fraction_of_positives, marker='.')\n",
        "        plt.xlabel(\"Predicted Value\")\n",
        "        plt.ylabel(\"Fraction of Positives\")\n",
        "        plt.title(class_labels[i])\n",
        "    plt.tight_layout()\n",
        "    plt.show()\n",
        "\n",
        "def get_accuracy(y, pred, th=0.5):\n",
        "    accuracy = 0.0\n",
        "\n",
        "    TP = get_true_pos(y, pred, th)\n",
        "    FP = get_false_pos(y, pred, th)\n",
        "    TN = get_true_neg(y, pred, th)\n",
        "    FN = get_false_pos(y, pred, th)\n",
        "    \n",
        "    accuracy = (TP+TN)/(TP+TN+FP+FN)\n",
        "    \n",
        "    return accuracy\n",
        "\n",
        "def get_prevalence(y):\n",
        "    \n",
        "    prevalence = 0.0\n",
        "    prevalence = (1/len(y))*np.sum(y)\n",
        "    \n",
        "    return prevalence\n",
        "\n",
        "def get_sensitivity(y, pred, th=0.5):\n",
        "    \n",
        "    sensitivity = 0.0\n",
        "    TP = get_true_pos(y,pred,th)\n",
        "    FN = get_false_neg(y,pred,th)\n",
        "\n",
        "    sensitivity = TP/(TP+FN)\n",
        "    \n",
        "    return sensitivity\n",
        "\n",
        "def get_specificity(y, pred, th=0.5):\n",
        "    specificity = 0.0\n",
        "    TN = get_true_neg(y,pred,th)\n",
        "    FP = get_false_pos(y,pred,th)\n",
        "\n",
        "    specificity = TN/(TN+FP)\n",
        "    \n",
        "    return specificity\n",
        "\n",
        "def get_ppv(y, pred, th=0.5):\n",
        "    \n",
        "    PPV = 0.0\n",
        "    TP = get_true_pos(y,pred,th)\n",
        "    FP = get_false_pos(y,pred,th)\n",
        "\n",
        "    PPV = TP/(TP+FP) \n",
        "    return PPV\n",
        "\n",
        "def get_npv(y, pred, th=0.5):\n",
        "    NPV = 0.0\n",
        "    \n",
        "    TN = get_true_neg(y,pred,th)\n",
        "    FN = get_false_neg(y,pred,th)\n",
        "\n",
        "    NPV = TN/(TN+FN)    \n",
        "    return NPV\n",
        "from tensorflow.compat.v1.logging import INFO, set_verbosity\n",
        "\n",
        "random.seed(a=None, version=2)\n",
        "\n",
        "set_verbosity(INFO)\n",
        "\n",
        "\n",
        "def get_mean_std_per_batch(image_path, df, H=320, W=320):\n",
        "    sample_data = []\n",
        "    for idx, img in enumerate(df.sample(100)[\"Image\"].values):\n",
        "        # path = image_dir + img\n",
        "        sample_data.append(\n",
        "            np.array(image.load_img(image_path, target_size=(H, W))))\n",
        "\n",
        "    mean = np.mean(sample_data[0])\n",
        "    std = np.std(sample_data[0])\n",
        "    return mean, std\n",
        "\n",
        "\n",
        "def load_image(img, image_dir, df, preprocess=True, H=320, W=320):\n",
        "    \"\"\"Load and preprocess image.\"\"\"\n",
        "    img_path = image_dir + img\n",
        "    mean, std = get_mean_std_per_batch(img_path, df, H=H, W=W)\n",
        "    x = image.load_img(img_path, target_size=(H, W))\n",
        "    if preprocess:\n",
        "        x -= mean\n",
        "        x /= std\n",
        "        x = np.expand_dims(x, axis=0)\n",
        "    return x\n",
        "\n",
        "\n",
        "def grad_cam(input_model, image, cls, layer_name, H=224, W=224):\n",
        "    \n",
        "    y_c = input_model.output[0, cls]\n",
        "    conv_output = input_model.get_layer(layer_name).output\n",
        "    grads = K.gradients(y_c, conv_output)[0]\n",
        "\n",
        "    gradient_function = K.function([input_model.input], [conv_output, grads])\n",
        "\n",
        "    output, grads_val = gradient_function([image])\n",
        "    output, grads_val = output[0, :], grads_val[0, :, :, :]\n",
        "\n",
        "    weights = np.mean(grads_val, axis=(0, 1))\n",
        "    cam = np.dot(output, weights)\n",
        "\n",
        "    # Process CAM\n",
        "    cam = cv2.resize(cam, (W, H), cv2.INTER_LINEAR)\n",
        "    cam = np.maximum(cam, 0)\n",
        "    if cam.max()!=0:\n",
        "        print(cam.max())\n",
        "        cam = cam / cam.max()\n",
        "    return cam\n",
        "\n",
        "\n",
        "def compute_gradcam(model,image, labels, layer_name='224_block5_pool'):\n",
        "\n",
        "    predictions = model.predict(image)\n",
        "\n",
        "    print(\"Loading original image\")\n",
        "    plt.figure(figsize=(15, 10))\n",
        "    plt.subplot(151)\n",
        "    plt.title(\"Original\")\n",
        "    plt.axis('off')\n",
        "    plt.imshow(image[0,:,:,0], cmap='gray')\n",
        "\n",
        "    j = 1\n",
        "    for i in range(len(labels)):  \n",
        "        print(f\"Generating gradcam for class {labels[i]}\")\n",
        "        gradcam = grad_cam(model, image, i, layer_name)\n",
        "        plt.subplot(151 + j)\n",
        "        plt.title(f\"{labels[i]}: p={predictions[0][i]:.3f}\")\n",
        "        plt.axis('off')\n",
        "        plt.imshow(image[0,:,:,0],cmap='gray')\n",
        "        plt.imshow(gradcam, cmap='jet', alpha=min(0.5, predictions[0][i]))\n",
        "        j += 1\n",
        "\n",
        "\n",
        "def checkDuplicates(trainDF, devDF, testDF,id_column):\n",
        "    patientsTrain = set(trainDF[id_column])\n",
        "    patientsDev = set(devDF[id_column])\n",
        "    patientsTest = set(testDF[id_column])\n",
        "\n",
        "    ids = list(patientsTrain.intersection(patientsDev))\n",
        "    print('# de pacientes de train presentes en dev:', len(ids))\n",
        "\n",
        "    ids_ = list(patientsTrain.intersection(patientsTest))\n",
        "    print('# de pacientes de train presentes en test:', len(ids_))\n",
        "    ids.extend(ids_)\n",
        "\n",
        "    ids_dev = list(patientsDev.intersection(patientsTest))\n",
        "    print('# de pacientes de dev presentes en test:', len(ids_dev))\n",
        "\n",
        "    return ids, ids_dev\n",
        "\n",
        "def saveNPY(DF,destination, name,path,src_column,W=224,H=224,C_Labels=False):\n",
        "    src_dir = path\n",
        "    images = []\n",
        "\n",
        "    print('reading images...')\n",
        "\n",
        "    for i in tqdm(DF[src_column]):\n",
        "        src_file = os.path.join(src_dir, i)\n",
        "        img = cv2.imread(src_file,-1)\n",
        "        resized = cv2.resize(img, (W, H))\n",
        "        if resized.shape==(W,H,4):\n",
        "            images.append(resized[:,:,0])\n",
        "        else:\n",
        "            images.append(resized)\n",
        "\n",
        "    NPY = np.array(images)\n",
        "    images_filename = destination+'X_'+name+'.npy'\n",
        "    np.save(images_filename, NPY)\n",
        "    if C_Labels:\n",
        "\n",
        "        labels_ = DF.group.replace(['C', 'N', 'I', 'NI'], [0, 1, 2, 3])\n",
        "        labels = tf.keras.utils.to_categorical(labels_, num_classes=4)\n",
        "  \n",
        "        labels_filename = destination+'/y_'+name+'.npy'\n",
        "        np.save(labels_filename, labels)\n",
        " \n",
        "    \n",
        "\n",
        "    print('done!')\n",
        "\n",
        "def samplewise_preprocessing(images,labels):\n",
        "    filtered_labels=[]\n",
        "    processed_images = []\n",
        "    means = []\n",
        "    stds = []\n",
        "    for i in range(images.shape[0]):\n",
        "        mean = np.mean(images[i])\n",
        "        std = np.std(images[i])\n",
        "        if std!=0 and mean != 0:\n",
        "            means.append(mean)\n",
        "            stds.append(std)\n",
        "            processed_images.append((images[i]-mean)/std)\n",
        "            filtered_labels.append(labels[i])\n",
        "    \n",
        "    return np.array(processed_images),np.array(filtered_labels), np.mean(means), np.mean(stds)\n",
        "\n",
        "\n",
        "def featurewise_preprocessing(images, mean, std):\n",
        "    processed_images = np.zeros_like(images, dtype=np.float32)\n",
        "    for i in range(images.shape[0]):\n",
        "        processed_images[i] = (images[i]-mean)/std\n",
        "    return processed_images\n",
        "\n",
        "def min_max_preprocessing(images,labels):\n",
        "    filtered_labels=[]\n",
        "    processed_images = []\n",
        "    for i in range(len(images)):\n",
        "        try:\n",
        "          maxi=np.max(images[i])\n",
        "          mini=np.min(images[i])\n",
        "          if (maxi-mini)!=0:\n",
        "            processed_images.append((images[i]-mini)/(maxi-mini))\n",
        "            filtered_labels.append(labels[i])\n",
        "        except:\n",
        "          continue\n",
        "    return np.array(processed_images),np.array(filtered_labels)\n",
        "\n",
        "def compute_class_freqs(labels):\n",
        "   \n",
        "    \n",
        "    # total number of patients (rows)\n",
        "    N = labels.shape[0]\n",
        "    \n",
        "    positive_frequencies = np.sum(labels,axis=0)/N\n",
        "    negative_frequencies = 1-positive_frequencies\n",
        "\n",
        "    return positive_frequencies, negative_frequencies\n",
        "\n",
        "def convert_n_CH(train_images,dev_images,test_images,mode='gray'):\n",
        "    #mode 'gray' expand 1CH\n",
        "    #mode 'rgb' expand 3CH\n",
        "    if mode=='gray':\n",
        "        converted_train=np.expand_dims(train_images,axis=3)\n",
        "        converted_dev=np.expand_dims(dev_images,axis=3)\n",
        "        converted_test=np.expand_dims(test_images,axis=3)\n",
        "    elif mode=='rgb':\n",
        "        converted_train=np.array([cv2.cvtColor(img,cv2.COLOR_GRAY2BGR) for img in train_images])\n",
        "        converted_dev=np.array([cv2.cvtColor(img,cv2.COLOR_GRAY2BGR) for img in dev_images])\n",
        "        converted_test=np.array([cv2.cvtColor(img,cv2.COLOR_GRAY2BGR) for img in test_images])\n",
        "\n",
        "    return converted_train,converted_dev,converted_test\n",
        "def get_weight(y):\n",
        "    class_weight_current =  class_weight.compute_class_weight(class_weight = 'balanced', classes = np.unique(y), y = y)\n",
        "    class_weight_current=dict(enumerate(class_weight_current.flatten(), 0))\n",
        "    return class_weight_current"
      ]
    },
    {
      "cell_type": "markdown",
      "metadata": {
        "id": "NQmtdLneBQJ2"
      },
      "source": [
        "#Models"
      ]
    },
    {
      "cell_type": "code",
      "execution_count": null,
      "metadata": {
        "id": "OKnm1dECDIkw"
      },
      "outputs": [],
      "source": [
        "def get_model_VGG16_gray():\n",
        "    model = tf.keras.applications.VGG16(weights='imagenet', include_top=False)\n",
        "\n",
        "    # Block1_conv1 weights are of the format [3, 3, 3, 64] -> this is for RGB images\n",
        "    # For grayscale, format should be [3, 3, 1, 64]. Weighted average of the features has to be calculated across channels.\n",
        "    # RGB weights: Red 0.2989, Green 0.5870, Blue 0.1140\n",
        "\n",
        "    # getting weights of block1 conv1.\n",
        "    block1_conv1 = model.get_layer('block1_conv1').get_weights()\n",
        "    weights, biases = block1_conv1\n",
        "\n",
        "    # :weights shape = [3, 3, 3, 64] - (0, 1, 2, 3)\n",
        "    # convert :weights shape to = [64, 3, 3, 3] - (3, 2, 0, 1)\n",
        "    weights = np.transpose(weights, (3, 2, 0, 1))\n",
        "\n",
        "\n",
        "    kernel_out_channels, kernel_in_channels, kernel_rows, kernel_columns = weights.shape\n",
        "\n",
        "    # Dimensions : [kernel_out_channels, 1 (since grayscale), kernel_rows, kernel_columns]\n",
        "    grayscale_weights = np.zeros((kernel_out_channels, 1, kernel_rows, kernel_columns))\n",
        "\n",
        "      # iterate out_channels number of times\n",
        "    for i in range(kernel_out_channels):\n",
        "\n",
        "        # get kernel for every out_channel\n",
        "        get_kernel = weights[i, :, :, :]\n",
        "\n",
        "        temp_kernel = np.zeros((3, 3))\n",
        "\n",
        "        # :get_kernel shape = [3, 3, 3]\n",
        "        # axis, dims = (0, in_channel), (1, row), (2, col)\n",
        "\n",
        "        # calculate weighted average across channel axis\n",
        "        in_channels, in_rows, in_columns = get_kernel.shape\n",
        "\n",
        "        for in_row in range(in_rows):\n",
        "            for in_col in range(in_columns):\n",
        "                feature_red = get_kernel[0, in_row, in_col]\n",
        "                feature_green = get_kernel[1, in_row, in_col]\n",
        "                feature_blue = get_kernel[2, in_row, in_col]\n",
        "\n",
        "            # weighted average for RGB filter\n",
        "            total = (feature_red * 0.2989) + (feature_green * 0.5870) + (feature_blue * 0.1140)\n",
        "\n",
        "            temp_kernel[in_row, in_col] = total\n",
        "\n",
        "\n",
        "        # :temp_kernel is a 3x3 matrix [rows x columns]\n",
        "        # add an axis at the end to specify in_channel as 1\n",
        "\n",
        "        # Second: Add axis at the start of :temp_kernel to make its shape: [1, 3, 3] which is [in_channel, rows, columns]\n",
        "        temp_kernel = np.expand_dims(temp_kernel, axis=0)\n",
        "\n",
        "        # Now, :temp_kernel shape is [1, 3, 3]\n",
        "\n",
        "        # Concat :temp_kernel to :grayscale_weights along axis=0\n",
        "        grayscale_weights[i, :, :, :] = temp_kernel\n",
        "\n",
        "      # Dimension of :grayscale_weights is [64, 1, 3, 3]\n",
        "      # In order to bring it to tensorflow or keras weight format, transpose :grayscale_weights\n",
        "\n",
        "      # dimension, axis of :grayscale_weights = (out_channels: 0), (in_channels: 1), (rows: 2), (columns: 3)\n",
        "      # tf format of weights = (rows: 0), (columns: 1), (in_channels: 2), (out_channels: 3)\n",
        "\n",
        "      # Go from (0, 1, 2, 3) to (2, 3, 1, 0)\n",
        "    grayscale_weights = np.transpose(grayscale_weights, (2, 3, 1, 0)) # (3, 3, 1, 64)\n",
        "\n",
        "      # combine :grayscale_weights and :biases\n",
        "    new_block1_conv1 = [grayscale_weights, biases]\n",
        "\n",
        "\n",
        "      # Reconstruct the layers of VGG16 but replace block1_conv1 weights with :grayscale_weights\n",
        "\n",
        "      # get weights of all the layers starting from 'block1_conv2'\n",
        "    vgg16_weights = {}\n",
        "    for layer in model.layers[2:]:\n",
        "        if \"conv\" in layer.name:\n",
        "            vgg16_weights[\"224_\" + layer.name] = model.get_layer(layer.name).get_weights()\n",
        "\n",
        "    del model\n",
        "\n",
        "\n",
        "      # Custom build VGG16\n",
        "    input = Input(shape=(224, 224, 1), name='224_input')\n",
        "      # Block 1\n",
        "    x = Conv2D(64, (3, 3), activation='relu', padding='same', input_shape=(224, 224, 1), data_format=\"channels_last\", name='224_block1_conv1')(input)\n",
        "    x = Conv2D(64, (3, 3), activation='relu', padding='same', name='224_block1_conv2')(x)\n",
        "    x = MaxPooling2D((2, 2), strides=(2, 2), name='224_block1_pool')(x)\n",
        "\n",
        "      # Block 2\n",
        "    x = Conv2D(128, (3, 3), activation='relu', padding='same', name='224_block2_conv1')(x)\n",
        "    x = Conv2D(128, (3, 3), activation='relu', padding='same', name='224_block2_conv2')(x)\n",
        "    x = MaxPooling2D((2, 2), strides=(2, 2), name='224_block2_pool')(x)\n",
        "\n",
        "      # Block 3\n",
        "    x = Conv2D(256, (3, 3), activation='relu', padding='same', name='224_block3_conv1')(x)\n",
        "    x = Conv2D(256, (3, 3), activation='relu', padding='same', name='224_block3_conv2')(x)\n",
        "    x = Conv2D(256, (3, 3), activation='relu', padding='same', name='224_block3_conv3')(x)\n",
        "    x = MaxPooling2D((2, 2), strides=(2, 2), name='224_block3_pool')(x)\n",
        "\n",
        "      # Block 4\n",
        "    x = Conv2D(512, (3, 3), activation='relu', padding='same', name='224_block4_conv1')(x)\n",
        "    x = Conv2D(512, (3, 3), activation='relu', padding='same', name='224_block4_conv2')(x)\n",
        "    x = Conv2D(512, (3, 3), activation='relu', padding='same', name='224_block4_conv3')(x)\n",
        "    x = MaxPooling2D((2, 2), strides=(2, 2), name='224_block4_pool')(x)\n",
        "\n",
        "      # Block 5\n",
        "    x = Conv2D(512, (3, 3), activation='relu', padding='same', name='224_block5_conv1')(x)\n",
        "    x = Conv2D(512, (3, 3), activation='relu', padding='same', name='224_block5_conv2')(x)\n",
        "    x = Conv2D(512, (3, 3), activation='relu', padding='same', name='224_block5_conv3')(x)\n",
        "    x = MaxPooling2D((8, 8), strides=(8, 8), name='224_block5_pool')(x)\n",
        "\n",
        "    base_model = Model(inputs=input, outputs=x)\n",
        "\n",
        "    base_model.get_layer('224_block1_conv1').set_weights(new_block1_conv1)\n",
        "    for layer in base_model.layers[2:]:\n",
        "        if 'conv' in layer.name:\n",
        "            base_model.get_layer(layer.name).set_weights(vgg16_weights[layer.name])\n",
        "\n",
        "    x = base_model.output\n",
        "\n",
        "    for layer in base_model.layers:\n",
        "        layer.trainable = True\n",
        "\n",
        "    x = tf.keras.layers.GlobalAveragePooling2D()(x)  \n",
        "    layers = tf.keras.layers.Flatten()(x)\n",
        "      #layers = tf.keras.layers.Dense(128,activation=\"relu\")(layers)\n",
        "    layers = tf.keras.layers.Dropout(0.2)(layers)\n",
        "    layers = tf.keras.layers.Dense(1024 ,activation=\"relu\")(layers)\n",
        "    layers = tf.keras.layers.Dropout(0.2)(layers)\n",
        "    layers = tf.keras.layers.Dense( 512,activation=\"relu\")(layers)\n",
        "    layers = tf.keras.layers.Dense( 64,activation=\"relu\")(layers)\n",
        "    predictions = tf.keras.layers.Dense(2, activation=\"softmax\", name=\"output_1\")(layers)\n",
        "\n",
        "      #Compilador\n",
        "    model = tf.keras.Model(inputs = base_model.input, outputs=predictions)\n",
        "    optimizer=tf.keras.optimizers.Adam(learning_rate=0.0001) \n",
        "    loss='categorical_crossentropy'\n",
        "    model.compile(optimizer=optimizer, loss=loss, metrics=['accuracy'])\n",
        "    model.summary()\n",
        "    return model"
      ]
    },
    {
      "cell_type": "code",
      "execution_count": null,
      "metadata": {
        "id": "-KiIWTBRBRue"
      },
      "outputs": [],
      "source": [
        "def get_model_VGG19_gray():\n",
        "      model = tf.keras.applications.VGG19(weights='imagenet', include_top=False)\n",
        "\n",
        "      # Block1_conv1 weights are of the format [3, 3, 3, 64] -> this is for RGB images\n",
        "      # For grayscale, format should be [3, 3, 1, 64]. Weighted average of the features has to be calculated across channels.\n",
        "      # RGB weights: Red 0.2989, Green 0.5870, Blue 0.1140\n",
        "\n",
        "      # getting weights of block1 conv1.\n",
        "      block1_conv1 = model.get_layer('block1_conv1').get_weights()\n",
        "      weights, biases = block1_conv1\n",
        "\n",
        "      # :weights shape = [3, 3, 3, 64] - (0, 1, 2, 3)\n",
        "      # convert :weights shape to = [64, 3, 3, 3] - (3, 2, 0, 1)\n",
        "      weights = np.transpose(weights, (3, 2, 0, 1))\n",
        "\n",
        "\n",
        "      kernel_out_channels, kernel_in_channels, kernel_rows, kernel_columns = weights.shape\n",
        "\n",
        "      # Dimensions : [kernel_out_channels, 1 (since grayscale), kernel_rows, kernel_columns]\n",
        "      grayscale_weights = np.zeros((kernel_out_channels, 1, kernel_rows, kernel_columns))\n",
        "\n",
        "      # iterate out_channels number of times\n",
        "      for i in range(kernel_out_channels):\n",
        "\n",
        "        # get kernel for every out_channel\n",
        "        get_kernel = weights[i, :, :, :]\n",
        "\n",
        "        temp_kernel = np.zeros((3, 3))\n",
        "\n",
        "        # :get_kernel shape = [3, 3, 3]\n",
        "        # axis, dims = (0, in_channel), (1, row), (2, col)\n",
        "\n",
        "        # calculate weighted average across channel axis\n",
        "        in_channels, in_rows, in_columns = get_kernel.shape\n",
        "\n",
        "        for in_row in range(in_rows):\n",
        "          for in_col in range(in_columns):\n",
        "            feature_red = get_kernel[0, in_row, in_col]\n",
        "            feature_green = get_kernel[1, in_row, in_col]\n",
        "            feature_blue = get_kernel[2, in_row, in_col]\n",
        "\n",
        "            # weighted average for RGB filter\n",
        "            total = (feature_red * 0.2989) + (feature_green * 0.5870) + (feature_blue * 0.1140)\n",
        "\n",
        "            temp_kernel[in_row, in_col] = total\n",
        "\n",
        "\n",
        "        # :temp_kernel is a 3x3 matrix [rows x columns]\n",
        "        # add an axis at the end to specify in_channel as 1\n",
        "\n",
        "        # Second: Add axis at the start of :temp_kernel to make its shape: [1, 3, 3] which is [in_channel, rows, columns]\n",
        "        temp_kernel = np.expand_dims(temp_kernel, axis=0)\n",
        "\n",
        "        # Now, :temp_kernel shape is [1, 3, 3]\n",
        "\n",
        "        # Concat :temp_kernel to :grayscale_weights along axis=0\n",
        "        grayscale_weights[i, :, :, :] = temp_kernel\n",
        "\n",
        "      # Dimension of :grayscale_weights is [64, 1, 3, 3]\n",
        "      # In order to bring it to tensorflow or keras weight format, transpose :grayscale_weights\n",
        "\n",
        "      # dimension, axis of :grayscale_weights = (out_channels: 0), (in_channels: 1), (rows: 2), (columns: 3)\n",
        "      # tf format of weights = (rows: 0), (columns: 1), (in_channels: 2), (out_channels: 3)\n",
        "\n",
        "      # Go from (0, 1, 2, 3) to (2, 3, 1, 0)\n",
        "      grayscale_weights = np.transpose(grayscale_weights, (2, 3, 1, 0)) # (3, 3, 1, 64)\n",
        "\n",
        "      # combine :grayscale_weights and :biases\n",
        "      new_block1_conv1 = [grayscale_weights, biases]\n",
        "\n",
        "\n",
        "      # Reconstruct the layers of VGG16 but replace block1_conv1 weights with :grayscale_weights\n",
        "\n",
        "      # get weights of all the layers starting from 'block1_conv2'\n",
        "      vgg19_weights = {}\n",
        "      for layer in model.layers[2:]:\n",
        "        if \"conv\" in layer.name:\n",
        "          vgg19_weights[\"224_\" + layer.name] = model.get_layer(layer.name).get_weights()\n",
        "\n",
        "      del model\n",
        "\n",
        "\n",
        "      # Custom build VGG19\n",
        "      input = Input(shape=(224, 224, 1), name='224_input')\n",
        "      # Block 1\n",
        "      x = Conv2D(64, (3, 3), activation='relu', padding='same', input_shape=(224, 224, 1), data_format=\"channels_last\", name='224_block1_conv1')(input)\n",
        "      x = Conv2D(64, (3, 3), activation='relu', padding='same', name='224_block1_conv2')(x)\n",
        "      x = MaxPooling2D((2, 2), strides=(2, 2), name='224_block1_pool')(x)\n",
        "\n",
        "      # Block 2\n",
        "      x = Conv2D(128, (3, 3), activation='relu', padding='same', name='224_block2_conv1')(x)\n",
        "      x = Conv2D(128, (3, 3), activation='relu', padding='same', name='224_block2_conv2')(x)\n",
        "      x = MaxPooling2D((2, 2), strides=(2, 2), name='224_block2_pool')(x)\n",
        "\n",
        "      # Block 3\n",
        "      x = Conv2D(256, (3, 3), activation='relu', padding='same', name='224_block3_conv1')(x)\n",
        "      x = Conv2D(256, (3, 3), activation='relu', padding='same', name='224_block3_conv2')(x)\n",
        "      x = Conv2D(256, (3, 3), activation='relu', padding='same', name='224_block3_conv3')(x)\n",
        "      x = Conv2D(256, (3, 3), activation='relu', padding='same', name='224_block3_conv4')(x)\n",
        "      x = MaxPooling2D((2, 2), strides=(2, 2), name='224_block3_pool')(x)\n",
        "\n",
        "      # Block 4\n",
        "      x = Conv2D(512, (3, 3), activation='relu', padding='same', name='224_block4_conv1')(x)\n",
        "      x = Conv2D(512, (3, 3), activation='relu', padding='same', name='224_block4_conv2')(x)\n",
        "      x = Conv2D(512, (3, 3), activation='relu', padding='same', name='224_block4_conv3')(x)\n",
        "      x = Conv2D(512, (3, 3), activation='relu', padding='same', name='224_block4_conv4')(x)\n",
        "      x = MaxPooling2D((2, 2), strides=(2, 2), name='224_block4_pool')(x)\n",
        "\n",
        "      # Block 5\n",
        "      x = Conv2D(512, (3, 3), activation='relu', padding='same', name='224_block5_conv1')(x)\n",
        "      x = Conv2D(512, (3, 3), activation='relu', padding='same', name='224_block5_conv2')(x)\n",
        "      x = Conv2D(512, (3, 3), activation='relu', padding='same', name='224_block5_conv3')(x)\n",
        "      x = Conv2D(512, (3, 3), activation='relu', padding='same', name='224_block5_conv4')(x)\n",
        "      x = MaxPooling2D((8, 8), strides=(8, 8), name='224_block5_pool')(x)\n",
        "\n",
        "      base_model = Model(inputs=input, outputs=x)\n",
        "\n",
        "      base_model.get_layer('224_block1_conv1').set_weights(new_block1_conv1)\n",
        "      for layer in base_model.layers[2:]:\n",
        "        if 'conv' in layer.name:\n",
        "          base_model.get_layer(layer.name).set_weights(vgg19_weights[layer.name])\n",
        "\n",
        "      x = base_model.output\n",
        "\n",
        "      for layer in base_model.layers:\n",
        "          layer.trainable = True\n",
        "\n",
        "      x = tf.keras.layers.GlobalAveragePooling2D()(x)  \n",
        "      layers = tf.keras.layers.Flatten()(x)\n",
        "      #layers = tf.keras.layers.Dense(128,activation=\"relu\")(layers)\n",
        "      layers = tf.keras.layers.Dropout(0.2)(layers)\n",
        "      layers = tf.keras.layers.Dense(1024 ,activation=\"relu\")(layers)\n",
        "      layers = tf.keras.layers.Dropout(0.2)(layers)\n",
        "      layers = tf.keras.layers.Dense( 512,activation=\"relu\")(layers)\n",
        "      layers = tf.keras.layers.Dense( 64,activation=\"relu\")(layers)\n",
        "      predictions = tf.keras.layers.Dense(2, activation=\"softmax\", name=\"output_1\")(layers)\n",
        "\n",
        "      #Compilador\n",
        "      model = tf.keras.Model(inputs = base_model.input, outputs=predictions)\n",
        "      optimizer=tf.keras.optimizers.Adam(learning_rate=0.0001) \n",
        "      model.compile(optimizer=optimizer, loss=\"categorical_crossentropy\", metrics=['accuracy'])\n",
        "      model.summary()\n",
        "      return model"
      ]
    },
    {
      "cell_type": "markdown",
      "metadata": {
        "id": "y01pdvN5_n3L"
      },
      "source": [
        "#BIMCV datasets"
      ]
    },
    {
      "cell_type": "code",
      "source": [
        "from google.colab import drive\n",
        "drive.mount('/content/drive')"
      ],
      "metadata": {
        "colab": {
          "base_uri": "https://localhost:8080/"
        },
        "id": "I5F4U3rDLtwN",
        "outputId": "1a52faf5-df55-441a-838d-aee448ac9433"
      },
      "execution_count": null,
      "outputs": [
        {
          "output_type": "stream",
          "name": "stdout",
          "text": [
            "Mounted at /content/drive\n"
          ]
        }
      ]
    },
    {
      "cell_type": "code",
      "source": [
        "new = 'drive/MyDrive'"
      ],
      "metadata": {
        "id": "METqxdgpMGyD"
      },
      "execution_count": null,
      "outputs": []
    },
    {
      "cell_type": "code",
      "execution_count": null,
      "metadata": {
        "id": "UVswUs-vAPlH"
      },
      "outputs": [],
      "source": [
        "Img_dir = new + '/data/DATABASES/CLASSIFICATION'\n",
        "Wei_dir = new + '/data/WEIGHTS/CLASSIFICATION'"
      ]
    },
    {
      "cell_type": "markdown",
      "metadata": {
        "id": "iQXttzYYCZAq"
      },
      "source": [
        "Positive"
      ]
    },
    {
      "cell_type": "code",
      "execution_count": null,
      "metadata": {
        "id": "azGJZM9ECa1s"
      },
      "outputs": [],
      "source": [
        "P_dir = Img_dir + '/POSITIVE'"
      ]
    },
    {
      "cell_type": "markdown",
      "metadata": {
        "id": "3mz--Rr6C2rm"
      },
      "source": [
        "Negative Covid Era"
      ]
    },
    {
      "cell_type": "code",
      "execution_count": null,
      "metadata": {
        "id": "Figr5o5pC1yf"
      },
      "outputs": [],
      "source": [
        "N1_dir = Img_dir + '/NEGATIVE COVID ERA'"
      ]
    },
    {
      "cell_type": "markdown",
      "metadata": {
        "id": "XxwJ1xTyDuFD"
      },
      "source": [
        "Negative Covid Era Without possible covid"
      ]
    },
    {
      "cell_type": "code",
      "execution_count": null,
      "metadata": {
        "id": "IG1K8jKqDyiE"
      },
      "outputs": [],
      "source": [
        "N2_dir = Img_dir + '/NEGATIVE COVID ERA WITHOUT POSSIBLE COVID IMAGES'"
      ]
    },
    {
      "cell_type": "markdown",
      "metadata": {
        "id": "00AZeadCD5SO"
      },
      "source": [
        "Negative Pre-Covid Era"
      ]
    },
    {
      "cell_type": "code",
      "execution_count": null,
      "metadata": {
        "id": "9QRU206sD90X"
      },
      "outputs": [],
      "source": [
        "N3_dir = Img_dir + '/NEGATIVE PRECOVID ERA'"
      ]
    },
    {
      "cell_type": "markdown",
      "metadata": {
        "id": "PWHpVNvTy4Mw"
      },
      "source": [
        "EXP 1 WEIGHTS"
      ]
    },
    {
      "cell_type": "code",
      "execution_count": null,
      "metadata": {
        "id": "1GC9jZzky_jj"
      },
      "outputs": [],
      "source": [
        "E1_dir = Wei_dir +'/POSITIVE vs NEGATIVE COVID ERA'"
      ]
    },
    {
      "cell_type": "markdown",
      "metadata": {
        "id": "sAnEoX0Q0Zdi"
      },
      "source": [
        "EXP 2 WEIGHTS"
      ]
    },
    {
      "cell_type": "code",
      "execution_count": null,
      "metadata": {
        "id": "6tK3uKKu0fL2"
      },
      "outputs": [],
      "source": [
        "E2_dir = Wei_dir +'/POSITIVE vs NEGATIVE COVID ERA WITHOUT POSSIBLE COVID IMAGES'"
      ]
    },
    {
      "cell_type": "markdown",
      "metadata": {
        "id": "ozJVt7Yd053_"
      },
      "source": [
        "EXP 3 WEIGHTS"
      ]
    },
    {
      "cell_type": "code",
      "execution_count": null,
      "metadata": {
        "id": "Pk9B410V1Acg"
      },
      "outputs": [],
      "source": [
        "E3_dir = Wei_dir +'/POSITIVE vs NEGATIVE PRECOVID ERA'"
      ]
    },
    {
      "cell_type": "markdown",
      "metadata": {
        "id": "qBITwg4R_tUL"
      },
      "source": [
        "##Experiment 1"
      ]
    },
    {
      "cell_type": "markdown",
      "metadata": {
        "id": "hLOwFUXlADfH"
      },
      "source": [
        "###Part C"
      ]
    },
    {
      "cell_type": "code",
      "execution_count": null,
      "metadata": {
        "id": "hv6S50hTEI8y"
      },
      "outputs": [],
      "source": [
        "C_dir = '/Normal'"
      ]
    },
    {
      "cell_type": "code",
      "execution_count": null,
      "metadata": {
        "id": "QWDS2-GEC-Il"
      },
      "outputs": [],
      "source": [
        "X_train_P = np.load(P_dir + C_dir + '/X_pos_train_C.npy')\n",
        "X_test_P = np.load(P_dir + C_dir + '/X_pos_test_C.npy')\n",
        "X_dev_P = np.load(P_dir + C_dir + '/X_pos_dev_C.npy')"
      ]
    },
    {
      "cell_type": "code",
      "execution_count": null,
      "metadata": {
        "id": "MBHuPXn9ExE0"
      },
      "outputs": [],
      "source": [
        "X_train_N = np.load(N1_dir + C_dir + '/X_neg_train_C.npy')\n",
        "X_test_N = np.load(N1_dir + C_dir + '/X_neg_test_C.npy')\n",
        "X_dev_N = np.load(N1_dir + C_dir + '/X_neg_dev_C.npy')"
      ]
    },
    {
      "cell_type": "code",
      "execution_count": null,
      "metadata": {
        "id": "nLH2nKRB7XVu"
      },
      "outputs": [],
      "source": [
        "X_train=np.concatenate((X_train_N,X_train_P))\n",
        "X_dev=np.concatenate((X_dev_N,X_dev_P))\n",
        "X_test=np.concatenate((X_test_N,X_test_P))"
      ]
    },
    {
      "cell_type": "code",
      "execution_count": null,
      "metadata": {
        "id": "W9ypqYQ4D1Sj"
      },
      "outputs": [],
      "source": [
        "y_train_N=np.array([[1,0]]*len(X_train_N))\n",
        "y_dev_N=np.array([[1,0]]*len(X_dev_N))\n",
        "y_test_N=np.array([[1,0]]*len(X_test_N))\n",
        "\n",
        "y_train_P=np.array([[0,1]]*len(X_train_P))\n",
        "y_dev_P=np.array([[0,1]]*len(X_dev_P))\n",
        "y_test_P=np.array([[0,1]]*len(X_test_P))"
      ]
    },
    {
      "cell_type": "code",
      "execution_count": null,
      "metadata": {
        "id": "oEEMkMSUD7nA"
      },
      "outputs": [],
      "source": [
        "y_train=np.concatenate((y_train_N,y_train_P))\n",
        "y_dev=np.concatenate((y_dev_N,y_dev_P))\n",
        "y_test=np.concatenate((y_test_N,y_test_P))"
      ]
    },
    {
      "cell_type": "code",
      "execution_count": null,
      "metadata": {
        "id": "OW3BGQLOFjTD"
      },
      "outputs": [],
      "source": [
        "#Min_max scaled\n",
        "X_train,y_train=min_max_preprocessing(X_train,y_train)\n",
        "X_dev,y_dev=min_max_preprocessing(X_dev,y_dev)\n",
        "X_test,y_test=min_max_preprocessing(X_test,y_test)"
      ]
    },
    {
      "cell_type": "code",
      "execution_count": null,
      "metadata": {
        "id": "YQnNmCQm3fJ7"
      },
      "outputs": [],
      "source": [
        "X_train = np.float32(X_train)\n",
        "X_dev = np.float32(X_dev)\n",
        "X_test = np.float32(X_test)"
      ]
    },
    {
      "cell_type": "code",
      "execution_count": null,
      "metadata": {
        "id": "zWLEHieMFjTG"
      },
      "outputs": [],
      "source": [
        "#std normalization\n",
        "X_train,y_train,mean,std=samplewise_preprocessing(X_train,y_train)"
      ]
    },
    {
      "cell_type": "code",
      "execution_count": null,
      "metadata": {
        "id": "rDIvXpZtFjTI"
      },
      "outputs": [],
      "source": [
        "X_dev=featurewise_preprocessing(X_dev,mean,std)\n",
        "X_test=featurewise_preprocessing(X_test,mean,std)"
      ]
    },
    {
      "cell_type": "markdown",
      "metadata": {
        "id": "8KrGSkYSYJ2o"
      },
      "source": [
        "#### Train Models (GPU) "
      ]
    },
    {
      "cell_type": "code",
      "execution_count": null,
      "metadata": {
        "id": "KG9c9ZTeFoek"
      },
      "outputs": [],
      "source": [
        "log_dir=\"/content/results/\""
      ]
    },
    {
      "cell_type": "code",
      "execution_count": null,
      "metadata": {
        "id": "vkiAtp2A0Gwf"
      },
      "outputs": [],
      "source": [
        "class_weight= get_weight(np.argmax(y_train,axis=-1))"
      ]
    },
    {
      "cell_type": "code",
      "execution_count": null,
      "metadata": {
        "id": "vle06RQhuip8",
        "outputId": "f59624f5-7880-4e98-bbd7-23f106e0c51d",
        "colab": {
          "base_uri": "https://localhost:8080/"
        }
      },
      "outputs": [
        {
          "output_type": "stream",
          "name": "stdout",
          "text": [
            "Getting Base Model\n",
            "Model: \"model_1\"\n",
            "_________________________________________________________________\n",
            " Layer (type)                Output Shape              Param #   \n",
            "=================================================================\n",
            " 224_input (InputLayer)      [(None, 224, 224, 1)]     0         \n",
            "                                                                 \n",
            " 224_block1_conv1 (Conv2D)   (None, 224, 224, 64)      640       \n",
            "                                                                 \n",
            " 224_block1_conv2 (Conv2D)   (None, 224, 224, 64)      36928     \n",
            "                                                                 \n",
            " 224_block1_pool (MaxPooling  (None, 112, 112, 64)     0         \n",
            " 2D)                                                             \n",
            "                                                                 \n",
            " 224_block2_conv1 (Conv2D)   (None, 112, 112, 128)     73856     \n",
            "                                                                 \n",
            " 224_block2_conv2 (Conv2D)   (None, 112, 112, 128)     147584    \n",
            "                                                                 \n",
            " 224_block2_pool (MaxPooling  (None, 56, 56, 128)      0         \n",
            " 2D)                                                             \n",
            "                                                                 \n",
            " 224_block3_conv1 (Conv2D)   (None, 56, 56, 256)       295168    \n",
            "                                                                 \n",
            " 224_block3_conv2 (Conv2D)   (None, 56, 56, 256)       590080    \n",
            "                                                                 \n",
            " 224_block3_conv3 (Conv2D)   (None, 56, 56, 256)       590080    \n",
            "                                                                 \n",
            " 224_block3_pool (MaxPooling  (None, 28, 28, 256)      0         \n",
            " 2D)                                                             \n",
            "                                                                 \n",
            " 224_block4_conv1 (Conv2D)   (None, 28, 28, 512)       1180160   \n",
            "                                                                 \n",
            " 224_block4_conv2 (Conv2D)   (None, 28, 28, 512)       2359808   \n",
            "                                                                 \n",
            " 224_block4_conv3 (Conv2D)   (None, 28, 28, 512)       2359808   \n",
            "                                                                 \n",
            " 224_block4_pool (MaxPooling  (None, 14, 14, 512)      0         \n",
            " 2D)                                                             \n",
            "                                                                 \n",
            " 224_block5_conv1 (Conv2D)   (None, 14, 14, 512)       2359808   \n",
            "                                                                 \n",
            " 224_block5_conv2 (Conv2D)   (None, 14, 14, 512)       2359808   \n",
            "                                                                 \n",
            " 224_block5_conv3 (Conv2D)   (None, 14, 14, 512)       2359808   \n",
            "                                                                 \n",
            " 224_block5_pool (MaxPooling  (None, 1, 1, 512)        0         \n",
            " 2D)                                                             \n",
            "                                                                 \n",
            " global_average_pooling2d (G  (None, 512)              0         \n",
            " lobalAveragePooling2D)                                          \n",
            "                                                                 \n",
            " flatten (Flatten)           (None, 512)               0         \n",
            "                                                                 \n",
            " dropout (Dropout)           (None, 512)               0         \n",
            "                                                                 \n",
            " dense (Dense)               (None, 1024)              525312    \n",
            "                                                                 \n",
            " dropout_1 (Dropout)         (None, 1024)              0         \n",
            "                                                                 \n",
            " dense_1 (Dense)             (None, 512)               524800    \n",
            "                                                                 \n",
            " dense_2 (Dense)             (None, 64)                32832     \n",
            "                                                                 \n",
            " output_1 (Dense)            (None, 2)                 130       \n",
            "                                                                 \n",
            "=================================================================\n",
            "Total params: 15,796,610\n",
            "Trainable params: 15,796,610\n",
            "Non-trainable params: 0\n",
            "_________________________________________________________________\n"
          ]
        }
      ],
      "source": [
        "print(\"Getting Base Model\")\n",
        "model = get_model_VGG16_gray()"
      ]
    },
    {
      "cell_type": "code",
      "execution_count": null,
      "metadata": {
        "id": "UiKKJkxVu4Ws",
        "outputId": "5c5ff271-d24a-4764-ee52-fbb7709d89e8",
        "scrolled": true,
        "colab": {
          "base_uri": "https://localhost:8080/"
        }
      },
      "outputs": [
        {
          "output_type": "stream",
          "name": "stdout",
          "text": [
            "Epoch 1/2\n",
            "138/138 [==============================] - 304s 2s/step - loss: 0.5597 - accuracy: 0.7042 - val_loss: 0.5720 - val_accuracy: 0.7613\n",
            "Epoch 2/2\n",
            "138/138 [==============================] - 269s 2s/step - loss: 0.4216 - accuracy: 0.8113 - val_loss: 0.4835 - val_accuracy: 0.7692\n"
          ]
        }
      ],
      "source": [
        "model_name='VGG16_imagenet_Covid_pos_vs_neg'\n",
        "filepath = log_dir+\"Saved_models/\"+model_name+\".h5\"\n",
        "checkpoint = tf.keras.callbacks.ModelCheckpoint(filepath, monitor='val_accuracy', save_best_only=True, mode='max')\n",
        "#csv_logger = CSVLogger(log_dir + '/csv/'+model_name+'.csv', append=False, separator=';')\n",
        "history=model.fit(X_train, y_train, epochs=2, batch_size=64, validation_data=(X_dev, y_dev),class_weight=class_weight,callbacks=[checkpoint])\n"
      ]
    },
    {
      "cell_type": "code",
      "execution_count": null,
      "metadata": {
        "id": "9aHH2Ob8FyDR",
        "colab": {
          "base_uri": "https://localhost:8080/"
        },
        "outputId": "4b8a49d1-6428-47e8-e988-0ad36b9b5a42"
      },
      "outputs": [
        {
          "output_type": "stream",
          "name": "stdout",
          "text": [
            "Getting Base Model\n",
            "Downloading data from https://storage.googleapis.com/tensorflow/keras-applications/vgg19/vgg19_weights_tf_dim_ordering_tf_kernels_notop.h5\n",
            "80142336/80134624 [==============================] - 1s 0us/step\n",
            "80150528/80134624 [==============================] - 1s 0us/step\n",
            "Model: \"model_3\"\n",
            "_________________________________________________________________\n",
            " Layer (type)                Output Shape              Param #   \n",
            "=================================================================\n",
            " 224_input (InputLayer)      [(None, 224, 224, 1)]     0         \n",
            "                                                                 \n",
            " 224_block1_conv1 (Conv2D)   (None, 224, 224, 64)      640       \n",
            "                                                                 \n",
            " 224_block1_conv2 (Conv2D)   (None, 224, 224, 64)      36928     \n",
            "                                                                 \n",
            " 224_block1_pool (MaxPooling  (None, 112, 112, 64)     0         \n",
            " 2D)                                                             \n",
            "                                                                 \n",
            " 224_block2_conv1 (Conv2D)   (None, 112, 112, 128)     73856     \n",
            "                                                                 \n",
            " 224_block2_conv2 (Conv2D)   (None, 112, 112, 128)     147584    \n",
            "                                                                 \n",
            " 224_block2_pool (MaxPooling  (None, 56, 56, 128)      0         \n",
            " 2D)                                                             \n",
            "                                                                 \n",
            " 224_block3_conv1 (Conv2D)   (None, 56, 56, 256)       295168    \n",
            "                                                                 \n",
            " 224_block3_conv2 (Conv2D)   (None, 56, 56, 256)       590080    \n",
            "                                                                 \n",
            " 224_block3_conv3 (Conv2D)   (None, 56, 56, 256)       590080    \n",
            "                                                                 \n",
            " 224_block3_conv4 (Conv2D)   (None, 56, 56, 256)       590080    \n",
            "                                                                 \n",
            " 224_block3_pool (MaxPooling  (None, 28, 28, 256)      0         \n",
            " 2D)                                                             \n",
            "                                                                 \n",
            " 224_block4_conv1 (Conv2D)   (None, 28, 28, 512)       1180160   \n",
            "                                                                 \n",
            " 224_block4_conv2 (Conv2D)   (None, 28, 28, 512)       2359808   \n",
            "                                                                 \n",
            " 224_block4_conv3 (Conv2D)   (None, 28, 28, 512)       2359808   \n",
            "                                                                 \n",
            " 224_block4_conv4 (Conv2D)   (None, 28, 28, 512)       2359808   \n",
            "                                                                 \n",
            " 224_block4_pool (MaxPooling  (None, 14, 14, 512)      0         \n",
            " 2D)                                                             \n",
            "                                                                 \n",
            " 224_block5_conv1 (Conv2D)   (None, 14, 14, 512)       2359808   \n",
            "                                                                 \n",
            " 224_block5_conv2 (Conv2D)   (None, 14, 14, 512)       2359808   \n",
            "                                                                 \n",
            " 224_block5_conv3 (Conv2D)   (None, 14, 14, 512)       2359808   \n",
            "                                                                 \n",
            " 224_block5_conv4 (Conv2D)   (None, 14, 14, 512)       2359808   \n",
            "                                                                 \n",
            " 224_block5_pool (MaxPooling  (None, 1, 1, 512)        0         \n",
            " 2D)                                                             \n",
            "                                                                 \n",
            " global_average_pooling2d_1   (None, 512)              0         \n",
            " (GlobalAveragePooling2D)                                        \n",
            "                                                                 \n",
            " flatten_1 (Flatten)         (None, 512)               0         \n",
            "                                                                 \n",
            " dropout_2 (Dropout)         (None, 512)               0         \n",
            "                                                                 \n",
            " dense_3 (Dense)             (None, 1024)              525312    \n",
            "                                                                 \n",
            " dropout_3 (Dropout)         (None, 1024)              0         \n",
            "                                                                 \n",
            " dense_4 (Dense)             (None, 512)               524800    \n",
            "                                                                 \n",
            " dense_5 (Dense)             (None, 64)                32832     \n",
            "                                                                 \n",
            " output_1 (Dense)            (None, 2)                 130       \n",
            "                                                                 \n",
            "=================================================================\n",
            "Total params: 21,106,306\n",
            "Trainable params: 21,106,306\n",
            "Non-trainable params: 0\n",
            "_________________________________________________________________\n"
          ]
        }
      ],
      "source": [
        "print(\"Getting Base Model\")\n",
        "model = get_model_VGG19_gray()"
      ]
    },
    {
      "cell_type": "code",
      "execution_count": null,
      "metadata": {
        "id": "p_X7I8aLF1s2",
        "colab": {
          "base_uri": "https://localhost:8080/"
        },
        "outputId": "98c35cb6-54a0-42b6-c752-4a6e847c2a13"
      },
      "outputs": [
        {
          "output_type": "stream",
          "name": "stdout",
          "text": [
            "Epoch 1/2\n",
            "138/138 [==============================] - 421s 3s/step - loss: 0.0598 - accuracy: 0.9796 - val_loss: 0.1997 - val_accuracy: 0.9415\n",
            "Epoch 2/2\n",
            "138/138 [==============================] - 387s 3s/step - loss: 0.0432 - accuracy: 0.9854 - val_loss: 0.3184 - val_accuracy: 0.8973\n"
          ]
        }
      ],
      "source": [
        "model_name='VGG19_imagenet_Covid_pos_vs_neg'\n",
        "filepath = log_dir+\"Saved_models/\"+model_name+\".h5\"\n",
        "checkpoint = tf.keras.callbacks.ModelCheckpoint(filepath, monitor='val_accuracy', save_best_only=True, mode='max')\n",
        "history=model.fit(X_train, y_train, epochs=2, batch_size=64, validation_data=(X_dev, y_dev),class_weight=class_weight,callbacks=[checkpoint])"
      ]
    },
    {
      "cell_type": "code",
      "source": [
        "#Loss graph\n",
        "plot_graphs(history,'loss', log_dir, 'VGG19_imagenet_Covid_pos_vs_neg')"
      ],
      "metadata": {
        "colab": {
          "base_uri": "https://localhost:8080/",
          "height": 315
        },
        "id": "eg0_JWQ0tF1d",
        "outputId": "8579a7a7-19d9-4393-cc98-75b9ae7eda7e"
      },
      "execution_count": null,
      "outputs": [
        {
          "output_type": "display_data",
          "data": {
            "text/plain": [
              "<Figure size 432x288 with 1 Axes>"
            ],
            "image/png": "[encoded data removed]"
          },
          "metadata": {}
        }
      ]
    },
    {
      "cell_type": "code",
      "source": [
        "#Accuracy graph\n",
        "plot_graphs(history,'accuracy', log_dir, 'VGG19_imagenet_Covid_pos_vs_neg')"
      ],
      "metadata": {
        "colab": {
          "base_uri": "https://localhost:8080/",
          "height": 315
        },
        "id": "nypdxmnUymFq",
        "outputId": "36f08e30-9ee0-4105-82c4-cbc543800c65"
      },
      "execution_count": null,
      "outputs": [
        {
          "output_type": "display_data",
          "data": {
            "text/plain": [
              "<Figure size 432x288 with 1 Axes>"
            ],
            "image/png": "[encoded data removed]"
          },
          "metadata": {}
        }
      ]
    },
    {
      "cell_type": "code",
      "source": [
        "plt.plot(history.history['accuracy'], label='train acc')\n",
        "plt.plot(history.history['val_accuracy'], label='val acc')\n",
        "plt.xlabel(\"Epochs\")\n",
        "plt.ylabel(\"Accuracy\")\n",
        "plt.legend()\n",
        "plt.show()"
      ],
      "metadata": {
        "colab": {
          "base_uri": "https://localhost:8080/",
          "height": 295
        },
        "id": "az6Z70hBpX1I",
        "outputId": "9b82052d-7463-489b-aed9-985fa9a9c02b"
      },
      "execution_count": null,
      "outputs": [
        {
          "output_type": "display_data",
          "data": {
            "text/plain": [
              "<Figure size 432x288 with 1 Axes>"
            ],
            "image/png": "[encoded data removed]"
          },
          "metadata": {}
        }
      ]
    },
    {
      "cell_type": "markdown",
      "metadata": {
        "id": "Ql1MrXuR115j"
      },
      "source": [
        "#### Prediction"
      ]
    },
    {
      "cell_type": "code",
      "execution_count": null,
      "metadata": {
        "id": "0fEgHA-BGAJM",
        "colab": {
          "base_uri": "https://localhost:8080/"
        },
        "outputId": "1ba96e4b-fddc-4cc8-9966-a1b63d1ecc9e"
      },
      "outputs": [
        {
          "output_type": "stream",
          "name": "stdout",
          "text": [
            "Model VGG 16 Exp 1 Part C\n",
            "Model: \"model_3\"\n",
            "_________________________________________________________________\n",
            " Layer (type)                Output Shape              Param #   \n",
            "=================================================================\n",
            " 224_input (InputLayer)      [(None, 224, 224, 1)]     0         \n",
            "                                                                 \n",
            " 224_block1_conv1 (Conv2D)   (None, 224, 224, 64)      640       \n",
            "                                                                 \n",
            " 224_block1_conv2 (Conv2D)   (None, 224, 224, 64)      36928     \n",
            "                                                                 \n",
            " 224_block1_pool (MaxPooling  (None, 112, 112, 64)     0         \n",
            " 2D)                                                             \n",
            "                                                                 \n",
            " 224_block2_conv1 (Conv2D)   (None, 112, 112, 128)     73856     \n",
            "                                                                 \n",
            " 224_block2_conv2 (Conv2D)   (None, 112, 112, 128)     147584    \n",
            "                                                                 \n",
            " 224_block2_pool (MaxPooling  (None, 56, 56, 128)      0         \n",
            " 2D)                                                             \n",
            "                                                                 \n",
            " 224_block3_conv1 (Conv2D)   (None, 56, 56, 256)       295168    \n",
            "                                                                 \n",
            " 224_block3_conv2 (Conv2D)   (None, 56, 56, 256)       590080    \n",
            "                                                                 \n",
            " 224_block3_conv3 (Conv2D)   (None, 56, 56, 256)       590080    \n",
            "                                                                 \n",
            " 224_block3_pool (MaxPooling  (None, 28, 28, 256)      0         \n",
            " 2D)                                                             \n",
            "                                                                 \n",
            " 224_block4_conv1 (Conv2D)   (None, 28, 28, 512)       1180160   \n",
            "                                                                 \n",
            " 224_block4_conv2 (Conv2D)   (None, 28, 28, 512)       2359808   \n",
            "                                                                 \n",
            " 224_block4_conv3 (Conv2D)   (None, 28, 28, 512)       2359808   \n",
            "                                                                 \n",
            " 224_block4_pool (MaxPooling  (None, 14, 14, 512)      0         \n",
            " 2D)                                                             \n",
            "                                                                 \n",
            " 224_block5_conv1 (Conv2D)   (None, 14, 14, 512)       2359808   \n",
            "                                                                 \n",
            " 224_block5_conv2 (Conv2D)   (None, 14, 14, 512)       2359808   \n",
            "                                                                 \n",
            " 224_block5_conv3 (Conv2D)   (None, 14, 14, 512)       2359808   \n",
            "                                                                 \n",
            " 224_block5_pool (MaxPooling  (None, 1, 1, 512)        0         \n",
            " 2D)                                                             \n",
            "                                                                 \n",
            " global_average_pooling2d_1   (None, 512)              0         \n",
            " (GlobalAveragePooling2D)                                        \n",
            "                                                                 \n",
            " flatten_1 (Flatten)         (None, 512)               0         \n",
            "                                                                 \n",
            " dropout_2 (Dropout)         (None, 512)               0         \n",
            "                                                                 \n",
            " dense_3 (Dense)             (None, 1024)              525312    \n",
            "                                                                 \n",
            " dropout_3 (Dropout)         (None, 1024)              0         \n",
            "                                                                 \n",
            " dense_4 (Dense)             (None, 512)               524800    \n",
            "                                                                 \n",
            " dense_5 (Dense)             (None, 64)                32832     \n",
            "                                                                 \n",
            " output_1 (Dense)            (None, 2)                 130       \n",
            "                                                                 \n",
            "=================================================================\n",
            "Total params: 15,796,610\n",
            "Trainable params: 15,796,610\n",
            "Non-trainable params: 0\n",
            "_________________________________________________________________\n"
          ]
        }
      ],
      "source": [
        "print(\"Model VGG 16 Exp 1 Part C\")\n",
        "model = get_model_VGG16_gray()\n",
        "model.load_weights(log_dir+\"Saved_models/\"+model_name+\".h5\")"
      ]
    },
    {
      "cell_type": "code",
      "execution_count": null,
      "metadata": {
        "id": "z68t6RmdIjax"
      },
      "outputs": [],
      "source": [
        "predictions=model.predict(X_test)\n",
        "y_pred_bool = np.argmax(predictions, axis=-1)\n",
        "y_hat=np.argmax(y_test,axis=-1)"
      ]
    },
    {
      "cell_type": "code",
      "execution_count": null,
      "metadata": {
        "id": "1ReBOlCPIpY2",
        "colab": {
          "base_uri": "https://localhost:8080/",
          "height": 852
        },
        "outputId": "bc2a434e-5890-4f1f-e377-cc4845947d85"
      },
      "outputs": [
        {
          "output_type": "stream",
          "name": "stdout",
          "text": [
            "Accuracy: 0.7740281930798804\n",
            "F1 score: 0.7685638351123427\n",
            "Recall: 0.7740281930798804\n",
            "Precision: 0.765227994100969\n",
            "\n",
            " clasification report:\n",
            "               precision    recall  f1-score   support\n",
            "\n",
            "           0       0.58      0.50      0.54      1228\n",
            "           1       0.83      0.87      0.85      3454\n",
            "\n",
            "    accuracy                           0.77      4682\n",
            "   macro avg       0.71      0.69      0.69      4682\n",
            "weighted avg       0.77      0.77      0.77      4682\n",
            "\n",
            "\n",
            " confusion matrix:\n",
            " [[ 617  611]\n",
            " [ 447 3007]]\n"
          ]
        },
        {
          "output_type": "execute_result",
          "data": {
            "text/plain": [
              "            TP    TN   FP   FN Accuracy Prevalence Sensitivity Specificity  \\\n",
              "                                                                             \n",
              "No-Covid   617  3007  447  611    0.802      0.262       0.502       0.871   \n",
              "Covid     3007   617  611  447    0.748      0.738       0.871       0.502   \n",
              "\n",
              "            PPV    NPV    AUC     F1 Threshold  \n",
              "                                                \n",
              "No-Covid   0.58  0.831  0.782  0.538       0.5  \n",
              "Covid     0.831   0.58  0.782   0.85       0.5  "
            ],
            "text/html": [
              "\n",
              "  <div id=\"df-19fa6aba-8d94-44c4-b2df-16b22a5677c3\">\n",
              "    <div class=\"colab-df-container\">\n",
              "      <div>\n",
              "<style scoped>\n",
              "    .dataframe tbody tr th:only-of-type {\n",
              "        vertical-align: middle;\n",
              "    }\n",
              "\n",
              "    .dataframe tbody tr th {\n",
              "        vertical-align: top;\n",
              "    }\n",
              "\n",
              "    .dataframe thead th {\n",
              "        text-align: right;\n",
              "    }\n",
              "</style>\n",
              "<table border=\"1\" class=\"dataframe\">\n",
              "  <thead>\n",
              "    <tr style=\"text-align: right;\">\n",
              "      <th></th>\n",
              "      <th>TP</th>\n",
              "      <th>TN</th>\n",
              "      <th>FP</th>\n",
              "      <th>FN</th>\n",
              "      <th>Accuracy</th>\n",
              "      <th>Prevalence</th>\n",
              "      <th>Sensitivity</th>\n",
              "      <th>Specificity</th>\n",
              "      <th>PPV</th>\n",
              "      <th>NPV</th>\n",
              "      <th>AUC</th>\n",
              "      <th>F1</th>\n",
              "      <th>Threshold</th>\n",
              "    </tr>\n",
              "    <tr>\n",
              "      <th></th>\n",
              "      <th></th>\n",
              "      <th></th>\n",
              "      <th></th>\n",
              "      <th></th>\n",
              "      <th></th>\n",
              "      <th></th>\n",
              "      <th></th>\n",
              "      <th></th>\n",
              "      <th></th>\n",
              "      <th></th>\n",
              "      <th></th>\n",
              "      <th></th>\n",
              "      <th></th>\n",
              "    </tr>\n",
              "  </thead>\n",
              "  <tbody>\n",
              "    <tr>\n",
              "      <th>No-Covid</th>\n",
              "      <td>617</td>\n",
              "      <td>3007</td>\n",
              "      <td>447</td>\n",
              "      <td>611</td>\n",
              "      <td>0.802</td>\n",
              "      <td>0.262</td>\n",
              "      <td>0.502</td>\n",
              "      <td>0.871</td>\n",
              "      <td>0.58</td>\n",
              "      <td>0.831</td>\n",
              "      <td>0.782</td>\n",
              "      <td>0.538</td>\n",
              "      <td>0.5</td>\n",
              "    </tr>\n",
              "    <tr>\n",
              "      <th>Covid</th>\n",
              "      <td>3007</td>\n",
              "      <td>617</td>\n",
              "      <td>611</td>\n",
              "      <td>447</td>\n",
              "      <td>0.748</td>\n",
              "      <td>0.738</td>\n",
              "      <td>0.871</td>\n",
              "      <td>0.502</td>\n",
              "      <td>0.831</td>\n",
              "      <td>0.58</td>\n",
              "      <td>0.782</td>\n",
              "      <td>0.85</td>\n",
              "      <td>0.5</td>\n",
              "    </tr>\n",
              "  </tbody>\n",
              "</table>\n",
              "</div>\n",
              "      <button class=\"colab-df-convert\" onclick=\"convertToInteractive('df-19fa6aba-8d94-44c4-b2df-16b22a5677c3')\"\n",
              "              title=\"Convert this dataframe to an interactive table.\"\n",
              "              style=\"display:none;\">\n",
              "        \n",
              "  <svg xmlns=\"http://www.w3.org/2000/svg\" height=\"24px\"viewBox=\"0 0 24 24\"\n",
              "       width=\"24px\">\n",
              "    <path d=\"M0 0h24v24H0V0z\" fill=\"none\"/>\n",
              "    <path d=\"M18.56 5.44l.94 2.06.94-2.06 2.06-.94-2.06-.94-.94-2.06-.94 2.06-2.06.94zm-11 1L8.5 8.5l.94-2.06 2.06-.94-2.06-.94L8.5 2.5l-.94 2.06-2.06.94zm10 10l.94 2.06.94-2.06 2.06-.94-2.06-.94-.94-2.06-.94 2.06-2.06.94z\"/><path d=\"M17.41 7.96l-1.37-1.37c-.4-.4-.92-.59-1.43-.59-.52 0-1.04.2-1.43.59L10.3 9.45l-7.72 7.72c-.78.78-.78 2.05 0 2.83L4 21.41c.39.39.9.59 1.41.59.51 0 1.02-.2 1.41-.59l7.78-7.78 2.81-2.81c.8-.78.8-2.07 0-2.86zM5.41 20L4 18.59l7.72-7.72 1.47 1.35L5.41 20z\"/>\n",
              "  </svg>\n",
              "      </button>\n",
              "      \n",
              "  <style>\n",
              "    .colab-df-container {\n",
              "      display:flex;\n",
              "      flex-wrap:wrap;\n",
              "      gap: 12px;\n",
              "    }\n",
              "\n",
              "    .colab-df-convert {\n",
              "      background-color: #E8F0FE;\n",
              "      border: none;\n",
              "      border-radius: 50%;\n",
              "      cursor: pointer;\n",
              "      display: none;\n",
              "      fill: #1967D2;\n",
              "      height: 32px;\n",
              "      padding: 0 0 0 0;\n",
              "      width: 32px;\n",
              "    }\n",
              "\n",
              "    .colab-df-convert:hover {\n",
              "      background-color: #E2EBFA;\n",
              "      box-shadow: 0px 1px 2px rgba(60, 64, 67, 0.3), 0px 1px 3px 1px rgba(60, 64, 67, 0.15);\n",
              "      fill: #174EA6;\n",
              "    }\n",
              "\n",
              "    [theme=dark] .colab-df-convert {\n",
              "      background-color: #3B4455;\n",
              "      fill: #D2E3FC;\n",
              "    }\n",
              "\n",
              "    [theme=dark] .colab-df-convert:hover {\n",
              "      background-color: #434B5C;\n",
              "      box-shadow: 0px 1px 3px 1px rgba(0, 0, 0, 0.15);\n",
              "      filter: drop-shadow(0px 1px 2px rgba(0, 0, 0, 0.3));\n",
              "      fill: #FFFFFF;\n",
              "    }\n",
              "  </style>\n",
              "\n",
              "      <script>\n",
              "        const buttonEl =\n",
              "          document.querySelector('#df-19fa6aba-8d94-44c4-b2df-16b22a5677c3 button.colab-df-convert');\n",
              "        buttonEl.style.display =\n",
              "          google.colab.kernel.accessAllowed ? 'block' : 'none';\n",
              "\n",
              "        async function convertToInteractive(key) {\n",
              "          const element = document.querySelector('#df-19fa6aba-8d94-44c4-b2df-16b22a5677c3');\n",
              "          const dataTable =\n",
              "            await google.colab.kernel.invokeFunction('convertToInteractive',\n",
              "                                                     [key], {});\n",
              "          if (!dataTable) return;\n",
              "\n",
              "          const docLinkHtml = 'Like what you see? Visit the ' +\n",
              "            '<a target=\"_blank\" href=https://colab.research.google.com/notebooks/data_table.ipynb>data table notebook</a>'\n",
              "            + ' to learn more about interactive tables.';\n",
              "          element.innerHTML = '';\n",
              "          dataTable['output_type'] = 'display_data';\n",
              "          await google.colab.output.renderOutput(dataTable, element);\n",
              "          const docLink = document.createElement('div');\n",
              "          docLink.innerHTML = docLinkHtml;\n",
              "          element.appendChild(docLink);\n",
              "        }\n",
              "      </script>\n",
              "    </div>\n",
              "  </div>\n",
              "  "
            ]
          },
          "metadata": {},
          "execution_count": 33
        },
        {
          "output_type": "display_data",
          "data": {
            "text/plain": [
              "<Figure size 648x360 with 2 Axes>"
            ],
            "image/png": "[encoded data removed]"
          },
          "metadata": {
            "needs_background": "light"
          }
        }
      ],
      "source": [
        "metrics(y_hat,y_pred_bool,log_dir,'VGG16_imagenet_Covid_pos_vs_neg')\n",
        "labels = [\"No-Covid\",\"Covid\"]\n",
        "get_performance_metrics(y_test,predictions,labels, acc=get_accuracy, prevalence=get_prevalence, \n",
        "                        sens=get_sensitivity, spec=get_specificity, ppv=get_ppv, npv=get_npv, auc=roc_auc_score,f1=f1_score)"
      ]
    },
    {
      "cell_type": "code",
      "execution_count": null,
      "metadata": {
        "id": "G748ApF1IpfF",
        "colab": {
          "base_uri": "https://localhost:8080/",
          "height": 883
        },
        "outputId": "4ec5c718-80b4-4c5b-8f99-d02b6b1202a3"
      },
      "outputs": [
        {
          "output_type": "display_data",
          "data": {
            "text/plain": [
              "<Figure size 504x504 with 1 Axes>"
            ],
            "image/png": "[encoded data removed]"
          },
          "metadata": {}
        },
        {
          "output_type": "display_data",
          "data": {
            "text/plain": [
              "<Figure size 504x504 with 1 Axes>"
            ],
            "image/png": "[encoded data removed]"
          },
          "metadata": {}
        }
      ],
      "source": [
        "#ROC_CURVE \n",
        "get_curve(y_test,predictions,labels,log_dir,'VGG16_imagenet_Covid_pos_vs_neg',curve='roc')"
      ]
    },
    {
      "cell_type": "code",
      "execution_count": null,
      "metadata": {
        "id": "sIsOo3v7KEsZ",
        "colab": {
          "base_uri": "https://localhost:8080/"
        },
        "outputId": "44085c7c-883c-4cbb-8d65-1e2255b4fc20"
      },
      "outputs": [
        {
          "output_type": "stream",
          "name": "stdout",
          "text": [
            "Model VGG 19 Exp 1 Part C\n",
            "Downloading data from https://storage.googleapis.com/tensorflow/keras-applications/vgg19/vgg19_weights_tf_dim_ordering_tf_kernels_notop.h5\n",
            "80142336/80134624 [==============================] - 2s 0us/step\n",
            "80150528/80134624 [==============================] - 2s 0us/step\n",
            "Model: \"model_1\"\n",
            "_________________________________________________________________\n",
            " Layer (type)                Output Shape              Param #   \n",
            "=================================================================\n",
            " 224_input (InputLayer)      [(None, 224, 224, 1)]     0         \n",
            "                                                                 \n",
            " 224_block1_conv1 (Conv2D)   (None, 224, 224, 64)      640       \n",
            "                                                                 \n",
            " 224_block1_conv2 (Conv2D)   (None, 224, 224, 64)      36928     \n",
            "                                                                 \n",
            " 224_block1_pool (MaxPooling  (None, 112, 112, 64)     0         \n",
            " 2D)                                                             \n",
            "                                                                 \n",
            " 224_block2_conv1 (Conv2D)   (None, 112, 112, 128)     73856     \n",
            "                                                                 \n",
            " 224_block2_conv2 (Conv2D)   (None, 112, 112, 128)     147584    \n",
            "                                                                 \n",
            " 224_block2_pool (MaxPooling  (None, 56, 56, 128)      0         \n",
            " 2D)                                                             \n",
            "                                                                 \n",
            " 224_block3_conv1 (Conv2D)   (None, 56, 56, 256)       295168    \n",
            "                                                                 \n",
            " 224_block3_conv2 (Conv2D)   (None, 56, 56, 256)       590080    \n",
            "                                                                 \n",
            " 224_block3_conv3 (Conv2D)   (None, 56, 56, 256)       590080    \n",
            "                                                                 \n",
            " 224_block3_conv4 (Conv2D)   (None, 56, 56, 256)       590080    \n",
            "                                                                 \n",
            " 224_block3_pool (MaxPooling  (None, 28, 28, 256)      0         \n",
            " 2D)                                                             \n",
            "                                                                 \n",
            " 224_block4_conv1 (Conv2D)   (None, 28, 28, 512)       1180160   \n",
            "                                                                 \n",
            " 224_block4_conv2 (Conv2D)   (None, 28, 28, 512)       2359808   \n",
            "                                                                 \n",
            " 224_block4_conv3 (Conv2D)   (None, 28, 28, 512)       2359808   \n",
            "                                                                 \n",
            " 224_block4_conv4 (Conv2D)   (None, 28, 28, 512)       2359808   \n",
            "                                                                 \n",
            " 224_block4_pool (MaxPooling  (None, 14, 14, 512)      0         \n",
            " 2D)                                                             \n",
            "                                                                 \n",
            " 224_block5_conv1 (Conv2D)   (None, 14, 14, 512)       2359808   \n",
            "                                                                 \n",
            " 224_block5_conv2 (Conv2D)   (None, 14, 14, 512)       2359808   \n",
            "                                                                 \n",
            " 224_block5_conv3 (Conv2D)   (None, 14, 14, 512)       2359808   \n",
            "                                                                 \n",
            " 224_block5_conv4 (Conv2D)   (None, 14, 14, 512)       2359808   \n",
            "                                                                 \n",
            " 224_block5_pool (MaxPooling  (None, 1, 1, 512)        0         \n",
            " 2D)                                                             \n",
            "                                                                 \n",
            " global_average_pooling2d (G  (None, 512)              0         \n",
            " lobalAveragePooling2D)                                          \n",
            "                                                                 \n",
            " flatten (Flatten)           (None, 512)               0         \n",
            "                                                                 \n",
            " dropout (Dropout)           (None, 512)               0         \n",
            "                                                                 \n",
            " dense (Dense)               (None, 1024)              525312    \n",
            "                                                                 \n",
            " dropout_1 (Dropout)         (None, 1024)              0         \n",
            "                                                                 \n",
            " dense_1 (Dense)             (None, 512)               524800    \n",
            "                                                                 \n",
            " dense_2 (Dense)             (None, 64)                32832     \n",
            "                                                                 \n",
            " output_1 (Dense)            (None, 2)                 130       \n",
            "                                                                 \n",
            "=================================================================\n",
            "Total params: 21,106,306\n",
            "Trainable params: 21,106,306\n",
            "Non-trainable params: 0\n",
            "_________________________________________________________________\n"
          ]
        }
      ],
      "source": [
        "print(\"Model VGG 19 Exp 1 Part C\")\n",
        "model = get_model_VGG19_gray()\n",
        "model.load_weights(E1_dir+C_dir+'/VGG19_imagenet_posyneg_normal.h5')"
      ]
    },
    {
      "cell_type": "code",
      "execution_count": null,
      "metadata": {
        "id": "uXvYvGZbKOGv"
      },
      "outputs": [],
      "source": [
        "predictions=model.predict(X_test)\n",
        "y_pred_bool = np.argmax(predictions, axis=-1)\n",
        "y_hat=np.argmax(y_test,axis=-1)"
      ]
    },
    {
      "cell_type": "code",
      "execution_count": null,
      "metadata": {
        "id": "6kKGU3jsKSNK",
        "colab": {
          "base_uri": "https://localhost:8080/",
          "height": 766
        },
        "outputId": "4d1870f0-ee6b-4c7c-e748-39c378ec6560"
      },
      "outputs": [
        {
          "output_type": "stream",
          "name": "stdout",
          "text": [
            "Accuracy: 0.9483126868859462\n",
            "F1 score: 0.9479903586239842\n",
            "Recall: 0.9483126868859462\n",
            "Precision: 0.9479023273473041\n",
            "\n",
            " clasification report:\n",
            "               precision    recall  f1-score   support\n",
            "\n",
            "           0       0.92      0.88      0.90      1228\n",
            "           1       0.96      0.97      0.97      3454\n",
            "\n",
            "    accuracy                           0.95      4682\n",
            "   macro avg       0.94      0.93      0.93      4682\n",
            "weighted avg       0.95      0.95      0.95      4682\n",
            "\n",
            "\n",
            " confusion matrix:\n",
            " [[1084  144]\n",
            " [  98 3356]]\n"
          ]
        },
        {
          "output_type": "execute_result",
          "data": {
            "text/plain": [
              "            TP    TN   FP   FN Accuracy Prevalence Sensitivity Specificity  \\\n",
              "                                                                             \n",
              "No-Covid  1084  3356   98  144    0.958      0.262       0.883       0.972   \n",
              "Covid     3356  1084  144   98    0.939      0.738       0.972       0.883   \n",
              "\n",
              "            PPV    NPV    AUC     F1 Threshold  \n",
              "                                                \n",
              "No-Covid  0.917  0.959  0.979    0.9       0.5  \n",
              "Covid     0.959  0.917  0.979  0.965       0.5  "
            ],
            "text/html": [
              "\n",
              "  <div id=\"df-08a29635-be5a-4922-845b-32425cd7d18f\">\n",
              "    <div class=\"colab-df-container\">\n",
              "      <div>\n",
              "<style scoped>\n",
              "    .dataframe tbody tr th:only-of-type {\n",
              "        vertical-align: middle;\n",
              "    }\n",
              "\n",
              "    .dataframe tbody tr th {\n",
              "        vertical-align: top;\n",
              "    }\n",
              "\n",
              "    .dataframe thead th {\n",
              "        text-align: right;\n",
              "    }\n",
              "</style>\n",
              "<table border=\"1\" class=\"dataframe\">\n",
              "  <thead>\n",
              "    <tr style=\"text-align: right;\">\n",
              "      <th></th>\n",
              "      <th>TP</th>\n",
              "      <th>TN</th>\n",
              "      <th>FP</th>\n",
              "      <th>FN</th>\n",
              "      <th>Accuracy</th>\n",
              "      <th>Prevalence</th>\n",
              "      <th>Sensitivity</th>\n",
              "      <th>Specificity</th>\n",
              "      <th>PPV</th>\n",
              "      <th>NPV</th>\n",
              "      <th>AUC</th>\n",
              "      <th>F1</th>\n",
              "      <th>Threshold</th>\n",
              "    </tr>\n",
              "    <tr>\n",
              "      <th></th>\n",
              "      <th></th>\n",
              "      <th></th>\n",
              "      <th></th>\n",
              "      <th></th>\n",
              "      <th></th>\n",
              "      <th></th>\n",
              "      <th></th>\n",
              "      <th></th>\n",
              "      <th></th>\n",
              "      <th></th>\n",
              "      <th></th>\n",
              "      <th></th>\n",
              "      <th></th>\n",
              "    </tr>\n",
              "  </thead>\n",
              "  <tbody>\n",
              "    <tr>\n",
              "      <th>No-Covid</th>\n",
              "      <td>1084</td>\n",
              "      <td>3356</td>\n",
              "      <td>98</td>\n",
              "      <td>144</td>\n",
              "      <td>0.958</td>\n",
              "      <td>0.262</td>\n",
              "      <td>0.883</td>\n",
              "      <td>0.972</td>\n",
              "      <td>0.917</td>\n",
              "      <td>0.959</td>\n",
              "      <td>0.979</td>\n",
              "      <td>0.9</td>\n",
              "      <td>0.5</td>\n",
              "    </tr>\n",
              "    <tr>\n",
              "      <th>Covid</th>\n",
              "      <td>3356</td>\n",
              "      <td>1084</td>\n",
              "      <td>144</td>\n",
              "      <td>98</td>\n",
              "      <td>0.939</td>\n",
              "      <td>0.738</td>\n",
              "      <td>0.972</td>\n",
              "      <td>0.883</td>\n",
              "      <td>0.959</td>\n",
              "      <td>0.917</td>\n",
              "      <td>0.979</td>\n",
              "      <td>0.965</td>\n",
              "      <td>0.5</td>\n",
              "    </tr>\n",
              "  </tbody>\n",
              "</table>\n",
              "</div>\n",
              "      <button class=\"colab-df-convert\" onclick=\"convertToInteractive('df-08a29635-be5a-4922-845b-32425cd7d18f')\"\n",
              "              title=\"Convert this dataframe to an interactive table.\"\n",
              "              style=\"display:none;\">\n",
              "        \n",
              "  <svg xmlns=\"http://www.w3.org/2000/svg\" height=\"24px\"viewBox=\"0 0 24 24\"\n",
              "       width=\"24px\">\n",
              "    <path d=\"M0 0h24v24H0V0z\" fill=\"none\"/>\n",
              "    <path d=\"M18.56 5.44l.94 2.06.94-2.06 2.06-.94-2.06-.94-.94-2.06-.94 2.06-2.06.94zm-11 1L8.5 8.5l.94-2.06 2.06-.94-2.06-.94L8.5 2.5l-.94 2.06-2.06.94zm10 10l.94 2.06.94-2.06 2.06-.94-2.06-.94-.94-2.06-.94 2.06-2.06.94z\"/><path d=\"M17.41 7.96l-1.37-1.37c-.4-.4-.92-.59-1.43-.59-.52 0-1.04.2-1.43.59L10.3 9.45l-7.72 7.72c-.78.78-.78 2.05 0 2.83L4 21.41c.39.39.9.59 1.41.59.51 0 1.02-.2 1.41-.59l7.78-7.78 2.81-2.81c.8-.78.8-2.07 0-2.86zM5.41 20L4 18.59l7.72-7.72 1.47 1.35L5.41 20z\"/>\n",
              "  </svg>\n",
              "      </button>\n",
              "      \n",
              "  <style>\n",
              "    .colab-df-container {\n",
              "      display:flex;\n",
              "      flex-wrap:wrap;\n",
              "      gap: 12px;\n",
              "    }\n",
              "\n",
              "    .colab-df-convert {\n",
              "      background-color: #E8F0FE;\n",
              "      border: none;\n",
              "      border-radius: 50%;\n",
              "      cursor: pointer;\n",
              "      display: none;\n",
              "      fill: #1967D2;\n",
              "      height: 32px;\n",
              "      padding: 0 0 0 0;\n",
              "      width: 32px;\n",
              "    }\n",
              "\n",
              "    .colab-df-convert:hover {\n",
              "      background-color: #E2EBFA;\n",
              "      box-shadow: 0px 1px 2px rgba(60, 64, 67, 0.3), 0px 1px 3px 1px rgba(60, 64, 67, 0.15);\n",
              "      fill: #174EA6;\n",
              "    }\n",
              "\n",
              "    [theme=dark] .colab-df-convert {\n",
              "      background-color: #3B4455;\n",
              "      fill: #D2E3FC;\n",
              "    }\n",
              "\n",
              "    [theme=dark] .colab-df-convert:hover {\n",
              "      background-color: #434B5C;\n",
              "      box-shadow: 0px 1px 3px 1px rgba(0, 0, 0, 0.15);\n",
              "      filter: drop-shadow(0px 1px 2px rgba(0, 0, 0, 0.3));\n",
              "      fill: #FFFFFF;\n",
              "    }\n",
              "  </style>\n",
              "\n",
              "      <script>\n",
              "        const buttonEl =\n",
              "          document.querySelector('#df-08a29635-be5a-4922-845b-32425cd7d18f button.colab-df-convert');\n",
              "        buttonEl.style.display =\n",
              "          google.colab.kernel.accessAllowed ? 'block' : 'none';\n",
              "\n",
              "        async function convertToInteractive(key) {\n",
              "          const element = document.querySelector('#df-08a29635-be5a-4922-845b-32425cd7d18f');\n",
              "          const dataTable =\n",
              "            await google.colab.kernel.invokeFunction('convertToInteractive',\n",
              "                                                     [key], {});\n",
              "          if (!dataTable) return;\n",
              "\n",
              "          const docLinkHtml = 'Like what you see? Visit the ' +\n",
              "            '<a target=\"_blank\" href=https://colab.research.google.com/notebooks/data_table.ipynb>data table notebook</a>'\n",
              "            + ' to learn more about interactive tables.';\n",
              "          element.innerHTML = '';\n",
              "          dataTable['output_type'] = 'display_data';\n",
              "          await google.colab.output.renderOutput(dataTable, element);\n",
              "          const docLink = document.createElement('div');\n",
              "          docLink.innerHTML = docLinkHtml;\n",
              "          element.appendChild(docLink);\n",
              "        }\n",
              "      </script>\n",
              "    </div>\n",
              "  </div>\n",
              "  "
            ]
          },
          "metadata": {},
          "execution_count": 81
        },
        {
          "output_type": "display_data",
          "data": {
            "text/plain": [
              "<Figure size 648x360 with 2 Axes>"
            ],
            "image/png": "[encoded data removed]"
          },
          "metadata": {}
        }
      ],
      "source": [
        "metrics(y_hat,y_pred_bool,log_dir,'VGG19_imagenet_Covid_pos_vs_neg')\n",
        "labels = [\"No-Covid\",\"Covid\"]\n",
        "get_performance_metrics(y_test,predictions,labels, acc=get_accuracy, prevalence=get_prevalence, \n",
        "                        sens=get_sensitivity, spec=get_specificity, ppv=get_ppv, npv=get_npv, auc=roc_auc_score,f1=f1_score)"
      ]
    },
    {
      "cell_type": "code",
      "execution_count": null,
      "metadata": {
        "id": "mrodqpSDKTeM",
        "colab": {
          "base_uri": "https://localhost:8080/",
          "height": 458
        },
        "outputId": "3bd08b12-5e26-4a1d-eef7-844ca6a222bb"
      },
      "outputs": [
        {
          "output_type": "display_data",
          "data": {
            "text/plain": [
              "<Figure size 504x504 with 1 Axes>"
            ],
            "image/png": "[encoded data removed]"
          },
          "metadata": {}
        }
      ],
      "source": [
        "#ROC_CURVE \n",
        "get_curve(y_test,predictions,labels,log_dir,'VGG19_imagenet_Covid_pos_vs_neg',curve='roc')"
      ]
    },
    {
      "cell_type": "code",
      "source": [
        "#PRC curve\n",
        "get_curve(y_test,predictions,labels,log_dir,'VGG19_imagenet_Covid_pos_vs_neg',curve='prc')"
      ],
      "metadata": {
        "colab": {
          "base_uri": "https://localhost:8080/",
          "height": 478
        },
        "id": "uCLGPj6ri1a0",
        "outputId": "c17f767c-22c1-4e9d-b0f1-bef8a9c5fbb3"
      },
      "execution_count": null,
      "outputs": [
        {
          "output_type": "display_data",
          "data": {
            "text/plain": [
              "<Figure size 504x504 with 1 Axes>"
            ],
            "image/png": "[encoded data removed]"
          },
          "metadata": {}
        }
      ]
    },
    {
      "cell_type": "markdown",
      "metadata": {
        "id": "EA3j2BzEI_P7"
      },
      "source": [
        "###Part D"
      ]
    },
    {
      "cell_type": "code",
      "execution_count": null,
      "metadata": {
        "id": "SCXFMm1DI_P8"
      },
      "outputs": [],
      "source": [
        "D_dir = '/Segmented'"
      ]
    },
    {
      "cell_type": "code",
      "execution_count": null,
      "metadata": {
        "id": "GYu2Tv_FI_P8"
      },
      "outputs": [],
      "source": [
        "X_train_P = np.load(P_dir + D_dir + '/X_pos_Seg_Train.npy')\n",
        "X_test_P = np.load(P_dir + D_dir + '/X_pos_Seg_Test.npy')\n",
        "X_dev_P = np.load(P_dir + D_dir + '/X_pos_Seg_Dev.npy')"
      ]
    },
    {
      "cell_type": "code",
      "execution_count": null,
      "metadata": {
        "id": "ekJ65qV8I_P9"
      },
      "outputs": [],
      "source": [
        "X_train_N = np.load(N1_dir + D_dir + '/X_neg_Seg_Train.npy')\n",
        "X_test_N = np.load(N1_dir + D_dir + '/X_neg_Seg_Test.npy')\n",
        "X_dev_N = np.load(N1_dir + D_dir + '/X_neg_Seg_Dev.npy')"
      ]
    },
    {
      "cell_type": "code",
      "execution_count": null,
      "metadata": {
        "id": "RqinGCzSI_P-"
      },
      "outputs": [],
      "source": [
        "X_train=np.concatenate((X_train_N,X_train_P))\n",
        "X_dev=np.concatenate((X_dev_N,X_dev_P))\n",
        "X_test=np.concatenate((X_test_N,X_test_P))"
      ]
    },
    {
      "cell_type": "code",
      "execution_count": null,
      "metadata": {
        "id": "swZYAQ-CI_P-"
      },
      "outputs": [],
      "source": [
        "y_train_N=np.array([[1,0]]*len(X_train_N))\n",
        "y_dev_N=np.array([[1,0]]*len(X_dev_N))\n",
        "y_test_N=np.array([[1,0]]*len(X_test_N))\n",
        "\n",
        "y_train_P=np.array([[0,1]]*len(X_train_P))\n",
        "y_dev_P=np.array([[0,1]]*len(X_dev_P))\n",
        "y_test_P=np.array([[0,1]]*len(X_test_P))"
      ]
    },
    {
      "cell_type": "code",
      "execution_count": null,
      "metadata": {
        "id": "2YAACmXyI_P_"
      },
      "outputs": [],
      "source": [
        "y_train=np.concatenate((y_train_N,y_train_P))\n",
        "y_dev=np.concatenate((y_dev_N,y_dev_P))\n",
        "y_test=np.concatenate((y_test_N,y_test_P))"
      ]
    },
    {
      "cell_type": "code",
      "execution_count": null,
      "metadata": {
        "id": "IgnhJeFEI_QA"
      },
      "outputs": [],
      "source": [
        "#Min_max scaled\n",
        "X_train,y_train=min_max_preprocessing(X_train,y_train)\n",
        "X_dev,y_dev=min_max_preprocessing(X_dev,y_dev)\n",
        "X_test,y_test=min_max_preprocessing(X_test,y_test)"
      ]
    },
    {
      "cell_type": "code",
      "execution_count": null,
      "metadata": {
        "id": "9GBUtBGZI_QA"
      },
      "outputs": [],
      "source": [
        "X_train = np.float32(X_train)\n",
        "X_dev = np.float32(X_dev)\n",
        "X_test = np.float32(X_test)"
      ]
    },
    {
      "cell_type": "code",
      "execution_count": null,
      "metadata": {
        "id": "sLR_w_gNI_QB"
      },
      "outputs": [],
      "source": [
        "#std normalization\n",
        "X_train,y_train,mean,std=samplewise_preprocessing(X_train,y_train)"
      ]
    },
    {
      "cell_type": "code",
      "execution_count": null,
      "metadata": {
        "id": "CbLYyc91I_QB"
      },
      "outputs": [],
      "source": [
        "X_dev=featurewise_preprocessing(X_dev,mean,std)\n",
        "X_test=featurewise_preprocessing(X_test,mean,std)"
      ]
    },
    {
      "cell_type": "markdown",
      "metadata": {
        "id": "cTyU8yTvI_QB"
      },
      "source": [
        "#### Train Models (GPU) "
      ]
    },
    {
      "cell_type": "code",
      "execution_count": null,
      "metadata": {
        "id": "iZTTtNSAI_QC"
      },
      "outputs": [],
      "source": [
        "log_dir=\"../results/\""
      ]
    },
    {
      "cell_type": "code",
      "execution_count": null,
      "metadata": {
        "id": "27f5nXqHI_QC"
      },
      "outputs": [],
      "source": [
        "class_weight= get_weight(np.argmax(y_train,axis=-1))"
      ]
    },
    {
      "cell_type": "code",
      "execution_count": null,
      "metadata": {
        "id": "iGBDM1oWI_QE"
      },
      "outputs": [],
      "source": [
        "print(\"Getting Base Model\")\n",
        "model = get_model_VGG16_gray()"
      ]
    },
    {
      "cell_type": "code",
      "execution_count": null,
      "metadata": {
        "id": "KGdryldpI_QF",
        "scrolled": true
      },
      "outputs": [],
      "source": [
        "model_name='VGG16_imagenet_Covid_pos_vs_neg_seg'\n",
        "filepath = log_dir+\"Saved_models/\"+model_name+\".h5\"\n",
        "checkpoint = tf.keras.callbacks.ModelCheckpoint(filepath, monitor='val_accuracy', save_best_only=True, mode='max')\n",
        "history=model.fit(X_train, y_train, epochs=100, batch_size=64, validation_data=(X_dev, y_dev),class_weight=class_weight,callbacks=[checkpoint])"
      ]
    },
    {
      "cell_type": "code",
      "execution_count": null,
      "metadata": {
        "id": "M7mmkmnyI_QG"
      },
      "outputs": [],
      "source": [
        "print(\"Getting Base Model\")\n",
        "model = get_model_VGG19_gray()"
      ]
    },
    {
      "cell_type": "code",
      "execution_count": null,
      "metadata": {
        "id": "NJS2UeppI_QG"
      },
      "outputs": [],
      "source": [
        "model_name='VGG19_imagenet_Covid_pos_vs_neg_seg'\n",
        "filepath = log_dir+\"Saved_models/\"+model_name+\".h5\"\n",
        "checkpoint = tf.keras.callbacks.ModelCheckpoint(filepath, monitor='val_accuracy', save_best_only=True, mode='max')\n",
        "history=model.fit(X_train, y_train, epochs=100, batch_size=64, validation_data=(X_dev, y_dev),class_weight=class_weight,callbacks=[checkpoint])"
      ]
    },
    {
      "cell_type": "markdown",
      "metadata": {
        "id": "FHXx5QFoI_QH"
      },
      "source": [
        "#### Prediction"
      ]
    },
    {
      "cell_type": "code",
      "execution_count": null,
      "metadata": {
        "id": "Lutae348I_QH",
        "outputId": "4708cda2-6bb6-4d5c-fae8-d05141ae3152"
      },
      "outputs": [
        {
          "name": "stdout",
          "output_type": "stream",
          "text": [
            "Model VGG 16 Exp 1 Part D\n",
            "Model: \"model_5\"\n",
            "_________________________________________________________________\n",
            "Layer (type)                 Output Shape              Param #   \n",
            "=================================================================\n",
            "224_input (InputLayer)       [(None, 224, 224, 1)]     0         \n",
            "_________________________________________________________________\n",
            "224_block1_conv1 (Conv2D)    (None, 224, 224, 64)      640       \n",
            "_________________________________________________________________\n",
            "224_block1_conv2 (Conv2D)    (None, 224, 224, 64)      36928     \n",
            "_________________________________________________________________\n",
            "224_block1_pool (MaxPooling2 (None, 112, 112, 64)      0         \n",
            "_________________________________________________________________\n",
            "224_block2_conv1 (Conv2D)    (None, 112, 112, 128)     73856     \n",
            "_________________________________________________________________\n",
            "224_block2_conv2 (Conv2D)    (None, 112, 112, 128)     147584    \n",
            "_________________________________________________________________\n",
            "224_block2_pool (MaxPooling2 (None, 56, 56, 128)       0         \n",
            "_________________________________________________________________\n",
            "224_block3_conv1 (Conv2D)    (None, 56, 56, 256)       295168    \n",
            "_________________________________________________________________\n",
            "224_block3_conv2 (Conv2D)    (None, 56, 56, 256)       590080    \n",
            "_________________________________________________________________\n",
            "224_block3_conv3 (Conv2D)    (None, 56, 56, 256)       590080    \n",
            "_________________________________________________________________\n",
            "224_block3_pool (MaxPooling2 (None, 28, 28, 256)       0         \n",
            "_________________________________________________________________\n",
            "224_block4_conv1 (Conv2D)    (None, 28, 28, 512)       1180160   \n",
            "_________________________________________________________________\n",
            "224_block4_conv2 (Conv2D)    (None, 28, 28, 512)       2359808   \n",
            "_________________________________________________________________\n",
            "224_block4_conv3 (Conv2D)    (None, 28, 28, 512)       2359808   \n",
            "_________________________________________________________________\n",
            "224_block4_pool (MaxPooling2 (None, 14, 14, 512)       0         \n",
            "_________________________________________________________________\n",
            "224_block5_conv1 (Conv2D)    (None, 14, 14, 512)       2359808   \n",
            "_________________________________________________________________\n",
            "224_block5_conv2 (Conv2D)    (None, 14, 14, 512)       2359808   \n",
            "_________________________________________________________________\n",
            "224_block5_conv3 (Conv2D)    (None, 14, 14, 512)       2359808   \n",
            "_________________________________________________________________\n",
            "224_block5_pool (MaxPooling2 (None, 1, 1, 512)         0         \n",
            "_________________________________________________________________\n",
            "global_average_pooling2d_2 ( (None, 512)               0         \n",
            "_________________________________________________________________\n",
            "flatten_2 (Flatten)          (None, 512)               0         \n",
            "_________________________________________________________________\n",
            "dropout_4 (Dropout)          (None, 512)               0         \n",
            "_________________________________________________________________\n",
            "dense_6 (Dense)              (None, 1024)              525312    \n",
            "_________________________________________________________________\n",
            "dropout_5 (Dropout)          (None, 1024)              0         \n",
            "_________________________________________________________________\n",
            "dense_7 (Dense)              (None, 512)               524800    \n",
            "_________________________________________________________________\n",
            "dense_8 (Dense)              (None, 64)                32832     \n",
            "_________________________________________________________________\n",
            "output_1 (Dense)             (None, 2)                 130       \n",
            "=================================================================\n",
            "Total params: 15,796,610\n",
            "Trainable params: 15,796,610\n",
            "Non-trainable params: 0\n",
            "_________________________________________________________________\n"
          ]
        }
      ],
      "source": [
        "print(\"Model VGG 16 Exp 1 Part D\")\n",
        "model = get_model_VGG16_gray()\n",
        "model.load_weights(E1_dir+D_dir+'/VGG16_imagenet_posyneg_seg.h5')"
      ]
    },
    {
      "cell_type": "code",
      "execution_count": null,
      "metadata": {
        "id": "yNBjg97XI_QH"
      },
      "outputs": [],
      "source": [
        "predictions=model.predict(X_test)\n",
        "y_pred_bool = np.argmax(predictions, axis=-1)\n",
        "y_hat=np.argmax(y_test,axis=-1)"
      ]
    },
    {
      "cell_type": "code",
      "execution_count": null,
      "metadata": {
        "id": "YNe-QTWCI_QI",
        "outputId": "550f3b01-8efc-4ab2-8414-9d9ae4725ea2"
      },
      "outputs": [
        {
          "name": "stdout",
          "output_type": "stream",
          "text": [
            "Accuracy: 0.8989747970952584\n",
            "F1 score: 0.9005123417590893\n",
            "Recall: 0.8989747970952584\n",
            "Precision: 0.9035698918989583\n",
            "\n",
            " clasification report:\n",
            "               precision    recall  f1-score   support\n",
            "\n",
            "           0       0.78      0.86      0.82      1228\n",
            "           1       0.95      0.91      0.93      3454\n",
            "\n",
            "    accuracy                           0.90      4682\n",
            "   macro avg       0.86      0.89      0.87      4682\n",
            "weighted avg       0.90      0.90      0.90      4682\n",
            "\n",
            "\n",
            " confusion matrix:\n",
            " [[1055  173]\n",
            " [ 300 3154]]\n"
          ]
        },
        {
          "data": {
            "text/html": [
              "<div>\n",
              "<style scoped>\n",
              "    .dataframe tbody tr th:only-of-type {\n",
              "        vertical-align: middle;\n",
              "    }\n",
              "\n",
              "    .dataframe tbody tr th {\n",
              "        vertical-align: top;\n",
              "    }\n",
              "\n",
              "    .dataframe thead th {\n",
              "        text-align: right;\n",
              "    }\n",
              "</style>\n",
              "<table border=\"1\" class=\"dataframe\">\n",
              "  <thead>\n",
              "    <tr style=\"text-align: right;\">\n",
              "      <th></th>\n",
              "      <th>TP</th>\n",
              "      <th>TN</th>\n",
              "      <th>FP</th>\n",
              "      <th>FN</th>\n",
              "      <th>Accuracy</th>\n",
              "      <th>Prevalence</th>\n",
              "      <th>Sensitivity</th>\n",
              "      <th>Specificity</th>\n",
              "      <th>PPV</th>\n",
              "      <th>NPV</th>\n",
              "      <th>AUC</th>\n",
              "      <th>F1</th>\n",
              "      <th>Threshold</th>\n",
              "    </tr>\n",
              "    <tr>\n",
              "      <th></th>\n",
              "      <th></th>\n",
              "      <th></th>\n",
              "      <th></th>\n",
              "      <th></th>\n",
              "      <th></th>\n",
              "      <th></th>\n",
              "      <th></th>\n",
              "      <th></th>\n",
              "      <th></th>\n",
              "      <th></th>\n",
              "      <th></th>\n",
              "      <th></th>\n",
              "      <th></th>\n",
              "    </tr>\n",
              "  </thead>\n",
              "  <tbody>\n",
              "    <tr>\n",
              "      <th>No-Covid</th>\n",
              "      <td>1055</td>\n",
              "      <td>3154</td>\n",
              "      <td>300</td>\n",
              "      <td>173</td>\n",
              "      <td>0.875</td>\n",
              "      <td>0.262</td>\n",
              "      <td>0.859</td>\n",
              "      <td>0.913</td>\n",
              "      <td>0.779</td>\n",
              "      <td>0.948</td>\n",
              "      <td>0.962</td>\n",
              "      <td>0.817</td>\n",
              "      <td>0.5</td>\n",
              "    </tr>\n",
              "    <tr>\n",
              "      <th>Covid</th>\n",
              "      <td>3154</td>\n",
              "      <td>1055</td>\n",
              "      <td>173</td>\n",
              "      <td>300</td>\n",
              "      <td>0.924</td>\n",
              "      <td>0.738</td>\n",
              "      <td>0.913</td>\n",
              "      <td>0.859</td>\n",
              "      <td>0.948</td>\n",
              "      <td>0.779</td>\n",
              "      <td>0.962</td>\n",
              "      <td>0.93</td>\n",
              "      <td>0.5</td>\n",
              "    </tr>\n",
              "  </tbody>\n",
              "</table>\n",
              "</div>"
            ],
            "text/plain": [
              "            TP    TN   FP   FN Accuracy Prevalence Sensitivity Specificity  \\\n",
              "                                                                             \n",
              "No-Covid  1055  3154  300  173    0.875      0.262       0.859       0.913   \n",
              "Covid     3154  1055  173  300    0.924      0.738       0.913       0.859   \n",
              "\n",
              "            PPV    NPV    AUC     F1 Threshold  \n",
              "                                                \n",
              "No-Covid  0.779  0.948  0.962  0.817       0.5  \n",
              "Covid     0.948  0.779  0.962   0.93       0.5  "
            ]
          },
          "execution_count": 44,
          "metadata": {},
          "output_type": "execute_result"
        }
      ],
      "source": [
        "metrics(y_hat,y_pred_bool,log_dir,'VGG16_imagenet_Covid_pos_vs_neg_seg')\n",
        "labels = [\"No-Covid\",\"Covid\"]\n",
        "get_performance_metrics(y_test,predictions,labels, acc=get_accuracy, prevalence=get_prevalence, \n",
        "                        sens=get_sensitivity, spec=get_specificity, ppv=get_ppv, npv=get_npv, auc=roc_auc_score,f1=f1_score)"
      ]
    },
    {
      "cell_type": "code",
      "execution_count": null,
      "metadata": {
        "id": "hIjVd9UUI_QI"
      },
      "outputs": [],
      "source": [
        "#ROC_CURVE \n",
        "get_curve(y_test,predictions,labels,log_dir,'VGG16_imagenet_Covid_pos_vs_neg_seg',curve='roc')"
      ]
    },
    {
      "cell_type": "code",
      "execution_count": null,
      "metadata": {
        "id": "ztKE6Hv2J_L2",
        "outputId": "89b341ad-523b-45f9-ddd6-71814ccb74a9"
      },
      "outputs": [
        {
          "name": "stdout",
          "output_type": "stream",
          "text": [
            "Model VGG 19 Exp 1 Part D\n",
            "Model: \"model_7\"\n",
            "_________________________________________________________________\n",
            "Layer (type)                 Output Shape              Param #   \n",
            "=================================================================\n",
            "224_input (InputLayer)       [(None, 224, 224, 1)]     0         \n",
            "_________________________________________________________________\n",
            "224_block1_conv1 (Conv2D)    (None, 224, 224, 64)      640       \n",
            "_________________________________________________________________\n",
            "224_block1_conv2 (Conv2D)    (None, 224, 224, 64)      36928     \n",
            "_________________________________________________________________\n",
            "224_block1_pool (MaxPooling2 (None, 112, 112, 64)      0         \n",
            "_________________________________________________________________\n",
            "224_block2_conv1 (Conv2D)    (None, 112, 112, 128)     73856     \n",
            "_________________________________________________________________\n",
            "224_block2_conv2 (Conv2D)    (None, 112, 112, 128)     147584    \n",
            "_________________________________________________________________\n",
            "224_block2_pool (MaxPooling2 (None, 56, 56, 128)       0         \n",
            "_________________________________________________________________\n",
            "224_block3_conv1 (Conv2D)    (None, 56, 56, 256)       295168    \n",
            "_________________________________________________________________\n",
            "224_block3_conv2 (Conv2D)    (None, 56, 56, 256)       590080    \n",
            "_________________________________________________________________\n",
            "224_block3_conv3 (Conv2D)    (None, 56, 56, 256)       590080    \n",
            "_________________________________________________________________\n",
            "224_block3_conv4 (Conv2D)    (None, 56, 56, 256)       590080    \n",
            "_________________________________________________________________\n",
            "224_block3_pool (MaxPooling2 (None, 28, 28, 256)       0         \n",
            "_________________________________________________________________\n",
            "224_block4_conv1 (Conv2D)    (None, 28, 28, 512)       1180160   \n",
            "_________________________________________________________________\n",
            "224_block4_conv2 (Conv2D)    (None, 28, 28, 512)       2359808   \n",
            "_________________________________________________________________\n",
            "224_block4_conv3 (Conv2D)    (None, 28, 28, 512)       2359808   \n",
            "_________________________________________________________________\n",
            "224_block4_conv4 (Conv2D)    (None, 28, 28, 512)       2359808   \n",
            "_________________________________________________________________\n",
            "224_block4_pool (MaxPooling2 (None, 14, 14, 512)       0         \n",
            "_________________________________________________________________\n",
            "224_block5_conv1 (Conv2D)    (None, 14, 14, 512)       2359808   \n",
            "_________________________________________________________________\n",
            "224_block5_conv2 (Conv2D)    (None, 14, 14, 512)       2359808   \n",
            "_________________________________________________________________\n",
            "224_block5_conv3 (Conv2D)    (None, 14, 14, 512)       2359808   \n",
            "_________________________________________________________________\n",
            "224_block5_conv4 (Conv2D)    (None, 14, 14, 512)       2359808   \n",
            "_________________________________________________________________\n",
            "224_block5_pool (MaxPooling2 (None, 1, 1, 512)         0         \n",
            "_________________________________________________________________\n",
            "global_average_pooling2d_3 ( (None, 512)               0         \n",
            "_________________________________________________________________\n",
            "flatten_3 (Flatten)          (None, 512)               0         \n",
            "_________________________________________________________________\n",
            "dropout_6 (Dropout)          (None, 512)               0         \n",
            "_________________________________________________________________\n",
            "dense_9 (Dense)              (None, 1024)              525312    \n",
            "_________________________________________________________________\n",
            "dropout_7 (Dropout)          (None, 1024)              0         \n",
            "_________________________________________________________________\n",
            "dense_10 (Dense)             (None, 512)               524800    \n",
            "_________________________________________________________________\n",
            "dense_11 (Dense)             (None, 64)                32832     \n",
            "_________________________________________________________________\n",
            "output_1 (Dense)             (None, 2)                 130       \n",
            "=================================================================\n",
            "Total params: 21,106,306\n",
            "Trainable params: 21,106,306\n",
            "Non-trainable params: 0\n",
            "_________________________________________________________________\n"
          ]
        }
      ],
      "source": [
        "print(\"Model VGG 19 Exp 1 Part D\")\n",
        "model = get_model_VGG19_gray()\n",
        "model.load_weights(E1_dir+D_dir+'/VGG19_imagenet_posyneg_seg.h5')"
      ]
    },
    {
      "cell_type": "code",
      "execution_count": null,
      "metadata": {
        "id": "Rr9Xy8NWKglk"
      },
      "outputs": [],
      "source": [
        "predictions=model.predict(X_test)\n",
        "y_pred_bool = np.argmax(predictions, axis=-1)\n",
        "y_hat=np.argmax(y_test,axis=-1)"
      ]
    },
    {
      "cell_type": "code",
      "execution_count": null,
      "metadata": {
        "id": "tv6dxnLbKilM",
        "outputId": "527aeab9-106d-4bbe-96b5-2db4e53d2e59"
      },
      "outputs": [
        {
          "name": "stdout",
          "output_type": "stream",
          "text": [
            "Accuracy: 0.9427595044852627\n",
            "F1 score: 0.9423704005713399\n",
            "Recall: 0.9427595044852627\n",
            "Precision: 0.9422559483228701\n",
            "\n",
            " clasification report:\n",
            "               precision    recall  f1-score   support\n",
            "\n",
            "           0       0.91      0.87      0.89      1228\n",
            "           1       0.95      0.97      0.96      3454\n",
            "\n",
            "    accuracy                           0.94      4682\n",
            "   macro avg       0.93      0.92      0.93      4682\n",
            "weighted avg       0.94      0.94      0.94      4682\n",
            "\n",
            "\n",
            " confusion matrix:\n",
            " [[1069  159]\n",
            " [ 109 3345]]\n"
          ]
        },
        {
          "data": {
            "text/html": [
              "<div>\n",
              "<style scoped>\n",
              "    .dataframe tbody tr th:only-of-type {\n",
              "        vertical-align: middle;\n",
              "    }\n",
              "\n",
              "    .dataframe tbody tr th {\n",
              "        vertical-align: top;\n",
              "    }\n",
              "\n",
              "    .dataframe thead th {\n",
              "        text-align: right;\n",
              "    }\n",
              "</style>\n",
              "<table border=\"1\" class=\"dataframe\">\n",
              "  <thead>\n",
              "    <tr style=\"text-align: right;\">\n",
              "      <th></th>\n",
              "      <th>TP</th>\n",
              "      <th>TN</th>\n",
              "      <th>FP</th>\n",
              "      <th>FN</th>\n",
              "      <th>Accuracy</th>\n",
              "      <th>Prevalence</th>\n",
              "      <th>Sensitivity</th>\n",
              "      <th>Specificity</th>\n",
              "      <th>PPV</th>\n",
              "      <th>NPV</th>\n",
              "      <th>AUC</th>\n",
              "      <th>F1</th>\n",
              "      <th>Threshold</th>\n",
              "    </tr>\n",
              "    <tr>\n",
              "      <th></th>\n",
              "      <th></th>\n",
              "      <th></th>\n",
              "      <th></th>\n",
              "      <th></th>\n",
              "      <th></th>\n",
              "      <th></th>\n",
              "      <th></th>\n",
              "      <th></th>\n",
              "      <th></th>\n",
              "      <th></th>\n",
              "      <th></th>\n",
              "      <th></th>\n",
              "      <th></th>\n",
              "    </tr>\n",
              "  </thead>\n",
              "  <tbody>\n",
              "    <tr>\n",
              "      <th>No-Covid</th>\n",
              "      <td>1069</td>\n",
              "      <td>3345</td>\n",
              "      <td>109</td>\n",
              "      <td>159</td>\n",
              "      <td>0.953</td>\n",
              "      <td>0.262</td>\n",
              "      <td>0.871</td>\n",
              "      <td>0.968</td>\n",
              "      <td>0.907</td>\n",
              "      <td>0.955</td>\n",
              "      <td>0.978</td>\n",
              "      <td>0.889</td>\n",
              "      <td>0.5</td>\n",
              "    </tr>\n",
              "    <tr>\n",
              "      <th>Covid</th>\n",
              "      <td>3345</td>\n",
              "      <td>1069</td>\n",
              "      <td>159</td>\n",
              "      <td>109</td>\n",
              "      <td>0.933</td>\n",
              "      <td>0.738</td>\n",
              "      <td>0.968</td>\n",
              "      <td>0.871</td>\n",
              "      <td>0.955</td>\n",
              "      <td>0.907</td>\n",
              "      <td>0.978</td>\n",
              "      <td>0.961</td>\n",
              "      <td>0.5</td>\n",
              "    </tr>\n",
              "  </tbody>\n",
              "</table>\n",
              "</div>"
            ],
            "text/plain": [
              "            TP    TN   FP   FN Accuracy Prevalence Sensitivity Specificity  \\\n",
              "                                                                             \n",
              "No-Covid  1069  3345  109  159    0.953      0.262       0.871       0.968   \n",
              "Covid     3345  1069  159  109    0.933      0.738       0.968       0.871   \n",
              "\n",
              "            PPV    NPV    AUC     F1 Threshold  \n",
              "                                                \n",
              "No-Covid  0.907  0.955  0.978  0.889       0.5  \n",
              "Covid     0.955  0.907  0.978  0.961       0.5  "
            ]
          },
          "execution_count": 48,
          "metadata": {},
          "output_type": "execute_result"
        }
      ],
      "source": [
        "metrics(y_hat,y_pred_bool,log_dir,'VGG19_imagenet_Covid_pos_vs_neg_seg')\n",
        "labels = [\"No-Covid\",\"Covid\"]\n",
        "get_performance_metrics(y_test,predictions,labels, acc=get_accuracy, prevalence=get_prevalence, \n",
        "                        sens=get_sensitivity, spec=get_specificity, ppv=get_ppv, npv=get_npv, auc=roc_auc_score,f1=f1_score)"
      ]
    },
    {
      "cell_type": "code",
      "execution_count": null,
      "metadata": {
        "id": "GzCYdU1XKj1r"
      },
      "outputs": [],
      "source": [
        "#ROC_CURVE \n",
        "get_curve(y_test,predictions,labels,log_dir,'VGG19_imagenet_Covid_pos_vs_neg_seg',curve='roc')"
      ]
    },
    {
      "cell_type": "markdown",
      "metadata": {
        "id": "THAqD-A-JEPA"
      },
      "source": [
        "###Part E"
      ]
    },
    {
      "cell_type": "code",
      "execution_count": null,
      "metadata": {
        "id": "jIsLXzHUJEPA"
      },
      "outputs": [],
      "source": [
        "E_dir = '/Inverted'"
      ]
    },
    {
      "cell_type": "code",
      "execution_count": null,
      "metadata": {
        "colab": {
          "background_save": true
        },
        "id": "1AcXehm4JEPB"
      },
      "outputs": [],
      "source": [
        "X_train_P = np.load(P_dir + E_dir + '/X_pos_Seg_i2_Train.npy')\n",
        "X_test_P = np.load(P_dir + E_dir + '/X_pos_Seg_i2_Test.npy')\n",
        "X_dev_P = np.load(P_dir + E_dir + '/X_pos_Seg_i2_Dev.npy')"
      ]
    },
    {
      "cell_type": "code",
      "execution_count": null,
      "metadata": {
        "id": "B-dT8reLJEPB"
      },
      "outputs": [],
      "source": [
        "X_train_N = np.load(N1_dir + E_dir + '/X_neg_Seg_i_Train.npy')\n",
        "X_test_N = np.load(N1_dir + E_dir + '/X_neg_Seg_i_Test.npy')\n",
        "X_dev_N = np.load(N1_dir + E_dir + '/X_neg_Seg_i_Dev.npy')"
      ]
    },
    {
      "cell_type": "code",
      "execution_count": null,
      "metadata": {
        "id": "a6C_66N-JEPC"
      },
      "outputs": [],
      "source": [
        "X_train=np.concatenate((X_train_N,X_train_P))\n",
        "X_dev=np.concatenate((X_dev_N,X_dev_P))\n",
        "X_test=np.concatenate((X_test_N,X_test_P))"
      ]
    },
    {
      "cell_type": "code",
      "execution_count": null,
      "metadata": {
        "id": "f0na2FUmJEPC"
      },
      "outputs": [],
      "source": [
        "y_train_N=np.array([[1,0]]*len(X_train_N))\n",
        "y_dev_N=np.array([[1,0]]*len(X_dev_N))\n",
        "y_test_N=np.array([[1,0]]*len(X_test_N))\n",
        "\n",
        "y_train_P=np.array([[0,1]]*len(X_train_P))\n",
        "y_dev_P=np.array([[0,1]]*len(X_dev_P))\n",
        "y_test_P=np.array([[0,1]]*len(X_test_P))"
      ]
    },
    {
      "cell_type": "code",
      "execution_count": null,
      "metadata": {
        "id": "2HBDinnUJEPC"
      },
      "outputs": [],
      "source": [
        "y_train=np.concatenate((y_train_N,y_train_P))\n",
        "y_dev=np.concatenate((y_dev_N,y_dev_P))\n",
        "y_test=np.concatenate((y_test_N,y_test_P))"
      ]
    },
    {
      "cell_type": "code",
      "execution_count": null,
      "metadata": {
        "id": "CKCMISIXJEPD"
      },
      "outputs": [],
      "source": [
        "#Min_max scaled\n",
        "X_train,y_train=min_max_preprocessing(X_train,y_train)\n",
        "X_dev,y_dev=min_max_preprocessing(X_dev,y_dev)\n",
        "X_test,y_test=min_max_preprocessing(X_test,y_test)"
      ]
    },
    {
      "cell_type": "code",
      "execution_count": null,
      "metadata": {
        "id": "8-WQCkBeJEPD"
      },
      "outputs": [],
      "source": [
        "X_train = np.float32(X_train)\n",
        "X_dev = np.float32(X_dev)\n",
        "X_test = np.float32(X_test)"
      ]
    },
    {
      "cell_type": "code",
      "execution_count": null,
      "metadata": {
        "id": "g3Ml9HWpJEPD"
      },
      "outputs": [],
      "source": [
        "#std normalization\n",
        "X_train,y_train,mean,std=samplewise_preprocessing(X_train,y_train)"
      ]
    },
    {
      "cell_type": "code",
      "execution_count": null,
      "metadata": {
        "id": "bK3yPIvdJEPE"
      },
      "outputs": [],
      "source": [
        "X_dev=featurewise_preprocessing(X_dev,mean,std)\n",
        "X_test=featurewise_preprocessing(X_test,mean,std)"
      ]
    },
    {
      "cell_type": "markdown",
      "metadata": {
        "id": "Vu1x-OHiJEPE"
      },
      "source": [
        "#### Train Models (GPU) "
      ]
    },
    {
      "cell_type": "code",
      "execution_count": null,
      "metadata": {
        "id": "9D5Jh8ivJEPE"
      },
      "outputs": [],
      "source": [
        "log_dir=\"../results/\""
      ]
    },
    {
      "cell_type": "code",
      "execution_count": null,
      "metadata": {
        "id": "QHbRGMvHJEPF"
      },
      "outputs": [],
      "source": [
        "class_weight= get_weight(np.argmax(y_train,axis=-1))"
      ]
    },
    {
      "cell_type": "code",
      "execution_count": null,
      "metadata": {
        "id": "f2NUvJ8YJEPF"
      },
      "outputs": [],
      "source": [
        "print(\"Getting Base Model\")\n",
        "model = get_model_VGG16_gray()"
      ]
    },
    {
      "cell_type": "code",
      "execution_count": null,
      "metadata": {
        "id": "6c4yyUOaJEPG",
        "scrolled": true
      },
      "outputs": [],
      "source": [
        "model_name='VGG16_imagenet_Covid_pos_vs_neg_inv'\n",
        "filepath = log_dir+\"Saved_models/\"+model_name+\".h5\"\n",
        "checkpoint = tf.keras.callbacks.ModelCheckpoint(filepath, monitor='val_accuracy', save_best_only=True, mode='max')\n",
        "history=model.fit(X_train, y_train, epochs=100, batch_size=64, validation_data=(X_dev, y_dev),class_weight=class_weight,callbacks=[checkpoint])"
      ]
    },
    {
      "cell_type": "code",
      "execution_count": null,
      "metadata": {
        "id": "jVB6g1fSJEPH"
      },
      "outputs": [],
      "source": [
        "print(\"Getting Base Model\")\n",
        "model = get_model_VGG19_gray()"
      ]
    },
    {
      "cell_type": "code",
      "execution_count": null,
      "metadata": {
        "id": "4j38HQIfJEPH"
      },
      "outputs": [],
      "source": [
        "model_name='VGG19_imagenet_Covid_pos_vs_neg_inv'\n",
        "filepath = log_dir+\"Saved_models/\"+model_name+\".h5\"\n",
        "checkpoint = tf.keras.callbacks.ModelCheckpoint(filepath, monitor='val_accuracy', save_best_only=True, mode='max')\n",
        "history=model.fit(X_train, y_train, epochs=100, batch_size=64, validation_data=(X_dev, y_dev),class_weight=class_weight,callbacks=[checkpoint])"
      ]
    },
    {
      "cell_type": "markdown",
      "metadata": {
        "id": "r90Tp8i5JEPH"
      },
      "source": [
        "#### Prediction"
      ]
    },
    {
      "cell_type": "code",
      "execution_count": null,
      "metadata": {
        "id": "yTbfaJg3JEPI",
        "outputId": "68ea22b6-2cf1-4c36-dad8-8e1e2964c92e"
      },
      "outputs": [
        {
          "name": "stdout",
          "output_type": "stream",
          "text": [
            "Model VGG 16 Exp 1 Part E\n",
            "Model: \"model_9\"\n",
            "_________________________________________________________________\n",
            "Layer (type)                 Output Shape              Param #   \n",
            "=================================================================\n",
            "224_input (InputLayer)       [(None, 224, 224, 1)]     0         \n",
            "_________________________________________________________________\n",
            "224_block1_conv1 (Conv2D)    (None, 224, 224, 64)      640       \n",
            "_________________________________________________________________\n",
            "224_block1_conv2 (Conv2D)    (None, 224, 224, 64)      36928     \n",
            "_________________________________________________________________\n",
            "224_block1_pool (MaxPooling2 (None, 112, 112, 64)      0         \n",
            "_________________________________________________________________\n",
            "224_block2_conv1 (Conv2D)    (None, 112, 112, 128)     73856     \n",
            "_________________________________________________________________\n",
            "224_block2_conv2 (Conv2D)    (None, 112, 112, 128)     147584    \n",
            "_________________________________________________________________\n",
            "224_block2_pool (MaxPooling2 (None, 56, 56, 128)       0         \n",
            "_________________________________________________________________\n",
            "224_block3_conv1 (Conv2D)    (None, 56, 56, 256)       295168    \n",
            "_________________________________________________________________\n",
            "224_block3_conv2 (Conv2D)    (None, 56, 56, 256)       590080    \n",
            "_________________________________________________________________\n",
            "224_block3_conv3 (Conv2D)    (None, 56, 56, 256)       590080    \n",
            "_________________________________________________________________\n",
            "224_block3_pool (MaxPooling2 (None, 28, 28, 256)       0         \n",
            "_________________________________________________________________\n",
            "224_block4_conv1 (Conv2D)    (None, 28, 28, 512)       1180160   \n",
            "_________________________________________________________________\n",
            "224_block4_conv2 (Conv2D)    (None, 28, 28, 512)       2359808   \n",
            "_________________________________________________________________\n",
            "224_block4_conv3 (Conv2D)    (None, 28, 28, 512)       2359808   \n",
            "_________________________________________________________________\n",
            "224_block4_pool (MaxPooling2 (None, 14, 14, 512)       0         \n",
            "_________________________________________________________________\n",
            "224_block5_conv1 (Conv2D)    (None, 14, 14, 512)       2359808   \n",
            "_________________________________________________________________\n",
            "224_block5_conv2 (Conv2D)    (None, 14, 14, 512)       2359808   \n",
            "_________________________________________________________________\n",
            "224_block5_conv3 (Conv2D)    (None, 14, 14, 512)       2359808   \n",
            "_________________________________________________________________\n",
            "224_block5_pool (MaxPooling2 (None, 1, 1, 512)         0         \n",
            "_________________________________________________________________\n",
            "global_average_pooling2d_4 ( (None, 512)               0         \n",
            "_________________________________________________________________\n",
            "flatten_4 (Flatten)          (None, 512)               0         \n",
            "_________________________________________________________________\n",
            "dropout_8 (Dropout)          (None, 512)               0         \n",
            "_________________________________________________________________\n",
            "dense_12 (Dense)             (None, 1024)              525312    \n",
            "_________________________________________________________________\n",
            "dropout_9 (Dropout)          (None, 1024)              0         \n",
            "_________________________________________________________________\n",
            "dense_13 (Dense)             (None, 512)               524800    \n",
            "_________________________________________________________________\n",
            "dense_14 (Dense)             (None, 64)                32832     \n",
            "_________________________________________________________________\n",
            "output_1 (Dense)             (None, 2)                 130       \n",
            "=================================================================\n",
            "Total params: 15,796,610\n",
            "Trainable params: 15,796,610\n",
            "Non-trainable params: 0\n",
            "_________________________________________________________________\n"
          ]
        }
      ],
      "source": [
        "print(\"Model VGG 16 Exp 1 Part E\")\n",
        "model = get_model_VGG16_gray()\n",
        "model.load_weights(E1_dir+E_dir+'/VGG16_imagenet_posyneg_seg_i.h5')"
      ]
    },
    {
      "cell_type": "code",
      "execution_count": null,
      "metadata": {
        "id": "Oy26vgJ6JEPI"
      },
      "outputs": [],
      "source": [
        "predictions=model.predict(X_test)\n",
        "y_pred_bool = np.argmax(predictions, axis=-1)\n",
        "y_hat=np.argmax(y_test,axis=-1)"
      ]
    },
    {
      "cell_type": "code",
      "execution_count": null,
      "metadata": {
        "id": "w0Pu5I8CJEPJ",
        "outputId": "50cf96ce-9f9b-4556-b6d3-d77a418bb19c"
      },
      "outputs": [
        {
          "name": "stdout",
          "output_type": "stream",
          "text": [
            "Accuracy: 0.9327210593763349\n",
            "F1 score: 0.9316607252330144\n",
            "Recall: 0.9327210593763349\n",
            "Precision: 0.9319726396362997\n",
            "\n",
            " clasification report:\n",
            "               precision    recall  f1-score   support\n",
            "\n",
            "           0       0.91      0.83      0.87      1228\n",
            "           1       0.94      0.97      0.96      3454\n",
            "\n",
            "    accuracy                           0.93      4682\n",
            "   macro avg       0.92      0.90      0.91      4682\n",
            "weighted avg       0.93      0.93      0.93      4682\n",
            "\n",
            "\n",
            " confusion matrix:\n",
            " [[1015  213]\n",
            " [ 102 3352]]\n"
          ]
        },
        {
          "data": {
            "text/html": [
              "<div>\n",
              "<style scoped>\n",
              "    .dataframe tbody tr th:only-of-type {\n",
              "        vertical-align: middle;\n",
              "    }\n",
              "\n",
              "    .dataframe tbody tr th {\n",
              "        vertical-align: top;\n",
              "    }\n",
              "\n",
              "    .dataframe thead th {\n",
              "        text-align: right;\n",
              "    }\n",
              "</style>\n",
              "<table border=\"1\" class=\"dataframe\">\n",
              "  <thead>\n",
              "    <tr style=\"text-align: right;\">\n",
              "      <th></th>\n",
              "      <th>TP</th>\n",
              "      <th>TN</th>\n",
              "      <th>FP</th>\n",
              "      <th>FN</th>\n",
              "      <th>Accuracy</th>\n",
              "      <th>Prevalence</th>\n",
              "      <th>Sensitivity</th>\n",
              "      <th>Specificity</th>\n",
              "      <th>PPV</th>\n",
              "      <th>NPV</th>\n",
              "      <th>AUC</th>\n",
              "      <th>F1</th>\n",
              "      <th>Threshold</th>\n",
              "    </tr>\n",
              "    <tr>\n",
              "      <th></th>\n",
              "      <th></th>\n",
              "      <th></th>\n",
              "      <th></th>\n",
              "      <th></th>\n",
              "      <th></th>\n",
              "      <th></th>\n",
              "      <th></th>\n",
              "      <th></th>\n",
              "      <th></th>\n",
              "      <th></th>\n",
              "      <th></th>\n",
              "      <th></th>\n",
              "      <th></th>\n",
              "    </tr>\n",
              "  </thead>\n",
              "  <tbody>\n",
              "    <tr>\n",
              "      <th>No-Covid</th>\n",
              "      <td>1015</td>\n",
              "      <td>3352</td>\n",
              "      <td>102</td>\n",
              "      <td>213</td>\n",
              "      <td>0.955</td>\n",
              "      <td>0.262</td>\n",
              "      <td>0.827</td>\n",
              "      <td>0.97</td>\n",
              "      <td>0.909</td>\n",
              "      <td>0.94</td>\n",
              "      <td>0.976</td>\n",
              "      <td>0.866</td>\n",
              "      <td>0.5</td>\n",
              "    </tr>\n",
              "    <tr>\n",
              "      <th>Covid</th>\n",
              "      <td>3352</td>\n",
              "      <td>1015</td>\n",
              "      <td>213</td>\n",
              "      <td>102</td>\n",
              "      <td>0.911</td>\n",
              "      <td>0.738</td>\n",
              "      <td>0.97</td>\n",
              "      <td>0.827</td>\n",
              "      <td>0.94</td>\n",
              "      <td>0.909</td>\n",
              "      <td>0.976</td>\n",
              "      <td>0.955</td>\n",
              "      <td>0.5</td>\n",
              "    </tr>\n",
              "  </tbody>\n",
              "</table>\n",
              "</div>"
            ],
            "text/plain": [
              "            TP    TN   FP   FN Accuracy Prevalence Sensitivity Specificity  \\\n",
              "                                                                             \n",
              "No-Covid  1015  3352  102  213    0.955      0.262       0.827        0.97   \n",
              "Covid     3352  1015  213  102    0.911      0.738        0.97       0.827   \n",
              "\n",
              "            PPV    NPV    AUC     F1 Threshold  \n",
              "                                                \n",
              "No-Covid  0.909   0.94  0.976  0.866       0.5  \n",
              "Covid      0.94  0.909  0.976  0.955       0.5  "
            ]
          },
          "execution_count": 62,
          "metadata": {},
          "output_type": "execute_result"
        }
      ],
      "source": [
        "metrics(y_hat,y_pred_bool,log_dir,'VGG16_imagenet_Covid_pos_vs_neg_inv')\n",
        "labels = [\"No-Covid\",\"Covid\"]\n",
        "get_performance_metrics(y_test,predictions,labels, acc=get_accuracy, prevalence=get_prevalence, \n",
        "                        sens=get_sensitivity, spec=get_specificity, ppv=get_ppv, npv=get_npv, auc=roc_auc_score,f1=f1_score)"
      ]
    },
    {
      "cell_type": "code",
      "execution_count": null,
      "metadata": {
        "id": "rQP7EEE9JEPJ"
      },
      "outputs": [],
      "source": [
        "#ROC_CURVE \n",
        "get_curve(y_test,predictions,labels,log_dir,'VGG16_imagenet_Covid_pos_vs_neg_inv',curve='roc')"
      ]
    },
    {
      "cell_type": "code",
      "execution_count": null,
      "metadata": {
        "id": "gB_tqEjIL7I2",
        "outputId": "d6bbb84c-e9ad-4121-be4f-f03b4e352027"
      },
      "outputs": [
        {
          "name": "stdout",
          "output_type": "stream",
          "text": [
            "Model VGG 19 Exp 1 Part E\n",
            "Model: \"model_11\"\n",
            "_________________________________________________________________\n",
            "Layer (type)                 Output Shape              Param #   \n",
            "=================================================================\n",
            "224_input (InputLayer)       [(None, 224, 224, 1)]     0         \n",
            "_________________________________________________________________\n",
            "224_block1_conv1 (Conv2D)    (None, 224, 224, 64)      640       \n",
            "_________________________________________________________________\n",
            "224_block1_conv2 (Conv2D)    (None, 224, 224, 64)      36928     \n",
            "_________________________________________________________________\n",
            "224_block1_pool (MaxPooling2 (None, 112, 112, 64)      0         \n",
            "_________________________________________________________________\n",
            "224_block2_conv1 (Conv2D)    (None, 112, 112, 128)     73856     \n",
            "_________________________________________________________________\n",
            "224_block2_conv2 (Conv2D)    (None, 112, 112, 128)     147584    \n",
            "_________________________________________________________________\n",
            "224_block2_pool (MaxPooling2 (None, 56, 56, 128)       0         \n",
            "_________________________________________________________________\n",
            "224_block3_conv1 (Conv2D)    (None, 56, 56, 256)       295168    \n",
            "_________________________________________________________________\n",
            "224_block3_conv2 (Conv2D)    (None, 56, 56, 256)       590080    \n",
            "_________________________________________________________________\n",
            "224_block3_conv3 (Conv2D)    (None, 56, 56, 256)       590080    \n",
            "_________________________________________________________________\n",
            "224_block3_conv4 (Conv2D)    (None, 56, 56, 256)       590080    \n",
            "_________________________________________________________________\n",
            "224_block3_pool (MaxPooling2 (None, 28, 28, 256)       0         \n",
            "_________________________________________________________________\n",
            "224_block4_conv1 (Conv2D)    (None, 28, 28, 512)       1180160   \n",
            "_________________________________________________________________\n",
            "224_block4_conv2 (Conv2D)    (None, 28, 28, 512)       2359808   \n",
            "_________________________________________________________________\n",
            "224_block4_conv3 (Conv2D)    (None, 28, 28, 512)       2359808   \n",
            "_________________________________________________________________\n",
            "224_block4_conv4 (Conv2D)    (None, 28, 28, 512)       2359808   \n",
            "_________________________________________________________________\n",
            "224_block4_pool (MaxPooling2 (None, 14, 14, 512)       0         \n",
            "_________________________________________________________________\n",
            "224_block5_conv1 (Conv2D)    (None, 14, 14, 512)       2359808   \n",
            "_________________________________________________________________\n",
            "224_block5_conv2 (Conv2D)    (None, 14, 14, 512)       2359808   \n",
            "_________________________________________________________________\n",
            "224_block5_conv3 (Conv2D)    (None, 14, 14, 512)       2359808   \n",
            "_________________________________________________________________\n",
            "224_block5_conv4 (Conv2D)    (None, 14, 14, 512)       2359808   \n",
            "_________________________________________________________________\n",
            "224_block5_pool (MaxPooling2 (None, 1, 1, 512)         0         \n",
            "_________________________________________________________________\n",
            "global_average_pooling2d_5 ( (None, 512)               0         \n",
            "_________________________________________________________________\n",
            "flatten_5 (Flatten)          (None, 512)               0         \n",
            "_________________________________________________________________\n",
            "dropout_10 (Dropout)         (None, 512)               0         \n",
            "_________________________________________________________________\n",
            "dense_15 (Dense)             (None, 1024)              525312    \n",
            "_________________________________________________________________\n",
            "dropout_11 (Dropout)         (None, 1024)              0         \n",
            "_________________________________________________________________\n",
            "dense_16 (Dense)             (None, 512)               524800    \n",
            "_________________________________________________________________\n",
            "dense_17 (Dense)             (None, 64)                32832     \n",
            "_________________________________________________________________\n",
            "output_1 (Dense)             (None, 2)                 130       \n",
            "=================================================================\n",
            "Total params: 21,106,306\n",
            "Trainable params: 21,106,306\n",
            "Non-trainable params: 0\n",
            "_________________________________________________________________\n"
          ]
        }
      ],
      "source": [
        "print(\"Model VGG 19 Exp 1 Part E\")\n",
        "model = get_model_VGG19_gray()\n",
        "model.load_weights(E1_dir+E_dir+'/VGG19_imagenet_posyneg_seg_i.h5')"
      ]
    },
    {
      "cell_type": "code",
      "execution_count": null,
      "metadata": {
        "id": "F5Ce0lKhL_xI"
      },
      "outputs": [],
      "source": [
        "predictions=model.predict(X_test)\n",
        "y_pred_bool = np.argmax(predictions, axis=-1)\n",
        "y_hat=np.argmax(y_test,axis=-1)"
      ]
    },
    {
      "cell_type": "code",
      "execution_count": null,
      "metadata": {
        "id": "miESt8H6MBSm",
        "outputId": "ed10e003-76a9-4831-e094-b27ff307b196"
      },
      "outputs": [
        {
          "name": "stdout",
          "output_type": "stream",
          "text": [
            "Accuracy: 0.9596326356258009\n",
            "F1 score: 0.9594978511917392\n",
            "Recall: 0.9596326356258009\n",
            "Precision: 0.959432897470842\n",
            "\n",
            " clasification report:\n",
            "               precision    recall  f1-score   support\n",
            "\n",
            "           0       0.93      0.91      0.92      1228\n",
            "           1       0.97      0.98      0.97      3454\n",
            "\n",
            "    accuracy                           0.96      4682\n",
            "   macro avg       0.95      0.94      0.95      4682\n",
            "weighted avg       0.96      0.96      0.96      4682\n",
            "\n",
            "\n",
            " confusion matrix:\n",
            " [[1121  107]\n",
            " [  82 3372]]\n"
          ]
        },
        {
          "data": {
            "text/html": [
              "<div>\n",
              "<style scoped>\n",
              "    .dataframe tbody tr th:only-of-type {\n",
              "        vertical-align: middle;\n",
              "    }\n",
              "\n",
              "    .dataframe tbody tr th {\n",
              "        vertical-align: top;\n",
              "    }\n",
              "\n",
              "    .dataframe thead th {\n",
              "        text-align: right;\n",
              "    }\n",
              "</style>\n",
              "<table border=\"1\" class=\"dataframe\">\n",
              "  <thead>\n",
              "    <tr style=\"text-align: right;\">\n",
              "      <th></th>\n",
              "      <th>TP</th>\n",
              "      <th>TN</th>\n",
              "      <th>FP</th>\n",
              "      <th>FN</th>\n",
              "      <th>Accuracy</th>\n",
              "      <th>Prevalence</th>\n",
              "      <th>Sensitivity</th>\n",
              "      <th>Specificity</th>\n",
              "      <th>PPV</th>\n",
              "      <th>NPV</th>\n",
              "      <th>AUC</th>\n",
              "      <th>F1</th>\n",
              "      <th>Threshold</th>\n",
              "    </tr>\n",
              "    <tr>\n",
              "      <th></th>\n",
              "      <th></th>\n",
              "      <th></th>\n",
              "      <th></th>\n",
              "      <th></th>\n",
              "      <th></th>\n",
              "      <th></th>\n",
              "      <th></th>\n",
              "      <th></th>\n",
              "      <th></th>\n",
              "      <th></th>\n",
              "      <th></th>\n",
              "      <th></th>\n",
              "      <th></th>\n",
              "    </tr>\n",
              "  </thead>\n",
              "  <tbody>\n",
              "    <tr>\n",
              "      <th>No-Covid</th>\n",
              "      <td>1121</td>\n",
              "      <td>3372</td>\n",
              "      <td>82</td>\n",
              "      <td>107</td>\n",
              "      <td>0.965</td>\n",
              "      <td>0.262</td>\n",
              "      <td>0.913</td>\n",
              "      <td>0.976</td>\n",
              "      <td>0.932</td>\n",
              "      <td>0.969</td>\n",
              "      <td>0.987</td>\n",
              "      <td>0.922</td>\n",
              "      <td>0.5</td>\n",
              "    </tr>\n",
              "    <tr>\n",
              "      <th>Covid</th>\n",
              "      <td>3372</td>\n",
              "      <td>1121</td>\n",
              "      <td>107</td>\n",
              "      <td>82</td>\n",
              "      <td>0.955</td>\n",
              "      <td>0.738</td>\n",
              "      <td>0.976</td>\n",
              "      <td>0.913</td>\n",
              "      <td>0.969</td>\n",
              "      <td>0.932</td>\n",
              "      <td>0.987</td>\n",
              "      <td>0.973</td>\n",
              "      <td>0.5</td>\n",
              "    </tr>\n",
              "  </tbody>\n",
              "</table>\n",
              "</div>"
            ],
            "text/plain": [
              "            TP    TN   FP   FN Accuracy Prevalence Sensitivity Specificity  \\\n",
              "                                                                             \n",
              "No-Covid  1121  3372   82  107    0.965      0.262       0.913       0.976   \n",
              "Covid     3372  1121  107   82    0.955      0.738       0.976       0.913   \n",
              "\n",
              "            PPV    NPV    AUC     F1 Threshold  \n",
              "                                                \n",
              "No-Covid  0.932  0.969  0.987  0.922       0.5  \n",
              "Covid     0.969  0.932  0.987  0.973       0.5  "
            ]
          },
          "execution_count": 66,
          "metadata": {},
          "output_type": "execute_result"
        }
      ],
      "source": [
        "metrics(y_hat,y_pred_bool,log_dir,'VGG19_imagenet_Covid_pos_vs_neg_inv')\n",
        "labels = [\"No-Covid\",\"Covid\"]\n",
        "get_performance_metrics(y_test,predictions,labels, acc=get_accuracy, prevalence=get_prevalence, \n",
        "                        sens=get_sensitivity, spec=get_specificity, ppv=get_ppv, npv=get_npv, auc=roc_auc_score,f1=f1_score)"
      ]
    },
    {
      "cell_type": "code",
      "execution_count": null,
      "metadata": {
        "id": "H-QOfQ5iMCdv"
      },
      "outputs": [],
      "source": [
        "#ROC_CURVE \n",
        "get_curve(y_test,predictions,labels,log_dir,'VGG19_imagenet_Covid_pos_vs_neg_inv',curve='roc')"
      ]
    },
    {
      "cell_type": "markdown",
      "metadata": {
        "id": "VXmTQzw_MItT"
      },
      "source": [
        "##Experiment 2"
      ]
    },
    {
      "cell_type": "markdown",
      "metadata": {
        "id": "UblvFs8qMItT"
      },
      "source": [
        "###Part C"
      ]
    },
    {
      "cell_type": "code",
      "execution_count": null,
      "metadata": {
        "id": "bptwW8jeMItU"
      },
      "outputs": [],
      "source": [
        "C_dir = '/Normal'"
      ]
    },
    {
      "cell_type": "code",
      "execution_count": null,
      "metadata": {
        "id": "8GPekXXXMItU"
      },
      "outputs": [],
      "source": [
        "X_train_P = np.load(P_dir + C_dir + '/X_pos_train_C.npy')\n",
        "X_test_P = np.load(P_dir + C_dir + '/X_pos_test_C.npy')\n",
        "X_dev_P = np.load(P_dir + C_dir + '/X_pos_dev_C.npy')"
      ]
    },
    {
      "cell_type": "code",
      "execution_count": null,
      "metadata": {
        "id": "f1pEZHbmMItU"
      },
      "outputs": [],
      "source": [
        "X_train_N = np.load(N2_dir + C_dir + '/X_neg_Train_CC.npy')\n",
        "X_test_N = np.load(N2_dir + C_dir + '/X_neg_Test_CC.npy')\n",
        "X_dev_N = np.load(N2_dir + C_dir + '/X_neg_Dev_CC.npy')"
      ]
    },
    {
      "cell_type": "code",
      "execution_count": null,
      "metadata": {
        "id": "SWzRaeakMItU"
      },
      "outputs": [],
      "source": [
        "X_train=np.concatenate((X_train_N,X_train_P))\n",
        "X_dev=np.concatenate((X_dev_N,X_dev_P))\n",
        "X_test=np.concatenate((X_test_N,X_test_P))"
      ]
    },
    {
      "cell_type": "code",
      "execution_count": null,
      "metadata": {
        "id": "gLkaur3iMItV"
      },
      "outputs": [],
      "source": [
        "y_train_N=np.array([[1,0]]*len(X_train_N))\n",
        "y_dev_N=np.array([[1,0]]*len(X_dev_N))\n",
        "y_test_N=np.array([[1,0]]*len(X_test_N))\n",
        "\n",
        "y_train_P=np.array([[0,1]]*len(X_train_P))\n",
        "y_dev_P=np.array([[0,1]]*len(X_dev_P))\n",
        "y_test_P=np.array([[0,1]]*len(X_test_P))"
      ]
    },
    {
      "cell_type": "code",
      "execution_count": null,
      "metadata": {
        "id": "jvQXeacUMItV"
      },
      "outputs": [],
      "source": [
        "y_train=np.concatenate((y_train_N,y_train_P))\n",
        "y_dev=np.concatenate((y_dev_N,y_dev_P))\n",
        "y_test=np.concatenate((y_test_N,y_test_P))"
      ]
    },
    {
      "cell_type": "code",
      "execution_count": null,
      "metadata": {
        "id": "IUVH2XQSMItW"
      },
      "outputs": [],
      "source": [
        "#Min_max scaled\n",
        "X_train,y_train=min_max_preprocessing(X_train,y_train)\n",
        "X_dev,y_dev=min_max_preprocessing(X_dev,y_dev)\n",
        "X_test,y_test=min_max_preprocessing(X_test,y_test)"
      ]
    },
    {
      "cell_type": "code",
      "execution_count": null,
      "metadata": {
        "id": "7FXbDp6MMItW"
      },
      "outputs": [],
      "source": [
        "X_train = np.float32(X_train)\n",
        "X_dev = np.float32(X_dev)\n",
        "X_test = np.float32(X_test)"
      ]
    },
    {
      "cell_type": "code",
      "execution_count": null,
      "metadata": {
        "id": "ZUMAs-ZDMItW"
      },
      "outputs": [],
      "source": [
        "#std normalization\n",
        "X_train,y_train,mean,std=samplewise_preprocessing(X_train,y_train)"
      ]
    },
    {
      "cell_type": "code",
      "execution_count": null,
      "metadata": {
        "id": "eS0BttVoMItW"
      },
      "outputs": [],
      "source": [
        "X_dev=featurewise_preprocessing(X_dev,mean,std)\n",
        "X_test=featurewise_preprocessing(X_test,mean,std)"
      ]
    },
    {
      "cell_type": "markdown",
      "metadata": {
        "id": "CfJy90FbMItX"
      },
      "source": [
        "#### Train Models (GPU) "
      ]
    },
    {
      "cell_type": "code",
      "execution_count": null,
      "metadata": {
        "id": "MQdY05C4MItX"
      },
      "outputs": [],
      "source": [
        "log_dir=\"../results/\""
      ]
    },
    {
      "cell_type": "code",
      "execution_count": null,
      "metadata": {
        "id": "degBo7y9MItX"
      },
      "outputs": [],
      "source": [
        "class_weight= get_weight(np.argmax(y_train,axis=-1))"
      ]
    },
    {
      "cell_type": "code",
      "execution_count": null,
      "metadata": {
        "id": "scG06JPBMItX"
      },
      "outputs": [],
      "source": [
        "print(\"Getting Base Model\")\n",
        "model = get_model_VGG16_gray()"
      ]
    },
    {
      "cell_type": "code",
      "execution_count": null,
      "metadata": {
        "id": "F4zgwtM9MItX",
        "scrolled": true
      },
      "outputs": [],
      "source": [
        "model_name='VGG16_imagenet_Covid_pos_vs_neg2'\n",
        "filepath = log_dir+\"Saved_models/\"+model_name+\".h5\"\n",
        "checkpoint = tf.keras.callbacks.ModelCheckpoint(filepath, monitor='val_accuracy', save_best_only=True, mode='max')\n",
        "history=model.fit(X_train, y_train, epochs=100, batch_size=64, validation_data=(X_dev, y_dev),class_weight=class_weight,callbacks=[checkpoint])"
      ]
    },
    {
      "cell_type": "code",
      "execution_count": null,
      "metadata": {
        "id": "1mIUezBfMItY"
      },
      "outputs": [],
      "source": [
        "print(\"Getting Base Model\")\n",
        "model = get_model_VGG19_gray()"
      ]
    },
    {
      "cell_type": "code",
      "execution_count": null,
      "metadata": {
        "id": "JM2IT31sMItY"
      },
      "outputs": [],
      "source": [
        "model_name='VGG19_imagenet_Covid_pos_vs_neg2'\n",
        "filepath = log_dir+\"Saved_models/\"+model_name+\".h5\"\n",
        "checkpoint = tf.keras.callbacks.ModelCheckpoint(filepath, monitor='val_accuracy', save_best_only=True, mode='max')\n",
        "history=model.fit(X_train, y_train, epochs=100, batch_size=64, validation_data=(X_dev, y_dev),class_weight=class_weight,callbacks=[checkpoint])"
      ]
    },
    {
      "cell_type": "markdown",
      "metadata": {
        "id": "-CiHgBUFMItY"
      },
      "source": [
        "#### Prediction"
      ]
    },
    {
      "cell_type": "code",
      "execution_count": null,
      "metadata": {
        "id": "Q5s_dea9MItY",
        "outputId": "f7cfabbf-787d-4e53-e003-5214246be5ca"
      },
      "outputs": [
        {
          "name": "stdout",
          "output_type": "stream",
          "text": [
            "Model VGG 16 Exp 2 Part C\n",
            "Model: \"model_13\"\n",
            "_________________________________________________________________\n",
            "Layer (type)                 Output Shape              Param #   \n",
            "=================================================================\n",
            "224_input (InputLayer)       [(None, 224, 224, 1)]     0         \n",
            "_________________________________________________________________\n",
            "224_block1_conv1 (Conv2D)    (None, 224, 224, 64)      640       \n",
            "_________________________________________________________________\n",
            "224_block1_conv2 (Conv2D)    (None, 224, 224, 64)      36928     \n",
            "_________________________________________________________________\n",
            "224_block1_pool (MaxPooling2 (None, 112, 112, 64)      0         \n",
            "_________________________________________________________________\n",
            "224_block2_conv1 (Conv2D)    (None, 112, 112, 128)     73856     \n",
            "_________________________________________________________________\n",
            "224_block2_conv2 (Conv2D)    (None, 112, 112, 128)     147584    \n",
            "_________________________________________________________________\n",
            "224_block2_pool (MaxPooling2 (None, 56, 56, 128)       0         \n",
            "_________________________________________________________________\n",
            "224_block3_conv1 (Conv2D)    (None, 56, 56, 256)       295168    \n",
            "_________________________________________________________________\n",
            "224_block3_conv2 (Conv2D)    (None, 56, 56, 256)       590080    \n",
            "_________________________________________________________________\n",
            "224_block3_conv3 (Conv2D)    (None, 56, 56, 256)       590080    \n",
            "_________________________________________________________________\n",
            "224_block3_pool (MaxPooling2 (None, 28, 28, 256)       0         \n",
            "_________________________________________________________________\n",
            "224_block4_conv1 (Conv2D)    (None, 28, 28, 512)       1180160   \n",
            "_________________________________________________________________\n",
            "224_block4_conv2 (Conv2D)    (None, 28, 28, 512)       2359808   \n",
            "_________________________________________________________________\n",
            "224_block4_conv3 (Conv2D)    (None, 28, 28, 512)       2359808   \n",
            "_________________________________________________________________\n",
            "224_block4_pool (MaxPooling2 (None, 14, 14, 512)       0         \n",
            "_________________________________________________________________\n",
            "224_block5_conv1 (Conv2D)    (None, 14, 14, 512)       2359808   \n",
            "_________________________________________________________________\n",
            "224_block5_conv2 (Conv2D)    (None, 14, 14, 512)       2359808   \n",
            "_________________________________________________________________\n",
            "224_block5_conv3 (Conv2D)    (None, 14, 14, 512)       2359808   \n",
            "_________________________________________________________________\n",
            "224_block5_pool (MaxPooling2 (None, 1, 1, 512)         0         \n",
            "_________________________________________________________________\n",
            "global_average_pooling2d_6 ( (None, 512)               0         \n",
            "_________________________________________________________________\n",
            "flatten_6 (Flatten)          (None, 512)               0         \n",
            "_________________________________________________________________\n",
            "dropout_12 (Dropout)         (None, 512)               0         \n",
            "_________________________________________________________________\n",
            "dense_18 (Dense)             (None, 1024)              525312    \n",
            "_________________________________________________________________\n",
            "dropout_13 (Dropout)         (None, 1024)              0         \n",
            "_________________________________________________________________\n",
            "dense_19 (Dense)             (None, 512)               524800    \n",
            "_________________________________________________________________\n",
            "dense_20 (Dense)             (None, 64)                32832     \n",
            "_________________________________________________________________\n",
            "output_1 (Dense)             (None, 2)                 130       \n",
            "=================================================================\n",
            "Total params: 15,796,610\n",
            "Trainable params: 15,796,610\n",
            "Non-trainable params: 0\n",
            "_________________________________________________________________\n"
          ]
        }
      ],
      "source": [
        "print(\"Model VGG 16 Exp 2 Part C\")\n",
        "model = get_model_VGG16_gray()\n",
        "model.load_weights(E2_dir+C_dir+'/VGG16_imagenet_posyneg_normal_C.h5')"
      ]
    },
    {
      "cell_type": "code",
      "execution_count": null,
      "metadata": {
        "id": "kc3Yx5e7MItY"
      },
      "outputs": [],
      "source": [
        "predictions=model.predict(X_test)\n",
        "y_pred_bool = np.argmax(predictions, axis=-1)\n",
        "y_hat=np.argmax(y_test,axis=-1)"
      ]
    },
    {
      "cell_type": "code",
      "execution_count": null,
      "metadata": {
        "id": "Ya0IU7ZbMItZ",
        "outputId": "c6f6e109-578c-4569-882a-82c0a442f851"
      },
      "outputs": [
        {
          "name": "stdout",
          "output_type": "stream",
          "text": [
            "Accuracy: 0.8916992412048746\n",
            "F1 score: 0.8904103866879799\n",
            "Recall: 0.8916992412048746\n",
            "Precision: 0.8895155689662553\n",
            "\n",
            " clasification report:\n",
            "               precision    recall  f1-score   support\n",
            "\n",
            "           0       0.75      0.71      0.73       895\n",
            "           1       0.93      0.94      0.93      3454\n",
            "\n",
            "    accuracy                           0.89      4349\n",
            "   macro avg       0.84      0.82      0.83      4349\n",
            "weighted avg       0.89      0.89      0.89      4349\n",
            "\n",
            "\n",
            " confusion matrix:\n",
            " [[ 632  263]\n",
            " [ 208 3246]]\n"
          ]
        },
        {
          "data": {
            "text/html": [
              "<div>\n",
              "<style scoped>\n",
              "    .dataframe tbody tr th:only-of-type {\n",
              "        vertical-align: middle;\n",
              "    }\n",
              "\n",
              "    .dataframe tbody tr th {\n",
              "        vertical-align: top;\n",
              "    }\n",
              "\n",
              "    .dataframe thead th {\n",
              "        text-align: right;\n",
              "    }\n",
              "</style>\n",
              "<table border=\"1\" class=\"dataframe\">\n",
              "  <thead>\n",
              "    <tr style=\"text-align: right;\">\n",
              "      <th></th>\n",
              "      <th>TP</th>\n",
              "      <th>TN</th>\n",
              "      <th>FP</th>\n",
              "      <th>FN</th>\n",
              "      <th>Accuracy</th>\n",
              "      <th>Prevalence</th>\n",
              "      <th>Sensitivity</th>\n",
              "      <th>Specificity</th>\n",
              "      <th>PPV</th>\n",
              "      <th>NPV</th>\n",
              "      <th>AUC</th>\n",
              "      <th>F1</th>\n",
              "      <th>Threshold</th>\n",
              "    </tr>\n",
              "    <tr>\n",
              "      <th></th>\n",
              "      <th></th>\n",
              "      <th></th>\n",
              "      <th></th>\n",
              "      <th></th>\n",
              "      <th></th>\n",
              "      <th></th>\n",
              "      <th></th>\n",
              "      <th></th>\n",
              "      <th></th>\n",
              "      <th></th>\n",
              "      <th></th>\n",
              "      <th></th>\n",
              "      <th></th>\n",
              "    </tr>\n",
              "  </thead>\n",
              "  <tbody>\n",
              "    <tr>\n",
              "      <th>No-Covid</th>\n",
              "      <td>632</td>\n",
              "      <td>3246</td>\n",
              "      <td>208</td>\n",
              "      <td>263</td>\n",
              "      <td>0.903</td>\n",
              "      <td>0.206</td>\n",
              "      <td>0.706</td>\n",
              "      <td>0.94</td>\n",
              "      <td>0.752</td>\n",
              "      <td>0.925</td>\n",
              "      <td>0.936</td>\n",
              "      <td>0.729</td>\n",
              "      <td>0.5</td>\n",
              "    </tr>\n",
              "    <tr>\n",
              "      <th>Covid</th>\n",
              "      <td>3246</td>\n",
              "      <td>632</td>\n",
              "      <td>263</td>\n",
              "      <td>208</td>\n",
              "      <td>0.881</td>\n",
              "      <td>0.794</td>\n",
              "      <td>0.94</td>\n",
              "      <td>0.706</td>\n",
              "      <td>0.925</td>\n",
              "      <td>0.752</td>\n",
              "      <td>0.936</td>\n",
              "      <td>0.932</td>\n",
              "      <td>0.5</td>\n",
              "    </tr>\n",
              "  </tbody>\n",
              "</table>\n",
              "</div>"
            ],
            "text/plain": [
              "            TP    TN   FP   FN Accuracy Prevalence Sensitivity Specificity  \\\n",
              "                                                                             \n",
              "No-Covid   632  3246  208  263    0.903      0.206       0.706        0.94   \n",
              "Covid     3246   632  263  208    0.881      0.794        0.94       0.706   \n",
              "\n",
              "            PPV    NPV    AUC     F1 Threshold  \n",
              "                                                \n",
              "No-Covid  0.752  0.925  0.936  0.729       0.5  \n",
              "Covid     0.925  0.752  0.936  0.932       0.5  "
            ]
          },
          "execution_count": 80,
          "metadata": {},
          "output_type": "execute_result"
        }
      ],
      "source": [
        "metrics(y_hat,y_pred_bool,log_dir,'VGG16_imagenet_Covid_pos_vs_neg2')\n",
        "labels = [\"No-Covid\",\"Covid\"]\n",
        "get_performance_metrics(y_test,predictions,labels, acc=get_accuracy, prevalence=get_prevalence, \n",
        "                        sens=get_sensitivity, spec=get_specificity, ppv=get_ppv, npv=get_npv, auc=roc_auc_score,f1=f1_score)"
      ]
    },
    {
      "cell_type": "code",
      "execution_count": null,
      "metadata": {
        "id": "liSLPBc-MItZ",
        "outputId": "47545bfe-e265-4932-8bcb-e3982615caed"
      },
      "outputs": [
        {
          "name": "stderr",
          "output_type": "stream",
          "text": [
            "/opt/conda/lib/python3.7/site-packages/ipykernel_launcher.py:103: RuntimeWarning: More than 20 figures have been opened. Figures created through the pyplot interface (`matplotlib.pyplot.figure`) are retained until explicitly closed and may consume too much memory. (To control this warning, see the rcParam `figure.max_open_warning`).\n"
          ]
        }
      ],
      "source": [
        "#ROC_CURVE \n",
        "get_curve(y_test,predictions,labels,log_dir,'VGG16_imagenet_Covid_pos_vs_neg2',curve='roc')"
      ]
    },
    {
      "cell_type": "code",
      "execution_count": null,
      "metadata": {
        "id": "R8PHViSWMItZ",
        "outputId": "eee65d11-fe9e-4307-8c87-46a5d0af1580"
      },
      "outputs": [
        {
          "name": "stdout",
          "output_type": "stream",
          "text": [
            "Model VGG 19 Exp 2 Part C\n",
            "Model: \"model_15\"\n",
            "_________________________________________________________________\n",
            "Layer (type)                 Output Shape              Param #   \n",
            "=================================================================\n",
            "224_input (InputLayer)       [(None, 224, 224, 1)]     0         \n",
            "_________________________________________________________________\n",
            "224_block1_conv1 (Conv2D)    (None, 224, 224, 64)      640       \n",
            "_________________________________________________________________\n",
            "224_block1_conv2 (Conv2D)    (None, 224, 224, 64)      36928     \n",
            "_________________________________________________________________\n",
            "224_block1_pool (MaxPooling2 (None, 112, 112, 64)      0         \n",
            "_________________________________________________________________\n",
            "224_block2_conv1 (Conv2D)    (None, 112, 112, 128)     73856     \n",
            "_________________________________________________________________\n",
            "224_block2_conv2 (Conv2D)    (None, 112, 112, 128)     147584    \n",
            "_________________________________________________________________\n",
            "224_block2_pool (MaxPooling2 (None, 56, 56, 128)       0         \n",
            "_________________________________________________________________\n",
            "224_block3_conv1 (Conv2D)    (None, 56, 56, 256)       295168    \n",
            "_________________________________________________________________\n",
            "224_block3_conv2 (Conv2D)    (None, 56, 56, 256)       590080    \n",
            "_________________________________________________________________\n",
            "224_block3_conv3 (Conv2D)    (None, 56, 56, 256)       590080    \n",
            "_________________________________________________________________\n",
            "224_block3_conv4 (Conv2D)    (None, 56, 56, 256)       590080    \n",
            "_________________________________________________________________\n",
            "224_block3_pool (MaxPooling2 (None, 28, 28, 256)       0         \n",
            "_________________________________________________________________\n",
            "224_block4_conv1 (Conv2D)    (None, 28, 28, 512)       1180160   \n",
            "_________________________________________________________________\n",
            "224_block4_conv2 (Conv2D)    (None, 28, 28, 512)       2359808   \n",
            "_________________________________________________________________\n",
            "224_block4_conv3 (Conv2D)    (None, 28, 28, 512)       2359808   \n",
            "_________________________________________________________________\n",
            "224_block4_conv4 (Conv2D)    (None, 28, 28, 512)       2359808   \n",
            "_________________________________________________________________\n",
            "224_block4_pool (MaxPooling2 (None, 14, 14, 512)       0         \n",
            "_________________________________________________________________\n",
            "224_block5_conv1 (Conv2D)    (None, 14, 14, 512)       2359808   \n",
            "_________________________________________________________________\n",
            "224_block5_conv2 (Conv2D)    (None, 14, 14, 512)       2359808   \n",
            "_________________________________________________________________\n",
            "224_block5_conv3 (Conv2D)    (None, 14, 14, 512)       2359808   \n",
            "_________________________________________________________________\n",
            "224_block5_conv4 (Conv2D)    (None, 14, 14, 512)       2359808   \n",
            "_________________________________________________________________\n",
            "224_block5_pool (MaxPooling2 (None, 1, 1, 512)         0         \n",
            "_________________________________________________________________\n",
            "global_average_pooling2d_7 ( (None, 512)               0         \n",
            "_________________________________________________________________\n",
            "flatten_7 (Flatten)          (None, 512)               0         \n",
            "_________________________________________________________________\n",
            "dropout_14 (Dropout)         (None, 512)               0         \n",
            "_________________________________________________________________\n",
            "dense_21 (Dense)             (None, 1024)              525312    \n",
            "_________________________________________________________________\n",
            "dropout_15 (Dropout)         (None, 1024)              0         \n",
            "_________________________________________________________________\n",
            "dense_22 (Dense)             (None, 512)               524800    \n",
            "_________________________________________________________________\n",
            "dense_23 (Dense)             (None, 64)                32832     \n",
            "_________________________________________________________________\n",
            "output_1 (Dense)             (None, 2)                 130       \n",
            "=================================================================\n",
            "Total params: 21,106,306\n",
            "Trainable params: 21,106,306\n",
            "Non-trainable params: 0\n",
            "_________________________________________________________________\n"
          ]
        }
      ],
      "source": [
        "print(\"Model VGG 19 Exp 2 Part C\")\n",
        "model = get_model_VGG19_gray()\n",
        "model.load_weights(E2_dir+C_dir+'/VGG19_imagenet_posyneg_normal_C.h5')"
      ]
    },
    {
      "cell_type": "code",
      "execution_count": null,
      "metadata": {
        "id": "9h1TY8gxMItZ"
      },
      "outputs": [],
      "source": [
        "predictions=model.predict(X_test)\n",
        "y_pred_bool = np.argmax(predictions, axis=-1)\n",
        "y_hat=np.argmax(y_test,axis=-1)"
      ]
    },
    {
      "cell_type": "code",
      "execution_count": null,
      "metadata": {
        "id": "IprCPNqOMItZ",
        "outputId": "55d1e30f-e947-481e-fbec-045ea2b90a80"
      },
      "outputs": [
        {
          "name": "stdout",
          "output_type": "stream",
          "text": [
            "Accuracy: 0.9567716716486548\n",
            "F1 score: 0.95614876569711\n",
            "Recall: 0.9567716716486548\n",
            "Precision: 0.9562025284988493\n",
            "\n",
            " clasification report:\n",
            "               precision    recall  f1-score   support\n",
            "\n",
            "           0       0.93      0.86      0.89       895\n",
            "           1       0.96      0.98      0.97      3454\n",
            "\n",
            "    accuracy                           0.96      4349\n",
            "   macro avg       0.95      0.92      0.93      4349\n",
            "weighted avg       0.96      0.96      0.96      4349\n",
            "\n",
            "\n",
            " confusion matrix:\n",
            " [[ 768  127]\n",
            " [  61 3393]]\n"
          ]
        },
        {
          "data": {
            "text/html": [
              "<div>\n",
              "<style scoped>\n",
              "    .dataframe tbody tr th:only-of-type {\n",
              "        vertical-align: middle;\n",
              "    }\n",
              "\n",
              "    .dataframe tbody tr th {\n",
              "        vertical-align: top;\n",
              "    }\n",
              "\n",
              "    .dataframe thead th {\n",
              "        text-align: right;\n",
              "    }\n",
              "</style>\n",
              "<table border=\"1\" class=\"dataframe\">\n",
              "  <thead>\n",
              "    <tr style=\"text-align: right;\">\n",
              "      <th></th>\n",
              "      <th>TP</th>\n",
              "      <th>TN</th>\n",
              "      <th>FP</th>\n",
              "      <th>FN</th>\n",
              "      <th>Accuracy</th>\n",
              "      <th>Prevalence</th>\n",
              "      <th>Sensitivity</th>\n",
              "      <th>Specificity</th>\n",
              "      <th>PPV</th>\n",
              "      <th>NPV</th>\n",
              "      <th>AUC</th>\n",
              "      <th>F1</th>\n",
              "      <th>Threshold</th>\n",
              "    </tr>\n",
              "    <tr>\n",
              "      <th></th>\n",
              "      <th></th>\n",
              "      <th></th>\n",
              "      <th></th>\n",
              "      <th></th>\n",
              "      <th></th>\n",
              "      <th></th>\n",
              "      <th></th>\n",
              "      <th></th>\n",
              "      <th></th>\n",
              "      <th></th>\n",
              "      <th></th>\n",
              "      <th></th>\n",
              "      <th></th>\n",
              "    </tr>\n",
              "  </thead>\n",
              "  <tbody>\n",
              "    <tr>\n",
              "      <th>No-Covid</th>\n",
              "      <td>768</td>\n",
              "      <td>3393</td>\n",
              "      <td>61</td>\n",
              "      <td>127</td>\n",
              "      <td>0.972</td>\n",
              "      <td>0.206</td>\n",
              "      <td>0.858</td>\n",
              "      <td>0.982</td>\n",
              "      <td>0.926</td>\n",
              "      <td>0.964</td>\n",
              "      <td>0.984</td>\n",
              "      <td>0.891</td>\n",
              "      <td>0.5</td>\n",
              "    </tr>\n",
              "    <tr>\n",
              "      <th>Covid</th>\n",
              "      <td>3393</td>\n",
              "      <td>768</td>\n",
              "      <td>127</td>\n",
              "      <td>61</td>\n",
              "      <td>0.942</td>\n",
              "      <td>0.794</td>\n",
              "      <td>0.982</td>\n",
              "      <td>0.858</td>\n",
              "      <td>0.964</td>\n",
              "      <td>0.926</td>\n",
              "      <td>0.984</td>\n",
              "      <td>0.973</td>\n",
              "      <td>0.5</td>\n",
              "    </tr>\n",
              "  </tbody>\n",
              "</table>\n",
              "</div>"
            ],
            "text/plain": [
              "            TP    TN   FP   FN Accuracy Prevalence Sensitivity Specificity  \\\n",
              "                                                                             \n",
              "No-Covid   768  3393   61  127    0.972      0.206       0.858       0.982   \n",
              "Covid     3393   768  127   61    0.942      0.794       0.982       0.858   \n",
              "\n",
              "            PPV    NPV    AUC     F1 Threshold  \n",
              "                                                \n",
              "No-Covid  0.926  0.964  0.984  0.891       0.5  \n",
              "Covid     0.964  0.926  0.984  0.973       0.5  "
            ]
          },
          "execution_count": 84,
          "metadata": {},
          "output_type": "execute_result"
        }
      ],
      "source": [
        "metrics(y_hat,y_pred_bool,log_dir,'VGG19_imagenet_Covid_pos_vs_neg2')\n",
        "labels = [\"No-Covid\",\"Covid\"]\n",
        "get_performance_metrics(y_test,predictions,labels, acc=get_accuracy, prevalence=get_prevalence, \n",
        "                        sens=get_sensitivity, spec=get_specificity, ppv=get_ppv, npv=get_npv, auc=roc_auc_score,f1=f1_score)"
      ]
    },
    {
      "cell_type": "code",
      "execution_count": null,
      "metadata": {
        "id": "FCd_I0_VMIta"
      },
      "outputs": [],
      "source": [
        "#ROC_CURVE \n",
        "get_curve(y_test,predictions,labels,log_dir,'VGG19_imagenet_Covid_pos_vs_neg2',curve='roc')"
      ]
    },
    {
      "cell_type": "markdown",
      "metadata": {
        "id": "PrY-ajqUMIta"
      },
      "source": [
        "###Part D"
      ]
    },
    {
      "cell_type": "code",
      "execution_count": null,
      "metadata": {
        "id": "Vlbaks40MIta"
      },
      "outputs": [],
      "source": [
        "D_dir = '/Segmented'"
      ]
    },
    {
      "cell_type": "code",
      "execution_count": null,
      "metadata": {
        "colab": {
          "background_save": true
        },
        "id": "UZ_3jSbtMIta"
      },
      "outputs": [],
      "source": [
        "X_train_P = np.load(P_dir + D_dir + '/X_pos_Seg_Train.npy')\n",
        "X_test_P = np.load(P_dir + D_dir + '/X_pos_Seg_Test.npy')\n",
        "X_dev_P = np.load(P_dir + D_dir + '/X_pos_Seg_Dev.npy')"
      ]
    },
    {
      "cell_type": "code",
      "execution_count": null,
      "metadata": {
        "id": "3fZ1KmY8MIta"
      },
      "outputs": [],
      "source": [
        "X_train_N = np.load(N2_dir + D_dir + '/X_neg_Seg_Train_2.npy')\n",
        "X_test_N = np.load(N2_dir + D_dir + '/X_neg_Seg_Test_2.npy')\n",
        "X_dev_N = np.load(N2_dir + D_dir + '/X_neg_Seg_Dev_2.npy')"
      ]
    },
    {
      "cell_type": "code",
      "execution_count": null,
      "metadata": {
        "id": "Sj9Z_Ee-MItb"
      },
      "outputs": [],
      "source": [
        "X_train=np.concatenate((X_train_N,X_train_P))\n",
        "X_dev=np.concatenate((X_dev_N,X_dev_P))\n",
        "X_test=np.concatenate((X_test_N,X_test_P))"
      ]
    },
    {
      "cell_type": "code",
      "execution_count": null,
      "metadata": {
        "id": "a-LZa4jTMItb"
      },
      "outputs": [],
      "source": [
        "y_train_N=np.array([[1,0]]*len(X_train_N))\n",
        "y_dev_N=np.array([[1,0]]*len(X_dev_N))\n",
        "y_test_N=np.array([[1,0]]*len(X_test_N))\n",
        "\n",
        "y_train_P=np.array([[0,1]]*len(X_train_P))\n",
        "y_dev_P=np.array([[0,1]]*len(X_dev_P))\n",
        "y_test_P=np.array([[0,1]]*len(X_test_P))"
      ]
    },
    {
      "cell_type": "code",
      "execution_count": null,
      "metadata": {
        "id": "nZ_nKYsHMItb"
      },
      "outputs": [],
      "source": [
        "y_train=np.concatenate((y_train_N,y_train_P))\n",
        "y_dev=np.concatenate((y_dev_N,y_dev_P))\n",
        "y_test=np.concatenate((y_test_N,y_test_P))"
      ]
    },
    {
      "cell_type": "code",
      "execution_count": null,
      "metadata": {
        "id": "Zk7I-IxTMItb"
      },
      "outputs": [],
      "source": [
        "#Min_max scaled\n",
        "X_train,y_train=min_max_preprocessing(X_train,y_train)\n",
        "X_dev,y_dev=min_max_preprocessing(X_dev,y_dev)\n",
        "X_test,y_test=min_max_preprocessing(X_test,y_test)"
      ]
    },
    {
      "cell_type": "code",
      "execution_count": null,
      "metadata": {
        "id": "5ghwymQsMItb"
      },
      "outputs": [],
      "source": [
        "X_train = np.float32(X_train)\n",
        "X_dev = np.float32(X_dev)\n",
        "X_test = np.float32(X_test)"
      ]
    },
    {
      "cell_type": "code",
      "execution_count": null,
      "metadata": {
        "id": "iFs-DRjHMItc"
      },
      "outputs": [],
      "source": [
        "#std normalization\n",
        "X_train,y_train,mean,std=samplewise_preprocessing(X_train,y_train)"
      ]
    },
    {
      "cell_type": "code",
      "execution_count": null,
      "metadata": {
        "id": "9vbkR0WLMItc"
      },
      "outputs": [],
      "source": [
        "X_dev=featurewise_preprocessing(X_dev,mean,std)\n",
        "X_test=featurewise_preprocessing(X_test,mean,std)"
      ]
    },
    {
      "cell_type": "markdown",
      "metadata": {
        "id": "9Yy91-1YMItc"
      },
      "source": [
        "#### Train Models (GPU) "
      ]
    },
    {
      "cell_type": "code",
      "execution_count": null,
      "metadata": {
        "id": "-ybkNWYoMItc"
      },
      "outputs": [],
      "source": [
        "log_dir=\"../results/\""
      ]
    },
    {
      "cell_type": "code",
      "execution_count": null,
      "metadata": {
        "id": "UTJB8N_xMItc"
      },
      "outputs": [],
      "source": [
        "class_weight= get_weight(np.argmax(y_train,axis=-1))"
      ]
    },
    {
      "cell_type": "code",
      "execution_count": null,
      "metadata": {
        "id": "yTiX9vWjMItc"
      },
      "outputs": [],
      "source": [
        "print(\"Getting Base Model\")\n",
        "model = get_model_VGG16_gray()"
      ]
    },
    {
      "cell_type": "code",
      "execution_count": null,
      "metadata": {
        "id": "if_3v3buMItd",
        "scrolled": true
      },
      "outputs": [],
      "source": [
        "model_name='VGG16_imagenet_Covid_pos_vs_neg2_seg'\n",
        "filepath = log_dir+\"Saved_models/\"+model_name+\".h5\"\n",
        "checkpoint = tf.keras.callbacks.ModelCheckpoint(filepath, monitor='val_accuracy', save_best_only=True, mode='max')\n",
        "history=model.fit(X_train, y_train, epochs=100, batch_size=64, validation_data=(X_dev, y_dev),class_weight=class_weight,callbacks=[checkpoint])"
      ]
    },
    {
      "cell_type": "code",
      "execution_count": null,
      "metadata": {
        "id": "_YmKLFfkMItd"
      },
      "outputs": [],
      "source": [
        "print(\"Getting Base Model\")\n",
        "model = get_model_VGG19_gray()"
      ]
    },
    {
      "cell_type": "code",
      "execution_count": null,
      "metadata": {
        "id": "ZDciyCaFMItd"
      },
      "outputs": [],
      "source": [
        "model_name='VGG19_imagenet_Covid_pos_vs_neg2_seg'\n",
        "filepath = log_dir+\"Saved_models/\"+model_name+\".h5\"\n",
        "checkpoint = tf.keras.callbacks.ModelCheckpoint(filepath, monitor='val_accuracy', save_best_only=True, mode='max')\n",
        "history=model.fit(X_train, y_train, epochs=100, batch_size=64, validation_data=(X_dev, y_dev),class_weight=class_weight,callbacks=[checkpoint])"
      ]
    },
    {
      "cell_type": "markdown",
      "metadata": {
        "id": "_ya4r0-XMItd"
      },
      "source": [
        "#### Prediction"
      ]
    },
    {
      "cell_type": "code",
      "execution_count": null,
      "metadata": {
        "id": "d_FnY3sZMItd",
        "outputId": "83267e9c-570a-4ef8-9bac-7ab0e393980a"
      },
      "outputs": [
        {
          "name": "stdout",
          "output_type": "stream",
          "text": [
            "Model VGG 16 Exp 2 Part D\n",
            "Model: \"model_17\"\n",
            "_________________________________________________________________\n",
            "Layer (type)                 Output Shape              Param #   \n",
            "=================================================================\n",
            "224_input (InputLayer)       [(None, 224, 224, 1)]     0         \n",
            "_________________________________________________________________\n",
            "224_block1_conv1 (Conv2D)    (None, 224, 224, 64)      640       \n",
            "_________________________________________________________________\n",
            "224_block1_conv2 (Conv2D)    (None, 224, 224, 64)      36928     \n",
            "_________________________________________________________________\n",
            "224_block1_pool (MaxPooling2 (None, 112, 112, 64)      0         \n",
            "_________________________________________________________________\n",
            "224_block2_conv1 (Conv2D)    (None, 112, 112, 128)     73856     \n",
            "_________________________________________________________________\n",
            "224_block2_conv2 (Conv2D)    (None, 112, 112, 128)     147584    \n",
            "_________________________________________________________________\n",
            "224_block2_pool (MaxPooling2 (None, 56, 56, 128)       0         \n",
            "_________________________________________________________________\n",
            "224_block3_conv1 (Conv2D)    (None, 56, 56, 256)       295168    \n",
            "_________________________________________________________________\n",
            "224_block3_conv2 (Conv2D)    (None, 56, 56, 256)       590080    \n",
            "_________________________________________________________________\n",
            "224_block3_conv3 (Conv2D)    (None, 56, 56, 256)       590080    \n",
            "_________________________________________________________________\n",
            "224_block3_pool (MaxPooling2 (None, 28, 28, 256)       0         \n",
            "_________________________________________________________________\n",
            "224_block4_conv1 (Conv2D)    (None, 28, 28, 512)       1180160   \n",
            "_________________________________________________________________\n",
            "224_block4_conv2 (Conv2D)    (None, 28, 28, 512)       2359808   \n",
            "_________________________________________________________________\n",
            "224_block4_conv3 (Conv2D)    (None, 28, 28, 512)       2359808   \n",
            "_________________________________________________________________\n",
            "224_block4_pool (MaxPooling2 (None, 14, 14, 512)       0         \n",
            "_________________________________________________________________\n",
            "224_block5_conv1 (Conv2D)    (None, 14, 14, 512)       2359808   \n",
            "_________________________________________________________________\n",
            "224_block5_conv2 (Conv2D)    (None, 14, 14, 512)       2359808   \n",
            "_________________________________________________________________\n",
            "224_block5_conv3 (Conv2D)    (None, 14, 14, 512)       2359808   \n",
            "_________________________________________________________________\n",
            "224_block5_pool (MaxPooling2 (None, 1, 1, 512)         0         \n",
            "_________________________________________________________________\n",
            "global_average_pooling2d_8 ( (None, 512)               0         \n",
            "_________________________________________________________________\n",
            "flatten_8 (Flatten)          (None, 512)               0         \n",
            "_________________________________________________________________\n",
            "dropout_16 (Dropout)         (None, 512)               0         \n",
            "_________________________________________________________________\n",
            "dense_24 (Dense)             (None, 1024)              525312    \n",
            "_________________________________________________________________\n",
            "dropout_17 (Dropout)         (None, 1024)              0         \n",
            "_________________________________________________________________\n",
            "dense_25 (Dense)             (None, 512)               524800    \n",
            "_________________________________________________________________\n",
            "dense_26 (Dense)             (None, 64)                32832     \n",
            "_________________________________________________________________\n",
            "output_1 (Dense)             (None, 2)                 130       \n",
            "=================================================================\n",
            "Total params: 15,796,610\n",
            "Trainable params: 15,796,610\n",
            "Non-trainable params: 0\n",
            "_________________________________________________________________\n"
          ]
        }
      ],
      "source": [
        "print(\"Model VGG 16 Exp 2 Part D\")\n",
        "model = get_model_VGG16_gray()\n",
        "model.load_weights(E2_dir+D_dir+'/VGG16_imagenet_posyneg_seg_C.h5')"
      ]
    },
    {
      "cell_type": "code",
      "execution_count": null,
      "metadata": {
        "id": "2VOOKJ7QMIte"
      },
      "outputs": [],
      "source": [
        "predictions=model.predict(X_test)\n",
        "y_pred_bool = np.argmax(predictions, axis=-1)\n",
        "y_hat=np.argmax(y_test,axis=-1)"
      ]
    },
    {
      "cell_type": "code",
      "execution_count": null,
      "metadata": {
        "id": "goKYK7u1MIte",
        "outputId": "4f7e73c4-1f38-42eb-c60e-2b9969990c2b"
      },
      "outputs": [
        {
          "name": "stdout",
          "output_type": "stream",
          "text": [
            "Accuracy: 0.9358473212232697\n",
            "F1 score: 0.9358340341531267\n",
            "Recall: 0.9358473212232697\n",
            "Precision: 0.9358208875602991\n",
            "\n",
            " clasification report:\n",
            "               precision    recall  f1-score   support\n",
            "\n",
            "           0       0.84      0.84      0.84       895\n",
            "           1       0.96      0.96      0.96      3454\n",
            "\n",
            "    accuracy                           0.94      4349\n",
            "   macro avg       0.90      0.90      0.90      4349\n",
            "weighted avg       0.94      0.94      0.94      4349\n",
            "\n",
            "\n",
            " confusion matrix:\n",
            " [[ 755  140]\n",
            " [ 139 3315]]\n"
          ]
        },
        {
          "data": {
            "text/html": [
              "<div>\n",
              "<style scoped>\n",
              "    .dataframe tbody tr th:only-of-type {\n",
              "        vertical-align: middle;\n",
              "    }\n",
              "\n",
              "    .dataframe tbody tr th {\n",
              "        vertical-align: top;\n",
              "    }\n",
              "\n",
              "    .dataframe thead th {\n",
              "        text-align: right;\n",
              "    }\n",
              "</style>\n",
              "<table border=\"1\" class=\"dataframe\">\n",
              "  <thead>\n",
              "    <tr style=\"text-align: right;\">\n",
              "      <th></th>\n",
              "      <th>TP</th>\n",
              "      <th>TN</th>\n",
              "      <th>FP</th>\n",
              "      <th>FN</th>\n",
              "      <th>Accuracy</th>\n",
              "      <th>Prevalence</th>\n",
              "      <th>Sensitivity</th>\n",
              "      <th>Specificity</th>\n",
              "      <th>PPV</th>\n",
              "      <th>NPV</th>\n",
              "      <th>AUC</th>\n",
              "      <th>F1</th>\n",
              "      <th>Threshold</th>\n",
              "    </tr>\n",
              "    <tr>\n",
              "      <th></th>\n",
              "      <th></th>\n",
              "      <th></th>\n",
              "      <th></th>\n",
              "      <th></th>\n",
              "      <th></th>\n",
              "      <th></th>\n",
              "      <th></th>\n",
              "      <th></th>\n",
              "      <th></th>\n",
              "      <th></th>\n",
              "      <th></th>\n",
              "      <th></th>\n",
              "      <th></th>\n",
              "    </tr>\n",
              "  </thead>\n",
              "  <tbody>\n",
              "    <tr>\n",
              "      <th>No-Covid</th>\n",
              "      <td>755</td>\n",
              "      <td>3315</td>\n",
              "      <td>139</td>\n",
              "      <td>140</td>\n",
              "      <td>0.936</td>\n",
              "      <td>0.206</td>\n",
              "      <td>0.844</td>\n",
              "      <td>0.96</td>\n",
              "      <td>0.845</td>\n",
              "      <td>0.959</td>\n",
              "      <td>0.966</td>\n",
              "      <td>0.844</td>\n",
              "      <td>0.5</td>\n",
              "    </tr>\n",
              "    <tr>\n",
              "      <th>Covid</th>\n",
              "      <td>3315</td>\n",
              "      <td>755</td>\n",
              "      <td>140</td>\n",
              "      <td>139</td>\n",
              "      <td>0.936</td>\n",
              "      <td>0.794</td>\n",
              "      <td>0.96</td>\n",
              "      <td>0.844</td>\n",
              "      <td>0.959</td>\n",
              "      <td>0.845</td>\n",
              "      <td>0.963</td>\n",
              "      <td>0.96</td>\n",
              "      <td>0.5</td>\n",
              "    </tr>\n",
              "  </tbody>\n",
              "</table>\n",
              "</div>"
            ],
            "text/plain": [
              "            TP    TN   FP   FN Accuracy Prevalence Sensitivity Specificity  \\\n",
              "                                                                             \n",
              "No-Covid   755  3315  139  140    0.936      0.206       0.844        0.96   \n",
              "Covid     3315   755  140  139    0.936      0.794        0.96       0.844   \n",
              "\n",
              "            PPV    NPV    AUC     F1 Threshold  \n",
              "                                                \n",
              "No-Covid  0.845  0.959  0.966  0.844       0.5  \n",
              "Covid     0.959  0.845  0.963   0.96       0.5  "
            ]
          },
          "execution_count": 98,
          "metadata": {},
          "output_type": "execute_result"
        }
      ],
      "source": [
        "metrics(y_hat,y_pred_bool,log_dir,'VGG16_imagenet_Covid_pos_vs_neg2_seg')\n",
        "labels = [\"No-Covid\",\"Covid\"]\n",
        "get_performance_metrics(y_test,predictions,labels, acc=get_accuracy, prevalence=get_prevalence, \n",
        "                        sens=get_sensitivity, spec=get_specificity, ppv=get_ppv, npv=get_npv, auc=roc_auc_score,f1=f1_score)"
      ]
    },
    {
      "cell_type": "code",
      "execution_count": null,
      "metadata": {
        "id": "8bcXP-47MIte"
      },
      "outputs": [],
      "source": [
        "#ROC_CURVE \n",
        "get_curve(y_test,predictions,labels,log_dir,'VGG16_imagenet_Covid_pos_vs_neg2_seg',curve='roc')"
      ]
    },
    {
      "cell_type": "code",
      "execution_count": null,
      "metadata": {
        "id": "VB3okooYMIte",
        "outputId": "2c9c58b7-d2be-4cc8-d9cd-beb31b0c2191"
      },
      "outputs": [
        {
          "name": "stdout",
          "output_type": "stream",
          "text": [
            "Model VGG 19 Exp 2 Part D\n",
            "Model: \"model_19\"\n",
            "_________________________________________________________________\n",
            "Layer (type)                 Output Shape              Param #   \n",
            "=================================================================\n",
            "224_input (InputLayer)       [(None, 224, 224, 1)]     0         \n",
            "_________________________________________________________________\n",
            "224_block1_conv1 (Conv2D)    (None, 224, 224, 64)      640       \n",
            "_________________________________________________________________\n",
            "224_block1_conv2 (Conv2D)    (None, 224, 224, 64)      36928     \n",
            "_________________________________________________________________\n",
            "224_block1_pool (MaxPooling2 (None, 112, 112, 64)      0         \n",
            "_________________________________________________________________\n",
            "224_block2_conv1 (Conv2D)    (None, 112, 112, 128)     73856     \n",
            "_________________________________________________________________\n",
            "224_block2_conv2 (Conv2D)    (None, 112, 112, 128)     147584    \n",
            "_________________________________________________________________\n",
            "224_block2_pool (MaxPooling2 (None, 56, 56, 128)       0         \n",
            "_________________________________________________________________\n",
            "224_block3_conv1 (Conv2D)    (None, 56, 56, 256)       295168    \n",
            "_________________________________________________________________\n",
            "224_block3_conv2 (Conv2D)    (None, 56, 56, 256)       590080    \n",
            "_________________________________________________________________\n",
            "224_block3_conv3 (Conv2D)    (None, 56, 56, 256)       590080    \n",
            "_________________________________________________________________\n",
            "224_block3_conv4 (Conv2D)    (None, 56, 56, 256)       590080    \n",
            "_________________________________________________________________\n",
            "224_block3_pool (MaxPooling2 (None, 28, 28, 256)       0         \n",
            "_________________________________________________________________\n",
            "224_block4_conv1 (Conv2D)    (None, 28, 28, 512)       1180160   \n",
            "_________________________________________________________________\n",
            "224_block4_conv2 (Conv2D)    (None, 28, 28, 512)       2359808   \n",
            "_________________________________________________________________\n",
            "224_block4_conv3 (Conv2D)    (None, 28, 28, 512)       2359808   \n",
            "_________________________________________________________________\n",
            "224_block4_conv4 (Conv2D)    (None, 28, 28, 512)       2359808   \n",
            "_________________________________________________________________\n",
            "224_block4_pool (MaxPooling2 (None, 14, 14, 512)       0         \n",
            "_________________________________________________________________\n",
            "224_block5_conv1 (Conv2D)    (None, 14, 14, 512)       2359808   \n",
            "_________________________________________________________________\n",
            "224_block5_conv2 (Conv2D)    (None, 14, 14, 512)       2359808   \n",
            "_________________________________________________________________\n",
            "224_block5_conv3 (Conv2D)    (None, 14, 14, 512)       2359808   \n",
            "_________________________________________________________________\n",
            "224_block5_conv4 (Conv2D)    (None, 14, 14, 512)       2359808   \n",
            "_________________________________________________________________\n",
            "224_block5_pool (MaxPooling2 (None, 1, 1, 512)         0         \n",
            "_________________________________________________________________\n",
            "global_average_pooling2d_9 ( (None, 512)               0         \n",
            "_________________________________________________________________\n",
            "flatten_9 (Flatten)          (None, 512)               0         \n",
            "_________________________________________________________________\n",
            "dropout_18 (Dropout)         (None, 512)               0         \n",
            "_________________________________________________________________\n",
            "dense_27 (Dense)             (None, 1024)              525312    \n",
            "_________________________________________________________________\n",
            "dropout_19 (Dropout)         (None, 1024)              0         \n",
            "_________________________________________________________________\n",
            "dense_28 (Dense)             (None, 512)               524800    \n",
            "_________________________________________________________________\n",
            "dense_29 (Dense)             (None, 64)                32832     \n",
            "_________________________________________________________________\n",
            "output_1 (Dense)             (None, 2)                 130       \n",
            "=================================================================\n",
            "Total params: 21,106,306\n",
            "Trainable params: 21,106,306\n",
            "Non-trainable params: 0\n",
            "_________________________________________________________________\n"
          ]
        }
      ],
      "source": [
        "print(\"Model VGG 19 Exp 2 Part D\")\n",
        "model = get_model_VGG19_gray()\n",
        "model.load_weights(E2_dir+D_dir+'/VGG19_imagenet_posyneg_seg_C.h5')"
      ]
    },
    {
      "cell_type": "code",
      "execution_count": null,
      "metadata": {
        "id": "SvnYENwqMIte"
      },
      "outputs": [],
      "source": [
        "predictions=model.predict(X_test)\n",
        "y_pred_bool = np.argmax(predictions, axis=-1)\n",
        "y_hat=np.argmax(y_test,axis=-1)"
      ]
    },
    {
      "cell_type": "code",
      "execution_count": null,
      "metadata": {
        "id": "6xzexg6NMIte",
        "outputId": "2807c3d0-281f-449c-e354-9a49a956cefd"
      },
      "outputs": [
        {
          "name": "stdout",
          "output_type": "stream",
          "text": [
            "Accuracy: 0.9390664520579444\n",
            "F1 score: 0.9384235580782436\n",
            "Recall: 0.9390664520579444\n",
            "Precision: 0.9381330877131612\n",
            "\n",
            " clasification report:\n",
            "               precision    recall  f1-score   support\n",
            "\n",
            "           0       0.87      0.82      0.85       895\n",
            "           1       0.96      0.97      0.96      3454\n",
            "\n",
            "    accuracy                           0.94      4349\n",
            "   macro avg       0.91      0.90      0.90      4349\n",
            "weighted avg       0.94      0.94      0.94      4349\n",
            "\n",
            "\n",
            " confusion matrix:\n",
            " [[ 738  157]\n",
            " [ 108 3346]]\n"
          ]
        },
        {
          "data": {
            "text/html": [
              "<div>\n",
              "<style scoped>\n",
              "    .dataframe tbody tr th:only-of-type {\n",
              "        vertical-align: middle;\n",
              "    }\n",
              "\n",
              "    .dataframe tbody tr th {\n",
              "        vertical-align: top;\n",
              "    }\n",
              "\n",
              "    .dataframe thead th {\n",
              "        text-align: right;\n",
              "    }\n",
              "</style>\n",
              "<table border=\"1\" class=\"dataframe\">\n",
              "  <thead>\n",
              "    <tr style=\"text-align: right;\">\n",
              "      <th></th>\n",
              "      <th>TP</th>\n",
              "      <th>TN</th>\n",
              "      <th>FP</th>\n",
              "      <th>FN</th>\n",
              "      <th>Accuracy</th>\n",
              "      <th>Prevalence</th>\n",
              "      <th>Sensitivity</th>\n",
              "      <th>Specificity</th>\n",
              "      <th>PPV</th>\n",
              "      <th>NPV</th>\n",
              "      <th>AUC</th>\n",
              "      <th>F1</th>\n",
              "      <th>Threshold</th>\n",
              "    </tr>\n",
              "    <tr>\n",
              "      <th></th>\n",
              "      <th></th>\n",
              "      <th></th>\n",
              "      <th></th>\n",
              "      <th></th>\n",
              "      <th></th>\n",
              "      <th></th>\n",
              "      <th></th>\n",
              "      <th></th>\n",
              "      <th></th>\n",
              "      <th></th>\n",
              "      <th></th>\n",
              "      <th></th>\n",
              "      <th></th>\n",
              "    </tr>\n",
              "  </thead>\n",
              "  <tbody>\n",
              "    <tr>\n",
              "      <th>No-Covid</th>\n",
              "      <td>738</td>\n",
              "      <td>3346</td>\n",
              "      <td>108</td>\n",
              "      <td>157</td>\n",
              "      <td>0.95</td>\n",
              "      <td>0.206</td>\n",
              "      <td>0.825</td>\n",
              "      <td>0.969</td>\n",
              "      <td>0.872</td>\n",
              "      <td>0.955</td>\n",
              "      <td>0.968</td>\n",
              "      <td>0.848</td>\n",
              "      <td>0.5</td>\n",
              "    </tr>\n",
              "    <tr>\n",
              "      <th>Covid</th>\n",
              "      <td>3346</td>\n",
              "      <td>738</td>\n",
              "      <td>157</td>\n",
              "      <td>108</td>\n",
              "      <td>0.929</td>\n",
              "      <td>0.794</td>\n",
              "      <td>0.969</td>\n",
              "      <td>0.825</td>\n",
              "      <td>0.955</td>\n",
              "      <td>0.872</td>\n",
              "      <td>0.968</td>\n",
              "      <td>0.962</td>\n",
              "      <td>0.5</td>\n",
              "    </tr>\n",
              "  </tbody>\n",
              "</table>\n",
              "</div>"
            ],
            "text/plain": [
              "            TP    TN   FP   FN Accuracy Prevalence Sensitivity Specificity  \\\n",
              "                                                                             \n",
              "No-Covid   738  3346  108  157     0.95      0.206       0.825       0.969   \n",
              "Covid     3346   738  157  108    0.929      0.794       0.969       0.825   \n",
              "\n",
              "            PPV    NPV    AUC     F1 Threshold  \n",
              "                                                \n",
              "No-Covid  0.872  0.955  0.968  0.848       0.5  \n",
              "Covid     0.955  0.872  0.968  0.962       0.5  "
            ]
          },
          "execution_count": 102,
          "metadata": {},
          "output_type": "execute_result"
        }
      ],
      "source": [
        "metrics(y_hat,y_pred_bool,log_dir,'VGG19_imagenet_Covid_pos_vs_neg2_seg')\n",
        "labels = [\"No-Covid\",\"Covid\"]\n",
        "get_performance_metrics(y_test,predictions,labels, acc=get_accuracy, prevalence=get_prevalence, \n",
        "                        sens=get_sensitivity, spec=get_specificity, ppv=get_ppv, npv=get_npv, auc=roc_auc_score,f1=f1_score)"
      ]
    },
    {
      "cell_type": "code",
      "execution_count": null,
      "metadata": {
        "id": "bXmbTq9eMItf"
      },
      "outputs": [],
      "source": [
        "#ROC_CURVE \n",
        "get_curve(y_test,predictions,labels,log_dir,'VGG19_imagenet_Covid_pos_vs_neg2_seg',curve='roc')"
      ]
    },
    {
      "cell_type": "markdown",
      "metadata": {
        "id": "niZyNSRFMItf"
      },
      "source": [
        "###Part E"
      ]
    },
    {
      "cell_type": "code",
      "execution_count": null,
      "metadata": {
        "id": "5guityMVMItf"
      },
      "outputs": [],
      "source": [
        "E_dir = '/Inverted'"
      ]
    },
    {
      "cell_type": "code",
      "execution_count": null,
      "metadata": {
        "colab": {
          "background_save": true
        },
        "id": "3ZRffmrbMItf"
      },
      "outputs": [],
      "source": [
        "X_train_P = np.load(P_dir + E_dir + '/X_pos_Seg_i2_Train.npy')\n",
        "X_test_P = np.load(P_dir + E_dir + '/X_pos_Seg_i2_Test.npy')\n",
        "X_dev_P = np.load(P_dir + E_dir + '/X_pos_Seg_i2_Dev.npy')"
      ]
    },
    {
      "cell_type": "code",
      "execution_count": null,
      "metadata": {
        "id": "YR3dYkIgMItf"
      },
      "outputs": [],
      "source": [
        "X_train_N = np.load(N2_dir + E_dir + '/X_neg_Seg_Train_i2.npy')\n",
        "X_test_N = np.load(N2_dir + E_dir + '/X_neg_Seg_Test_i2.npy')\n",
        "X_dev_N = np.load(N2_dir + E_dir + '/X_neg_Seg_Dev_i2.npy')"
      ]
    },
    {
      "cell_type": "code",
      "execution_count": null,
      "metadata": {
        "id": "PVWaBxVzMItg"
      },
      "outputs": [],
      "source": [
        "X_train=np.concatenate((X_train_N,X_train_P))\n",
        "X_dev=np.concatenate((X_dev_N,X_dev_P))\n",
        "X_test=np.concatenate((X_test_N,X_test_P))"
      ]
    },
    {
      "cell_type": "code",
      "execution_count": null,
      "metadata": {
        "id": "k0Sh5sPuMItg"
      },
      "outputs": [],
      "source": [
        "y_train_N=np.array([[1,0]]*len(X_train_N))\n",
        "y_dev_N=np.array([[1,0]]*len(X_dev_N))\n",
        "y_test_N=np.array([[1,0]]*len(X_test_N))\n",
        "\n",
        "y_train_P=np.array([[0,1]]*len(X_train_P))\n",
        "y_dev_P=np.array([[0,1]]*len(X_dev_P))\n",
        "y_test_P=np.array([[0,1]]*len(X_test_P))"
      ]
    },
    {
      "cell_type": "code",
      "execution_count": null,
      "metadata": {
        "id": "5zuj-ygyMItg"
      },
      "outputs": [],
      "source": [
        "y_train=np.concatenate((y_train_N,y_train_P))\n",
        "y_dev=np.concatenate((y_dev_N,y_dev_P))\n",
        "y_test=np.concatenate((y_test_N,y_test_P))"
      ]
    },
    {
      "cell_type": "code",
      "execution_count": null,
      "metadata": {
        "id": "52e5oh5ZMItg"
      },
      "outputs": [],
      "source": [
        "#Min_max scaled\n",
        "X_train,y_train=min_max_preprocessing(X_train,y_train)\n",
        "X_dev,y_dev=min_max_preprocessing(X_dev,y_dev)\n",
        "X_test,y_test=min_max_preprocessing(X_test,y_test)"
      ]
    },
    {
      "cell_type": "code",
      "execution_count": null,
      "metadata": {
        "id": "VqUHLN16MItg"
      },
      "outputs": [],
      "source": [
        "X_train = np.float32(X_train)\n",
        "X_dev = np.float32(X_dev)\n",
        "X_test = np.float32(X_test)"
      ]
    },
    {
      "cell_type": "code",
      "execution_count": null,
      "metadata": {
        "id": "KShp6wj3MItg"
      },
      "outputs": [],
      "source": [
        "#std normalization\n",
        "X_train,y_train,mean,std=samplewise_preprocessing(X_train,y_train)"
      ]
    },
    {
      "cell_type": "code",
      "execution_count": null,
      "metadata": {
        "id": "NKIjT-zmMIth"
      },
      "outputs": [],
      "source": [
        "X_dev=featurewise_preprocessing(X_dev,mean,std)\n",
        "X_test=featurewise_preprocessing(X_test,mean,std)"
      ]
    },
    {
      "cell_type": "markdown",
      "metadata": {
        "id": "EF2SXU4iMIth"
      },
      "source": [
        "#### Train Models (GPU) "
      ]
    },
    {
      "cell_type": "code",
      "execution_count": null,
      "metadata": {
        "id": "vLNMU7vwMIth"
      },
      "outputs": [],
      "source": [
        "log_dir=\"../results/\""
      ]
    },
    {
      "cell_type": "code",
      "execution_count": null,
      "metadata": {
        "id": "_aouftpHMIth"
      },
      "outputs": [],
      "source": [
        "class_weight= get_weight(np.argmax(y_train,axis=-1))"
      ]
    },
    {
      "cell_type": "code",
      "execution_count": null,
      "metadata": {
        "id": "-ygaLO4xMIth"
      },
      "outputs": [],
      "source": [
        "print(\"Getting Base Model\")\n",
        "model = get_model_VGG16_gray()"
      ]
    },
    {
      "cell_type": "code",
      "execution_count": null,
      "metadata": {
        "id": "ArhzHrlCMIth",
        "scrolled": true
      },
      "outputs": [],
      "source": [
        "model_name='VGG16_imagenet_Covid_pos_vs_neg2_inv'\n",
        "filepath = log_dir+\"Saved_models/\"+model_name+\".h5\"\n",
        "checkpoint = tf.keras.callbacks.ModelCheckpoint(filepath, monitor='val_accuracy', save_best_only=True, mode='max')\n",
        "history=model.fit(X_train, y_train, epochs=100, batch_size=64, validation_data=(X_dev, y_dev),class_weight=class_weight,callbacks=[checkpoint])"
      ]
    },
    {
      "cell_type": "code",
      "execution_count": null,
      "metadata": {
        "id": "0GK4DU9aMIti"
      },
      "outputs": [],
      "source": [
        "print(\"Getting Base Model\")\n",
        "model = get_model_VGG19_gray()"
      ]
    },
    {
      "cell_type": "code",
      "execution_count": null,
      "metadata": {
        "id": "CmEuX7ffMIti"
      },
      "outputs": [],
      "source": [
        "model_name='VGG19_imagenet_Covid_pos_vs_neg2_inv'\n",
        "filepath = log_dir+\"Saved_models/\"+model_name+\".h5\"\n",
        "checkpoint = tf.keras.callbacks.ModelCheckpoint(filepath, monitor='val_accuracy', save_best_only=True, mode='max')\n",
        "history=model.fit(X_train, y_train, epochs=100, batch_size=64, validation_data=(X_dev, y_dev),class_weight=class_weight,callbacks=[checkpoint])"
      ]
    },
    {
      "cell_type": "markdown",
      "metadata": {
        "id": "MuhxtTojMIti"
      },
      "source": [
        "#### Prediction"
      ]
    },
    {
      "cell_type": "code",
      "execution_count": null,
      "metadata": {
        "id": "XhUB62veMIti",
        "outputId": "55e8451b-38ee-4cc6-bdaa-9aac072197da"
      },
      "outputs": [
        {
          "name": "stdout",
          "output_type": "stream",
          "text": [
            "Model VGG 16 Exp 2 Part E\n",
            "Model: \"model_21\"\n",
            "_________________________________________________________________\n",
            "Layer (type)                 Output Shape              Param #   \n",
            "=================================================================\n",
            "224_input (InputLayer)       [(None, 224, 224, 1)]     0         \n",
            "_________________________________________________________________\n",
            "224_block1_conv1 (Conv2D)    (None, 224, 224, 64)      640       \n",
            "_________________________________________________________________\n",
            "224_block1_conv2 (Conv2D)    (None, 224, 224, 64)      36928     \n",
            "_________________________________________________________________\n",
            "224_block1_pool (MaxPooling2 (None, 112, 112, 64)      0         \n",
            "_________________________________________________________________\n",
            "224_block2_conv1 (Conv2D)    (None, 112, 112, 128)     73856     \n",
            "_________________________________________________________________\n",
            "224_block2_conv2 (Conv2D)    (None, 112, 112, 128)     147584    \n",
            "_________________________________________________________________\n",
            "224_block2_pool (MaxPooling2 (None, 56, 56, 128)       0         \n",
            "_________________________________________________________________\n",
            "224_block3_conv1 (Conv2D)    (None, 56, 56, 256)       295168    \n",
            "_________________________________________________________________\n",
            "224_block3_conv2 (Conv2D)    (None, 56, 56, 256)       590080    \n",
            "_________________________________________________________________\n",
            "224_block3_conv3 (Conv2D)    (None, 56, 56, 256)       590080    \n",
            "_________________________________________________________________\n",
            "224_block3_pool (MaxPooling2 (None, 28, 28, 256)       0         \n",
            "_________________________________________________________________\n",
            "224_block4_conv1 (Conv2D)    (None, 28, 28, 512)       1180160   \n",
            "_________________________________________________________________\n",
            "224_block4_conv2 (Conv2D)    (None, 28, 28, 512)       2359808   \n",
            "_________________________________________________________________\n",
            "224_block4_conv3 (Conv2D)    (None, 28, 28, 512)       2359808   \n",
            "_________________________________________________________________\n",
            "224_block4_pool (MaxPooling2 (None, 14, 14, 512)       0         \n",
            "_________________________________________________________________\n",
            "224_block5_conv1 (Conv2D)    (None, 14, 14, 512)       2359808   \n",
            "_________________________________________________________________\n",
            "224_block5_conv2 (Conv2D)    (None, 14, 14, 512)       2359808   \n",
            "_________________________________________________________________\n",
            "224_block5_conv3 (Conv2D)    (None, 14, 14, 512)       2359808   \n",
            "_________________________________________________________________\n",
            "224_block5_pool (MaxPooling2 (None, 1, 1, 512)         0         \n",
            "_________________________________________________________________\n",
            "global_average_pooling2d_10  (None, 512)               0         \n",
            "_________________________________________________________________\n",
            "flatten_10 (Flatten)         (None, 512)               0         \n",
            "_________________________________________________________________\n",
            "dropout_20 (Dropout)         (None, 512)               0         \n",
            "_________________________________________________________________\n",
            "dense_30 (Dense)             (None, 1024)              525312    \n",
            "_________________________________________________________________\n",
            "dropout_21 (Dropout)         (None, 1024)              0         \n",
            "_________________________________________________________________\n",
            "dense_31 (Dense)             (None, 512)               524800    \n",
            "_________________________________________________________________\n",
            "dense_32 (Dense)             (None, 64)                32832     \n",
            "_________________________________________________________________\n",
            "output_1 (Dense)             (None, 2)                 130       \n",
            "=================================================================\n",
            "Total params: 15,796,610\n",
            "Trainable params: 15,796,610\n",
            "Non-trainable params: 0\n",
            "_________________________________________________________________\n"
          ]
        }
      ],
      "source": [
        "print(\"Model VGG 16 Exp 2 Part E\")\n",
        "model = get_model_VGG16_gray()\n",
        "model.load_weights(E2_dir+E_dir+'/VGG16_imagenet_posyneg_seg_i_C.h5')"
      ]
    },
    {
      "cell_type": "code",
      "execution_count": null,
      "metadata": {
        "id": "1IdTYs4OMIti"
      },
      "outputs": [],
      "source": [
        "predictions=model.predict(X_test)\n",
        "y_pred_bool = np.argmax(predictions, axis=-1)\n",
        "y_hat=np.argmax(y_test,axis=-1)"
      ]
    },
    {
      "cell_type": "code",
      "execution_count": null,
      "metadata": {
        "id": "Fucwr99wMIti",
        "outputId": "c66e281f-4855-4a35-b459-07096f091518"
      },
      "outputs": [
        {
          "name": "stdout",
          "output_type": "stream",
          "text": [
            "Accuracy: 0.9314785008047827\n",
            "F1 score: 0.9314215958254561\n",
            "Recall: 0.9314785008047827\n",
            "Precision: 0.931366919930534\n",
            "\n",
            " clasification report:\n",
            "               precision    recall  f1-score   support\n",
            "\n",
            "           0       0.84      0.83      0.83       895\n",
            "           1       0.96      0.96      0.96      3454\n",
            "\n",
            "    accuracy                           0.93      4349\n",
            "   macro avg       0.90      0.89      0.90      4349\n",
            "weighted avg       0.93      0.93      0.93      4349\n",
            "\n",
            "\n",
            " confusion matrix:\n",
            " [[ 744  151]\n",
            " [ 147 3307]]\n"
          ]
        },
        {
          "data": {
            "text/html": [
              "<div>\n",
              "<style scoped>\n",
              "    .dataframe tbody tr th:only-of-type {\n",
              "        vertical-align: middle;\n",
              "    }\n",
              "\n",
              "    .dataframe tbody tr th {\n",
              "        vertical-align: top;\n",
              "    }\n",
              "\n",
              "    .dataframe thead th {\n",
              "        text-align: right;\n",
              "    }\n",
              "</style>\n",
              "<table border=\"1\" class=\"dataframe\">\n",
              "  <thead>\n",
              "    <tr style=\"text-align: right;\">\n",
              "      <th></th>\n",
              "      <th>TP</th>\n",
              "      <th>TN</th>\n",
              "      <th>FP</th>\n",
              "      <th>FN</th>\n",
              "      <th>Accuracy</th>\n",
              "      <th>Prevalence</th>\n",
              "      <th>Sensitivity</th>\n",
              "      <th>Specificity</th>\n",
              "      <th>PPV</th>\n",
              "      <th>NPV</th>\n",
              "      <th>AUC</th>\n",
              "      <th>F1</th>\n",
              "      <th>Threshold</th>\n",
              "    </tr>\n",
              "    <tr>\n",
              "      <th></th>\n",
              "      <th></th>\n",
              "      <th></th>\n",
              "      <th></th>\n",
              "      <th></th>\n",
              "      <th></th>\n",
              "      <th></th>\n",
              "      <th></th>\n",
              "      <th></th>\n",
              "      <th></th>\n",
              "      <th></th>\n",
              "      <th></th>\n",
              "      <th></th>\n",
              "      <th></th>\n",
              "    </tr>\n",
              "  </thead>\n",
              "  <tbody>\n",
              "    <tr>\n",
              "      <th>No-Covid</th>\n",
              "      <td>744</td>\n",
              "      <td>3307</td>\n",
              "      <td>147</td>\n",
              "      <td>151</td>\n",
              "      <td>0.932</td>\n",
              "      <td>0.206</td>\n",
              "      <td>0.831</td>\n",
              "      <td>0.957</td>\n",
              "      <td>0.835</td>\n",
              "      <td>0.956</td>\n",
              "      <td>0.967</td>\n",
              "      <td>0.833</td>\n",
              "      <td>0.5</td>\n",
              "    </tr>\n",
              "    <tr>\n",
              "      <th>Covid</th>\n",
              "      <td>3307</td>\n",
              "      <td>744</td>\n",
              "      <td>151</td>\n",
              "      <td>147</td>\n",
              "      <td>0.931</td>\n",
              "      <td>0.794</td>\n",
              "      <td>0.957</td>\n",
              "      <td>0.831</td>\n",
              "      <td>0.956</td>\n",
              "      <td>0.835</td>\n",
              "      <td>0.967</td>\n",
              "      <td>0.957</td>\n",
              "      <td>0.5</td>\n",
              "    </tr>\n",
              "  </tbody>\n",
              "</table>\n",
              "</div>"
            ],
            "text/plain": [
              "            TP    TN   FP   FN Accuracy Prevalence Sensitivity Specificity  \\\n",
              "                                                                             \n",
              "No-Covid   744  3307  147  151    0.932      0.206       0.831       0.957   \n",
              "Covid     3307   744  151  147    0.931      0.794       0.957       0.831   \n",
              "\n",
              "            PPV    NPV    AUC     F1 Threshold  \n",
              "                                                \n",
              "No-Covid  0.835  0.956  0.967  0.833       0.5  \n",
              "Covid     0.956  0.835  0.967  0.957       0.5  "
            ]
          },
          "execution_count": 116,
          "metadata": {},
          "output_type": "execute_result"
        }
      ],
      "source": [
        "metrics(y_hat,y_pred_bool,log_dir,'VGG16_imagenet_Covid_pos_vs_neg2_inv')\n",
        "labels = [\"No-Covid\",\"Covid\"]\n",
        "get_performance_metrics(y_test,predictions,labels, acc=get_accuracy, prevalence=get_prevalence, \n",
        "                        sens=get_sensitivity, spec=get_specificity, ppv=get_ppv, npv=get_npv, auc=roc_auc_score,f1=f1_score)"
      ]
    },
    {
      "cell_type": "code",
      "execution_count": null,
      "metadata": {
        "id": "8T1nej-1MItj"
      },
      "outputs": [],
      "source": [
        "#ROC_CURVE \n",
        "get_curve(y_test,predictions,labels,log_dir,'VGG16_imagenet_Covid_pos_vs_neg2_inv',curve='roc')"
      ]
    },
    {
      "cell_type": "code",
      "execution_count": null,
      "metadata": {
        "id": "c78UBJduMItj",
        "outputId": "9d1d6838-4105-401b-8d30-ce062edccfa4"
      },
      "outputs": [
        {
          "name": "stdout",
          "output_type": "stream",
          "text": [
            "Model VGG 19 Exp 2 Part E\n",
            "Model: \"model_23\"\n",
            "_________________________________________________________________\n",
            "Layer (type)                 Output Shape              Param #   \n",
            "=================================================================\n",
            "224_input (InputLayer)       [(None, 224, 224, 1)]     0         \n",
            "_________________________________________________________________\n",
            "224_block1_conv1 (Conv2D)    (None, 224, 224, 64)      640       \n",
            "_________________________________________________________________\n",
            "224_block1_conv2 (Conv2D)    (None, 224, 224, 64)      36928     \n",
            "_________________________________________________________________\n",
            "224_block1_pool (MaxPooling2 (None, 112, 112, 64)      0         \n",
            "_________________________________________________________________\n",
            "224_block2_conv1 (Conv2D)    (None, 112, 112, 128)     73856     \n",
            "_________________________________________________________________\n",
            "224_block2_conv2 (Conv2D)    (None, 112, 112, 128)     147584    \n",
            "_________________________________________________________________\n",
            "224_block2_pool (MaxPooling2 (None, 56, 56, 128)       0         \n",
            "_________________________________________________________________\n",
            "224_block3_conv1 (Conv2D)    (None, 56, 56, 256)       295168    \n",
            "_________________________________________________________________\n",
            "224_block3_conv2 (Conv2D)    (None, 56, 56, 256)       590080    \n",
            "_________________________________________________________________\n",
            "224_block3_conv3 (Conv2D)    (None, 56, 56, 256)       590080    \n",
            "_________________________________________________________________\n",
            "224_block3_conv4 (Conv2D)    (None, 56, 56, 256)       590080    \n",
            "_________________________________________________________________\n",
            "224_block3_pool (MaxPooling2 (None, 28, 28, 256)       0         \n",
            "_________________________________________________________________\n",
            "224_block4_conv1 (Conv2D)    (None, 28, 28, 512)       1180160   \n",
            "_________________________________________________________________\n",
            "224_block4_conv2 (Conv2D)    (None, 28, 28, 512)       2359808   \n",
            "_________________________________________________________________\n",
            "224_block4_conv3 (Conv2D)    (None, 28, 28, 512)       2359808   \n",
            "_________________________________________________________________\n",
            "224_block4_conv4 (Conv2D)    (None, 28, 28, 512)       2359808   \n",
            "_________________________________________________________________\n",
            "224_block4_pool (MaxPooling2 (None, 14, 14, 512)       0         \n",
            "_________________________________________________________________\n",
            "224_block5_conv1 (Conv2D)    (None, 14, 14, 512)       2359808   \n",
            "_________________________________________________________________\n",
            "224_block5_conv2 (Conv2D)    (None, 14, 14, 512)       2359808   \n",
            "_________________________________________________________________\n",
            "224_block5_conv3 (Conv2D)    (None, 14, 14, 512)       2359808   \n",
            "_________________________________________________________________\n",
            "224_block5_conv4 (Conv2D)    (None, 14, 14, 512)       2359808   \n",
            "_________________________________________________________________\n",
            "224_block5_pool (MaxPooling2 (None, 1, 1, 512)         0         \n",
            "_________________________________________________________________\n",
            "global_average_pooling2d_11  (None, 512)               0         \n",
            "_________________________________________________________________\n",
            "flatten_11 (Flatten)         (None, 512)               0         \n",
            "_________________________________________________________________\n",
            "dropout_22 (Dropout)         (None, 512)               0         \n",
            "_________________________________________________________________\n",
            "dense_33 (Dense)             (None, 1024)              525312    \n",
            "_________________________________________________________________\n",
            "dropout_23 (Dropout)         (None, 1024)              0         \n",
            "_________________________________________________________________\n",
            "dense_34 (Dense)             (None, 512)               524800    \n",
            "_________________________________________________________________\n",
            "dense_35 (Dense)             (None, 64)                32832     \n",
            "_________________________________________________________________\n",
            "output_1 (Dense)             (None, 2)                 130       \n",
            "=================================================================\n",
            "Total params: 21,106,306\n",
            "Trainable params: 21,106,306\n",
            "Non-trainable params: 0\n",
            "_________________________________________________________________\n"
          ]
        }
      ],
      "source": [
        "print(\"Model VGG 19 Exp 2 Part E\")\n",
        "model = get_model_VGG19_gray()\n",
        "model.load_weights(E2_dir+E_dir+'/VGG19_imagenet_posyneg_seg_i_C.h5')"
      ]
    },
    {
      "cell_type": "code",
      "execution_count": null,
      "metadata": {
        "id": "UTEiDqASMItj"
      },
      "outputs": [],
      "source": [
        "predictions=model.predict(X_test)\n",
        "y_pred_bool = np.argmax(predictions, axis=-1)\n",
        "y_hat=np.argmax(y_test,axis=-1)"
      ]
    },
    {
      "cell_type": "code",
      "execution_count": null,
      "metadata": {
        "id": "t8yzi2fWMItj",
        "outputId": "b984c664-ebd7-46bf-9e66-4064337ee446"
      },
      "outputs": [
        {
          "name": "stdout",
          "output_type": "stream",
          "text": [
            "Accuracy: 0.9652793745688664\n",
            "F1 score: 0.9648188495721132\n",
            "Recall: 0.9652793745688664\n",
            "Precision: 0.9649455456200254\n",
            "\n",
            " clasification report:\n",
            "               precision    recall  f1-score   support\n",
            "\n",
            "           0       0.95      0.88      0.91       895\n",
            "           1       0.97      0.99      0.98      3454\n",
            "\n",
            "    accuracy                           0.97      4349\n",
            "   macro avg       0.96      0.93      0.95      4349\n",
            "weighted avg       0.96      0.97      0.96      4349\n",
            "\n",
            "\n",
            " confusion matrix:\n",
            " [[ 789  106]\n",
            " [  45 3409]]\n"
          ]
        },
        {
          "data": {
            "text/html": [
              "<div>\n",
              "<style scoped>\n",
              "    .dataframe tbody tr th:only-of-type {\n",
              "        vertical-align: middle;\n",
              "    }\n",
              "\n",
              "    .dataframe tbody tr th {\n",
              "        vertical-align: top;\n",
              "    }\n",
              "\n",
              "    .dataframe thead th {\n",
              "        text-align: right;\n",
              "    }\n",
              "</style>\n",
              "<table border=\"1\" class=\"dataframe\">\n",
              "  <thead>\n",
              "    <tr style=\"text-align: right;\">\n",
              "      <th></th>\n",
              "      <th>TP</th>\n",
              "      <th>TN</th>\n",
              "      <th>FP</th>\n",
              "      <th>FN</th>\n",
              "      <th>Accuracy</th>\n",
              "      <th>Prevalence</th>\n",
              "      <th>Sensitivity</th>\n",
              "      <th>Specificity</th>\n",
              "      <th>PPV</th>\n",
              "      <th>NPV</th>\n",
              "      <th>AUC</th>\n",
              "      <th>F1</th>\n",
              "      <th>Threshold</th>\n",
              "    </tr>\n",
              "    <tr>\n",
              "      <th></th>\n",
              "      <th></th>\n",
              "      <th></th>\n",
              "      <th></th>\n",
              "      <th></th>\n",
              "      <th></th>\n",
              "      <th></th>\n",
              "      <th></th>\n",
              "      <th></th>\n",
              "      <th></th>\n",
              "      <th></th>\n",
              "      <th></th>\n",
              "      <th></th>\n",
              "      <th></th>\n",
              "    </tr>\n",
              "  </thead>\n",
              "  <tbody>\n",
              "    <tr>\n",
              "      <th>No-Covid</th>\n",
              "      <td>789</td>\n",
              "      <td>3409</td>\n",
              "      <td>45</td>\n",
              "      <td>106</td>\n",
              "      <td>0.979</td>\n",
              "      <td>0.206</td>\n",
              "      <td>0.882</td>\n",
              "      <td>0.987</td>\n",
              "      <td>0.946</td>\n",
              "      <td>0.97</td>\n",
              "      <td>0.988</td>\n",
              "      <td>0.913</td>\n",
              "      <td>0.5</td>\n",
              "    </tr>\n",
              "    <tr>\n",
              "      <th>Covid</th>\n",
              "      <td>3409</td>\n",
              "      <td>789</td>\n",
              "      <td>106</td>\n",
              "      <td>45</td>\n",
              "      <td>0.952</td>\n",
              "      <td>0.794</td>\n",
              "      <td>0.987</td>\n",
              "      <td>0.882</td>\n",
              "      <td>0.97</td>\n",
              "      <td>0.946</td>\n",
              "      <td>0.988</td>\n",
              "      <td>0.978</td>\n",
              "      <td>0.5</td>\n",
              "    </tr>\n",
              "  </tbody>\n",
              "</table>\n",
              "</div>"
            ],
            "text/plain": [
              "            TP    TN   FP   FN Accuracy Prevalence Sensitivity Specificity  \\\n",
              "                                                                             \n",
              "No-Covid   789  3409   45  106    0.979      0.206       0.882       0.987   \n",
              "Covid     3409   789  106   45    0.952      0.794       0.987       0.882   \n",
              "\n",
              "            PPV    NPV    AUC     F1 Threshold  \n",
              "                                                \n",
              "No-Covid  0.946   0.97  0.988  0.913       0.5  \n",
              "Covid      0.97  0.946  0.988  0.978       0.5  "
            ]
          },
          "execution_count": 120,
          "metadata": {},
          "output_type": "execute_result"
        }
      ],
      "source": [
        "metrics(y_hat,y_pred_bool,log_dir,'VGG19_imagenet_Covid_pos_vs_neg2_inv')\n",
        "labels = [\"No-Covid\",\"Covid\"]\n",
        "get_performance_metrics(y_test,predictions,labels, acc=get_accuracy, prevalence=get_prevalence, \n",
        "                        sens=get_sensitivity, spec=get_specificity, ppv=get_ppv, npv=get_npv, auc=roc_auc_score,f1=f1_score)"
      ]
    },
    {
      "cell_type": "code",
      "execution_count": null,
      "metadata": {
        "id": "kneeqZCsMItk"
      },
      "outputs": [],
      "source": [
        "#ROC_CURVE \n",
        "get_curve(y_test,predictions,labels,log_dir,'VGG19_imagenet_Covid_pos_vs_neg2_inv',curve='roc')"
      ]
    },
    {
      "cell_type": "markdown",
      "metadata": {
        "id": "sBvHs2fmNm_1"
      },
      "source": [
        "##Experiment 3"
      ]
    },
    {
      "cell_type": "markdown",
      "metadata": {
        "id": "FGpJ5rwMNnAK"
      },
      "source": [
        "###Part C"
      ]
    },
    {
      "cell_type": "code",
      "execution_count": null,
      "metadata": {
        "id": "0Clj6h6HNnAK"
      },
      "outputs": [],
      "source": [
        "C_dir = '/Normal'"
      ]
    },
    {
      "cell_type": "code",
      "execution_count": null,
      "metadata": {
        "id": "FlW7Pk-bNnAL"
      },
      "outputs": [],
      "source": [
        "X_train_P = np.load(P_dir + C_dir + '/X_pos_train_C.npy')\n",
        "X_test_P = np.load(P_dir + C_dir + '/X_pos_test_C.npy')\n",
        "X_dev_P = np.load(P_dir + C_dir + '/X_pos_dev_C.npy')"
      ]
    },
    {
      "cell_type": "code",
      "execution_count": null,
      "metadata": {
        "id": "lzYAQhJ5NnAN"
      },
      "outputs": [],
      "source": [
        "X_train_N = np.load(N3_dir + C_dir + '/X_train_COVID_neg2.npy')\n",
        "X_test_N = np.load(N3_dir + C_dir + '/X_test_COVID_neg2.npy')\n",
        "X_dev_N = np.load(N3_dir + C_dir + '/X_dev_COVID_neg2.npy')"
      ]
    },
    {
      "cell_type": "code",
      "execution_count": null,
      "metadata": {
        "id": "bKW3o5DrNnAN"
      },
      "outputs": [],
      "source": [
        "X_train=np.concatenate((X_train_N,X_train_P))\n",
        "X_dev=np.concatenate((X_dev_N,X_dev_P))\n",
        "X_test=np.concatenate((X_test_N,X_test_P))"
      ]
    },
    {
      "cell_type": "code",
      "execution_count": null,
      "metadata": {
        "id": "n_DwVe5TNnAO"
      },
      "outputs": [],
      "source": [
        "y_train_N=np.array([[1,0]]*len(X_train_N))\n",
        "y_dev_N=np.array([[1,0]]*len(X_dev_N))\n",
        "y_test_N=np.array([[1,0]]*len(X_test_N))\n",
        "\n",
        "y_train_P=np.array([[0,1]]*len(X_train_P))\n",
        "y_dev_P=np.array([[0,1]]*len(X_dev_P))\n",
        "y_test_P=np.array([[0,1]]*len(X_test_P))"
      ]
    },
    {
      "cell_type": "code",
      "execution_count": null,
      "metadata": {
        "id": "orBWnqncNnAO"
      },
      "outputs": [],
      "source": [
        "y_train=np.concatenate((y_train_N,y_train_P))\n",
        "y_dev=np.concatenate((y_dev_N,y_dev_P))\n",
        "y_test=np.concatenate((y_test_N,y_test_P))"
      ]
    },
    {
      "cell_type": "code",
      "execution_count": null,
      "metadata": {
        "id": "dNkZ8Q9iNnAP"
      },
      "outputs": [],
      "source": [
        "#Min_max scaled\n",
        "X_train,y_train=min_max_preprocessing(X_train,y_train)\n",
        "X_dev,y_dev=min_max_preprocessing(X_dev,y_dev)\n",
        "X_test,y_test=min_max_preprocessing(X_test,y_test)"
      ]
    },
    {
      "cell_type": "code",
      "execution_count": null,
      "metadata": {
        "id": "-f7jW2H5NnAP"
      },
      "outputs": [],
      "source": [
        "X_train = np.float32(X_train)\n",
        "X_dev = np.float32(X_dev)\n",
        "X_test = np.float32(X_test)"
      ]
    },
    {
      "cell_type": "code",
      "execution_count": null,
      "metadata": {
        "id": "rQY_aJfUNnAQ"
      },
      "outputs": [],
      "source": [
        "#std normalization\n",
        "X_train,y_train,mean,std=samplewise_preprocessing(X_train,y_train)"
      ]
    },
    {
      "cell_type": "code",
      "execution_count": null,
      "metadata": {
        "id": "19jH8SEjNnAQ"
      },
      "outputs": [],
      "source": [
        "X_dev=featurewise_preprocessing(X_dev,mean,std)\n",
        "X_test=featurewise_preprocessing(X_test,mean,std)"
      ]
    },
    {
      "cell_type": "markdown",
      "metadata": {
        "id": "6F4mEcBINnAR"
      },
      "source": [
        "#### Train Models (GPU) "
      ]
    },
    {
      "cell_type": "code",
      "execution_count": null,
      "metadata": {
        "id": "tKMfjsWENnAR"
      },
      "outputs": [],
      "source": [
        "log_dir=\"../results/\""
      ]
    },
    {
      "cell_type": "code",
      "execution_count": null,
      "metadata": {
        "id": "W2UNmBcCNnAR"
      },
      "outputs": [],
      "source": [
        "class_weight= get_weight(np.argmax(y_train,axis=-1))"
      ]
    },
    {
      "cell_type": "code",
      "execution_count": null,
      "metadata": {
        "id": "mQG2FG-4NnAS"
      },
      "outputs": [],
      "source": [
        "print(\"Getting Base Model\")\n",
        "model = get_model_VGG16_gray()"
      ]
    },
    {
      "cell_type": "code",
      "execution_count": null,
      "metadata": {
        "id": "yJGni9oRNnAS",
        "scrolled": true
      },
      "outputs": [],
      "source": [
        "model_name='VGG16_imagenet_Covid_pos_vs_neg3'\n",
        "filepath = log_dir+\"Saved_models/\"+model_name+\".h5\"\n",
        "checkpoint = tf.keras.callbacks.ModelCheckpoint(filepath, monitor='val_accuracy', save_best_only=True, mode='max')\n",
        "history=model.fit(X_train, y_train, epochs=100, batch_size=64, validation_data=(X_dev, y_dev),class_weight=class_weight,callbacks=[checkpoint])"
      ]
    },
    {
      "cell_type": "code",
      "execution_count": null,
      "metadata": {
        "id": "joJhmfIiNnAT"
      },
      "outputs": [],
      "source": [
        "print(\"Getting Base Model\")\n",
        "model = get_model_VGG19_gray()"
      ]
    },
    {
      "cell_type": "code",
      "execution_count": null,
      "metadata": {
        "id": "tXJH8ylENnAT"
      },
      "outputs": [],
      "source": [
        "model_name='VGG19_imagenet_Covid_pos_vs_neg3'\n",
        "filepath = log_dir+\"Saved_models/\"+model_name+\".h5\"\n",
        "checkpoint = tf.keras.callbacks.ModelCheckpoint(filepath, monitor='val_accuracy', save_best_only=True, mode='max')\n",
        "history=model.fit(X_train, y_train, epochs=100, batch_size=64, validation_data=(X_dev, y_dev),class_weight=class_weight,callbacks=[checkpoint])"
      ]
    },
    {
      "cell_type": "markdown",
      "metadata": {
        "id": "vGRDP_t5NnAT"
      },
      "source": [
        "#### Prediction"
      ]
    },
    {
      "cell_type": "code",
      "execution_count": null,
      "metadata": {
        "id": "QPtRO2O8NnAT",
        "outputId": "94cd01b0-beeb-4232-a439-4f008da18ab8"
      },
      "outputs": [
        {
          "name": "stdout",
          "output_type": "stream",
          "text": [
            "Model VGG 16 Exp 3 Part C\n",
            "Model: \"model_25\"\n",
            "_________________________________________________________________\n",
            "Layer (type)                 Output Shape              Param #   \n",
            "=================================================================\n",
            "224_input (InputLayer)       [(None, 224, 224, 1)]     0         \n",
            "_________________________________________________________________\n",
            "224_block1_conv1 (Conv2D)    (None, 224, 224, 64)      640       \n",
            "_________________________________________________________________\n",
            "224_block1_conv2 (Conv2D)    (None, 224, 224, 64)      36928     \n",
            "_________________________________________________________________\n",
            "224_block1_pool (MaxPooling2 (None, 112, 112, 64)      0         \n",
            "_________________________________________________________________\n",
            "224_block2_conv1 (Conv2D)    (None, 112, 112, 128)     73856     \n",
            "_________________________________________________________________\n",
            "224_block2_conv2 (Conv2D)    (None, 112, 112, 128)     147584    \n",
            "_________________________________________________________________\n",
            "224_block2_pool (MaxPooling2 (None, 56, 56, 128)       0         \n",
            "_________________________________________________________________\n",
            "224_block3_conv1 (Conv2D)    (None, 56, 56, 256)       295168    \n",
            "_________________________________________________________________\n",
            "224_block3_conv2 (Conv2D)    (None, 56, 56, 256)       590080    \n",
            "_________________________________________________________________\n",
            "224_block3_conv3 (Conv2D)    (None, 56, 56, 256)       590080    \n",
            "_________________________________________________________________\n",
            "224_block3_pool (MaxPooling2 (None, 28, 28, 256)       0         \n",
            "_________________________________________________________________\n",
            "224_block4_conv1 (Conv2D)    (None, 28, 28, 512)       1180160   \n",
            "_________________________________________________________________\n",
            "224_block4_conv2 (Conv2D)    (None, 28, 28, 512)       2359808   \n",
            "_________________________________________________________________\n",
            "224_block4_conv3 (Conv2D)    (None, 28, 28, 512)       2359808   \n",
            "_________________________________________________________________\n",
            "224_block4_pool (MaxPooling2 (None, 14, 14, 512)       0         \n",
            "_________________________________________________________________\n",
            "224_block5_conv1 (Conv2D)    (None, 14, 14, 512)       2359808   \n",
            "_________________________________________________________________\n",
            "224_block5_conv2 (Conv2D)    (None, 14, 14, 512)       2359808   \n",
            "_________________________________________________________________\n",
            "224_block5_conv3 (Conv2D)    (None, 14, 14, 512)       2359808   \n",
            "_________________________________________________________________\n",
            "224_block5_pool (MaxPooling2 (None, 1, 1, 512)         0         \n",
            "_________________________________________________________________\n",
            "global_average_pooling2d_12  (None, 512)               0         \n",
            "_________________________________________________________________\n",
            "flatten_12 (Flatten)         (None, 512)               0         \n",
            "_________________________________________________________________\n",
            "dropout_24 (Dropout)         (None, 512)               0         \n",
            "_________________________________________________________________\n",
            "dense_36 (Dense)             (None, 1024)              525312    \n",
            "_________________________________________________________________\n",
            "dropout_25 (Dropout)         (None, 1024)              0         \n",
            "_________________________________________________________________\n",
            "dense_37 (Dense)             (None, 512)               524800    \n",
            "_________________________________________________________________\n",
            "dense_38 (Dense)             (None, 64)                32832     \n",
            "_________________________________________________________________\n",
            "output_1 (Dense)             (None, 2)                 130       \n",
            "=================================================================\n",
            "Total params: 15,796,610\n",
            "Trainable params: 15,796,610\n",
            "Non-trainable params: 0\n",
            "_________________________________________________________________\n"
          ]
        }
      ],
      "source": [
        "print(\"Model VGG 16 Exp 3 Part C\")\n",
        "model = get_model_VGG16_gray()\n",
        "model.load_weights(E3_dir+C_dir+'/VGG16_imagenet_posypre_normal.h5')"
      ]
    },
    {
      "cell_type": "code",
      "execution_count": null,
      "metadata": {
        "id": "CVpZ4oXCNnAU"
      },
      "outputs": [],
      "source": [
        "predictions=model.predict(X_test)\n",
        "y_pred_bool = np.argmax(predictions, axis=-1)\n",
        "y_hat=np.argmax(y_test,axis=-1)"
      ]
    },
    {
      "cell_type": "code",
      "execution_count": null,
      "metadata": {
        "id": "ksijYKu0NnAU",
        "outputId": "f3d80b93-91c5-4fa1-8ed9-706c9180290c"
      },
      "outputs": [
        {
          "name": "stdout",
          "output_type": "stream",
          "text": [
            "Accuracy: 0.8446961894953656\n",
            "F1 score: 0.8402542938507662\n",
            "Recall: 0.8446961894953656\n",
            "Precision: 0.8404235472765648\n",
            "\n",
            " clasification report:\n",
            "               precision    recall  f1-score   support\n",
            "\n",
            "           0       0.78      0.65      0.71      1401\n",
            "           1       0.87      0.92      0.89      3454\n",
            "\n",
            "    accuracy                           0.84      4855\n",
            "   macro avg       0.82      0.79      0.80      4855\n",
            "weighted avg       0.84      0.84      0.84      4855\n",
            "\n",
            "\n",
            " confusion matrix:\n",
            " [[ 909  492]\n",
            " [ 262 3192]]\n"
          ]
        },
        {
          "data": {
            "text/html": [
              "<div>\n",
              "<style scoped>\n",
              "    .dataframe tbody tr th:only-of-type {\n",
              "        vertical-align: middle;\n",
              "    }\n",
              "\n",
              "    .dataframe tbody tr th {\n",
              "        vertical-align: top;\n",
              "    }\n",
              "\n",
              "    .dataframe thead th {\n",
              "        text-align: right;\n",
              "    }\n",
              "</style>\n",
              "<table border=\"1\" class=\"dataframe\">\n",
              "  <thead>\n",
              "    <tr style=\"text-align: right;\">\n",
              "      <th></th>\n",
              "      <th>TP</th>\n",
              "      <th>TN</th>\n",
              "      <th>FP</th>\n",
              "      <th>FN</th>\n",
              "      <th>Accuracy</th>\n",
              "      <th>Prevalence</th>\n",
              "      <th>Sensitivity</th>\n",
              "      <th>Specificity</th>\n",
              "      <th>PPV</th>\n",
              "      <th>NPV</th>\n",
              "      <th>AUC</th>\n",
              "      <th>F1</th>\n",
              "      <th>Threshold</th>\n",
              "    </tr>\n",
              "    <tr>\n",
              "      <th></th>\n",
              "      <th></th>\n",
              "      <th></th>\n",
              "      <th></th>\n",
              "      <th></th>\n",
              "      <th></th>\n",
              "      <th></th>\n",
              "      <th></th>\n",
              "      <th></th>\n",
              "      <th></th>\n",
              "      <th></th>\n",
              "      <th></th>\n",
              "      <th></th>\n",
              "      <th></th>\n",
              "    </tr>\n",
              "  </thead>\n",
              "  <tbody>\n",
              "    <tr>\n",
              "      <th>No-Covid</th>\n",
              "      <td>909</td>\n",
              "      <td>3192</td>\n",
              "      <td>262</td>\n",
              "      <td>492</td>\n",
              "      <td>0.887</td>\n",
              "      <td>0.289</td>\n",
              "      <td>0.649</td>\n",
              "      <td>0.924</td>\n",
              "      <td>0.776</td>\n",
              "      <td>0.866</td>\n",
              "      <td>0.891</td>\n",
              "      <td>0.707</td>\n",
              "      <td>0.5</td>\n",
              "    </tr>\n",
              "    <tr>\n",
              "      <th>Covid</th>\n",
              "      <td>3192</td>\n",
              "      <td>909</td>\n",
              "      <td>492</td>\n",
              "      <td>262</td>\n",
              "      <td>0.806</td>\n",
              "      <td>0.711</td>\n",
              "      <td>0.924</td>\n",
              "      <td>0.649</td>\n",
              "      <td>0.866</td>\n",
              "      <td>0.776</td>\n",
              "      <td>0.891</td>\n",
              "      <td>0.894</td>\n",
              "      <td>0.5</td>\n",
              "    </tr>\n",
              "  </tbody>\n",
              "</table>\n",
              "</div>"
            ],
            "text/plain": [
              "            TP    TN   FP   FN Accuracy Prevalence Sensitivity Specificity  \\\n",
              "                                                                             \n",
              "No-Covid   909  3192  262  492    0.887      0.289       0.649       0.924   \n",
              "Covid     3192   909  492  262    0.806      0.711       0.924       0.649   \n",
              "\n",
              "            PPV    NPV    AUC     F1 Threshold  \n",
              "                                                \n",
              "No-Covid  0.776  0.866  0.891  0.707       0.5  \n",
              "Covid     0.866  0.776  0.891  0.894       0.5  "
            ]
          },
          "execution_count": 134,
          "metadata": {},
          "output_type": "execute_result"
        }
      ],
      "source": [
        "metrics(y_hat,y_pred_bool,log_dir,'VGG16_imagenet_Covid_pos_vs_neg3',)\n",
        "labels = [\"No-Covid\",\"Covid\"]\n",
        "get_performance_metrics(y_test,predictions,labels, acc=get_accuracy, prevalence=get_prevalence, \n",
        "                        sens=get_sensitivity, spec=get_specificity, ppv=get_ppv, npv=get_npv, auc=roc_auc_score,f1=f1_score)"
      ]
    },
    {
      "cell_type": "code",
      "execution_count": null,
      "metadata": {
        "id": "NvRHCrF2NnAU"
      },
      "outputs": [],
      "source": [
        "#ROC_CURVE \n",
        "get_curve(y_test,predictions,labels,log_dir,'VGG16_imagenet_Covid_pos_vs_neg3',curve='roc')"
      ]
    },
    {
      "cell_type": "code",
      "execution_count": null,
      "metadata": {
        "id": "4kEwYDs6NnAV",
        "outputId": "abec8a20-3860-4b93-b7b8-bf8fe4b47874"
      },
      "outputs": [
        {
          "name": "stdout",
          "output_type": "stream",
          "text": [
            "Model VGG 19 Exp 3 Part C\n",
            "Model: \"model_27\"\n",
            "_________________________________________________________________\n",
            "Layer (type)                 Output Shape              Param #   \n",
            "=================================================================\n",
            "224_input (InputLayer)       [(None, 224, 224, 1)]     0         \n",
            "_________________________________________________________________\n",
            "224_block1_conv1 (Conv2D)    (None, 224, 224, 64)      640       \n",
            "_________________________________________________________________\n",
            "224_block1_conv2 (Conv2D)    (None, 224, 224, 64)      36928     \n",
            "_________________________________________________________________\n",
            "224_block1_pool (MaxPooling2 (None, 112, 112, 64)      0         \n",
            "_________________________________________________________________\n",
            "224_block2_conv1 (Conv2D)    (None, 112, 112, 128)     73856     \n",
            "_________________________________________________________________\n",
            "224_block2_conv2 (Conv2D)    (None, 112, 112, 128)     147584    \n",
            "_________________________________________________________________\n",
            "224_block2_pool (MaxPooling2 (None, 56, 56, 128)       0         \n",
            "_________________________________________________________________\n",
            "224_block3_conv1 (Conv2D)    (None, 56, 56, 256)       295168    \n",
            "_________________________________________________________________\n",
            "224_block3_conv2 (Conv2D)    (None, 56, 56, 256)       590080    \n",
            "_________________________________________________________________\n",
            "224_block3_conv3 (Conv2D)    (None, 56, 56, 256)       590080    \n",
            "_________________________________________________________________\n",
            "224_block3_conv4 (Conv2D)    (None, 56, 56, 256)       590080    \n",
            "_________________________________________________________________\n",
            "224_block3_pool (MaxPooling2 (None, 28, 28, 256)       0         \n",
            "_________________________________________________________________\n",
            "224_block4_conv1 (Conv2D)    (None, 28, 28, 512)       1180160   \n",
            "_________________________________________________________________\n",
            "224_block4_conv2 (Conv2D)    (None, 28, 28, 512)       2359808   \n",
            "_________________________________________________________________\n",
            "224_block4_conv3 (Conv2D)    (None, 28, 28, 512)       2359808   \n",
            "_________________________________________________________________\n",
            "224_block4_conv4 (Conv2D)    (None, 28, 28, 512)       2359808   \n",
            "_________________________________________________________________\n",
            "224_block4_pool (MaxPooling2 (None, 14, 14, 512)       0         \n",
            "_________________________________________________________________\n",
            "224_block5_conv1 (Conv2D)    (None, 14, 14, 512)       2359808   \n",
            "_________________________________________________________________\n",
            "224_block5_conv2 (Conv2D)    (None, 14, 14, 512)       2359808   \n",
            "_________________________________________________________________\n",
            "224_block5_conv3 (Conv2D)    (None, 14, 14, 512)       2359808   \n",
            "_________________________________________________________________\n",
            "224_block5_conv4 (Conv2D)    (None, 14, 14, 512)       2359808   \n",
            "_________________________________________________________________\n",
            "224_block5_pool (MaxPooling2 (None, 1, 1, 512)         0         \n",
            "_________________________________________________________________\n",
            "global_average_pooling2d_13  (None, 512)               0         \n",
            "_________________________________________________________________\n",
            "flatten_13 (Flatten)         (None, 512)               0         \n",
            "_________________________________________________________________\n",
            "dropout_26 (Dropout)         (None, 512)               0         \n",
            "_________________________________________________________________\n",
            "dense_39 (Dense)             (None, 1024)              525312    \n",
            "_________________________________________________________________\n",
            "dropout_27 (Dropout)         (None, 1024)              0         \n",
            "_________________________________________________________________\n",
            "dense_40 (Dense)             (None, 512)               524800    \n",
            "_________________________________________________________________\n",
            "dense_41 (Dense)             (None, 64)                32832     \n",
            "_________________________________________________________________\n",
            "output_1 (Dense)             (None, 2)                 130       \n",
            "=================================================================\n",
            "Total params: 21,106,306\n",
            "Trainable params: 21,106,306\n",
            "Non-trainable params: 0\n",
            "_________________________________________________________________\n"
          ]
        }
      ],
      "source": [
        "print(\"Model VGG 19 Exp 3 Part C\")\n",
        "model = get_model_VGG19_gray()\n",
        "model.load_weights(E3_dir+C_dir+'/VGG19_imagenet_posypre_normal.h5')"
      ]
    },
    {
      "cell_type": "code",
      "execution_count": null,
      "metadata": {
        "id": "SdSeNivhNnAV"
      },
      "outputs": [],
      "source": [
        "predictions=model.predict(X_test)\n",
        "y_pred_bool = np.argmax(predictions, axis=-1)\n",
        "y_hat=np.argmax(y_test,axis=-1)"
      ]
    },
    {
      "cell_type": "code",
      "execution_count": null,
      "metadata": {
        "id": "Xc-JQo3tNnAV"
      },
      "outputs": [],
      "source": [
        "metrics(y_hat,y_pred_bool,log_dir,'VGG19_imagenet_Covid_pos_vs_neg3')\n",
        "labels = [\"No-Covid\",\"Covid\"]\n",
        "get_performance_metrics(y_test,predictions,labels, acc=get_accuracy, prevalence=get_prevalence, \n",
        "                        sens=get_sensitivity, spec=get_specificity, ppv=get_ppv, npv=get_npv, auc=roc_auc_score,f1=f1_score)"
      ]
    },
    {
      "cell_type": "code",
      "execution_count": null,
      "metadata": {
        "id": "F35HESwTNnAW"
      },
      "outputs": [],
      "source": [
        "#ROC_CURVE \n",
        "get_curve(y_test,predictions,labels,log_dir,'VGG19_imagenet_Covid_pos_vs_neg3',curve='roc')"
      ]
    },
    {
      "cell_type": "markdown",
      "metadata": {
        "id": "xEfDzpCCNnAW"
      },
      "source": [
        "###Part D"
      ]
    },
    {
      "cell_type": "code",
      "execution_count": null,
      "metadata": {
        "id": "0nckiSbjNnAW"
      },
      "outputs": [],
      "source": [
        "D_dir = '/Segmented'"
      ]
    },
    {
      "cell_type": "code",
      "execution_count": null,
      "metadata": {
        "colab": {
          "background_save": true
        },
        "id": "jpRDlB6FNnAW"
      },
      "outputs": [],
      "source": [
        "X_train_P = np.load(P_dir + D_dir + '/X_pos_Seg_Train.npy')\n",
        "X_test_P = np.load(P_dir + D_dir + '/X_pos_Seg_Test.npy')\n",
        "X_dev_P = np.load(P_dir + D_dir + '/X_pos_Seg_Dev.npy')"
      ]
    },
    {
      "cell_type": "code",
      "execution_count": null,
      "metadata": {
        "id": "1P-P7pjONnAX"
      },
      "outputs": [],
      "source": [
        "X_train_N = np.load(N3_dir + D_dir + '/X_preC_Seg_Train.npy')\n",
        "X_test_N = np.load(N3_dir + D_dir + '/X_preC_Seg_Test.npy')\n",
        "X_dev_N = np.load(N3_dir + D_dir + '/X_preC_Seg_Dev.npy')"
      ]
    },
    {
      "cell_type": "code",
      "execution_count": null,
      "metadata": {
        "id": "chOL195ANnAX"
      },
      "outputs": [],
      "source": [
        "X_train=np.concatenate((X_train_N,X_train_P))\n",
        "X_dev=np.concatenate((X_dev_N,X_dev_P))\n",
        "X_test=np.concatenate((X_test_N,X_test_P))"
      ]
    },
    {
      "cell_type": "code",
      "execution_count": null,
      "metadata": {
        "id": "rns89w2vNnAX"
      },
      "outputs": [],
      "source": [
        "y_train_N=np.array([[1,0]]*len(X_train_N))\n",
        "y_dev_N=np.array([[1,0]]*len(X_dev_N))\n",
        "y_test_N=np.array([[1,0]]*len(X_test_N))\n",
        "\n",
        "y_train_P=np.array([[0,1]]*len(X_train_P))\n",
        "y_dev_P=np.array([[0,1]]*len(X_dev_P))\n",
        "y_test_P=np.array([[0,1]]*len(X_test_P))"
      ]
    },
    {
      "cell_type": "code",
      "execution_count": null,
      "metadata": {
        "id": "PXNmmU1tNnAY"
      },
      "outputs": [],
      "source": [
        "y_train=np.concatenate((y_train_N,y_train_P))\n",
        "y_dev=np.concatenate((y_dev_N,y_dev_P))\n",
        "y_test=np.concatenate((y_test_N,y_test_P))"
      ]
    },
    {
      "cell_type": "code",
      "execution_count": null,
      "metadata": {
        "id": "whAGHffvNnAY"
      },
      "outputs": [],
      "source": [
        "#Min_max scaled\n",
        "X_train,y_train=min_max_preprocessing(X_train,y_train)\n",
        "X_dev,y_dev=min_max_preprocessing(X_dev,y_dev)\n",
        "X_test,y_test=min_max_preprocessing(X_test,y_test)"
      ]
    },
    {
      "cell_type": "code",
      "execution_count": null,
      "metadata": {
        "id": "glPOhvk8NnAY"
      },
      "outputs": [],
      "source": [
        "X_train = np.float32(X_train)\n",
        "X_dev = np.float32(X_dev)\n",
        "X_test = np.float32(X_test)"
      ]
    },
    {
      "cell_type": "code",
      "execution_count": null,
      "metadata": {
        "id": "kZd7CpO3NnAY"
      },
      "outputs": [],
      "source": [
        "#std normalization\n",
        "X_train,y_train,mean,std=samplewise_preprocessing(X_train,y_train)"
      ]
    },
    {
      "cell_type": "code",
      "execution_count": null,
      "metadata": {
        "id": "-6QIC3uENnAZ"
      },
      "outputs": [],
      "source": [
        "X_dev=featurewise_preprocessing(X_dev,mean,std)\n",
        "X_test=featurewise_preprocessing(X_test,mean,std)"
      ]
    },
    {
      "cell_type": "markdown",
      "metadata": {
        "id": "LJE08q5HNnAZ"
      },
      "source": [
        "#### Train Models (GPU) "
      ]
    },
    {
      "cell_type": "code",
      "execution_count": null,
      "metadata": {
        "id": "CeWeCmkjNnAZ"
      },
      "outputs": [],
      "source": [
        "log_dir=\"../results/\""
      ]
    },
    {
      "cell_type": "code",
      "execution_count": null,
      "metadata": {
        "id": "fIWnFSHMNnAa"
      },
      "outputs": [],
      "source": [
        "class_weight= get_weight(np.argmax(y_train,axis=-1))"
      ]
    },
    {
      "cell_type": "code",
      "execution_count": null,
      "metadata": {
        "id": "Xc947MBaNnAa"
      },
      "outputs": [],
      "source": [
        "print(\"Getting Base Model\")\n",
        "model = get_model_VGG16_gray()"
      ]
    },
    {
      "cell_type": "code",
      "execution_count": null,
      "metadata": {
        "id": "zJe4RuZ6NnAa",
        "scrolled": true
      },
      "outputs": [],
      "source": [
        "model_name='VGG16_imagenet_Covid_pos_vs_neg3_seg'\n",
        "filepath = log_dir+\"Saved_models/\"+model_name+\".h5\"\n",
        "checkpoint = tf.keras.callbacks.ModelCheckpoint(filepath, monitor='val_accuracy', save_best_only=True, mode='max')\n",
        "history=model.fit(X_train, y_train, epochs=100, batch_size=64, validation_data=(X_dev, y_dev),class_weight=class_weight,callbacks=[checkpoint])"
      ]
    },
    {
      "cell_type": "code",
      "execution_count": null,
      "metadata": {
        "id": "ZSxbjXWlNnAa"
      },
      "outputs": [],
      "source": [
        "print(\"Getting Base Model\")\n",
        "model = get_model_VGG19_gray()"
      ]
    },
    {
      "cell_type": "code",
      "execution_count": null,
      "metadata": {
        "id": "yvEWRZAHNnAb"
      },
      "outputs": [],
      "source": [
        "model_name='VGG19_imagenet_Covid_pos_vs_neg3_seg'\n",
        "filepath = log_dir+\"Saved_models/\"+model_name+\".h5\"\n",
        "checkpoint = tf.keras.callbacks.ModelCheckpoint(filepath, monitor='val_accuracy', save_best_only=True, mode='max')\n",
        "history=model.fit(X_train, y_train, epochs=100, batch_size=64, validation_data=(X_dev, y_dev),class_weight=class_weight,callbacks=[checkpoint])"
      ]
    },
    {
      "cell_type": "markdown",
      "metadata": {
        "id": "ytGyt2prNnAb"
      },
      "source": [
        "#### Prediction"
      ]
    },
    {
      "cell_type": "code",
      "execution_count": null,
      "metadata": {
        "id": "95NOC9J-NnAb"
      },
      "outputs": [],
      "source": [
        "print(\"Model VGG 16 Exp 3 Part D\")\n",
        "model = get_model_VGG16_gray()\n",
        "model.load_weights(E3_dir+D_dir+'/VGG16_imagenet_posypre_seg.h5')"
      ]
    },
    {
      "cell_type": "code",
      "execution_count": null,
      "metadata": {
        "id": "4zI_bbn6NnAc"
      },
      "outputs": [],
      "source": [
        "predictions=model.predict(X_test)\n",
        "y_pred_bool = np.argmax(predictions, axis=-1)\n",
        "y_hat=np.argmax(y_test,axis=-1)"
      ]
    },
    {
      "cell_type": "code",
      "execution_count": null,
      "metadata": {
        "id": "TVwiDMTuNnAc"
      },
      "outputs": [],
      "source": [
        "metrics(y_hat,y_pred_bool,log_dir,'VGG16_imagenet_Covid_pos_vs_neg3_seg')\n",
        "labels = [\"No-Covid\",\"Covid\"]\n",
        "get_performance_metrics(y_test,predictions,labels, acc=get_accuracy, prevalence=get_prevalence, \n",
        "                        sens=get_sensitivity, spec=get_specificity, ppv=get_ppv, npv=get_npv, auc=roc_auc_score,f1=f1_score)"
      ]
    },
    {
      "cell_type": "code",
      "execution_count": null,
      "metadata": {
        "id": "m1jvxlbcNnAc"
      },
      "outputs": [],
      "source": [
        "#ROC_CURVE \n",
        "get_curve(y_test,predictions,labels,log_dir,'VGG16_imagenet_Covid_pos_vs_neg3_seg',curve='roc')"
      ]
    },
    {
      "cell_type": "code",
      "execution_count": null,
      "metadata": {
        "id": "oIBDLBmhNnAd"
      },
      "outputs": [],
      "source": [
        "print(\"Model VGG 19 Exp 3 Part D\")\n",
        "model = get_model_VGG19_gray()\n",
        "model.load_weights(E3_dir+D_dir+'/VGG19_imagenet_posypre_seg.h5')"
      ]
    },
    {
      "cell_type": "code",
      "execution_count": null,
      "metadata": {
        "id": "hEOFyRL0NnAd"
      },
      "outputs": [],
      "source": [
        "predictions=model.predict(X_test)\n",
        "y_pred_bool = np.argmax(predictions, axis=-1)\n",
        "y_hat=np.argmax(y_test,axis=-1)"
      ]
    },
    {
      "cell_type": "code",
      "execution_count": null,
      "metadata": {
        "id": "hcCZserwNnAd"
      },
      "outputs": [],
      "source": [
        "metrics(y_hat,y_pred_bool,log_dir,'VGG19_imagenet_Covid_pos_vs_neg3_seg')\n",
        "labels = [\"No-Covid\",\"Covid\"]\n",
        "get_performance_metrics(y_test,predictions,labels, acc=get_accuracy, prevalence=get_prevalence, \n",
        "                        sens=get_sensitivity, spec=get_specificity, ppv=get_ppv, npv=get_npv, auc=roc_auc_score,f1=f1_score)"
      ]
    },
    {
      "cell_type": "code",
      "execution_count": null,
      "metadata": {
        "id": "RylQCt5GNnAd"
      },
      "outputs": [],
      "source": [
        "#ROC_CURVE \n",
        "get_curve(y_test,predictions,labels,log_dir,'VGG19_imagenet_Covid_pos_vs_neg3_seg',curve='roc')"
      ]
    },
    {
      "cell_type": "markdown",
      "metadata": {
        "id": "DtJM7uZ8NnAd"
      },
      "source": [
        "###Part E"
      ]
    },
    {
      "cell_type": "code",
      "execution_count": null,
      "metadata": {
        "id": "dLgUv1XsNnAd"
      },
      "outputs": [],
      "source": [
        "E_dir = '/Inverted'"
      ]
    },
    {
      "cell_type": "code",
      "execution_count": null,
      "metadata": {
        "colab": {
          "background_save": true
        },
        "id": "Ao5xZYiLNnAd"
      },
      "outputs": [],
      "source": [
        "X_train_P = np.load(P_dir + E_dir + '/X_pos_Seg_i2_Train.npy')\n",
        "X_test_P = np.load(P_dir + E_dir + '/X_pos_Seg_i2_Test.npy')\n",
        "X_dev_P = np.load(P_dir + E_dir + '/X_pos_Seg_i2_Dev.npy')"
      ]
    },
    {
      "cell_type": "code",
      "execution_count": null,
      "metadata": {
        "id": "AnrtyFAmNnAe"
      },
      "outputs": [],
      "source": [
        "X_train_N = np.load(N3_dir + E_dir + '/X_preC_Seg_Train_i.npy')\n",
        "X_test_N = np.load(N3_dir + E_dir + '/X_preC_Seg_Test_i.npy')\n",
        "X_dev_N = np.load(N3_dir + E_dir + '/X_preC_Seg_Dev_i.npy')"
      ]
    },
    {
      "cell_type": "code",
      "execution_count": null,
      "metadata": {
        "id": "scu0QCTGNnAe"
      },
      "outputs": [],
      "source": [
        "X_train=np.concatenate((X_train_N,X_train_P))\n",
        "X_dev=np.concatenate((X_dev_N,X_dev_P))\n",
        "X_test=np.concatenate((X_test_N,X_test_P))"
      ]
    },
    {
      "cell_type": "code",
      "execution_count": null,
      "metadata": {
        "id": "d_C-EzJUNnAe"
      },
      "outputs": [],
      "source": [
        "y_train_N=np.array([[1,0]]*len(X_train_N))\n",
        "y_dev_N=np.array([[1,0]]*len(X_dev_N))\n",
        "y_test_N=np.array([[1,0]]*len(X_test_N))\n",
        "\n",
        "y_train_P=np.array([[0,1]]*len(X_train_P))\n",
        "y_dev_P=np.array([[0,1]]*len(X_dev_P))\n",
        "y_test_P=np.array([[0,1]]*len(X_test_P))"
      ]
    },
    {
      "cell_type": "code",
      "execution_count": null,
      "metadata": {
        "id": "5yc2tyLMNnAe"
      },
      "outputs": [],
      "source": [
        "y_train=np.concatenate((y_train_N,y_train_P))\n",
        "y_dev=np.concatenate((y_dev_N,y_dev_P))\n",
        "y_test=np.concatenate((y_test_N,y_test_P))"
      ]
    },
    {
      "cell_type": "code",
      "execution_count": null,
      "metadata": {
        "id": "JOrY3OucNnAe"
      },
      "outputs": [],
      "source": [
        "#Min_max scaled\n",
        "X_train,y_train=min_max_preprocessing(X_train,y_train)\n",
        "X_dev,y_dev=min_max_preprocessing(X_dev,y_dev)\n",
        "X_test,y_test=min_max_preprocessing(X_test,y_test)"
      ]
    },
    {
      "cell_type": "code",
      "execution_count": null,
      "metadata": {
        "id": "UUNrFEUONnAe"
      },
      "outputs": [],
      "source": [
        "X_train = np.float32(X_train)\n",
        "X_dev = np.float32(X_dev)\n",
        "X_test = np.float32(X_test)"
      ]
    },
    {
      "cell_type": "code",
      "execution_count": null,
      "metadata": {
        "id": "yaxSTzVNNnAe"
      },
      "outputs": [],
      "source": [
        "#std normalization\n",
        "X_train,y_train,mean,std=samplewise_preprocessing(X_train,y_train)"
      ]
    },
    {
      "cell_type": "code",
      "execution_count": null,
      "metadata": {
        "id": "pIgLv0FJNnAf"
      },
      "outputs": [],
      "source": [
        "X_dev=featurewise_preprocessing(X_dev,mean,std)\n",
        "X_test=featurewise_preprocessing(X_test,mean,std)"
      ]
    },
    {
      "cell_type": "markdown",
      "metadata": {
        "id": "jK4KdqVTNnAf"
      },
      "source": [
        "#### Train Models (GPU) "
      ]
    },
    {
      "cell_type": "code",
      "execution_count": null,
      "metadata": {
        "id": "k1aRu3fWNnAf"
      },
      "outputs": [],
      "source": [
        "log_dir=\"../results/\""
      ]
    },
    {
      "cell_type": "code",
      "execution_count": null,
      "metadata": {
        "id": "rLpi2wJrNnAf"
      },
      "outputs": [],
      "source": [
        "class_weight= get_weight(np.argmax(y_train,axis=-1))"
      ]
    },
    {
      "cell_type": "code",
      "execution_count": null,
      "metadata": {
        "id": "k7J4DDE7NnAf"
      },
      "outputs": [],
      "source": [
        "print(\"Getting Base Model\")\n",
        "model = get_model_VGG16_gray()"
      ]
    },
    {
      "cell_type": "code",
      "execution_count": null,
      "metadata": {
        "id": "Yi_8KjvINnAf",
        "scrolled": true
      },
      "outputs": [],
      "source": [
        "model_name='VGG16_imagenet_Covid_pos_vs_neg3_inv'\n",
        "filepath = log_dir+\"Saved_models/\"+model_name+\".h5\"\n",
        "checkpoint = tf.keras.callbacks.ModelCheckpoint(filepath, monitor='val_accuracy', save_best_only=True, mode='max')\n",
        "history=model.fit(X_train, y_train, epochs=100, batch_size=64, validation_data=(X_dev, y_dev),class_weight=class_weight,callbacks=[checkpoint])"
      ]
    },
    {
      "cell_type": "code",
      "execution_count": null,
      "metadata": {
        "id": "tuhI3PzKNnAf"
      },
      "outputs": [],
      "source": [
        "print(\"Getting Base Model\")\n",
        "model = get_model_VGG19_gray()"
      ]
    },
    {
      "cell_type": "code",
      "execution_count": null,
      "metadata": {
        "id": "1o_qaXTbNnAf"
      },
      "outputs": [],
      "source": [
        "model_name='VGG19_imagenet_Covid_pos_vs_neg3_inv'\n",
        "filepath = log_dir+\"Saved_models/\"+model_name+\".h5\"\n",
        "checkpoint = tf.keras.callbacks.ModelCheckpoint(filepath, monitor='val_accuracy', save_best_only=True, mode='max')\n",
        "history=model.fit(X_train, y_train, epochs=100, batch_size=64, validation_data=(X_dev, y_dev),class_weight=class_weight,callbacks=[checkpoint])"
      ]
    },
    {
      "cell_type": "markdown",
      "metadata": {
        "id": "fj93-foNNnAg"
      },
      "source": [
        "#### Prediction"
      ]
    },
    {
      "cell_type": "code",
      "execution_count": null,
      "metadata": {
        "id": "ox4oDV7ENnAg"
      },
      "outputs": [],
      "source": [
        "print(\"Model VGG 16 Exp 3 Part E\")\n",
        "model = get_model_VGG16_gray()\n",
        "model.load_weights(E3_dir+E_dir+'/VGG16_imagenet_posypre_seg_i.h5')"
      ]
    },
    {
      "cell_type": "code",
      "execution_count": null,
      "metadata": {
        "id": "rlAieE_WNnAg"
      },
      "outputs": [],
      "source": [
        "predictions=model.predict(X_test)\n",
        "y_pred_bool = np.argmax(predictions, axis=-1)\n",
        "y_hat=np.argmax(y_test,axis=-1)"
      ]
    },
    {
      "cell_type": "code",
      "execution_count": null,
      "metadata": {
        "id": "af-i6kDpNnAg"
      },
      "outputs": [],
      "source": [
        "metrics(y_hat,y_pred_bool,log_dir,'VGG16_imagenet_Covid_pos_vs_neg3_inv')\n",
        "labels = [\"No-Covid\",\"Covid\"]\n",
        "get_performance_metrics(y_test,predictions,labels, acc=get_accuracy, prevalence=get_prevalence, \n",
        "                        sens=get_sensitivity, spec=get_specificity, ppv=get_ppv, npv=get_npv, auc=roc_auc_score,f1=f1_score)"
      ]
    },
    {
      "cell_type": "code",
      "execution_count": null,
      "metadata": {
        "id": "Sl64qk2GNnAg"
      },
      "outputs": [],
      "source": [
        "#ROC_CURVE \n",
        "get_curve(y_test,predictions,labels,log_dir,'VGG16_imagenet_Covid_pos_vs_neg3_inv',curve='roc')"
      ]
    },
    {
      "cell_type": "code",
      "execution_count": null,
      "metadata": {
        "id": "GfRpzwVuNnAg"
      },
      "outputs": [],
      "source": [
        "print(\"Model VGG 19 Exp 3 Part E\")\n",
        "model = get_model_VGG19_gray()\n",
        "model.load_weights(E3_dir+E_dir+'/VGG19_imagenet_posypre_seg_i.h5')"
      ]
    },
    {
      "cell_type": "code",
      "execution_count": null,
      "metadata": {
        "id": "fuicJIT7NnAh"
      },
      "outputs": [],
      "source": [
        "predictions=model.predict(X_test)\n",
        "y_pred_bool = np.argmax(predictions, axis=-1)\n",
        "y_hat=np.argmax(y_test,axis=-1)"
      ]
    },
    {
      "cell_type": "code",
      "execution_count": null,
      "metadata": {
        "id": "SdyXdyVUNnAh"
      },
      "outputs": [],
      "source": [
        "metrics(y_hat,y_pred_bool,log_dir,'VGG19_imagenet_Covid_pos_vs_neg3_inv')\n",
        "labels = [\"No-Covid\",\"Covid\"]\n",
        "get_performance_metrics(y_test,predictions,labels, acc=get_accuracy, prevalence=get_prevalence, \n",
        "                        sens=get_sensitivity, spec=get_specificity, ppv=get_ppv, npv=get_npv, auc=roc_auc_score,f1=f1_score)"
      ]
    },
    {
      "cell_type": "code",
      "execution_count": null,
      "metadata": {
        "id": "plKf_9fuNnAh"
      },
      "outputs": [],
      "source": [
        "#ROC_CURVE \n",
        "get_curve(y_test,predictions,labels,log_dir,'VGG19_imagenet_Covid_pos_vs_neg3_inv',curve='roc')"
      ]
    },
    {
      "cell_type": "markdown",
      "metadata": {
        "id": "8csvekHfPUx5"
      },
      "source": [
        "# Comparison Datasets"
      ]
    },
    {
      "cell_type": "markdown",
      "metadata": {
        "id": "qmgKjWPjP9lm"
      },
      "source": [
        "Cohen(Positive)"
      ]
    },
    {
      "cell_type": "code",
      "execution_count": null,
      "metadata": {
        "id": "xXl6WlJoP83_"
      },
      "outputs": [],
      "source": [
        "P_dir = Img_dir + '/POSITIVE COHEN'"
      ]
    },
    {
      "cell_type": "markdown",
      "metadata": {
        "id": "ahxXadTRQHDw"
      },
      "source": [
        "Negative(Normal/Pneumonia)"
      ]
    },
    {
      "cell_type": "code",
      "execution_count": null,
      "metadata": {
        "id": "U6KMfC_KQLdJ"
      },
      "outputs": [],
      "source": [
        "N_dir = Img_dir + '/NEGATIVE ONLY PNEUMO-NORMAL'"
      ]
    },
    {
      "cell_type": "markdown",
      "metadata": {
        "id": "-dU4A-F21KHY"
      },
      "source": [
        "Weights"
      ]
    },
    {
      "cell_type": "code",
      "execution_count": null,
      "metadata": {
        "id": "80d0g_iY1JEc"
      },
      "outputs": [],
      "source": [
        "W_dir = Wei_dir + '/POSITIVE COHEN vs NEGATIVE ONLY PNEUMO-NORMAL'"
      ]
    },
    {
      "cell_type": "markdown",
      "metadata": {
        "id": "muTtYWNaQm_L"
      },
      "source": [
        "###Part C"
      ]
    },
    {
      "cell_type": "code",
      "execution_count": null,
      "metadata": {
        "colab": {
          "background_save": true
        },
        "id": "hgJAHYQ_Qm_M"
      },
      "outputs": [],
      "source": [
        "X_P = np.load(P_dir + '/X_Covid_Cohen_C.npy')\n",
        "X_train_P,X_test_P,X_dev_P = np.array_split(X_P,[int(0.7*len(X_P)),int(0.85*len(X_P))])"
      ]
    },
    {
      "cell_type": "code",
      "execution_count": null,
      "metadata": {
        "id": "sKkzglbGQm_M"
      },
      "outputs": [],
      "source": [
        "X_N1 = np.load(N_dir+'/X_Covid_Normal.npy')\n",
        "X_train_N1,X_test_N1,X_dev_N1 = np.array_split(X_N1,[int(0.7*len(X_N1)),int(0.85*len(X_N1))])\n",
        "X_N2 = np.load(N_dir+'/X_Covid_Pneumo.npy')\n",
        "X_train_N2,X_test_N2,X_dev_N2 = np.array_split(X_N2,[int(0.7*len(X_N2)),int(0.85*len(X_N2))])"
      ]
    },
    {
      "cell_type": "code",
      "execution_count": null,
      "metadata": {
        "id": "0uoDNd6XRPYt"
      },
      "outputs": [],
      "source": [
        "X_train_N=np.concatenate((X_train_N1,X_train_N2))\n",
        "X_dev_N=np.concatenate((X_dev_N1,X_dev_N2))\n",
        "X_test_N=np.concatenate((X_test_N1,X_test_N2))"
      ]
    },
    {
      "cell_type": "code",
      "execution_count": null,
      "metadata": {
        "id": "mkvDd3bDQm_M"
      },
      "outputs": [],
      "source": [
        "X_train=np.concatenate((X_train_N,X_train_P))\n",
        "X_dev=np.concatenate((X_dev_N,X_dev_P))\n",
        "X_test=np.concatenate((X_test_N,X_test_P))"
      ]
    },
    {
      "cell_type": "code",
      "execution_count": null,
      "metadata": {
        "id": "B9mKg9WrQm_N"
      },
      "outputs": [],
      "source": [
        "y_train_N=np.array([[1,0]]*len(X_train_N))\n",
        "y_dev_N=np.array([[1,0]]*len(X_dev_N))\n",
        "y_test_N=np.array([[1,0]]*len(X_test_N))\n",
        "\n",
        "y_train_P=np.array([[0,1]]*len(X_train_P))\n",
        "y_dev_P=np.array([[0,1]]*len(X_dev_P))\n",
        "y_test_P=np.array([[0,1]]*len(X_test_P))"
      ]
    },
    {
      "cell_type": "code",
      "execution_count": null,
      "metadata": {
        "id": "C52jE3LTQm_N"
      },
      "outputs": [],
      "source": [
        "y_train=np.concatenate((y_train_N,y_train_P))\n",
        "y_dev=np.concatenate((y_dev_N,y_dev_P))\n",
        "y_test=np.concatenate((y_test_N,y_test_P))"
      ]
    },
    {
      "cell_type": "code",
      "execution_count": null,
      "metadata": {
        "id": "guP1Q5GaQm_N"
      },
      "outputs": [],
      "source": [
        "#Min_max scaled\n",
        "X_train,y_train=min_max_preprocessing(X_train,y_train)\n",
        "X_dev,y_dev=min_max_preprocessing(X_dev,y_dev)\n",
        "X_test,y_test=min_max_preprocessing(X_test,y_test)"
      ]
    },
    {
      "cell_type": "code",
      "execution_count": null,
      "metadata": {
        "id": "ls6ZjSVDQm_O"
      },
      "outputs": [],
      "source": [
        "X_train = np.float32(X_train)\n",
        "X_dev = np.float32(X_dev)\n",
        "X_test = np.float32(X_test)"
      ]
    },
    {
      "cell_type": "code",
      "execution_count": null,
      "metadata": {
        "id": "4Ex7D5WIQm_O"
      },
      "outputs": [],
      "source": [
        "#std normalization\n",
        "X_train,y_train,mean,std=samplewise_preprocessing(X_train,y_train)"
      ]
    },
    {
      "cell_type": "code",
      "execution_count": null,
      "metadata": {
        "id": "tyC9m3FHQm_O"
      },
      "outputs": [],
      "source": [
        "X_dev=featurewise_preprocessing(X_dev,mean,std)\n",
        "X_test=featurewise_preprocessing(X_test,mean,std)"
      ]
    },
    {
      "cell_type": "markdown",
      "metadata": {
        "id": "gfWOsfgyQm_O"
      },
      "source": [
        "#### Train Models (GPU) "
      ]
    },
    {
      "cell_type": "code",
      "execution_count": null,
      "metadata": {
        "id": "JUnskY-fQm_O"
      },
      "outputs": [],
      "source": [
        "log_dir=\"../results/\""
      ]
    },
    {
      "cell_type": "code",
      "execution_count": null,
      "metadata": {
        "id": "BOSsp0ABQm_P"
      },
      "outputs": [],
      "source": [
        "class_weight= get_weight(np.argmax(y_train,axis=-1))"
      ]
    },
    {
      "cell_type": "code",
      "execution_count": null,
      "metadata": {
        "id": "S0mXUwkIQm_P"
      },
      "outputs": [],
      "source": [
        "print(\"Getting Base Model\")\n",
        "model = get_model_VGG19_gray()"
      ]
    },
    {
      "cell_type": "code",
      "execution_count": null,
      "metadata": {
        "id": "oJn6iyOqQm_Q"
      },
      "outputs": [],
      "source": [
        "model_name='VGG19_imagenet_Covid_pos_vs_neg_Comp'\n",
        "filepath = log_dir+\"Saved_models/\"+model_name+\".h5\"\n",
        "checkpoint = tf.keras.callbacks.ModelCheckpoint(filepath, monitor='val_accuracy', save_best_only=True, mode='max')\n",
        "history=model.fit(X_train, y_train, epochs=100, batch_size=64, validation_data=(X_dev, y_dev),class_weight=class_weight,callbacks=[checkpoint])"
      ]
    },
    {
      "cell_type": "markdown",
      "metadata": {
        "id": "nbtMFdY-Qm_Q"
      },
      "source": [
        "#### Prediction"
      ]
    },
    {
      "cell_type": "code",
      "execution_count": null,
      "metadata": {
        "id": "kAjVpsVDQm_R"
      },
      "outputs": [],
      "source": [
        "print(\"Model VGG 19 Comp Part C\")\n",
        "model = get_model_VGG19_gray()\n",
        "model.load_weights(W_dir+'/VGG19_Covid_NormC_DataExtra.h5')"
      ]
    },
    {
      "cell_type": "code",
      "execution_count": null,
      "metadata": {
        "id": "ae1UCC5zQm_R"
      },
      "outputs": [],
      "source": [
        "predictions=model.predict(X_test)\n",
        "y_pred_bool = np.argmax(predictions, axis=-1)\n",
        "y_hat=np.argmax(y_test,axis=-1)"
      ]
    },
    {
      "cell_type": "code",
      "execution_count": null,
      "metadata": {
        "id": "QPvqG0_fQm_R"
      },
      "outputs": [],
      "source": [
        "metrics(y_hat,y_pred_bool,log_dir,'VGG19_imagenet_Covid_pos_vs_neg_Comp')\n",
        "labels = [\"No-Covid\",\"Covid\"]\n",
        "get_performance_metrics(y_test,predictions,labels, acc=get_accuracy, prevalence=get_prevalence, \n",
        "                        sens=get_sensitivity, spec=get_specificity, ppv=get_ppv, npv=get_npv, auc=roc_auc_score,f1=f1_score)"
      ]
    },
    {
      "cell_type": "code",
      "execution_count": null,
      "metadata": {
        "id": "1psU47mPQm_S"
      },
      "outputs": [],
      "source": [
        "#ROC_CURVE \n",
        "get_curve(y_test,predictions,labels,log_dir,'VGG19_imagenet_Covid_pos_vs_neg_Comp',curve='roc')"
      ]
    },
    {
      "cell_type": "markdown",
      "metadata": {
        "id": "9dFKO3G5Qm_S"
      },
      "source": [
        "###Part D"
      ]
    },
    {
      "cell_type": "code",
      "execution_count": null,
      "metadata": {
        "id": "x1eU2HgjQm_S"
      },
      "outputs": [],
      "source": [
        "X_P = np.load(P_dir + '/X_Covid_Cohen_C_Seg.npy')\n",
        "X_train_P,X_test_P,X_dev_P = np.array_split(X_P,[int(0.7*len(X_P)),int(0.85*len(X_P))])"
      ]
    },
    {
      "cell_type": "code",
      "execution_count": null,
      "metadata": {
        "id": "ei994dvkQm_T"
      },
      "outputs": [],
      "source": [
        "X_N1 = np.load(N_dir+'/X_Covid_Normal.npy')\n",
        "X_train_N1,X_test_N1,X_dev_N1 = np.array_split(X_N1,[int(0.7*len(X_N1)),int(0.85*len(X_N1))])\n",
        "X_N2 = np.load(N_dir+'/X_Covid_Pneumo.npy')\n",
        "X_train_N2,X_test_N2,X_dev_N2 = np.array_split(X_N2,[int(0.7*len(X_N2)),int(0.85*len(X_N2))])"
      ]
    },
    {
      "cell_type": "code",
      "execution_count": null,
      "metadata": {
        "id": "9ggFSK9URvUK"
      },
      "outputs": [],
      "source": [
        "X_train_N=np.concatenate((X_train_N1,X_train_N2))\n",
        "X_dev_N=np.concatenate((X_dev_N1,X_dev_N2))\n",
        "X_test_N=np.concatenate((X_test_N1,X_test_N2))"
      ]
    },
    {
      "cell_type": "code",
      "execution_count": null,
      "metadata": {
        "id": "aJ0IS4XJQm_T"
      },
      "outputs": [],
      "source": [
        "X_train=np.concatenate((X_train_N,X_train_P))\n",
        "X_dev=np.concatenate((X_dev_N,X_dev_P))\n",
        "X_test=np.concatenate((X_test_N,X_test_P))"
      ]
    },
    {
      "cell_type": "code",
      "execution_count": null,
      "metadata": {
        "id": "71BPPmB3Qm_U"
      },
      "outputs": [],
      "source": [
        "y_train_N=np.array([[1,0]]*len(X_train_N))\n",
        "y_dev_N=np.array([[1,0]]*len(X_dev_N))\n",
        "y_test_N=np.array([[1,0]]*len(X_test_N))\n",
        "\n",
        "y_train_P=np.array([[0,1]]*len(X_train_P))\n",
        "y_dev_P=np.array([[0,1]]*len(X_dev_P))\n",
        "y_test_P=np.array([[0,1]]*len(X_test_P))"
      ]
    },
    {
      "cell_type": "code",
      "execution_count": null,
      "metadata": {
        "id": "7WJjJWxcQm_U"
      },
      "outputs": [],
      "source": [
        "y_train=np.concatenate((y_train_N,y_train_P))\n",
        "y_dev=np.concatenate((y_dev_N,y_dev_P))\n",
        "y_test=np.concatenate((y_test_N,y_test_P))"
      ]
    },
    {
      "cell_type": "code",
      "execution_count": null,
      "metadata": {
        "id": "jPOvHswsQm_U"
      },
      "outputs": [],
      "source": [
        "#Min_max scaled\n",
        "X_train,y_train=min_max_preprocessing(X_train,y_train)\n",
        "X_dev,y_dev=min_max_preprocessing(X_dev,y_dev)\n",
        "X_test,y_test=min_max_preprocessing(X_test,y_test)"
      ]
    },
    {
      "cell_type": "code",
      "execution_count": null,
      "metadata": {
        "id": "94MBqaNwQm_U"
      },
      "outputs": [],
      "source": [
        "X_train = np.float32(X_train)\n",
        "X_dev = np.float32(X_dev)\n",
        "X_test = np.float32(X_test)"
      ]
    },
    {
      "cell_type": "code",
      "execution_count": null,
      "metadata": {
        "id": "0aWHFIN-Qm_V"
      },
      "outputs": [],
      "source": [
        "#std normalization\n",
        "X_train,y_train,mean,std=samplewise_preprocessing(X_train,y_train)"
      ]
    },
    {
      "cell_type": "code",
      "execution_count": null,
      "metadata": {
        "id": "De_ZC1f4Qm_V"
      },
      "outputs": [],
      "source": [
        "X_dev=featurewise_preprocessing(X_dev,mean,std)\n",
        "X_test=featurewise_preprocessing(X_test,mean,std)"
      ]
    },
    {
      "cell_type": "markdown",
      "metadata": {
        "id": "rs7BMC-fQm_V"
      },
      "source": [
        "#### Train Models (GPU) "
      ]
    },
    {
      "cell_type": "code",
      "execution_count": null,
      "metadata": {
        "id": "fiAYEzEmQm_V"
      },
      "outputs": [],
      "source": [
        "log_dir=\"../results/\""
      ]
    },
    {
      "cell_type": "code",
      "execution_count": null,
      "metadata": {
        "id": "qVejQ7jOQm_V"
      },
      "outputs": [],
      "source": [
        "class_weight= get_weight(np.argmax(y_train,axis=-1))"
      ]
    },
    {
      "cell_type": "code",
      "execution_count": null,
      "metadata": {
        "id": "QNsnUFnyQm_W"
      },
      "outputs": [],
      "source": [
        "print(\"Getting Base Model\")\n",
        "model = get_model_VGG19_gray()"
      ]
    },
    {
      "cell_type": "code",
      "execution_count": null,
      "metadata": {
        "id": "4iqaCEMvQm_W"
      },
      "outputs": [],
      "source": [
        "model_name='VGG19_imagenet_Covid_pos_vs_neg_seg_Comp'\n",
        "filepath = log_dir+\"Saved_models/\"+model_name+\".h5\"\n",
        "checkpoint = tf.keras.callbacks.ModelCheckpoint(filepath, monitor='val_accuracy', save_best_only=True, mode='max')\n",
        "history=model.fit(X_train, y_train, epochs=100, batch_size=64, validation_data=(X_dev, y_dev),class_weight=class_weight,callbacks=[checkpoint])"
      ]
    },
    {
      "cell_type": "markdown",
      "metadata": {
        "id": "V7lICXmmQm_W"
      },
      "source": [
        "#### Prediction"
      ]
    },
    {
      "cell_type": "code",
      "execution_count": null,
      "metadata": {
        "id": "x5MhdqxxQm_Y"
      },
      "outputs": [],
      "source": [
        "print(\"Model VGG 19 Comp Part D\")\n",
        "model = get_model_VGG19_gray()\n",
        "model.load_weights(W_dir+'/VGG19_Covid_Seg_NC_DataExtra.h5')"
      ]
    },
    {
      "cell_type": "code",
      "execution_count": null,
      "metadata": {
        "id": "hl7qo0oTQm_Y"
      },
      "outputs": [],
      "source": [
        "predictions=model.predict(X_test)\n",
        "y_pred_bool = np.argmax(predictions, axis=-1)\n",
        "y_hat=np.argmax(y_test,axis=-1)"
      ]
    },
    {
      "cell_type": "code",
      "execution_count": null,
      "metadata": {
        "id": "smFql4aKQm_Y"
      },
      "outputs": [],
      "source": [
        "metrics(y_hat,y_pred_bool,log_dir,'VGG19_imagenet_Covid_pos_vs_neg_seg_Comp')\n",
        "labels = [\"No-Covid\",\"Covid\"]\n",
        "get_performance_metrics(y_test,predictions,labels, acc=get_accuracy, prevalence=get_prevalence, \n",
        "                        sens=get_sensitivity, spec=get_specificity, ppv=get_ppv, npv=get_npv, auc=roc_auc_score,f1=f1_score)"
      ]
    },
    {
      "cell_type": "code",
      "execution_count": null,
      "metadata": {
        "id": "v4SCz6BwQm_Y"
      },
      "outputs": [],
      "source": [
        "#ROC_CURVE \n",
        "get_curve(y_test,predictions,labels,log_dir,'VGG19_imagenet_Covid_pos_vs_neg_seg_Comp',curve='roc')"
      ]
    },
    {
      "cell_type": "markdown",
      "metadata": {
        "id": "dLOSLRKpQm_Z"
      },
      "source": [
        "###Part E"
      ]
    },
    {
      "cell_type": "code",
      "execution_count": null,
      "metadata": {
        "colab": {
          "background_save": true
        },
        "id": "oWLM3yC_Qm_Z"
      },
      "outputs": [],
      "source": [
        "X_P = np.load(P_dir + '/X_Covid_Cohen_C_Seg_I.npy')\n",
        "X_train_P,X_test_P,X_dev_P = np.array_split(X_P,[int(0.7*len(X_P)),int(0.85*len(X_P))])"
      ]
    },
    {
      "cell_type": "code",
      "execution_count": null,
      "metadata": {
        "id": "SbNluKXjQm_Z"
      },
      "outputs": [],
      "source": [
        "X_N1 = np.load(N_dir+'/X_Covid_Normal_Seg_I.npy')\n",
        "X_train_N1,X_test_N1,X_dev_N1 = np.array_split(X_N1,[int(0.7*len(X_N1)),int(0.85*len(X_N1))])\n",
        "X_N2 = np.load(N_dir+'/X_Covid_Pneumo_Seg_I.npy')\n",
        "X_train_N2,X_test_N2,X_dev_N2 = np.array_split(X_N2,[int(0.7*len(X_N2)),int(0.85*len(X_N2))])"
      ]
    },
    {
      "cell_type": "code",
      "execution_count": null,
      "metadata": {
        "id": "myBd60G9STn-"
      },
      "outputs": [],
      "source": [
        "X_train_N=np.concatenate((X_train_N1,X_train_N2))\n",
        "X_dev_N=np.concatenate((X_dev_N1,X_dev_N2))\n",
        "X_test_N=np.concatenate((X_test_N1,X_test_N2))"
      ]
    },
    {
      "cell_type": "code",
      "execution_count": null,
      "metadata": {
        "id": "4X7O5rQeQm_Z"
      },
      "outputs": [],
      "source": [
        "X_train=np.concatenate((X_train_N,X_train_P))\n",
        "X_dev=np.concatenate((X_dev_N,X_dev_P))\n",
        "X_test=np.concatenate((X_test_N,X_test_P))"
      ]
    },
    {
      "cell_type": "code",
      "execution_count": null,
      "metadata": {
        "id": "Qth-x1xzQm_a"
      },
      "outputs": [],
      "source": [
        "y_train_N=np.array([[1,0]]*len(X_train_N))\n",
        "y_dev_N=np.array([[1,0]]*len(X_dev_N))\n",
        "y_test_N=np.array([[1,0]]*len(X_test_N))\n",
        "\n",
        "y_train_P=np.array([[0,1]]*len(X_train_P))\n",
        "y_dev_P=np.array([[0,1]]*len(X_dev_P))\n",
        "y_test_P=np.array([[0,1]]*len(X_test_P))"
      ]
    },
    {
      "cell_type": "code",
      "execution_count": null,
      "metadata": {
        "id": "vom3xVrkQm_a"
      },
      "outputs": [],
      "source": [
        "y_train=np.concatenate((y_train_N,y_train_P))\n",
        "y_dev=np.concatenate((y_dev_N,y_dev_P))\n",
        "y_test=np.concatenate((y_test_N,y_test_P))"
      ]
    },
    {
      "cell_type": "code",
      "execution_count": null,
      "metadata": {
        "id": "TiUa12NwQm_a"
      },
      "outputs": [],
      "source": [
        "#Min_max scaled\n",
        "X_train,y_train=min_max_preprocessing(X_train,y_train)\n",
        "X_dev,y_dev=min_max_preprocessing(X_dev,y_dev)\n",
        "X_test,y_test=min_max_preprocessing(X_test,y_test)"
      ]
    },
    {
      "cell_type": "code",
      "execution_count": null,
      "metadata": {
        "id": "fOMuak0sQm_a"
      },
      "outputs": [],
      "source": [
        "X_train = np.float32(X_train)\n",
        "X_dev = np.float32(X_dev)\n",
        "X_test = np.float32(X_test)"
      ]
    },
    {
      "cell_type": "code",
      "execution_count": null,
      "metadata": {
        "id": "Du7lruDeQm_b"
      },
      "outputs": [],
      "source": [
        "#std normalization\n",
        "X_train,y_train,mean,std=samplewise_preprocessing(X_train,y_train)"
      ]
    },
    {
      "cell_type": "code",
      "execution_count": null,
      "metadata": {
        "id": "0GK0DzP_Qm_b"
      },
      "outputs": [],
      "source": [
        "X_dev=featurewise_preprocessing(X_dev,mean,std)\n",
        "X_test=featurewise_preprocessing(X_test,mean,std)"
      ]
    },
    {
      "cell_type": "markdown",
      "metadata": {
        "id": "h9kOR1teQm_b"
      },
      "source": [
        "#### Train Models (GPU) "
      ]
    },
    {
      "cell_type": "code",
      "execution_count": null,
      "metadata": {
        "id": "BjvLNPFAQm_b"
      },
      "outputs": [],
      "source": [
        "log_dir=\"../results/\""
      ]
    },
    {
      "cell_type": "code",
      "execution_count": null,
      "metadata": {
        "id": "z0ooty9mQm_c"
      },
      "outputs": [],
      "source": [
        "class_weight= get_weight(np.argmax(y_train,axis=-1))"
      ]
    },
    {
      "cell_type": "code",
      "execution_count": null,
      "metadata": {
        "id": "i4ClL_JzQm_c"
      },
      "outputs": [],
      "source": [
        "print(\"Getting Base Model\")\n",
        "model = get_model_VGG19_gray()"
      ]
    },
    {
      "cell_type": "code",
      "execution_count": null,
      "metadata": {
        "id": "nL1S_lNAQm_d"
      },
      "outputs": [],
      "source": [
        "model_name='VGG19_imagenet_Covid_pos_vs_neg_inv_Comp'\n",
        "filepath = log_dir+\"Saved_models/\"+model_name+\".h5\"\n",
        "checkpoint = tf.keras.callbacks.ModelCheckpoint(filepath, monitor='val_accuracy', save_best_only=True, mode='max')\n",
        "history=model.fit(X_train, y_train, epochs=100, batch_size=64, validation_data=(X_dev, y_dev),class_weight=class_weight,callbacks=[checkpoint])"
      ]
    },
    {
      "cell_type": "markdown",
      "metadata": {
        "id": "XWF-o8N6Qm_d"
      },
      "source": [
        "#### Prediction"
      ]
    },
    {
      "cell_type": "code",
      "execution_count": null,
      "metadata": {
        "id": "sYeKLukTQm_e"
      },
      "outputs": [],
      "source": [
        "print(\"Model VGG 19 Comp Part E\")\n",
        "model = get_model_VGG19_gray()\n",
        "model.load_weights(W_dir+'/VGG19_Covid_Seg_IC_DataExtra.h5')"
      ]
    },
    {
      "cell_type": "code",
      "execution_count": null,
      "metadata": {
        "id": "AQlRMsqqQm_e"
      },
      "outputs": [],
      "source": [
        "predictions=model.predict(X_test)\n",
        "y_pred_bool = np.argmax(predictions, axis=-1)\n",
        "y_hat=np.argmax(y_test,axis=-1)"
      ]
    },
    {
      "cell_type": "code",
      "execution_count": null,
      "metadata": {
        "id": "pYl7LC7uQm_f"
      },
      "outputs": [],
      "source": [
        "metrics(y_hat,y_pred_bool,log_dir,'VGG19_imagenet_Covid_pos_vs_neg_inv_Comp')\n",
        "labels = [\"No-Covid\",\"Covid\"]\n",
        "get_performance_metrics(y_test,predictions,labels, acc=get_accuracy, prevalence=get_prevalence, \n",
        "                        sens=get_sensitivity, spec=get_specificity, ppv=get_ppv, npv=get_npv, auc=roc_auc_score,f1=f1_score)"
      ]
    },
    {
      "cell_type": "code",
      "execution_count": null,
      "metadata": {
        "id": "32gzs4N6Qm_f"
      },
      "outputs": [],
      "source": [
        "#ROC_CURVE \n",
        "get_curve(y_test,predictions,labels,log_dir,'VGG19_imagenet_Covid_pos_vs_neg_inv_Comp',curve='roc')"
      ]
    },
    {
      "cell_type": "code",
      "execution_count": null,
      "metadata": {
        "id": "tsEPdSR5K67x"
      },
      "outputs": [],
      "source": [
        ""
      ]
    }
  ],
  "metadata": {
    "accelerator": "GPU",
    "colab": {
      "collapsed_sections": [
        "0gf3K-XFmchR",
        "b-GLAlrWmiuX",
        "NQmtdLneBQJ2",
        "y01pdvN5_n3L",
        "qBITwg4R_tUL",
        "hLOwFUXlADfH",
        "8KrGSkYSYJ2o",
        "Ql1MrXuR115j",
        "EA3j2BzEI_P7",
        "cTyU8yTvI_QB",
        "FHXx5QFoI_QH",
        "THAqD-A-JEPA",
        "Vu1x-OHiJEPE",
        "r90Tp8i5JEPH",
        "VXmTQzw_MItT",
        "UblvFs8qMItT",
        "CfJy90FbMItX",
        "-CiHgBUFMItY",
        "PrY-ajqUMIta",
        "9Yy91-1YMItc",
        "_ya4r0-XMItd",
        "niZyNSRFMItf",
        "EF2SXU4iMIth",
        "MuhxtTojMIti",
        "sBvHs2fmNm_1",
        "FGpJ5rwMNnAK",
        "6F4mEcBINnAR",
        "vGRDP_t5NnAT",
        "xEfDzpCCNnAW",
        "LJE08q5HNnAZ",
        "ytGyt2prNnAb",
        "DtJM7uZ8NnAd",
        "jK4KdqVTNnAf",
        "fj93-foNNnAg",
        "8csvekHfPUx5",
        "muTtYWNaQm_L",
        "gfWOsfgyQm_O",
        "nbtMFdY-Qm_Q",
        "9dFKO3G5Qm_S",
        "rs7BMC-fQm_V",
        "V7lICXmmQm_W",
        "dLOSLRKpQm_Z",
        "h9kOR1teQm_b",
        "XWF-o8N6Qm_d"
      ],
      "name": "Final_Covid_Classification.ipynb",
      "provenance": []
    },
    "kernelspec": {
      "display_name": "Python 3",
      "language": "python",
      "name": "python3"
    },
    "language_info": {
      "codemirror_mode": {
        "name": "ipython",
        "version": 3
      },
      "file_extension": ".py",
      "mimetype": "text/x-python",
      "name": "python",
      "nbconvert_exporter": "python",
      "pygments_lexer": "ipython3",
      "version": "3.7.3"
    }
  },
  "nbformat": 4,
  "nbformat_minor": 0
}