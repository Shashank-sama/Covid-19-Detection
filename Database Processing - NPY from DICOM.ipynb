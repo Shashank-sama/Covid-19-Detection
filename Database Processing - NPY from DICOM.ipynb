{
 "cells": [
  {
   "cell_type": "code",
   "execution_count": null,
   "source": [
    "import os\r\n",
    "import cv2\r\n",
    "import pydicom\r\n",
    "import numpy as np\r\n",
    "import matplotlib.pyplot as plt\r\n",
    "from tqdm import tqdm\r\n",
    "from pydicom.pixel_data_handlers.util import apply_voi_lut"
   ],
   "outputs": [],
   "metadata": {}
  },
  {
   "cell_type": "code",
   "execution_count": null,
   "source": [
    "def read_dicom_image(image_file, voi_lut=True, fix_monochrome=True):\r\n",
    "    \"\"\"\r\n",
    "    Reads a dicom image from a file an returns a numpy array.\r\n",
    "    References: https://www.kaggle.com/trungthanhnguyen0502/eda-vinbigdata-chest-x-ray-abnormalities\r\n",
    "    Args:\r\n",
    "        image_file:\r\n",
    "        voi_lut:\r\n",
    "        fix_monochrome:\r\n",
    "\r\n",
    "    Returns:\r\n",
    "\r\n",
    "    \"\"\"\r\n",
    "    dicom = pydicom.read_file(image_file)\r\n",
    "    # VOI LUT (if available by DICOM device) is used to\r\n",
    "    # transform raw DICOM data to \"human-friendly\" view\r\n",
    "    if voi_lut:\r\n",
    "        data = apply_voi_lut(dicom.pixel_array, dicom)\r\n",
    "    else:\r\n",
    "        data = dicom.pixel_array\r\n",
    "    # depending on this value, X-ray may look inverted - fix that:\r\n",
    "    if fix_monochrome and dicom.PhotometricInterpretation == \"MONOCHROME1\":\r\n",
    "        data = np.amax(data) - data\r\n",
    "    data = data - np.min(data)\r\n",
    "    data = data / np.max(data)\r\n",
    "    data = (data * 255).astype(np.uint8)\r\n",
    "    return data"
   ],
   "outputs": [],
   "metadata": {}
  },
  {
   "cell_type": "code",
   "execution_count": null,
   "source": [
    "train_images = []\r\n",
    "for root, subdirs, files in os.walk('directory'):\r\n",
    "    for file in files:\r\n",
    "        train_images.append(os.path.join(root, file))"
   ],
   "outputs": [],
   "metadata": {}
  },
  {
   "cell_type": "code",
   "execution_count": null,
   "source": [
    "images = []\r\n",
    "for path in tqdm(train_images):\r\n",
    "    img = read_dicom_image(path)\r\n",
    "    resized = cv2.resize(img, (224,224))\r\n",
    "    images.append(resized)"
   ],
   "outputs": [],
   "metadata": {}
  },
  {
   "cell_type": "code",
   "execution_count": null,
   "source": [
    "images_npy = np.stack(images)"
   ],
   "outputs": [],
   "metadata": {}
  },
  {
   "cell_type": "code",
   "execution_count": null,
   "source": [
    "plt.imshow(images_npy[2,:,:], cmap=\"gray\")"
   ],
   "outputs": [],
   "metadata": {}
  },
  {
   "cell_type": "code",
   "execution_count": null,
   "source": [
    "np.save('BrixIA224.npy', images_npy)"
   ],
   "outputs": [],
   "metadata": {}
  },
  {
   "cell_type": "code",
   "execution_count": null,
   "source": [
    "del images_npy"
   ],
   "outputs": [],
   "metadata": {}
  },
  {
   "cell_type": "code",
   "execution_count": null,
   "source": [
    "images_npy = np.load('BrixIA224.npy')"
   ],
   "outputs": [],
   "metadata": {}
  },
  {
   "cell_type": "code",
   "execution_count": null,
   "source": [
    "plt.imshow(images_npy[2,:,:], cmap=\"gray\")"
   ],
   "outputs": [],
   "metadata": {}
  }
 ],
 "metadata": {
  "kernelspec": {
   "display_name": "Python 3 (ipykernel)",
   "language": "python",
   "name": "python3"
  },
  "language_info": {
   "codemirror_mode": {
    "name": "ipython",
    "version": 3
   },
   "file_extension": ".py",
   "mimetype": "text/x-python",
   "name": "python",
   "nbconvert_exporter": "python",
   "pygments_lexer": "ipython3",
   "version": "3.9.5"
  }
 },
 "nbformat": 4,
 "nbformat_minor": 5
}