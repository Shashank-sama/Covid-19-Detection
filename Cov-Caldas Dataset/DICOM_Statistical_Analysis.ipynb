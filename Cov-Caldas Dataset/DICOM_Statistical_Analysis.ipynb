{
 "cells": [
  {
   "cell_type": "code",
   "execution_count": null,
   "metadata": {},
   "outputs": [],
   "source": [
    "import pandas as pd\n",
    "import numpy as np\n",
    "import matplotlib.pyplot as plt\n",
    "import nibabel as nib\n",
    "import pydicom\n",
    "from tqdm.notebook import tqdm_notebook\n",
    "import datetime\n",
    "from datetime import datetime\n",
    "\n",
    "\n",
    "from pydicom.pixel_data_handlers.util import apply_voi_lut"
   ]
  },
  {
   "cell_type": "code",
   "execution_count": null,
   "metadata": {},
   "outputs": [],
   "source": [
    "def dicom2numpy(dicom_path):\n",
    "    dicom_file = pydicom.read_file(dicom_path)\n",
    "    return np.array(dicom_file.pixel_array), dicom_file.PhotometricInterpretation,dicom_file\n"
   ]
  },
  {
   "cell_type": "markdown",
   "metadata": {},
   "source": [
    "# Statistical Analysis (Only DICOM Images)"
   ]
  },
  {
   "cell_type": "markdown",
   "metadata": {},
   "source": [
    "## Negatives"
   ]
  },
  {
   "cell_type": "code",
   "execution_count": null,
   "metadata": {},
   "outputs": [],
   "source": [
    "import os\n",
    "\n",
    "# Establishing the current work directory (cwd)\n",
    "thisdir = '/media/ia/DATA/COVID19/Negativas XNAT/p0032021/'\n",
    "Files = []\n",
    "# r=root, d=directories, f = files\n",
    "for r, d, f in os.walk(thisdir):\n",
    "    for file in f:\n",
    "        if \".dcm\" in file:\n",
    "            Files.append(os.path.join(r, file))\n",
    "filenames = Files"
   ]
  },
  {
   "cell_type": "code",
   "execution_count": null,
   "metadata": {},
   "outputs": [],
   "source": [
    "print(len(next(os.walk('/media/ia/DATA/COVID19/Negativas XNAT/p0032021/'))[1])) #Number of folders"
   ]
  },
  {
   "cell_type": "code",
   "execution_count": null,
   "metadata": {},
   "outputs": [],
   "source": [
    "filenames"
   ]
  },
  {
   "cell_type": "code",
   "execution_count": null,
   "metadata": {},
   "outputs": [],
   "source": [
    "len(filenames) #Number of files"
   ]
  },
  {
   "cell_type": "code",
   "execution_count": null,
   "metadata": {},
   "outputs": [],
   "source": [
    "\n",
    "#Get all Statistical Variables\n",
    "import datetime\n",
    "from datetime import datetime\n",
    "dates=[]\n",
    "Sex=[]\n",
    "Ages=[]\n",
    "shapes=[]\n",
    "Manufacturers=[]\n",
    "Models=[]\n",
    "Man_1_filenames=[]\n",
    "Man_2_filenames=[]\n",
    "for f in tqdm_notebook(filenames):\n",
    "    img,_,dicom=dicom2numpy(f)\n",
    "    datetime_obj = datetime.strptime(dicom.StudyDate,\n",
    "                                 \"%Y%m%d\")\n",
    "    shapes.append(img.shape)\n",
    "    try:\n",
    "        Manufacturers.append(dicom.Manufacturer) #Brand of X-ray equipment\n",
    "        Models.append(dicom.ManufacturerModelName)\n",
    "        \n",
    "        if dicom.Manufacturer=='GE Healthcare':\n",
    "            Man_1_filenames.append(f)\n",
    "        elif dicom.Manufacturer=='Agfa':\n",
    "            Man_2_filenames.append(f)\n",
    "    except:\n",
    "        continue\n",
    "    \n",
    "    try:\n",
    "        datetime_birth=datetime.strptime(dicom.PatientBirthDate,\n",
    "                                 \"%Y%m%d\")\n",
    "        if int((datetime_obj-datetime_birth).days/365)>0:\n",
    "            Ages.append(int((datetime_obj-datetime_birth).days/365))\n",
    "    except:\n",
    "        continue\n",
    "\n",
    "    dates.append(datetime_obj.date()) #Study Dates\n",
    "    Sex.append(dicom.PatientSex) #Patients Sex\n",
    "    "
   ]
  },
  {
   "cell_type": "code",
   "execution_count": null,
   "metadata": {},
   "outputs": [],
   "source": [
    "min(dates) #min date of Study"
   ]
  },
  {
   "cell_type": "code",
   "execution_count": null,
   "metadata": {},
   "outputs": [],
   "source": [
    "max(dates) #max day of Study"
   ]
  },
  {
   "cell_type": "markdown",
   "metadata": {},
   "source": [
    "### Manufacturer"
   ]
  },
  {
   "cell_type": "code",
   "execution_count": null,
   "metadata": {},
   "outputs": [],
   "source": [
    "pd.DataFrame(Manufacturers)[0].hist(bins=10, xlabelsize=12)\n",
    "\n",
    "plt.grid(axis='x')\n",
    "plt.xlabel('Years')\n",
    "plt.ylabel('Count')\n",
    "#plt.title('Years Distribution of collected Images')\n",
    "#plt.savefig(\"/media/ia/DATA/COVID19/images_paper/StudyDate_COVID_Negative.pdf\",bbox_inches='tight')\n",
    "\n",
    "plt.show()"
   ]
  },
  {
   "cell_type": "code",
   "execution_count": null,
   "metadata": {},
   "outputs": [],
   "source": [
    "pd.DataFrame(Manufacturers)[0].value_counts()"
   ]
  },
  {
   "cell_type": "markdown",
   "metadata": {},
   "source": [
    "### Age"
   ]
  },
  {
   "cell_type": "code",
   "execution_count": null,
   "metadata": {},
   "outputs": [],
   "source": [
    "pd.DataFrame(Ages)[0].value_counts()"
   ]
  },
  {
   "cell_type": "code",
   "execution_count": null,
   "metadata": {},
   "outputs": [],
   "source": [
    "plt.figure()\n",
    "\n",
    "plt.hist(pd.DataFrame(Ages)[0])\n",
    "\n",
    "plt.grid(axis='y')\n",
    "plt.xlabel('Age')\n",
    "plt.ylabel('Count')\n",
    "plt.title('Age Distribution of collected Images')\n",
    "plt.savefig(\"/media/ia/DATA/COVID19/images_paper/Age_COVID_Negative.pdf\",bbox_inches='tight')\n",
    "plt.show()\n"
   ]
  },
  {
   "cell_type": "code",
   "execution_count": null,
   "metadata": {},
   "outputs": [],
   "source": [
    "b1,e1=np.histogram(Ages, bins=[0,10,20,30,40,50,60,70,80,90,100])"
   ]
  },
  {
   "cell_type": "code",
   "execution_count": null,
   "metadata": {},
   "outputs": [],
   "source": [
    "b1"
   ]
  },
  {
   "cell_type": "code",
   "execution_count": null,
   "metadata": {},
   "outputs": [],
   "source": [
    "e1"
   ]
  },
  {
   "cell_type": "markdown",
   "metadata": {},
   "source": [
    "### Study Date"
   ]
  },
  {
   "cell_type": "code",
   "execution_count": null,
   "metadata": {},
   "outputs": [],
   "source": [
    "pd.DataFrame(dates)[0].value_counts()"
   ]
  },
  {
   "cell_type": "code",
   "execution_count": null,
   "metadata": {},
   "outputs": [],
   "source": [
    "pd.DataFrame(dates)[0].hist(bins=10, xlabelsize=12)\n",
    "\n",
    "plt.grid(axis='x')\n",
    "plt.xlabel('Years')\n",
    "plt.ylabel('Count')\n",
    "#plt.title('Years Distribution of collected Images')\n",
    "plt.savefig(\"/media/ia/DATA/COVID19/images_paper/StudyDate_COVID_Negative.pdf\",bbox_inches='tight')\n",
    "\n",
    "plt.show()"
   ]
  },
  {
   "cell_type": "code",
   "execution_count": null,
   "metadata": {},
   "outputs": [],
   "source": [
    "#Grafica más estetica\n",
    "\n",
    "dates_df=pd.DataFrame(dates)"
   ]
  },
  {
   "cell_type": "code",
   "execution_count": null,
   "metadata": {
    "scrolled": true
   },
   "outputs": [],
   "source": [
    "dates_df"
   ]
  },
  {
   "cell_type": "code",
   "execution_count": null,
   "metadata": {},
   "outputs": [],
   "source": [
    "df=pd.DataFrame(columns=['Date'])"
   ]
  },
  {
   "cell_type": "code",
   "execution_count": null,
   "metadata": {},
   "outputs": [],
   "source": [
    "df"
   ]
  },
  {
   "cell_type": "code",
   "execution_count": null,
   "metadata": {},
   "outputs": [],
   "source": [
    "to_timestamp = np.vectorize(lambda x: x.timestamp())"
   ]
  },
  {
   "cell_type": "code",
   "execution_count": null,
   "metadata": {},
   "outputs": [],
   "source": [
    "import datetime\n",
    "import numpy as np\n",
    "\n",
    "to_timestamp = np.vectorize(lambda x: (x - datetime.date(1970, 1, 1)).total_seconds())\n",
    "from_timestamp = np.vectorize(lambda x: datetime.datetime.utcfromtimestamp(x))\n",
    "\n",
    "## Compute the histogram\n",
    "hist, bin_edges = np.histogram(to_timestamp(dates))"
   ]
  },
  {
   "cell_type": "code",
   "execution_count": null,
   "metadata": {},
   "outputs": [],
   "source": [
    "hist"
   ]
  },
  {
   "cell_type": "code",
   "execution_count": null,
   "metadata": {},
   "outputs": [],
   "source": [
    "from_timestamp(bin_edges)"
   ]
  },
  {
   "cell_type": "code",
   "execution_count": null,
   "metadata": {},
   "outputs": [],
   "source": [
    "bins = 0.5 * (bin_edges[:-1] + bin_edges[1:])"
   ]
  },
  {
   "cell_type": "code",
   "execution_count": null,
   "metadata": {},
   "outputs": [],
   "source": [
    "bins"
   ]
  },
  {
   "cell_type": "code",
   "execution_count": null,
   "metadata": {},
   "outputs": [],
   "source": [
    "import plotly.express as px\n",
    "\n",
    "fig = px.bar(x=from_timestamp(bins), y=hist, labels={'x':'Date', 'y':'Count'},width=900)\n",
    "fig.data[0].text = hist\n",
    "fig.update_traces(textposition='outside', textfont_size=10)\n",
    "fig.update_layout(bargap=0)\n",
    "fig.show()\n",
    "fig.write_image(\"/media/ia/DATA/COVID19/images_paper/StudyDate_COVID_Negative_1.pdf\",width=900)\n"
   ]
  },
  {
   "cell_type": "markdown",
   "metadata": {},
   "source": [
    "### Sex"
   ]
  },
  {
   "cell_type": "code",
   "execution_count": null,
   "metadata": {
    "scrolled": true
   },
   "outputs": [],
   "source": [
    "counts"
   ]
  },
  {
   "cell_type": "code",
   "execution_count": null,
   "metadata": {
    "scrolled": false
   },
   "outputs": [],
   "source": [
    "labels, counts = np.unique(Sex, return_counts=True)\n",
    "plt.bar(labels, counts, align='center')\n",
    "plt.gca().set_xticks(labels)\n",
    "plt.xlabel('Sex')\n",
    "plt.ylabel('Count')\n",
    "plt.grid(axis='y')\n",
    "#plt.title('Sex Distribution of Collected Images')\n",
    "plt.savefig(\"/media/ia/DATA/COVID19/images_paper/Sex_COVID_Negative.pdf\",bbox_inches='tight')\n",
    "plt.show()"
   ]
  },
  {
   "cell_type": "markdown",
   "metadata": {},
   "source": [
    "## Plot combining Age and Sex\n"
   ]
  },
  {
   "cell_type": "code",
   "execution_count": null,
   "metadata": {},
   "outputs": [],
   "source": [
    "\n",
    "Age_010=[]\n",
    "Age_1020=[]\n",
    "Age_2030=[]\n",
    "Age_3040=[]\n",
    "Age_4050=[]\n",
    "Age_5060=[]\n",
    "Age_6070=[]\n",
    "Age_7080=[]\n",
    "Age_8090=[]\n",
    "Age_90100=[]\n",
    "\n",
    "Sex_010=[]\n",
    "Sex_1020=[]\n",
    "Sex_2030=[]\n",
    "Sex_3040=[]\n",
    "Sex_4050=[]\n",
    "Sex_5060=[]\n",
    "Sex_6070=[]\n",
    "Sex_7080=[]\n",
    "Sex_8090=[]\n",
    "Sex_90100=[]\n",
    "\n",
    "\n",
    "\n",
    "for f in tqdm_notebook(filenames):\n",
    "    img,_,dicom=dicom2numpy(f)\n",
    "    datetime_obj = datetime.strptime(dicom.StudyDate,\n",
    "                                 \"%Y%m%d\")\n",
    "    try:\n",
    "        datetime_birth=datetime.strptime(dicom.PatientBirthDate,\n",
    "                                 \"%Y%m%d\")\n",
    "        age=int((datetime_obj-datetime_birth).days/365)\n",
    "        \n",
    "        if age>0 and age<10:\n",
    "            Age_010.append(age)\n",
    "            Sex_010.append(dicom.PatientSex)\n",
    "        elif age>=10 and age<20:\n",
    "            Age_1020.append(age)\n",
    "            Sex_1020.append(dicom.PatientSex)\n",
    "        elif age>=20 and age<30:\n",
    "            Age_2030.append(age)\n",
    "            Sex_2030.append(dicom.PatientSex)\n",
    "        elif age>=30 and age<40:\n",
    "            Age_3040.append(age)\n",
    "            Sex_3040.append(dicom.PatientSex)\n",
    "        elif age>=40 and age<50:\n",
    "            Age_4050.append(age)\n",
    "            Sex_4050.append(dicom.PatientSex)\n",
    "        elif age>=50 and age<60:\n",
    "            Age_5060.append(age)\n",
    "            Sex_5060.append(dicom.PatientSex)\n",
    "        elif age>=60 and age<70:\n",
    "            Age_6070.append(age)\n",
    "            Sex_6070.append(dicom.PatientSex)\n",
    "        elif age>=70 and age<80:\n",
    "            Age_7080.append(age)\n",
    "            Sex_7080.append(dicom.PatientSex)\n",
    "        elif age>=80 and age<90:\n",
    "            Age_8090.append(age)\n",
    "            Sex_8090.append(dicom.PatientSex)\n",
    "        elif age>=90 and age<=100:\n",
    "            Age_90100.append(age)\n",
    "            Sex_90100.append(dicom.PatientSex)\n",
    "    except:\n",
    "        continue"
   ]
  },
  {
   "cell_type": "code",
   "execution_count": null,
   "metadata": {},
   "outputs": [],
   "source": [
    "df_SA=pd.DataFrame(columns=['Age','Sex'])"
   ]
  },
  {
   "cell_type": "code",
   "execution_count": null,
   "metadata": {},
   "outputs": [],
   "source": [
    "df_SA['Sex']=[*Sex_010,*Sex_1020,*Sex_2030,*Sex_3040,*Sex_4050,*Sex_5060,*Sex_6070,*Sex_7080,*Sex_8090,*Sex_90100]\n",
    "df_SA['Age']=[*Age_010,*Age_1020,*Age_2030,*Age_3040,*Age_4050,*Age_5060,*Age_6070,*Age_7080,*Age_8090,*Age_90100]"
   ]
  },
  {
   "cell_type": "code",
   "execution_count": null,
   "metadata": {},
   "outputs": [],
   "source": [
    "for i in range(len(df_SA)):\n",
    "    if df_SA['Sex'][i]=='M':\n",
    "        df_SA['Sex'][i]=df_SA['Sex'][i]+' (68.68%)'\n",
    "    else:\n",
    "        df_SA['Sex'][i]=df_SA['Sex'][i]+' (31.32%)'"
   ]
  },
  {
   "cell_type": "code",
   "execution_count": null,
   "metadata": {
    "scrolled": false
   },
   "outputs": [],
   "source": [
    "fig = px.histogram(df_SA, y=\"Age\", color=\"Sex\",nbins=10)#.update_xaxes(categoryorder='total descending')\n",
    "fig.show()\n",
    "fig.write_image(\"/media/ia/DATA/COVID19/images_paper/AgeSex_COVID_Negative_1.pdf\",width=900)"
   ]
  },
  {
   "cell_type": "code",
   "execution_count": null,
   "metadata": {},
   "outputs": [],
   "source": [
    "count_Age, bin_edges = np.histogram(df_SA['Age'],bins=[0,10,20,30,40,50,60,70,80,90,100])"
   ]
  },
  {
   "cell_type": "code",
   "execution_count": null,
   "metadata": {},
   "outputs": [],
   "source": [
    "count_Age,bin_edges"
   ]
  },
  {
   "cell_type": "code",
   "execution_count": null,
   "metadata": {},
   "outputs": [],
   "source": [
    "labels, counts = np.unique(Sex_010, return_counts=True)"
   ]
  },
  {
   "cell_type": "code",
   "execution_count": null,
   "metadata": {},
   "outputs": [],
   "source": [
    "df_counts=pd.DataFrame(columns=['Age','Sex','Count'])"
   ]
  },
  {
   "cell_type": "markdown",
   "metadata": {},
   "source": [
    "## Positives"
   ]
  },
  {
   "cell_type": "code",
   "execution_count": null,
   "metadata": {},
   "outputs": [],
   "source": [
    "import os\n",
    "\n",
    "# Establishing the current work directory (cwd)\n",
    "thisdir =\"/media/ia/DATA/COVID19/Xnat_positivas/\"\n",
    "Files = []\n",
    "# r=root, d=directories, f = files\n",
    "for r, d, f in os.walk(thisdir):\n",
    "    for file in f:\n",
    "        if \".dcm\" in file:\n",
    "            Files.append(os.path.join(r, file))\n",
    "filenames = Files"
   ]
  },
  {
   "cell_type": "code",
   "execution_count": null,
   "metadata": {},
   "outputs": [],
   "source": [
    "print(len(next(os.walk(\"/media/ia/DATA/COVID19/Xnat_positivas/\"))[1]))"
   ]
  },
  {
   "cell_type": "code",
   "execution_count": null,
   "metadata": {},
   "outputs": [],
   "source": [
    "filenames"
   ]
  },
  {
   "cell_type": "code",
   "execution_count": null,
   "metadata": {},
   "outputs": [],
   "source": [
    "len(filenames)"
   ]
  },
  {
   "cell_type": "code",
   "execution_count": null,
   "metadata": {},
   "outputs": [],
   "source": [
    "import datetime\n",
    "from datetime import datetime\n",
    "dates=[]\n",
    "Sex=[]\n",
    "Ages_1=[]\n",
    "shapes=[]\n",
    "Manufacturers=[]\n",
    "Models=[]\n",
    "for f in tqdm_notebook(filenames):\n",
    "    img,_,dicom=dicom2numpy(f)\n",
    "    datetime_obj = datetime.strptime(dicom.StudyDate,\n",
    "                                 \"%Y%m%d\")\n",
    "    shapes.append(img.shape)\n",
    "    try:\n",
    "        Manufacturers.append(dicom.Manufacturer)\n",
    "        Models.append(dicom.ManufacturerModelName)\n",
    "    except:\n",
    "        continue\n",
    "\n",
    "    try:\n",
    "        datetime_birth=datetime.strptime(dicom.PatientBirthDate,\n",
    "                                 \"%Y%m%d\")\n",
    "        Ages_1.append(int((datetime_obj-datetime_birth).days/365))\n",
    "    except:\n",
    "        continue\n",
    "    dates.append(datetime_obj.date())\n",
    "    Sex.append(dicom.PatientSex)"
   ]
  },
  {
   "cell_type": "code",
   "execution_count": null,
   "metadata": {},
   "outputs": [],
   "source": [
    "min(shapes)"
   ]
  },
  {
   "cell_type": "code",
   "execution_count": null,
   "metadata": {},
   "outputs": [],
   "source": [
    "max(shapes)"
   ]
  },
  {
   "cell_type": "code",
   "execution_count": null,
   "metadata": {},
   "outputs": [],
   "source": [
    "min(dates)"
   ]
  },
  {
   "cell_type": "code",
   "execution_count": null,
   "metadata": {},
   "outputs": [],
   "source": [
    "max(dates)"
   ]
  },
  {
   "cell_type": "markdown",
   "metadata": {},
   "source": [
    "### Manufacturer"
   ]
  },
  {
   "cell_type": "code",
   "execution_count": null,
   "metadata": {},
   "outputs": [],
   "source": [
    "pd.DataFrame(Manufacturers)[0].hist(bins=10, xlabelsize=12)\n",
    "\n",
    "plt.grid(axis='x')\n",
    "plt.xlabel('Years')\n",
    "plt.ylabel('Count')\n",
    "#plt.title('Years Distribution of collected Images')\n",
    "#plt.savefig(\"/media/ia/DATA/COVID19/images_paper/StudyDate_COVID_Negative.pdf\",bbox_inches='tight')\n",
    "\n",
    "plt.show()"
   ]
  },
  {
   "cell_type": "code",
   "execution_count": null,
   "metadata": {},
   "outputs": [],
   "source": [
    "pd.DataFrame(Manufacturers)[0].value_counts()"
   ]
  },
  {
   "cell_type": "markdown",
   "metadata": {},
   "source": [
    "### Age"
   ]
  },
  {
   "cell_type": "code",
   "execution_count": null,
   "metadata": {},
   "outputs": [],
   "source": [
    "pd.DataFrame(Ages_1)[0].value_counts()"
   ]
  },
  {
   "cell_type": "code",
   "execution_count": null,
   "metadata": {},
   "outputs": [],
   "source": [
    "pd.DataFrame(Ages_1)[0].hist(bins=10, xlabelsize=12)\n",
    "\n",
    "plt.grid(axis='x')\n",
    "plt.xlabel('Age')\n",
    "plt.ylabel('Count')\n",
    "#plt.title('Age Distribution of collected Images')\n",
    "plt.savefig(\"/media/ia/DATA/COVID19/images_paper/Age_COVID_Positive.pdf\",bbox_inches='tight')\n",
    "plt.show()"
   ]
  },
  {
   "cell_type": "code",
   "execution_count": null,
   "metadata": {},
   "outputs": [],
   "source": [
    "b1,e1=np.histogram(Ages_1, bins=[0,10,20,30,40,50,60,70,80,90,100])"
   ]
  },
  {
   "cell_type": "code",
   "execution_count": null,
   "metadata": {},
   "outputs": [],
   "source": [
    "b1"
   ]
  },
  {
   "cell_type": "code",
   "execution_count": null,
   "metadata": {},
   "outputs": [],
   "source": [
    "e1"
   ]
  },
  {
   "cell_type": "markdown",
   "metadata": {},
   "source": [
    "### Study Date"
   ]
  },
  {
   "cell_type": "code",
   "execution_count": null,
   "metadata": {},
   "outputs": [],
   "source": [
    "pd.DataFrame(dates)[0].value_counts()"
   ]
  },
  {
   "cell_type": "code",
   "execution_count": null,
   "metadata": {},
   "outputs": [],
   "source": [
    "pd.DataFrame(dates)[0].hist(bins=10, xlabelsize=10)\n",
    "\n",
    "plt.grid(axis='x')\n",
    "plt.xlabel('Years')\n",
    "plt.ylabel('Count')\n",
    "#plt.title('Dates of collected Images')\n",
    "plt.savefig(\"/media/ia/DATA/COVID19/images_paper/StudyDate_COVID_Positive.pdf\",bbox_inches='tight')\n",
    "plt.show()"
   ]
  },
  {
   "cell_type": "code",
   "execution_count": null,
   "metadata": {},
   "outputs": [],
   "source": [
    "import datetime\n",
    "import numpy as np\n",
    "\n",
    "to_timestamp = np.vectorize(lambda x: (x - datetime.date(1970, 1, 1)).total_seconds())\n",
    "from_timestamp = np.vectorize(lambda x: datetime.datetime.utcfromtimestamp(x))\n",
    "\n",
    "## Compute the histogram\n",
    "hist, bin_edges = np.histogram(to_timestamp(dates))"
   ]
  },
  {
   "cell_type": "code",
   "execution_count": null,
   "metadata": {},
   "outputs": [],
   "source": [
    "hist"
   ]
  },
  {
   "cell_type": "code",
   "execution_count": null,
   "metadata": {},
   "outputs": [],
   "source": [
    "from_timestamp(bin_edges)"
   ]
  },
  {
   "cell_type": "code",
   "execution_count": null,
   "metadata": {},
   "outputs": [],
   "source": [
    "bins =  0.5*(bin_edges[:-1] + bin_edges[1:])"
   ]
  },
  {
   "cell_type": "code",
   "execution_count": null,
   "metadata": {},
   "outputs": [],
   "source": [
    "import plotly.express as px\n",
    "\n",
    "fig = px.bar(x=from_timestamp(bins), y=hist, labels={'x':'Date', 'y':'Count'},width=900)\n",
    "fig.data[0].text = hist\n",
    "\n",
    "fig.update_traces(textposition='outside', textfont_size=8)\n",
    "fig.update_layout(bargap=0)\n",
    "fig.show()\n",
    "fig.write_image(\"/media/ia/DATA/COVID19/images_paper/StudyDate_COVID_Positive_1.pdf\",width=900)"
   ]
  },
  {
   "cell_type": "markdown",
   "metadata": {},
   "source": [
    "### Sex"
   ]
  },
  {
   "cell_type": "code",
   "execution_count": null,
   "metadata": {},
   "outputs": [],
   "source": [
    "labels, counts = np.unique(Sex, return_counts=True)\n",
    "plt.bar(labels, counts, align='center')\n",
    "plt.gca().set_xticks(labels)\n",
    "\n",
    "plt.grid(axis='y')\n",
    "#plt.title('Sex Distribution of Collected Images')\n",
    "plt.savefig(\"/media/ia/DATA/COVID19/images_paper/Sex_COVID_Positive.pdf\",bbox_inches='tight')\n",
    "plt.show()"
   ]
  },
  {
   "cell_type": "code",
   "execution_count": null,
   "metadata": {},
   "outputs": [],
   "source": [
    "counts"
   ]
  },
  {
   "cell_type": "markdown",
   "metadata": {},
   "source": [
    "## Plot combining Age and Sex"
   ]
  },
  {
   "cell_type": "code",
   "execution_count": null,
   "metadata": {},
   "outputs": [],
   "source": [
    "Age_010=[]\n",
    "Age_1020=[]\n",
    "Age_2030=[]\n",
    "Age_3040=[]\n",
    "Age_4050=[]\n",
    "Age_5060=[]\n",
    "Age_6070=[]\n",
    "Age_7080=[]\n",
    "Age_8090=[]\n",
    "Age_90100=[]\n",
    "\n",
    "Sex_010=[]\n",
    "Sex_1020=[]\n",
    "Sex_2030=[]\n",
    "Sex_3040=[]\n",
    "Sex_4050=[]\n",
    "Sex_5060=[]\n",
    "Sex_6070=[]\n",
    "Sex_7080=[]\n",
    "Sex_8090=[]\n",
    "Sex_90100=[]\n",
    "\n",
    "\n",
    "\n",
    "for f in tqdm_notebook(filenames):\n",
    "    img,_,dicom=dicom2numpy(f)\n",
    "    datetime_obj = datetime.strptime(dicom.StudyDate,\n",
    "                                 \"%Y%m%d\")\n",
    "    try:\n",
    "        datetime_birth=datetime.strptime(dicom.PatientBirthDate,\n",
    "                                 \"%Y%m%d\")\n",
    "        age=int((datetime_obj-datetime_birth).days/365)\n",
    "        \n",
    "        if age>0 and age<10:\n",
    "            Age_010.append(age)\n",
    "            Sex_010.append(dicom.PatientSex)\n",
    "        elif age>=10 and age<20:\n",
    "            Age_1020.append(age)\n",
    "            Sex_1020.append(dicom.PatientSex)\n",
    "        elif age>=20 and age<30:\n",
    "            Age_2030.append(age)\n",
    "            Sex_2030.append(dicom.PatientSex)\n",
    "        elif age>=30 and age<40:\n",
    "            Age_3040.append(age)\n",
    "            Sex_3040.append(dicom.PatientSex)\n",
    "        elif age>=40 and age<50:\n",
    "            Age_4050.append(age)\n",
    "            Sex_4050.append(dicom.PatientSex)\n",
    "        elif age>=50 and age<60:\n",
    "            Age_5060.append(age)\n",
    "            Sex_5060.append(dicom.PatientSex)\n",
    "        elif age>=60 and age<70:\n",
    "            Age_6070.append(age)\n",
    "            Sex_6070.append(dicom.PatientSex)\n",
    "        elif age>=70 and age<80:\n",
    "            Age_7080.append(age)\n",
    "            Sex_7080.append(dicom.PatientSex)\n",
    "        elif age>=80 and age<90:\n",
    "            Age_8090.append(age)\n",
    "            Sex_8090.append(dicom.PatientSex)\n",
    "        elif age>=90 and age<=100:\n",
    "            Age_90100.append(age)\n",
    "            Sex_90100.append(dicom.PatientSex)\n",
    "    except:\n",
    "        continue"
   ]
  },
  {
   "cell_type": "code",
   "execution_count": null,
   "metadata": {},
   "outputs": [],
   "source": [
    "df_SA=pd.DataFrame(columns=['Age','Sex'])"
   ]
  },
  {
   "cell_type": "code",
   "execution_count": null,
   "metadata": {},
   "outputs": [],
   "source": [
    "df_SA['Sex']=[*Sex_010,*Sex_1020,*Sex_2030,*Sex_3040,*Sex_4050,*Sex_5060,*Sex_6070,*Sex_7080,*Sex_8090,*Sex_90100]\n",
    "df_SA['Age']=[*Age_010,*Age_1020,*Age_2030,*Age_3040,*Age_4050,*Age_5060,*Age_6070,*Age_7080,*Age_8090,*Age_90100]"
   ]
  },
  {
   "cell_type": "code",
   "execution_count": null,
   "metadata": {},
   "outputs": [],
   "source": [
    "for i in range(len(df_SA)):\n",
    "    if df_SA['Sex'][i]=='M':\n",
    "        df_SA['Sex'][i]=df_SA['Sex'][i]+' (52.12%)'\n",
    "    else:\n",
    "        df_SA['Sex'][i]=df_SA['Sex'][i]+' (47.88%)'"
   ]
  },
  {
   "cell_type": "code",
   "execution_count": null,
   "metadata": {},
   "outputs": [],
   "source": [
    "fig = px.histogram(df_SA, y=\"Age\", color=\"Sex\",nbins=10)#.update_xaxes(categoryorder='total descending')\n",
    "fig.show()\n",
    "fig.write_image(\"/media/ia/DATA/COVID19/images_paper/AgeSex_COVID_Positive_1.pdf\",width=900)"
   ]
  }
 ],
 "metadata": {
  "kernelspec": {
   "display_name": "Python 3",
   "language": "python",
   "name": "python3"
  },
  "language_info": {
   "codemirror_mode": {
    "name": "ipython",
    "version": 3
   },
   "file_extension": ".py",
   "mimetype": "text/x-python",
   "name": "python",
   "nbconvert_exporter": "python",
   "pygments_lexer": "ipython3",
   "version": "3.8.1"
  }
 },
 "nbformat": 4,
 "nbformat_minor": 4
}
